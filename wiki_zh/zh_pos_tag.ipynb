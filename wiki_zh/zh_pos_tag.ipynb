{
 "cells": [
  {
   "cell_type": "code",
   "execution_count": 1,
   "id": "be20d144-b19d-470e-849e-1b40c46fd184",
   "metadata": {},
   "outputs": [
    {
     "name": "stderr",
     "output_type": "stream",
     "text": [
      "Setting default log level to \"WARN\".\n",
      "To adjust logging level use sc.setLogLevel(newLevel). For SparkR, use setLogLevel(newLevel).\n"
     ]
    },
    {
     "name": "stdout",
     "output_type": "stream",
     "text": [
      "22/10/07 22:40:19 WARN NativeCodeLoader: Unable to load native-hadoop library for your platform... using builtin-java classes where applicable\n",
      "22/10/07 22:40:19 WARN Utils: Service 'SparkUI' could not bind on port 4040. Attempting port 4041.\n",
      "22/10/07 22:40:19 WARN Utils: Service 'SparkUI' could not bind on port 4041. Attempting port 4042.\n",
      "22/10/07 22:40:19 WARN Utils: Service 'SparkUI' could not bind on port 4042. Attempting port 4043.\n"
     ]
    },
    {
     "data": {
      "text/html": [
       "\n",
       "            <div>\n",
       "                <p><b>SparkSession - in-memory</b></p>\n",
       "                \n",
       "        <div>\n",
       "            <p><b>SparkContext</b></p>\n",
       "\n",
       "            <p><a href=\"http://g5.bigtop.it:4043\">Spark UI</a></p>\n",
       "\n",
       "            <dl>\n",
       "              <dt>Version</dt>\n",
       "                <dd><code>v3.3.0</code></dd>\n",
       "              <dt>Master</dt>\n",
       "                <dd><code>local[16]</code></dd>\n",
       "              <dt>AppName</dt>\n",
       "                <dd><code>zh_pos_tag</code></dd>\n",
       "            </dl>\n",
       "        </div>\n",
       "        \n",
       "            </div>\n",
       "        "
      ],
      "text/plain": [
       "<pyspark.sql.session.SparkSession at 0x7f8fc0dc9070>"
      ]
     },
     "execution_count": 1,
     "metadata": {},
     "output_type": "execute_result"
    }
   ],
   "source": [
    "from pyspark.sql import SparkSession\n",
    "from pyspark import StorageLevel\n",
    "import os\n",
    "\n",
    "os.environ[\"PYSPARK_PYTHON\"]=\"/home/pc/g5_env/bin/python39\"\n",
    "\n",
    "spark = SparkSession.builder.master(\"local[16]\")\\\n",
    "            .appName(\"zh_pos_tag\")\\\n",
    "            .config('spark.executor.memory', '30g')\\\n",
    "            .config('spark.driver.maxResultSize', '15g')\\\n",
    "            .config('spark.driver.memory', '30g')\\\n",
    "            .config('spark.ui.showConsoleProgress', False)\\\n",
    "            .getOrCreate()\n",
    "\n",
    "sparkContext = spark.sparkContext\n",
    "\n",
    "spark"
   ]
  },
  {
   "cell_type": "code",
   "execution_count": 2,
   "id": "7b74bebe-005b-43b6-93e9-4e17f1188dfb",
   "metadata": {},
   "outputs": [],
   "source": [
    "file_path = 'hdfs://g5.bigtop.it:8020/user/root/filtered_zh_wiki.parquet/'"
   ]
  },
  {
   "cell_type": "code",
   "execution_count": 3,
   "id": "da50d7c3-9460-4853-9da6-c606023e748e",
   "metadata": {},
   "outputs": [
    {
     "name": "stdout",
     "output_type": "stream",
     "text": [
      "+------------------------------+----------+----------+-------------------------------+--------------------------------+---------------------------------+--------------------------------+\n",
      "|                token_sentence|sent_count|word_count|                         2grams|                          3grams|                           4grams|                          5grams|\n",
      "+------------------------------+----------+----------+-------------------------------+--------------------------------+---------------------------------+--------------------------------+\n",
      "|  [埃林頓, 是, 一個, 位, 於...|         1|        10|       [於 美國, 美國 康乃狄克]|  [位 於 美國, 於 美國 康乃狄...|    [一個 位 於 美國, 位 於 美...|   [是 一個 位 於 美國, 一個 ...|\n",
      "|  [红宝石, 街道, 是, 中国, ...|         1|        16|       [是 中国, 中国 黑龙江省]|  [街道 是 中国, 是 中国 黑龙...|   [红宝石 街道 是 中国, 街道 ...|[红宝石 街道 是 中国 黑龙江省...|\n",
      "|  [中國, 古代, 火藥, 火器, ...|         3|         7|           [史 研究, 研究 第頁]|    [火器 史 研究, 史 研究 第頁]|   [火藥 火器 史 研究, 火器 史...|  [古代 火藥 火器 史 研究, 火...|\n",
      "|  [最終, 法國, 於, 決賽, 以...|         1|        13|             [在 世界, 世界 盃]|   [一次 在 世界, 在 世界 盃,...|  [奪冠後再 一次 在 世界, 一次...| [自年 奪冠後再 一次 在 世界,...|\n",
      "|  [他, 自幼, 修习, 中国, 水...|         1|        17|         [修习 中国, 中国 水墨]|  [自幼 修习 中国, 修习 中国 ...|   [他 自幼 修习 中国, 自幼 修...|  [他 自幼 修习 中国 水墨, 自...|\n",
      "|  [冯晖, 男, 汉族, 陕西, 西...|         1|         9|           [人 中国, 中国 大陆]|  [西安 人 中国, 人 中国 大陆...|   [陕西 西安 人 中国, 西安 人...|  [汉族 陕西 西安 人 中国, 陕...|\n",
      "|[年, 中共中央, 派原, 南方局...|         1|        34|[的 统战工作, 统战工作 同时,...| [做龙云 的 统战工作, 的 统战...|  [昆明 做龙云 的 统战工作, 做...| [来 昆明 做龙云 的 统战工作,...|\n",
      "|  [法裔, 的, 美國, 作曲家, ...|         1|        18|         [的 美國, 美國 作曲家]|  [法裔 的 美國, 的 美國 作曲...|   [法裔 的 美國 作曲家, 的 美...| [法裔 的 美國 作曲家 瓦雷茲,...|\n",
      "|[年, 赴美, 加利福尼亚, 理工...|         1|         7|       [理工学院 研究, 研究 高]|[加利福尼亚 理工学院 研究, 理...|[赴美 加利福尼亚 理工学院 研究...|[年 赴美 加利福尼亚 理工学院 ...|\n",
      "|  [世界, 体育, 奖由, 全球, ...|         7|        19|                    [世界 体育]|                [世界 体育 奖由]|            [世界 体育 奖由 全球]|      [世界 体育 奖由 全球 组织]|\n",
      "|   [為, 了, 救回, 另, 一邊,...|         1|        47|         [現實 世界, 世界 治療]|  [回 現實 世界, 現實 世界 治療]|   [畢夏帶 回 現實 世界, 回 現...|  [彼得 畢夏帶 回 現實 世界, ...|\n",
      "| [年月日, 美國, 軍隊, 透過,...|         1|        25|       [年月日 美國, 美國 軍隊]| [年月日 美國 軍隊, 美國 軍隊...|  [年月日 美國 軍隊 透過, 美國...| [年月日 美國 軍隊 透過 城鎮,...|\n",
      "|    [当, 他, 的, 长兄, 弗, ...|         1|        16|                    [神职 工作]|                [担任 神职 工作]|            [开始 担任 神职 工作]|    [后若望 开始 担任 神职 工作]|\n",
      "|   [她, 在, 年, 找到, 一名,...|         1|        17|                    [演員 工作]|                [劇場 演員 工作]|            [即興 劇場 演員 工作]|      [一份 即興 劇場 演員 工作]|\n",
      "|   [貝納, 是, 位, 於, 美國,...|         1|        12|       [於 美國, 美國 加利福尼]|  [位 於 美國, 於 美國 加利福...|    [是 位 於 美國, 位 於 美國...|   [貝納 是 位 於 美國, 是 位...|\n",
      "|[奈特, 阿奇, 博爾德前, 美國...|         1|         6|     [博爾德前 美國, 美國 籃球]|[阿奇 博爾德前 美國, 博爾德前...|  [奈特 阿奇 博爾德前 美國, 阿...|[奈特 阿奇 博爾德前 美國 籃球...|\n",
      "|  [是, 首架, 能够, 进行, 马...|         1|        22|         [保持 世界, 世界 速度]|  [同时 保持 世界, 保持 世界 ...|   [唯一 同时 保持 世界, 同时 ...|  [上 唯一 同时 保持 世界, 唯...|\n",
      "|  [中仁, 隧道, 在, 年月日, ...|         1|        26|         [全體 工作, 工作 人員]|  [經過 全體 工作, 全體 工作 ...|   [動工 經過 全體 工作, 經過 ...| [年月日 動工 經過 全體 工作,...|\n",
      "|  [華盛頓, 鎮區, 是, 位, 於...|         1|        15|         [於 美國, 美國 印地安]|  [位 於 美國, 於 美國 印地安...|    [是 位 於 美國, 位 於 美國...|   [鎮區 是 位 於 美國, 是 位...|\n",
      "|   [该, 建筑, 是, 由, 天津,...|         1|        22|           [了 中国, 中国 传统]|  [采用 了 中国, 了 中国 传统...|    [时 采用 了 中国, 采用 了 ...|   [修建 时 采用 了 中国, 时 ...|\n",
      "+------------------------------+----------+----------+-------------------------------+--------------------------------+---------------------------------+--------------------------------+\n",
      "only showing top 20 rows\n",
      "\n"
     ]
    }
   ],
   "source": [
    "df1 = spark.read.option(\"header\",True).parquet(file_path)\n",
    "df1.show()"
   ]
  },
  {
   "cell_type": "code",
   "execution_count": 4,
   "id": "7382d1dd-3b1b-4371-8044-664ec0a4dd22",
   "metadata": {},
   "outputs": [],
   "source": [
    "from pyspark.sql.functions import col\n",
    "\n",
    "gram2 = df1.select(col(\"2grams\")).withColumnRenamed(\"2grams\",\"n-grams\")\n",
    "gram3 = df1.select(col(\"3grams\")).filter(df1.word_count > 2).withColumnRenamed(\"3grams\",\"n-grams\")\n",
    "gram4 = df1.select(col(\"4grams\")).filter(df1.word_count > 3).withColumnRenamed(\"4grams\",\"n-grams\")\n",
    "gram5 = df1.select(col(\"5grams\")).filter(df1.word_count > 4).withColumnRenamed(\"5grams\",\"n-grams\")"
   ]
  },
  {
   "cell_type": "code",
   "execution_count": 5,
   "id": "e7b78385-c470-4c6b-89e3-06e4008e713b",
   "metadata": {},
   "outputs": [],
   "source": [
    "n_gram = gram5.union(gram4).union(gram3).union(gram2).persist(StorageLevel.MEMORY_ONLY)"
   ]
  },
  {
   "cell_type": "code",
   "execution_count": 6,
   "id": "b245ab2c-3300-4149-bd5b-cd039dc189dd",
   "metadata": {},
   "outputs": [
    {
     "name": "stdout",
     "output_type": "stream",
     "text": [
      "+--------------------------------+\n",
      "|                         n-grams|\n",
      "+--------------------------------+\n",
      "|   [是 一個 位 於 美國, 一個 ...|\n",
      "|[红宝石 街道 是 中国 黑龙江省...|\n",
      "|  [古代 火藥 火器 史 研究, 火...|\n",
      "| [自年 奪冠後再 一次 在 世界,...|\n",
      "|  [他 自幼 修习 中国 水墨, 自...|\n",
      "|  [汉族 陕西 西安 人 中国, 陕...|\n",
      "| [来 昆明 做龙云 的 统战工作,...|\n",
      "| [法裔 的 美國 作曲家 瓦雷茲,...|\n",
      "|[年 赴美 加利福尼亚 理工学院 ...|\n",
      "|      [世界 体育 奖由 全球 组织]|\n",
      "|  [彼得 畢夏帶 回 現實 世界, ...|\n",
      "| [年月日 美國 軍隊 透過 城鎮,...|\n",
      "|    [后若望 开始 担任 神职 工作]|\n",
      "|      [一份 即興 劇場 演員 工作]|\n",
      "|   [貝納 是 位 於 美國, 是 位...|\n",
      "|[奈特 阿奇 博爾德前 美國 籃球...|\n",
      "|  [上 唯一 同时 保持 世界, 唯...|\n",
      "| [年月日 動工 經過 全體 工作,...|\n",
      "|   [鎮區 是 位 於 美國, 是 位...|\n",
      "|   [修建 时 采用 了 中国, 时 ...|\n",
      "+--------------------------------+\n",
      "only showing top 20 rows\n",
      "\n"
     ]
    }
   ],
   "source": [
    "n_gram.show()"
   ]
  },
  {
   "cell_type": "code",
   "execution_count": 7,
   "id": "d53546f9-81bb-4df0-9741-151af685be77",
   "metadata": {},
   "outputs": [],
   "source": [
    "from pyspark.sql.functions import explode\n",
    "ngrams = n_gram.select(explode(col('n-grams'))).withColumnRenamed(\"col\",\"ngrams\")"
   ]
  },
  {
   "cell_type": "code",
   "execution_count": 8,
   "id": "1bb3b181-8fdf-40b0-bdcd-925d9d5f6ab0",
   "metadata": {},
   "outputs": [
    {
     "name": "stdout",
     "output_type": "stream",
     "text": [
      "+----------------------------------------+\n",
      "|ngrams                                  |\n",
      "+----------------------------------------+\n",
      "|是 一個 位 於 美國                      |\n",
      "|一個 位 於 美國 康乃狄克                |\n",
      "|位 於 美國 康乃狄克 州托蘭縣            |\n",
      "|於 美國 康乃狄克 州托蘭縣 的            |\n",
      "|美國 康乃狄克 州托蘭縣 的 城鎮          |\n",
      "|红宝石 街道 是 中国 黑龙江省            |\n",
      "|街道 是 中国 黑龙江省 齐齐哈尔市        |\n",
      "|是 中国 黑龙江省 齐齐哈尔市 富拉尔基区  |\n",
      "|中国 黑龙江省 齐齐哈尔市 富拉尔基区 下辖|\n",
      "|古代 火藥 火器 史 研究                  |\n",
      "|火藥 火器 史 研究 第頁                  |\n",
      "|自年 奪冠後再 一次 在 世界              |\n",
      "|奪冠後再 一次 在 世界 盃                |\n",
      "|一次 在 世界 盃 捧杯                    |\n",
      "|他 自幼 修习 中国 水墨                  |\n",
      "|自幼 修习 中国 水墨 及                  |\n",
      "|修习 中国 水墨 及 西方                  |\n",
      "|中国 水墨 及 西方 油画                  |\n",
      "|汉族 陕西 西安 人 中国                  |\n",
      "|陕西 西安 人 中国 大陆                  |\n",
      "+----------------------------------------+\n",
      "only showing top 20 rows\n",
      "\n"
     ]
    }
   ],
   "source": [
    "ngrams.show(truncate=False)"
   ]
  },
  {
   "cell_type": "code",
   "execution_count": 9,
   "id": "a5ecc548-f54a-454d-8d43-85a9d59b16d9",
   "metadata": {},
   "outputs": [],
   "source": [
    "def f(x): return x   \n",
    "def exchangePosition(x, y):\n",
    "    return y, x"
   ]
  },
  {
   "cell_type": "code",
   "execution_count": 10,
   "id": "e10356d7-1b21-424e-9b82-00833e92bd04",
   "metadata": {},
   "outputs": [],
   "source": [
    "ngrams2 = ngrams.rdd.map(lambda x: (1,x))\\\n",
    ".flatMapValues(f)\\\n",
    ".map(lambda x: exchangePosition(x[0], x[1]))\\\n",
    ".reduceByKey(lambda a,b: a+b)\\\n",
    ".persist(StorageLevel.MEMORY_ONLY)"
   ]
  },
  {
   "cell_type": "code",
   "execution_count": 11,
   "id": "8c68fe74-06e3-4343-b160-024beefd878d",
   "metadata": {},
   "outputs": [
    {
     "data": {
      "text/plain": [
       "6739157"
      ]
     },
     "execution_count": 11,
     "metadata": {},
     "output_type": "execute_result"
    }
   ],
   "source": [
    "ngrams2.count()"
   ]
  },
  {
   "cell_type": "code",
   "execution_count": 12,
   "id": "897dcebf-aa52-40d2-9b16-f357000a8ad2",
   "metadata": {},
   "outputs": [
    {
     "name": "stdout",
     "output_type": "stream",
     "text": [
      "22/10/07 22:40:42 WARN BlockManager: Task 144 already completed, not releasing lock for rdd_42_0\n"
     ]
    }
   ],
   "source": [
    "column = ['ngram', 'gram_count']\n",
    "ngrams2 = ngrams2.toDF(column)"
   ]
  },
  {
   "cell_type": "code",
   "execution_count": 13,
   "id": "eaf8c081-8b1a-43a5-823b-afc7e8e643e4",
   "metadata": {},
   "outputs": [
    {
     "name": "stdout",
     "output_type": "stream",
     "text": [
      "+----------------------------------+----------+\n",
      "|                             ngram|gram_count|\n",
      "+----------------------------------+----------+\n",
      "|          世界 体育 奖由 全球 组织|         1|\n",
      "|        較佳年 畢業 於 美國 夏威夷|         1|\n",
      "|    代表 中国 出戰 巴西 里约热内卢|        30|\n",
      "|          中国 大陆 主流 媒体 禁播|         1|\n",
      "|            中国 名人 榜 名列 第名|         6|\n",
      "|      日 中央研究院 法律 學 研究所|         1|\n",
      "|  中国 十五届 金鹰奖 优秀奖 电视剧|         1|\n",
      "|    中国科学院 国家 天文台 主办 的|         1|\n",
      "|              的 工作 卻 因為 華人|         1|\n",
      "|          戰國 無雙 參加 編劇 工作|         1|\n",
      "|              及 紐約 時報 工作 他|         1|\n",
      "|            毕业 后 参加 工作 历任|         6|\n",
      "|            迅速 处理 中国 事变 的|         1|\n",
      "|        黄素 石楼 位于 中国 福建省|         1|\n",
      "|              天主 敎 敎 區的 工作|         1|\n",
      "|          江西 广丰 人 中国 计算机|         1|\n",
      "|中国 第九个 五年计划 国家 科技攻关|         1|\n",
      "|      开始 接受 模特儿 工作 並發現|         1|\n",
      "|      里弗 賽德為 美國 職棒 大聯盟|         1|\n",
      "|              泣 是 中国 古代 星官|         1|\n",
      "+----------------------------------+----------+\n",
      "only showing top 20 rows\n",
      "\n"
     ]
    }
   ],
   "source": [
    "ngrams2.show()"
   ]
  },
  {
   "cell_type": "code",
   "execution_count": 14,
   "id": "d963bdc8-14b1-469a-9138-0094440dcfe4",
   "metadata": {},
   "outputs": [],
   "source": [
    "ngram2 = ngrams2.drop('gram_count')"
   ]
  },
  {
   "cell_type": "code",
   "execution_count": 15,
   "id": "f87563d3-9b95-438a-8e44-a45f373e9654",
   "metadata": {},
   "outputs": [
    {
     "name": "stdout",
     "output_type": "stream",
     "text": [
      "+----------------------------------+\n",
      "|                             ngram|\n",
      "+----------------------------------+\n",
      "|          世界 体育 奖由 全球 组织|\n",
      "|        較佳年 畢業 於 美國 夏威夷|\n",
      "|    代表 中国 出戰 巴西 里约热内卢|\n",
      "|          中国 大陆 主流 媒体 禁播|\n",
      "|            中国 名人 榜 名列 第名|\n",
      "|      日 中央研究院 法律 學 研究所|\n",
      "|  中国 十五届 金鹰奖 优秀奖 电视剧|\n",
      "|    中国科学院 国家 天文台 主办 的|\n",
      "|              的 工作 卻 因為 華人|\n",
      "|          戰國 無雙 參加 編劇 工作|\n",
      "|              及 紐約 時報 工作 他|\n",
      "|            毕业 后 参加 工作 历任|\n",
      "|            迅速 处理 中国 事变 的|\n",
      "|        黄素 石楼 位于 中国 福建省|\n",
      "|              天主 敎 敎 區的 工作|\n",
      "|          江西 广丰 人 中国 计算机|\n",
      "|中国 第九个 五年计划 国家 科技攻关|\n",
      "|      开始 接受 模特儿 工作 並發現|\n",
      "|      里弗 賽德為 美國 職棒 大聯盟|\n",
      "|              泣 是 中国 古代 星官|\n",
      "+----------------------------------+\n",
      "only showing top 20 rows\n",
      "\n"
     ]
    }
   ],
   "source": [
    "ngram2.show()"
   ]
  },
  {
   "cell_type": "code",
   "execution_count": 16,
   "id": "e61e50a7-63e2-41da-9780-e1f6b6703611",
   "metadata": {},
   "outputs": [
    {
     "name": "stdout",
     "output_type": "stream",
     "text": [
      "+--------------------------------+----------+\n",
      "|ngram                           |word_count|\n",
      "+--------------------------------+----------+\n",
      "|世界 体育 奖由 全球 组织        |5         |\n",
      "|較佳年 畢業 於 美國 夏威夷      |5         |\n",
      "|代表 中国 出戰 巴西 里约热内卢  |5         |\n",
      "|中国 大陆 主流 媒体 禁播        |5         |\n",
      "|中国 名人 榜 名列 第名          |5         |\n",
      "|日 中央研究院 法律 學 研究所    |5         |\n",
      "|中国 十五届 金鹰奖 优秀奖 电视剧|5         |\n",
      "|中国科学院 国家 天文台 主办 的  |5         |\n",
      "|的 工作 卻 因為 華人            |5         |\n",
      "|戰國 無雙 參加 編劇 工作        |5         |\n",
      "+--------------------------------+----------+\n",
      "only showing top 10 rows\n",
      "\n"
     ]
    }
   ],
   "source": [
    "import pyspark.sql.functions as f\n",
    "ngram2 = ngram2.withColumn('word_count', f.size(f.split(f.col('ngram'), ' '))).persist(StorageLevel.MEMORY_ONLY)\n",
    "ngram2.show(10, False)"
   ]
  },
  {
   "cell_type": "code",
   "execution_count": 17,
   "id": "1de0c546-a514-4b12-b04c-8ec746bfe2f0",
   "metadata": {},
   "outputs": [
    {
     "data": {
      "text/plain": [
       "6739157"
      ]
     },
     "execution_count": 17,
     "metadata": {},
     "output_type": "execute_result"
    }
   ],
   "source": [
    "ngram2.count()"
   ]
  },
  {
   "cell_type": "code",
   "execution_count": 18,
   "id": "b050d259-e2cd-498d-98ea-d0a8c917daa2",
   "metadata": {},
   "outputs": [],
   "source": [
    "keywords =  ['世界', '工作', '研究',' 人口', '美國',  '中国']\n",
    "\n",
    "def keyword_position(text, n_gram):\n",
    "\n",
    "    keyword = []\n",
    "    index_of_keyword =[]\n",
    "    \n",
    "    tempList = list(text.split(\" \"))\n",
    "    \n",
    "    for x in keywords:\n",
    "        i = 0\n",
    "        for y in tempList:\n",
    "            if x == y:\n",
    "                keyword.append(x)\n",
    "                index_of_keyword.append(i)\n",
    "            i = i + 1\n",
    "    \n",
    "    if keyword == []:\n",
    "        return\n",
    "    \n",
    "    if n_gram == 3 or n_gram == 2:\n",
    "        return text\n",
    "    \n",
    "    if n_gram == 5:\n",
    "        if 2 in index_of_keyword:\n",
    "            return text\n",
    "    \n",
    "    if n_gram == 4:\n",
    "        if 1 in index_of_keyword or 2 in index_of_keyword:\n",
    "            return text\n",
    "\n",
    "    return"
   ]
  },
  {
   "cell_type": "code",
   "execution_count": 19,
   "id": "cbee8716-cfee-48bc-865c-8065408fd7f2",
   "metadata": {},
   "outputs": [],
   "source": [
    "from pyspark.sql import Row\n",
    "\n",
    "row = Row(\"ngram\")\n",
    "ngram3 = ngram2.rdd.map(lambda x: (keyword_position(x[0], x[1]))).map(row).toDF().dropna(how='any').persist(StorageLevel.MEMORY_ONLY)"
   ]
  },
  {
   "cell_type": "code",
   "execution_count": 20,
   "id": "70201129-ba6a-4441-b5b5-158772bbdf51",
   "metadata": {},
   "outputs": [
    {
     "data": {
      "text/plain": [
       "2862323"
      ]
     },
     "execution_count": 20,
     "metadata": {},
     "output_type": "execute_result"
    }
   ],
   "source": [
    "ngram3.count()"
   ]
  },
  {
   "cell_type": "code",
   "execution_count": 21,
   "id": "8a2377ba-b17f-4685-9a70-04d3d6ebbb7d",
   "metadata": {},
   "outputs": [],
   "source": [
    "def zh_pos_tag(text):    \n",
    "    import logging\n",
    "    import jieba\n",
    "    import jieba.posseg\n",
    "        \n",
    "    jieba.setLogLevel(logging.WARNING)\n",
    "    text = text.replace(' ','')\n",
    "        \n",
    "    results= jieba.posseg.lcut(text)\n",
    "    empList = []\n",
    "    for x, y in results:\n",
    "        empList.append(y)\n",
    "    \n",
    "    return empList"
   ]
  },
  {
   "cell_type": "code",
   "execution_count": 22,
   "id": "8156202a-d94b-4101-bb9c-5a5f9ad5169c",
   "metadata": {},
   "outputs": [
    {
     "data": {
      "text/plain": [
       "64"
      ]
     },
     "execution_count": 22,
     "metadata": {},
     "output_type": "execute_result"
    }
   ],
   "source": [
    "ngram3.rdd.getNumPartitions()"
   ]
  },
  {
   "cell_type": "code",
   "execution_count": 23,
   "id": "990eedda-22d2-4eb1-ba4a-d191665a6499",
   "metadata": {},
   "outputs": [],
   "source": [
    "ngram3 = ngram3.repartition(128)"
   ]
  },
  {
   "cell_type": "code",
   "execution_count": 24,
   "id": "29b968ea-b3b0-490e-a3ba-c2b4dba5b316",
   "metadata": {},
   "outputs": [
    {
     "data": {
      "text/plain": [
       "2862323"
      ]
     },
     "execution_count": 24,
     "metadata": {},
     "output_type": "execute_result"
    }
   ],
   "source": [
    "ngram3.count()"
   ]
  },
  {
   "cell_type": "code",
   "execution_count": 25,
   "id": "cd5fe543-6aa5-4c0d-83d8-6f6cc534df21",
   "metadata": {},
   "outputs": [],
   "source": [
    "pos_tag = ngram3.rdd.map(lambda x: (x[0], zh_pos_tag(x[0]))).persist(StorageLevel.MEMORY_ONLY)"
   ]
  },
  {
   "cell_type": "code",
   "execution_count": 26,
   "id": "41ffc09d-7b54-4039-a7d4-16762e59b5a4",
   "metadata": {},
   "outputs": [
    {
     "data": {
      "text/plain": [
       "2862323"
      ]
     },
     "execution_count": 26,
     "metadata": {},
     "output_type": "execute_result"
    }
   ],
   "source": [
    "pos_tag.count()"
   ]
  },
  {
   "cell_type": "code",
   "execution_count": 27,
   "id": "72d940f4-2764-4448-9bd9-8d2702c1ac35",
   "metadata": {},
   "outputs": [
    {
     "name": "stdout",
     "output_type": "stream",
     "text": [
      "22/10/07 22:54:25 WARN BlockManager: Task 665 already completed, not releasing lock for rdd_118_0\n"
     ]
    }
   ],
   "source": [
    "columns = ['sentence', 'pos_tag']\n",
    "\n",
    "df_pos_tag = pos_tag.toDF(columns)"
   ]
  },
  {
   "cell_type": "code",
   "execution_count": 67,
   "id": "32afc95b-8c01-4d37-948a-689ad9cd7c70",
   "metadata": {},
   "outputs": [
    {
     "name": "stdout",
     "output_type": "stream",
     "text": [
      "+-----------------------+-----------------------------+\n",
      "|sentence               |pos_tag                      |\n",
      "+-----------------------+-----------------------------+\n",
      "|滙 豐銀行 工作 之後他  |[yg, nr, ng, v, vn, u, nr, r]|\n",
      "|东方文化 与 世界       |[nz, p, n]                   |\n",
      "|由 美國 返港           |[p, ns, v, j]                |\n",
      "|为 制定 中国           |[p, v, ns]                   |\n",
      "|阿富汗 中国 新疆 和    |[nr, ns, ns, c]              |\n",
      "|徐健 焜 中国           |[nr, v, zg, ns]              |\n",
      "|成为 世纪 中国 首条    |[v, n, ns, m]                |\n",
      "|的 起草 工作 中        |[uj, v, vn, f]               |\n",
      "|曾 出任 中国           |[d, v, ns]                   |\n",
      "|急遽 轉變 工作         |[a, v, vn]                   |\n",
      "|中国 唱片 上海         |[ns, n, ns]                  |\n",
      "|在 杭州 工作 期间 对   |[p, ns, vn, f, p]            |\n",
      "|财富 中国 强 企业      |[n, ns, a, n]                |\n",
      "|在 現實 世界 與 昴     |[p, n, n, p, g]              |\n",
      "|纪凯林 岁 中国 经济    |[nr, m, ns, n]               |\n",
      "|意识 中国 特色         |[n, ns, n]                   |\n",
      "|年月日 中国 第一家 村镇|[t, ns, m, n]                |\n",
      "|巴县 人 中国 政治      |[ns, n, ns, n]               |\n",
      "|學性 別 研究           |[n, d, vn]                   |\n",
      "|中国 人物 全国         |[ns, n, n]                   |\n",
      "+-----------------------+-----------------------------+\n",
      "only showing top 20 rows\n",
      "\n"
     ]
    }
   ],
   "source": [
    "df_pos_tag.show(truncate = False)"
   ]
  },
  {
   "cell_type": "raw",
   "id": "0d593b2f-5029-4279-b470-ad92806cc957",
   "metadata": {},
   "source": [
    "import pyspark.sql.functions as f\n",
    "df_final = df_pos_tag.withColumn('n-gram', f.size(f.split(f.col('sentence'), ' ')))"
   ]
  },
  {
   "cell_type": "raw",
   "id": "98df2eda-0e15-434a-b279-4ebe6a75afbf",
   "metadata": {},
   "source": [
    "df_final.show()"
   ]
  },
  {
   "cell_type": "code",
   "execution_count": 79,
   "id": "d8cfeb35-72aa-4d00-96f0-49ddf37a2e3a",
   "metadata": {},
   "outputs": [],
   "source": [
    "from pyspark.sql.functions import col, concat_ws\n",
    "df_final = df_pos_tag.withColumn('pos_tag', concat_ws(', ', col('pos_tag')))"
   ]
  },
  {
   "cell_type": "code",
   "execution_count": 80,
   "id": "e23af938-d807-4ab8-8074-1c03d9aa8610",
   "metadata": {},
   "outputs": [
    {
     "name": "stdout",
     "output_type": "stream",
     "text": [
      "+-----------------------+--------------------+\n",
      "|               sentence|             pos_tag|\n",
      "+-----------------------+--------------------+\n",
      "|  滙 豐銀行 工作 之後他|yg, nr, ng, v, vn...|\n",
      "|       东方文化 与 世界|            nz, p, n|\n",
      "|           由 美國 返港|         p, ns, v, j|\n",
      "|           为 制定 中国|            p, v, ns|\n",
      "|    阿富汗 中国 新疆 和|       nr, ns, ns, c|\n",
      "|           徐健 焜 中国|       nr, v, zg, ns|\n",
      "|    成为 世纪 中国 首条|         v, n, ns, m|\n",
      "|        的 起草 工作 中|        uj, v, vn, f|\n",
      "|           曾 出任 中国|            d, v, ns|\n",
      "|         急遽 轉變 工作|            a, v, vn|\n",
      "|         中国 唱片 上海|           ns, n, ns|\n",
      "|   在 杭州 工作 期间 对|     p, ns, vn, f, p|\n",
      "|      财富 中国 强 企业|         n, ns, a, n|\n",
      "|     在 現實 世界 與 昴|       p, n, n, p, g|\n",
      "|    纪凯林 岁 中国 经济|        nr, m, ns, n|\n",
      "|         意识 中国 特色|            n, ns, n|\n",
      "|年月日 中国 第一家 村镇|         t, ns, m, n|\n",
      "|      巴县 人 中国 政治|        ns, n, ns, n|\n",
      "|           學性 別 研究|            n, d, vn|\n",
      "|         中国 人物 全国|            ns, n, n|\n",
      "+-----------------------+--------------------+\n",
      "only showing top 20 rows\n",
      "\n"
     ]
    }
   ],
   "source": [
    "df_final.show()"
   ]
  },
  {
   "cell_type": "code",
   "execution_count": 81,
   "id": "185b4b57-ca54-4407-aceb-4707afad4d57",
   "metadata": {},
   "outputs": [],
   "source": [
    "import pyspark.sql.functions as f\n",
    "df_final = df_final.withColumn('n-gram', f.size(f.split(f.col('pos_tag'), ' ')))"
   ]
  },
  {
   "cell_type": "code",
   "execution_count": 82,
   "id": "2aee9802-3984-498e-9b76-76328e7e2efe",
   "metadata": {},
   "outputs": [
    {
     "name": "stdout",
     "output_type": "stream",
     "text": [
      "+-----------------------+--------------------+------+\n",
      "|               sentence|             pos_tag|n-gram|\n",
      "+-----------------------+--------------------+------+\n",
      "|  滙 豐銀行 工作 之後他|yg, nr, ng, v, vn...|     8|\n",
      "|       东方文化 与 世界|            nz, p, n|     3|\n",
      "|           由 美國 返港|         p, ns, v, j|     4|\n",
      "|           为 制定 中国|            p, v, ns|     3|\n",
      "|    阿富汗 中国 新疆 和|       nr, ns, ns, c|     4|\n",
      "|           徐健 焜 中国|       nr, v, zg, ns|     4|\n",
      "|    成为 世纪 中国 首条|         v, n, ns, m|     4|\n",
      "|        的 起草 工作 中|        uj, v, vn, f|     4|\n",
      "|           曾 出任 中国|            d, v, ns|     3|\n",
      "|         急遽 轉變 工作|            a, v, vn|     3|\n",
      "|         中国 唱片 上海|           ns, n, ns|     3|\n",
      "|   在 杭州 工作 期间 对|     p, ns, vn, f, p|     5|\n",
      "|      财富 中国 强 企业|         n, ns, a, n|     4|\n",
      "|     在 現實 世界 與 昴|       p, n, n, p, g|     5|\n",
      "|    纪凯林 岁 中国 经济|        nr, m, ns, n|     4|\n",
      "|         意识 中国 特色|            n, ns, n|     3|\n",
      "|年月日 中国 第一家 村镇|         t, ns, m, n|     4|\n",
      "|      巴县 人 中国 政治|        ns, n, ns, n|     4|\n",
      "|           學性 別 研究|            n, d, vn|     3|\n",
      "|         中国 人物 全国|            ns, n, n|     3|\n",
      "+-----------------------+--------------------+------+\n",
      "only showing top 20 rows\n",
      "\n"
     ]
    }
   ],
   "source": [
    "df_final.show()"
   ]
  },
  {
   "cell_type": "code",
   "execution_count": 83,
   "id": "67ad49f0-3451-41d0-ae02-22461d2eb823",
   "metadata": {},
   "outputs": [],
   "source": [
    "df_final = df_final.filter(col('n-gram') < 6)"
   ]
  },
  {
   "cell_type": "code",
   "execution_count": 84,
   "id": "acfe4534-6de4-4048-9509-31672e5d110c",
   "metadata": {},
   "outputs": [
    {
     "data": {
      "text/plain": [
       "2745910"
      ]
     },
     "execution_count": 84,
     "metadata": {},
     "output_type": "execute_result"
    }
   ],
   "source": [
    "df_final.count()"
   ]
  },
  {
   "cell_type": "code",
   "execution_count": 85,
   "id": "7ead0b86-8804-498a-b1c5-88e241161cc3",
   "metadata": {},
   "outputs": [
    {
     "name": "stdout",
     "output_type": "stream",
     "text": [
      "+-----------------------+---------------+------+\n",
      "|               sentence|        pos_tag|n-gram|\n",
      "+-----------------------+---------------+------+\n",
      "|       东方文化 与 世界|       nz, p, n|     3|\n",
      "|           由 美國 返港|    p, ns, v, j|     4|\n",
      "|           为 制定 中国|       p, v, ns|     3|\n",
      "|    阿富汗 中国 新疆 和|  nr, ns, ns, c|     4|\n",
      "|           徐健 焜 中国|  nr, v, zg, ns|     4|\n",
      "|    成为 世纪 中国 首条|    v, n, ns, m|     4|\n",
      "|        的 起草 工作 中|   uj, v, vn, f|     4|\n",
      "|           曾 出任 中国|       d, v, ns|     3|\n",
      "|         急遽 轉變 工作|       a, v, vn|     3|\n",
      "|         中国 唱片 上海|      ns, n, ns|     3|\n",
      "|   在 杭州 工作 期间 对|p, ns, vn, f, p|     5|\n",
      "|      财富 中国 强 企业|    n, ns, a, n|     4|\n",
      "|     在 現實 世界 與 昴|  p, n, n, p, g|     5|\n",
      "|    纪凯林 岁 中国 经济|   nr, m, ns, n|     4|\n",
      "|         意识 中国 特色|       n, ns, n|     3|\n",
      "|年月日 中国 第一家 村镇|    t, ns, m, n|     4|\n",
      "|      巴县 人 中国 政治|   ns, n, ns, n|     4|\n",
      "|           學性 別 研究|       n, d, vn|     3|\n",
      "|         中国 人物 全国|       ns, n, n|     3|\n",
      "|         委员会 向 美國|       n, p, ns|     3|\n",
      "+-----------------------+---------------+------+\n",
      "only showing top 20 rows\n",
      "\n"
     ]
    }
   ],
   "source": [
    "df_final.show()"
   ]
  },
  {
   "cell_type": "raw",
   "id": "66764da2-f0b2-465f-a261-701f859aa881",
   "metadata": {},
   "source": [
    "df_final = df_final.coalesce(1)\n",
    "\n",
    "df_final.write.csv('zh_wiki_final',header = 'true')"
   ]
  },
  {
   "cell_type": "raw",
   "id": "b974d101-6ece-4eac-9962-60e294e18b91",
   "metadata": {},
   "source": [
    "df_final.write.parquet('hdfs://g5.bigtop.it:8020/user/root/zh_wiki_final')"
   ]
  },
  {
   "cell_type": "raw",
   "id": "caabda0e-c0ef-462a-aec3-d1921a095bdc",
   "metadata": {},
   "source": [
    "df_test = spark.read.csv(\"./zh_wiki_final/part-00000-2928a53a-e2ee-45ac-8309-4efd6796a5ae-c000.csv\",header=True)"
   ]
  },
  {
   "cell_type": "raw",
   "id": "f267e6fc-307f-4e70-b837-cffc6ea666d0",
   "metadata": {},
   "source": [
    "list_tokens = ['自年', '奪冠後再', '一次', '在', '世界']\n",
    "\n",
    "from hanlp_restful import HanLPClient\n",
    "HanLP = HanLPClient('https://www.hanlp.com/api', auth=None, language='zh')"
   ]
  }
 ],
 "metadata": {
  "kernelspec": {
   "display_name": "g5_env",
   "language": "python",
   "name": "g5_env"
  },
  "language_info": {
   "codemirror_mode": {
    "name": "ipython",
    "version": 3
   },
   "file_extension": ".py",
   "mimetype": "text/x-python",
   "name": "python",
   "nbconvert_exporter": "python",
   "pygments_lexer": "ipython3",
   "version": "3.9.13"
  }
 },
 "nbformat": 4,
 "nbformat_minor": 5
}
