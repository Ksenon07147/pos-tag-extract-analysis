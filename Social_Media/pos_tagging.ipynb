{
 "cells": [
  {
   "cell_type": "code",
   "execution_count": 1,
   "id": "76cf2437-0428-442b-816c-b72644601480",
   "metadata": {},
   "outputs": [
    {
     "name": "stderr",
     "output_type": "stream",
     "text": [
      "Setting default log level to \"WARN\".\n",
      "To adjust logging level use sc.setLogLevel(newLevel). For SparkR, use setLogLevel(newLevel).\n"
     ]
    },
    {
     "name": "stdout",
     "output_type": "stream",
     "text": [
      "22/10/11 13:02:56 WARN NativeCodeLoader: Unable to load native-hadoop library for your platform... using builtin-java classes where applicable\n",
      "22/10/11 13:02:56 WARN Utils: Service 'SparkUI' could not bind on port 4040. Attempting port 4041.\n",
      "22/10/11 13:02:56 WARN Utils: Service 'SparkUI' could not bind on port 4041. Attempting port 4042.\n",
      "22/10/11 13:02:56 WARN Utils: Service 'SparkUI' could not bind on port 4042. Attempting port 4043.\n",
      "22/10/11 13:02:56 WARN Utils: Service 'SparkUI' could not bind on port 4043. Attempting port 4044.\n"
     ]
    },
    {
     "data": {
      "text/html": [
       "\n",
       "            <div>\n",
       "                <p><b>SparkSession - in-memory</b></p>\n",
       "                \n",
       "        <div>\n",
       "            <p><b>SparkContext</b></p>\n",
       "\n",
       "            <p><a href=\"http://g5.bigtop.it:4044\">Spark UI</a></p>\n",
       "\n",
       "            <dl>\n",
       "              <dt>Version</dt>\n",
       "                <dd><code>v3.3.0</code></dd>\n",
       "              <dt>Master</dt>\n",
       "                <dd><code>local[*]</code></dd>\n",
       "              <dt>AppName</dt>\n",
       "                <dd><code>PosTagging</code></dd>\n",
       "            </dl>\n",
       "        </div>\n",
       "        \n",
       "            </div>\n",
       "        "
      ],
      "text/plain": [
       "<pyspark.sql.session.SparkSession at 0x7f56151b12e0>"
      ]
     },
     "execution_count": 1,
     "metadata": {},
     "output_type": "execute_result"
    }
   ],
   "source": [
    "from pyspark.sql import SparkSession\n",
    "from pyspark import StorageLevel\n",
    "import os\n",
    "\n",
    "os.environ[\"PYSPARK_PYTHON\"]=\"/home/pc/g5_env_tf/bin/python39\"\n",
    "\n",
    "spark = SparkSession.builder.master(\"local[*]\")\\\n",
    "            .appName(\"PosTagging\")\\\n",
    "            .config('spark.executor.memory', '30g')\\\n",
    "            .config('spark.driver.maxResultSize', '30g')\\\n",
    "            .config('spark.driver.memory', '30g')\\\n",
    "            .getOrCreate()\n",
    "            # .config('spark.ui.showConsoleProgress', False)\\\n",
    "           \n",
    "\n",
    "sparkContext = spark.sparkContext\n",
    "\n",
    "spark"
   ]
  },
  {
   "cell_type": "code",
   "execution_count": 2,
   "id": "80ac9e65-5e66-43f5-bb20-15c44264bd15",
   "metadata": {},
   "outputs": [],
   "source": [
    "file_path = \"hdfs://g5.bigtop.it:8020/user/root/language_social_media/part-00000-0fc8e338-2c87-4f9e-9db3-4476b0a96443-c000.snappy.parquet\""
   ]
  },
  {
   "cell_type": "code",
   "execution_count": 3,
   "id": "50c2885d-1db6-4d72-921f-54cb7144e73d",
   "metadata": {},
   "outputs": [
    {
     "name": "stdout",
     "output_type": "stream",
     "text": [
      "+--------------------+--------------------+-----------------+\n",
      "|            sentence|       language_word|language_sentence|\n",
      "+--------------------+--------------------+-----------------+\n",
      "|selamat bungkusan...|  MS, MS, MS, MS, MS|               MS|\n",
      "|poor product qual...|  EN, EN, EN, EN, EN|               EN|\n",
      "|for product quali...| EN, EN, EN, OOV, EN|               EN|\n",
      "|really good quali...|  EN, EN, EN, EN, EN|               EN|\n",
      "|usual product qua...|  EN, EN, EN, EN, EN|               EN|\n",
      "|and nice quality ...|  EN, EN, EN, EN, EN|               EN|\n",
      "|money and quality...|  EN, EN, EN, EN, EN|               EN|\n",
      "|glossy good quali...|  EN, EN, EN, EN, EN|               EN|\n",
      "|selamat bungkusan...| MS, MS, MS, OOV, MS|               MS|\n",
      "|好 是 卖家 还有 回复|  ZH, ZH, ZH, ZH, ZH|               ZH|\n",
      "|yang cepat qualit...|  MS, MS, EN, MS, MS|               MS|\n",
      "|dapat high qualit...|MS, EN, EN, OOV, OOV|               EN|\n",
      "|money good qualit...|  EN, EN, EN, EN, EN|               EN|\n",
      "|a proud quality i...|MS, EN, EN, OOV, OOV|               EN|\n",
      "|pembungkusan yg k...| MS, OOV, MS, MS, EN|               MS|\n",
      "|laju pembungkusan...|  MS, MS, MS, MS, MS|               MS|\n",
      "|affordable sgt qu...|  EN, EN, EN, EN, MS|               EN|\n",
      "|行 值得 购买 要 注意|  ZH, ZH, ZH, ZH, ZH|               ZH|\n",
      "|the color quality...|  EN, EN, EN, EN, EN|               EN|\n",
      "|hati sgt quality ...|  MS, EN, EN, EN, MS|               EN|\n",
      "+--------------------+--------------------+-----------------+\n",
      "only showing top 20 rows\n",
      "\n"
     ]
    }
   ],
   "source": [
    "df1 = spark.read.option(\"header\",True).parquet(file_path)\n",
    "df1.show()"
   ]
  },
  {
   "cell_type": "code",
   "execution_count": 4,
   "id": "fa58201a-e0e7-4080-bc7f-c37df624b56c",
   "metadata": {},
   "outputs": [
    {
     "data": {
      "text/plain": [
       "2"
      ]
     },
     "execution_count": 4,
     "metadata": {},
     "output_type": "execute_result"
    }
   ],
   "source": [
    "df1.rdd.getNumPartitions()"
   ]
  },
  {
   "cell_type": "code",
   "execution_count": 5,
   "id": "8c322bf7-da28-465c-a085-eede9292e5b5",
   "metadata": {},
   "outputs": [],
   "source": [
    "df1 = df1.repartition(110)"
   ]
  },
  {
   "cell_type": "code",
   "execution_count": 6,
   "id": "5120cee4-18ec-414c-a8db-f2f939423d1f",
   "metadata": {},
   "outputs": [
    {
     "name": "stderr",
     "output_type": "stream",
     "text": [
      "[Stage 2:=============================>                             (1 + 1) / 2]\r"
     ]
    },
    {
     "data": {
      "text/plain": [
       "110"
      ]
     },
     "execution_count": 6,
     "metadata": {},
     "output_type": "execute_result"
    }
   ],
   "source": [
    "df1.rdd.getNumPartitions()"
   ]
  },
  {
   "cell_type": "code",
   "execution_count": 7,
   "id": "4e76bb0e-3028-4598-b87c-c0e89c381ba6",
   "metadata": {},
   "outputs": [
    {
     "name": "stdout",
     "output_type": "stream",
     "text": [
      "+--------------------+------------------+-----------------+\n",
      "|            sentence|     language_word|language_sentence|\n",
      "+--------------------+------------------+-----------------+\n",
      "|muatttt jeee qual...| OOV, OOV, EN, OOV|               EN|\n",
      "|the quality will ...|    EN, EN, EN, EN|               EN|\n",
      "| 第一次 购买 也 并非|    ZH, ZH, ZH, ZH|               ZH|\n",
      "|layanan seller qu...|MS, EN, EN, MS, MS|               MS|\n",
      "|product quality a...|   EN, EN, OOV, EN|               EN|\n",
      "|       多多关照 卖家|            ZH, ZH|               ZH|\n",
      "|    quality gatal pd|      EN, OOV, OOV|               EN|\n",
      "|     date 卖家 都 有|    EN, ZH, ZH, ZH|               ZH|\n",
      "|money quality see...|    EN, EN, EN, EN|               EN|\n",
      "|bad quality belt bru|    MS, EN, EN, MS|               EN|\n",
      "|effectivenessukus...|    EN, MS, MS, MS|               MS|\n",
      "|   high quality iove|        EN, EN, EN|               EN|\n",
      "|quality dya berfu...|        EN, MS, MS|               MS|\n",
      "|harga murah quali...|    MS, MS, EN, MS|               MS|\n",
      "|brg smpai kemas c...|   OOV, MS, MS, MS|               MS|\n",
      "|sedap pakailembut...|       MS, OOV, MS|               MS|\n",
      "|good product qual...|EN, EN, EN, EN, MS|               EN|\n",
      "|      and kemas love|        EN, MS, EN|               MS|\n",
      "|   screen quality to|        EN, EN, EN|               EN|\n",
      "|definition hd qua...|EN, MS, EN, EN, EN|               EN|\n",
      "+--------------------+------------------+-----------------+\n",
      "only showing top 20 rows\n",
      "\n"
     ]
    },
    {
     "name": "stderr",
     "output_type": "stream",
     "text": [
      "                                                                                \r"
     ]
    }
   ],
   "source": [
    "df1.show()"
   ]
  },
  {
   "cell_type": "code",
   "execution_count": 8,
   "id": "a708fd47-32b5-4643-82d4-0317b6379ec0",
   "metadata": {},
   "outputs": [],
   "source": [
    "from pyspark.sql.functions import col\n",
    "\n",
    "language_none = df1.select(col(\"sentence\"), col(\"language_word\")).filter(df1.language_sentence == 'None')\n",
    "language_en = df1.select(col(\"sentence\"), col(\"language_word\")).filter(df1.language_sentence == 'EN')\n",
    "language_ms = df1.select(col(\"sentence\"), col(\"language_word\")).filter(df1.language_sentence == 'MS')\n",
    "language_zh = df1.select(col(\"sentence\"), col(\"language_word\")).filter(df1.language_sentence == 'ZH')"
   ]
  },
  {
   "cell_type": "code",
   "execution_count": 9,
   "id": "a5d938ea-f89a-4079-98b3-d6bed7ccd4c3",
   "metadata": {},
   "outputs": [
    {
     "name": "stdout",
     "output_type": "stream",
     "text": [
      "+-------------+-------------+\n",
      "|     sentence|language_word|\n",
      "+-------------+-------------+\n",
      "|quality 거 거| EN, OOV, OOV|\n",
      "|  quality ش ك| EN, OOV, OOV|\n",
      "|quality 좋 아| EN, OOV, OOV|\n",
      "|  quality ถ ู| EN, OOV, OOV|\n",
      "|  quality ڤ ل| EN, OOV, OOV|\n",
      "|quality 우 리| EN, OOV, OOV|\n",
      "|quality 진 짜| EN, OOV, OOV|\n",
      "|  quality ج ا| EN, OOV, OOV|\n",
      "|quality 따 봉| EN, OOV, OOV|\n",
      "|quality 짱 이| EN, OOV, OOV|\n",
      "|quality 안 녕| EN, OOV, OOV|\n",
      "|  quality θ θ| EN, OOV, OOV|\n",
      "|quality ㅠ ㅠ| EN, OOV, OOV|\n",
      "+-------------+-------------+\n",
      "\n"
     ]
    }
   ],
   "source": [
    "language_none.show()"
   ]
  },
  {
   "cell_type": "code",
   "execution_count": 10,
   "id": "c2a46336-5430-468b-8436-f4e678df9408",
   "metadata": {},
   "outputs": [
    {
     "data": {
      "text/plain": [
       "13"
      ]
     },
     "execution_count": 10,
     "metadata": {},
     "output_type": "execute_result"
    }
   ],
   "source": [
    "language_none.count()"
   ]
  },
  {
   "cell_type": "code",
   "execution_count": 11,
   "id": "6e1d5330-b7ec-48c3-bf32-2e836d264d5b",
   "metadata": {},
   "outputs": [
    {
     "name": "stdout",
     "output_type": "stream",
     "text": [
      "+--------------------+--------------------+\n",
      "|            sentence|       language_word|\n",
      "+--------------------+--------------------+\n",
      "|quality delivery not|          EN, EN, EN|\n",
      "|   quality next week|          EN, EN, EN|\n",
      "|ordered quality w...|      EN, EN, EN, EN|\n",
      "|good quality user...|      EN, EN, EN, EN|\n",
      "|hati dengan quali...|  MS, MS, EN, EN, EN|\n",
      "|      quality is out|          EN, EN, EN|\n",
      "|        tuso quality|             OOV, EN|\n",
      "| overall quality not|          EN, EN, EN|\n",
      "|       fibre quality|              EN, EN|\n",
      "|  quality amd faster|          EN, MS, EN|\n",
      "|quality quality q...|  EN, EN, EN, EN, EN|\n",
      "|pastu mang qualit...|OOV, MS, EN, OOV, MS|\n",
      "|happy good qualit...| EN, EN, EN, OOV, EN|\n",
      "|wear quality is soft|      EN, EN, EN, EN|\n",
      "|products good qua...|     EN, EN, EN, OOV|\n",
      "|buttt quality gooodd|          EN, EN, EN|\n",
      "|     quality srs tak|         EN, OOV, MS|\n",
      "|ok nice quality o...|  MS, EN, EN, MS, EN|\n",
      "| bit slow quality ok|     OOV, EN, EN, MS|\n",
      "|hope the quality ...| EN, EN, EN, OOV, EN|\n",
      "+--------------------+--------------------+\n",
      "only showing top 20 rows\n",
      "\n"
     ]
    }
   ],
   "source": [
    "language_en.show()"
   ]
  },
  {
   "cell_type": "code",
   "execution_count": 12,
   "id": "98e1451d-5120-4f31-9723-af305c5f284f",
   "metadata": {},
   "outputs": [
    {
     "name": "stdout",
     "output_type": "stream",
     "text": [
      "+--------------------+--------------------+\n",
      "|            sentence|       language_word|\n",
      "+--------------------+--------------------+\n",
      "|    okey je kemas no|     EN, OOV, MS, EN|\n",
      "|dibalut kemas sel...|     OOV, MS, EN, MS|\n",
      "|packing cantik ke...|  EN, MS, MS, EN, MS|\n",
      "| pun kemas bila saya|      MS, MS, MS, MS|\n",
      "|nmpk kemas bile pkai|      MS, MS, EN, MS|\n",
      "|memang kemas bole...|      MS, MS, MS, MS|\n",
      "|baju nmpk kemas c...|  MS, MS, MS, MS, MS|\n",
      "|quality dia berbaloi|          EN, MS, MS|\n",
      "|cantik jahitan ke...|  MS, MS, MS, MS, MS|\n",
      "|saya suka kemas c...|  MS, MS, MS, MS, MS|\n",
      "|dan jahitan kemas...|      MS, MS, MS, MS|\n",
      "| nmpk kemas and nmpk|      MS, MS, EN, MS|\n",
      "|memang kemas soft...|      MS, MS, EN, EN|\n",
      "|dan kemas sgt ber...|      MS, MS, EN, MS|\n",
      "| pospaling pun kemas|         OOV, MS, MS|\n",
      "|pembungkusan yg k...|MS, OOV, MS, OOV, MS|\n",
      "|    masyaallah kemas|              MS, MS|\n",
      "|       jshitan kemas|             OOV, MS|\n",
      "|dan bungkus kemas...|  MS, MS, MS, MS, MS|\n",
      "|amat kemas sekali...|          MS, MS, MS|\n",
      "+--------------------+--------------------+\n",
      "only showing top 20 rows\n",
      "\n"
     ]
    }
   ],
   "source": [
    "language_ms.show()"
   ]
  },
  {
   "cell_type": "code",
   "execution_count": 13,
   "id": "c361f825-f100-4f3b-a30c-f36fe0da419b",
   "metadata": {},
   "outputs": [
    {
     "data": {
      "text/plain": [
       "202621"
      ]
     },
     "execution_count": 13,
     "metadata": {},
     "output_type": "execute_result"
    }
   ],
   "source": [
    "language_ms.count()"
   ]
  },
  {
   "cell_type": "code",
   "execution_count": 14,
   "id": "c4fd254b-da64-4cdd-b636-323fffa18768",
   "metadata": {},
   "outputs": [
    {
     "name": "stdout",
     "output_type": "stream",
     "text": [
      "+--------------------+------------------+\n",
      "|            sentence|     language_word|\n",
      "+--------------------+------------------+\n",
      "|      购买 大爱 产品|        ZH, ZH, ZH|\n",
      "|  询问 了 卖家 他 跟|ZH, ZH, ZH, ZH, ZH|\n",
      "|      到货 谢谢 卖家|        ZH, ZH, ZH|\n",
      "|        所以 听 卖家|        ZH, ZH, ZH|\n",
      "| 第一次 购买 可是 是|    ZH, ZH, ZH, ZH|\n",
      "|  跟 这 卖家 下单 了|ZH, ZH, ZH, ZH, ZH|\n",
      "|    第三次 购买 看到|        ZH, ZH, ZH|\n",
      "|     再 回 购买 好评|    ZH, ZH, ZH, ZH|\n",
      "|      一起 购买 孩子|        ZH, ZH, ZH|\n",
      "|      卖家 服务 极差|        ZH, ZH, ZH|\n",
      "|    第二次 购买 超级|        ZH, ZH, ZH|\n",
      "|      希望 卖家 回复|        ZH, ZH, ZH|\n",
      "|        good 卖家 的|        EN, ZH, ZH|\n",
      "|哈哈哈 卖家 服务态度|        ZH, ZH, ZH|\n",
      "| 垃圾 信息 卖家 卖家|    ZH, ZH, ZH, ZH|\n",
      "|        优惠 卖家 还|        ZH, ZH, ZH|\n",
      "|   拍照 卖家 客服 也|    ZH, ZH, ZH, ZH|\n",
      "|   感谢 卖家 的 细心|    ZH, ZH, ZH, ZH|\n",
      "|      口味 购买 两罐|        ZH, ZH, ZH|\n",
      "|        卖家 才 发现|        ZH, ZH, ZH|\n",
      "+--------------------+------------------+\n",
      "only showing top 20 rows\n",
      "\n"
     ]
    }
   ],
   "source": [
    "language_zh.show()"
   ]
  },
  {
   "cell_type": "code",
   "execution_count": 15,
   "id": "0cbad7a6-df7f-4b69-84c7-5e95487f7f80",
   "metadata": {},
   "outputs": [],
   "source": [
    "from nltk import pos_tag, word_tokenize\n",
    "def zh_pos_tag(text):    \n",
    "    import logging\n",
    "    import jieba\n",
    "    import jieba.posseg\n",
    "        \n",
    "    jieba.setLogLevel(logging.WARNING)\n",
    "\n",
    "    text = text.replace(' ','')\n",
    "    results= jieba.posseg.lcut(text)\n",
    "    empList = []\n",
    "    for x, y in results:\n",
    "        empList.append(y)\n",
    "    \n",
    "    return empList"
   ]
  },
  {
   "cell_type": "code",
   "execution_count": 16,
   "id": "bba7e908-cfe2-4dab-997e-a81a4cae0937",
   "metadata": {},
   "outputs": [],
   "source": [
    "def en_pos_tag(text):\n",
    "    results = pos_tag(word_tokenize(text), lang='eng') \n",
    "    empList = []\n",
    "    for x,y in results:\n",
    "        empList.append(y)\n",
    "\n",
    "    return empList"
   ]
  },
  {
   "cell_type": "code",
   "execution_count": 17,
   "id": "2278243e-ce11-458f-86ad-e8c9dc1ae6cf",
   "metadata": {},
   "outputs": [
    {
     "name": "stderr",
     "output_type": "stream",
     "text": [
      "2022-10-11 13:03:06.140826: I tensorflow/core/platform/cpu_feature_guard.cc:193] This TensorFlow binary is optimized with oneAPI Deep Neural Network Library (oneDNN) to use the following CPU instructions in performance-critical operations:  AVX2 FMA\n",
      "To enable them in other operations, rebuild TensorFlow with the appropriate compiler flags.\n",
      "/home/pc/g5_env_tf/lib/python3.9/site-packages/malaya_boilerplate/frozen_graph.py:35: UserWarning: Cannot import beam_search_ops from Tensorflow Addons, ['malaya.jawi_rumi.deep_model', 'malaya.phoneme.deep_model', 'malaya.rumi_jawi.deep_model', 'malaya.stem.deep_model'] will not available to use, make sure Tensorflow Addons version >= 0.12.0\n",
      "  warnings.warn(\n",
      "/home/pc/g5_env_tf/lib/python3.9/site-packages/malaya_boilerplate/frozen_graph.py:38: UserWarning: check compatible Tensorflow version with Tensorflow Addons at https://github.com/tensorflow/addons/releases\n",
      "  warnings.warn(\n",
      "/home/pc/g5_env_tf/lib/python3.9/site-packages/tqdm/auto.py:22: TqdmWarning: IProgress not found. Please update jupyter and ipywidgets. See https://ipywidgets.readthedocs.io/en/stable/user_install.html\n",
      "  from .autonotebook import tqdm as notebook_tqdm\n",
      "/home/pc/g5_env_tf/lib/python3.9/site-packages/malaya/tokenizer.py:202: FutureWarning: Possible nested set at position 3361\n",
      "  self.tok = re.compile(r'({})'.format('|'.join(pipeline)))\n",
      "/home/pc/g5_env_tf/lib/python3.9/site-packages/malaya/tokenizer.py:202: FutureWarning: Possible nested set at position 3879\n",
      "  self.tok = re.compile(r'({})'.format('|'.join(pipeline)))\n"
     ]
    }
   ],
   "source": [
    "import malaya\n",
    "import logging\n",
    "\n",
    "def ms_pos_tag(text):\n",
    "    # logging.basicConfig(level=logging.CRITICAL)\n",
    "    results = malaya.pos.transformer('alxlnet', True).predict(text)\n",
    "    \n",
    "    empList = []\n",
    "\n",
    "    for x, y in results:\n",
    "        empList.append(y)\n",
    "    return empList"
   ]
  },
  {
   "cell_type": "code",
   "execution_count": 18,
   "id": "14a66648-b485-4879-b843-009c9e09c07e",
   "metadata": {},
   "outputs": [],
   "source": [
    "def none_pos_tag(text):\n",
    "    # logging.basicConfig(level=logging.CRITICAL)\n",
    "    empList = []\n",
    "    tempList = list(text.split(\" \"))\n",
    "    for x in tempList:\n",
    "        empList.append('XXX')\n",
    "            \n",
    "    return empList"
   ]
  },
  {
   "cell_type": "code",
   "execution_count": 19,
   "id": "4108b3fa-6ed3-40a6-81fb-318a13f769e5",
   "metadata": {},
   "outputs": [],
   "source": [
    "language_en = language_en.repartition(110)"
   ]
  },
  {
   "cell_type": "code",
   "execution_count": 20,
   "id": "59103a72-44c7-4bd6-8d71-15d48f591c17",
   "metadata": {},
   "outputs": [
    {
     "data": {
      "text/plain": [
       "283838"
      ]
     },
     "execution_count": 20,
     "metadata": {},
     "output_type": "execute_result"
    }
   ],
   "source": [
    "language_en.count()"
   ]
  },
  {
   "cell_type": "code",
   "execution_count": 21,
   "id": "7d9df885-0ffc-4c38-b10b-a98611ca2b13",
   "metadata": {},
   "outputs": [],
   "source": [
    "en_pos_tag = language_en.rdd.map(lambda x: (x[0], x[1], en_pos_tag(x[0]))).persist(StorageLevel.MEMORY_ONLY)"
   ]
  },
  {
   "cell_type": "code",
   "execution_count": 22,
   "id": "369138c8-dd70-4d79-81b0-59be490249d1",
   "metadata": {},
   "outputs": [
    {
     "name": "stderr",
     "output_type": "stream",
     "text": [
      "                                                                                \r"
     ]
    },
    {
     "data": {
      "text/plain": [
       "283838"
      ]
     },
     "execution_count": 22,
     "metadata": {},
     "output_type": "execute_result"
    }
   ],
   "source": [
    "en_pos_tag.count()"
   ]
  },
  {
   "cell_type": "code",
   "execution_count": 23,
   "id": "f2410b17-48c0-488b-95db-d5c1eef99781",
   "metadata": {},
   "outputs": [],
   "source": [
    "language_zh = language_zh.repartition(110)"
   ]
  },
  {
   "cell_type": "code",
   "execution_count": 24,
   "id": "a0d98517-5e34-47d2-9411-cb922e1fa379",
   "metadata": {},
   "outputs": [
    {
     "data": {
      "text/plain": [
       "47877"
      ]
     },
     "execution_count": 24,
     "metadata": {},
     "output_type": "execute_result"
    }
   ],
   "source": [
    "language_zh.count()"
   ]
  },
  {
   "cell_type": "code",
   "execution_count": 25,
   "id": "73233c33-a798-4a56-97b1-253d9e923e05",
   "metadata": {},
   "outputs": [],
   "source": [
    "zh_pos_tag = language_zh.rdd.map(lambda x: (x[0], x[1], zh_pos_tag(x[0]))).persist(StorageLevel.MEMORY_ONLY)"
   ]
  },
  {
   "cell_type": "code",
   "execution_count": 26,
   "id": "a987e2d3-f9f4-45a2-8bc5-3017d3f218c1",
   "metadata": {},
   "outputs": [
    {
     "name": "stderr",
     "output_type": "stream",
     "text": [
      "                                                                                \r"
     ]
    },
    {
     "data": {
      "text/plain": [
       "47877"
      ]
     },
     "execution_count": 26,
     "metadata": {},
     "output_type": "execute_result"
    }
   ],
   "source": [
    "zh_pos_tag.count()"
   ]
  },
  {
   "cell_type": "code",
   "execution_count": 27,
   "id": "e30ba1ad-db50-4f8b-a8d7-e5bcb1880ab0",
   "metadata": {},
   "outputs": [],
   "source": [
    "language_none= language_none.repartition(110)"
   ]
  },
  {
   "cell_type": "code",
   "execution_count": 28,
   "id": "fe03207b-b47c-4333-a066-7d67f77c59f7",
   "metadata": {},
   "outputs": [
    {
     "data": {
      "text/plain": [
       "13"
      ]
     },
     "execution_count": 28,
     "metadata": {},
     "output_type": "execute_result"
    }
   ],
   "source": [
    "language_none.count()"
   ]
  },
  {
   "cell_type": "code",
   "execution_count": 29,
   "id": "e671eac9-7e2f-46b8-810a-38ce34003e38",
   "metadata": {},
   "outputs": [],
   "source": [
    "none_pos_tag = language_none.rdd.map(lambda x: (x[0], x[1], none_pos_tag(x[0]))).persist(StorageLevel.MEMORY_ONLY)"
   ]
  },
  {
   "cell_type": "code",
   "execution_count": 30,
   "id": "2954ab1a-0cba-4821-b45b-e59beee83519",
   "metadata": {},
   "outputs": [
    {
     "name": "stderr",
     "output_type": "stream",
     "text": [
      "                                                                                \r"
     ]
    },
    {
     "data": {
      "text/plain": [
       "13"
      ]
     },
     "execution_count": 30,
     "metadata": {},
     "output_type": "execute_result"
    }
   ],
   "source": [
    "none_pos_tag.count()"
   ]
  },
  {
   "cell_type": "markdown",
   "id": "4bcdd111-e28a-4bfb-980e-2bd1877ce0e1",
   "metadata": {},
   "source": [
    "### English, Chinese, None language Result"
   ]
  },
  {
   "cell_type": "code",
   "execution_count": 31,
   "id": "c3d5b072-bed7-4148-8856-4a66860616eb",
   "metadata": {},
   "outputs": [
    {
     "name": "stdout",
     "output_type": "stream",
     "text": [
      "+--------------------+--------------------+--------------------+\n",
      "|                  _1|                  _2|                  _3|\n",
      "+--------------------+--------------------+--------------------+\n",
      "|quality delivery not|          EN, EN, EN|        [NN, NN, RB]|\n",
      "|   quality next week|          EN, EN, EN|        [NN, IN, NN]|\n",
      "|ordered quality w...|      EN, EN, EN, EN|   [VBN, NN, IN, DT]|\n",
      "|good quality user...|      EN, EN, EN, EN|    [JJ, NN, NN, RB]|\n",
      "|hati dengan quali...|  MS, MS, EN, EN, EN|[NN, JJ, NN, IN, NN]|\n",
      "|      quality is out|          EN, EN, EN|       [NN, VBZ, RP]|\n",
      "|        tuso quality|             OOV, EN|            [NN, NN]|\n",
      "| overall quality not|          EN, EN, EN|        [JJ, NN, RB]|\n",
      "|       fibre quality|              EN, EN|            [NN, NN]|\n",
      "|  quality amd faster|          EN, MS, EN|       [NN, VBP, NN]|\n",
      "|quality quality q...|  EN, EN, EN, EN, EN|[NN, NN, NN, JJ, NN]|\n",
      "|pastu mang qualit...|OOV, MS, EN, OOV, MS|[NN, NN, NN, NN, NN]|\n",
      "|happy good qualit...| EN, EN, EN, OOV, EN|[JJ, JJ, NN, VBP,...|\n",
      "|wear quality is soft|      EN, EN, EN, EN|   [JJ, NN, VBZ, JJ]|\n",
      "|products good qua...|     EN, EN, EN, OOV|  [NNS, JJ, NN, VBP]|\n",
      "|buttt quality gooodd|          EN, EN, EN|        [NN, NN, NN]|\n",
      "|     quality srs tak|         EN, OOV, MS|        [NN, NN, NN]|\n",
      "|ok nice quality o...|  MS, EN, EN, MS, EN|[JJ, JJ, NN, VBP,...|\n",
      "| bit slow quality ok|     OOV, EN, EN, MS|    [NN, JJ, NN, NN]|\n",
      "|hope the quality ...| EN, EN, EN, OOV, EN|[NN, DT, NN, MD, JJ]|\n",
      "+--------------------+--------------------+--------------------+\n",
      "only showing top 20 rows\n",
      "\n"
     ]
    }
   ],
   "source": [
    "en_pos_tag.toDF().show()"
   ]
  },
  {
   "cell_type": "code",
   "execution_count": 32,
   "id": "7d2fe29f-1e58-4a59-8e5f-79a5629cb97c",
   "metadata": {},
   "outputs": [
    {
     "name": "stdout",
     "output_type": "stream",
     "text": [
      "+--------------------+------------------+----------------+\n",
      "|                  _1|                _2|              _3|\n",
      "+--------------------+------------------+----------------+\n",
      "|      购买 大爱 产品|        ZH, ZH, ZH|    [v, a, v, n]|\n",
      "|  询问 了 卖家 他 跟|ZH, ZH, ZH, ZH, ZH|[v, ul, n, r, p]|\n",
      "|      到货 谢谢 卖家|        ZH, ZH, ZH|      [v, nr, n]|\n",
      "|        所以 听 卖家|        ZH, ZH, ZH|       [c, v, n]|\n",
      "| 第一次 购买 可是 是|    ZH, ZH, ZH, ZH|    [m, v, c, v]|\n",
      "|  跟 这 卖家 下单 了|ZH, ZH, ZH, ZH, ZH|[p, r, n, n, ul]|\n",
      "|    第三次 购买 看到|        ZH, ZH, ZH|       [m, v, v]|\n",
      "|     再 回 购买 好评|    ZH, ZH, ZH, ZH|    [d, v, v, v]|\n",
      "|      一起 购买 孩子|        ZH, ZH, ZH|       [m, v, n]|\n",
      "|      卖家 服务 极差|        ZH, ZH, ZH|      [n, vn, n]|\n",
      "|    第二次 购买 超级|        ZH, ZH, ZH|       [m, v, b]|\n",
      "|      希望 卖家 回复|        ZH, ZH, ZH|       [v, n, v]|\n",
      "|        good 卖家 的|        EN, ZH, ZH|    [eng, n, uj]|\n",
      "|哈哈哈 卖家 服务态度|        ZH, ZH, ZH|       [o, n, n]|\n",
      "| 垃圾 信息 卖家 卖家|    ZH, ZH, ZH, ZH|    [n, n, n, n]|\n",
      "|        优惠 卖家 还|        ZH, ZH, ZH|      [vn, n, d]|\n",
      "|   拍照 卖家 客服 也|    ZH, ZH, ZH, ZH|    [v, n, n, d]|\n",
      "|   感谢 卖家 的 细心|    ZH, ZH, ZH, ZH|   [v, n, uj, n]|\n",
      "|      口味 购买 两罐|        ZH, ZH, ZH|       [n, v, m]|\n",
      "|        卖家 才 发现|        ZH, ZH, ZH|       [n, d, v]|\n",
      "+--------------------+------------------+----------------+\n",
      "only showing top 20 rows\n",
      "\n"
     ]
    }
   ],
   "source": [
    "zh_pos_tag.toDF().show()"
   ]
  },
  {
   "cell_type": "code",
   "execution_count": 33,
   "id": "422ac6d2-939d-4f51-93a1-3952eb4407e6",
   "metadata": {
    "tags": []
   },
   "outputs": [
    {
     "name": "stdout",
     "output_type": "stream",
     "text": [
      "+-------------+------------+---------------+\n",
      "|_1           |_2          |_3             |\n",
      "+-------------+------------+---------------+\n",
      "|quality 거 거|EN, OOV, OOV|[XXX, XXX, XXX]|\n",
      "|quality ش ك  |EN, OOV, OOV|[XXX, XXX, XXX]|\n",
      "|quality 좋 아|EN, OOV, OOV|[XXX, XXX, XXX]|\n",
      "|quality ถ ู  |EN, OOV, OOV|[XXX, XXX, XXX]|\n",
      "|quality ڤ ل  |EN, OOV, OOV|[XXX, XXX, XXX]|\n",
      "|quality 우 리|EN, OOV, OOV|[XXX, XXX, XXX]|\n",
      "|quality 진 짜|EN, OOV, OOV|[XXX, XXX, XXX]|\n",
      "|quality ج ا  |EN, OOV, OOV|[XXX, XXX, XXX]|\n",
      "|quality 따 봉|EN, OOV, OOV|[XXX, XXX, XXX]|\n",
      "|quality 짱 이|EN, OOV, OOV|[XXX, XXX, XXX]|\n",
      "|quality 안 녕|EN, OOV, OOV|[XXX, XXX, XXX]|\n",
      "|quality θ θ  |EN, OOV, OOV|[XXX, XXX, XXX]|\n",
      "|quality ㅠ ㅠ|EN, OOV, OOV|[XXX, XXX, XXX]|\n",
      "+-------------+------------+---------------+\n",
      "\n"
     ]
    }
   ],
   "source": [
    "none_pos_tag.toDF().show(truncate = False)"
   ]
  },
  {
   "cell_type": "code",
   "execution_count": 34,
   "id": "1a1e4266-2922-4710-9236-2cb5516f8c0c",
   "metadata": {
    "tags": []
   },
   "outputs": [],
   "source": [
    "zh_tags = {'a': 'ADJ',\n",
    " 'ad': 'ACC_WORD',\n",
    " 'ag': 'ADJ',\n",
    " 'al': 'ADJ',\n",
    " 'an': 'NOUN',\n",
    " 'b': 'ADJ',\n",
    " 'bl': 'ADJ',\n",
    " 'c': 'CONJ',\n",
    " 'cc': 'CONJ',\n",
    " 'd': 'ADV',\n",
    " 'f': 'NOUN',\n",
    " 'm': 'NUM',\n",
    " 'mq': 'MQ',\n",
    " 'n': 'NOUN',\n",
    " 'ng': 'XXX',\n",
    " 'nl': 'NOUN',\n",
    " 'nr': 'NOUN',\n",
    " 'nr1': 'NOUN',\n",
    " 'nr2': 'NOUN',\n",
    " 'nrf': 'NOUN',\n",
    " 'nrj': 'NOUN',\n",
    " 'ns': 'NOUN',\n",
    " 'nsf': 'NOUN',\n",
    " 'nt': 'NOUN',\n",
    " 'nz': 'NOUN',\n",
    " 'p': 'IN',\n",
    " 'pba': 'IN',\n",
    " 'pbei': 'IN',\n",
    " 'qt': 'QT',\n",
    " 'qv': 'QV',\n",
    " 'r': 'PRON',\n",
    " 'rg': 'PRON',\n",
    " 'rr': 'PRON',\n",
    " 'ry': 'PRON',\n",
    " 'rys': 'PRON',\n",
    " 'ryt': 'PRON',\n",
    " 'ryv': 'PRON',\n",
    " 'rz': 'PRON',\n",
    " 'rzs': 'PRON',\n",
    " 'rzv': 'PRON',\n",
    " 's': 'NOUN',\n",
    " 't': 'TIME',\n",
    " 'tg': 'TIME',\n",
    " 'ul': 'UL',\n",
    " 'v': 'VERB',\n",
    " 'vd': 'ADX',\n",
    " 'vf': 'VERB',\n",
    " 'vg': 'VERB',\n",
    " 'vi': 'VERB',\n",
    " 'vl': 'VERB',\n",
    " 'vn': 'NOUN_VERB',\n",
    " 'vshi': 'VERB',\n",
    " 'vx': 'VERB',\n",
    " 'vyou': 'VERB',\n",
    " 'x': 'XXX',\n",
    " 'z': 'STATE_WORD'}"
   ]
  },
  {
   "cell_type": "code",
   "execution_count": 35,
   "id": "f1603699-bcfb-4fd7-b363-8b4cd7856d31",
   "metadata": {
    "tags": []
   },
   "outputs": [],
   "source": [
    "en_tags = {'CC': 'CCONJ',\n",
    " 'CD': 'NOUN',\n",
    " 'DT': 'DET',\n",
    " 'EX': 'ADV',\n",
    " 'FW': 'XXX',\n",
    " 'IN': 'IN',\n",
    " 'JJ': 'ADJ',\n",
    " 'JJR': 'ADJ',\n",
    " 'JJS': 'ADJ',\n",
    " 'LS': 'XXX',\n",
    " 'MD': 'VERB',\n",
    " 'NN': 'NOUN',\n",
    " 'NNP': 'PROPN',\n",
    " 'NNPS': 'PROPN',\n",
    " 'NNS': 'NOUN',\n",
    " 'PDT': 'DET',\n",
    " 'POS': 'POS',\n",
    " 'PRP': 'PRON',\n",
    " 'PRP$': 'PRON',\n",
    " 'RB': 'ADV',\n",
    " 'RBR': 'ADV',\n",
    " 'RBS': 'ADV',\n",
    " 'RP': 'PART',\n",
    " 'TO': 'TO',\n",
    " 'UH': 'UH',\n",
    " 'VB': 'VERB',\n",
    " 'VBD': 'VERB',\n",
    " 'VBG': 'VERB',\n",
    " 'VBN': 'VERB',\n",
    " 'VBP': 'VERB',\n",
    " 'VBZ': 'VERB',\n",
    " 'WDT': 'SCONJ',\n",
    " 'WP': 'SCONJ',\n",
    " 'WP$': 'SCONJ',\n",
    " 'WRB': 'SCONJ'}"
   ]
  },
  {
   "cell_type": "code",
   "execution_count": 36,
   "id": "8443d006-3698-4144-b708-2db588b6ec58",
   "metadata": {},
   "outputs": [],
   "source": [
    "def standardizer(output_list, dictionary):\n",
    "    empList = []\n",
    "    \n",
    "    for x in output_list:\n",
    "        if x not in dictionary:\n",
    "            empList.append('XXX')\n",
    "            continue\n",
    "        y = dictionary.get(x)\n",
    "        empList.append(y)\n",
    "    return empList"
   ]
  },
  {
   "cell_type": "code",
   "execution_count": 37,
   "id": "4ce66d8e-dd39-4861-84da-d4c4cc4634e2",
   "metadata": {},
   "outputs": [],
   "source": [
    "standard_zh_pos_tag = zh_pos_tag.map(lambda x: (x[0], x[1], standardizer(x[2], zh_tags))).persist(StorageLevel.MEMORY_ONLY)"
   ]
  },
  {
   "cell_type": "code",
   "execution_count": 38,
   "id": "30ccb8c5-b91e-43d5-92e3-82186ac0acb0",
   "metadata": {},
   "outputs": [
    {
     "data": {
      "text/plain": [
       "47877"
      ]
     },
     "execution_count": 38,
     "metadata": {},
     "output_type": "execute_result"
    }
   ],
   "source": [
    "standard_zh_pos_tag.count()"
   ]
  },
  {
   "cell_type": "code",
   "execution_count": 39,
   "id": "21767f3f-956a-4816-a0bb-1a571af7b778",
   "metadata": {},
   "outputs": [
    {
     "name": "stdout",
     "output_type": "stream",
     "text": [
      "+--------------------+------------------+--------------------+\n",
      "|                  _1|                _2|                  _3|\n",
      "+--------------------+------------------+--------------------+\n",
      "|      购买 大爱 产品|        ZH, ZH, ZH|[VERB, ADJ, VERB,...|\n",
      "|  询问 了 卖家 他 跟|ZH, ZH, ZH, ZH, ZH|[VERB, UL, NOUN, ...|\n",
      "|      到货 谢谢 卖家|        ZH, ZH, ZH|  [VERB, NOUN, NOUN]|\n",
      "|        所以 听 卖家|        ZH, ZH, ZH|  [CONJ, VERB, NOUN]|\n",
      "| 第一次 购买 可是 是|    ZH, ZH, ZH, ZH|[NUM, VERB, CONJ,...|\n",
      "|  跟 这 卖家 下单 了|ZH, ZH, ZH, ZH, ZH|[IN, PRON, NOUN, ...|\n",
      "|    第三次 购买 看到|        ZH, ZH, ZH|   [NUM, VERB, VERB]|\n",
      "|     再 回 购买 好评|    ZH, ZH, ZH, ZH|[ADV, VERB, VERB,...|\n",
      "|      一起 购买 孩子|        ZH, ZH, ZH|   [NUM, VERB, NOUN]|\n",
      "|      卖家 服务 极差|        ZH, ZH, ZH|[NOUN, NOUN_VERB,...|\n",
      "|    第二次 购买 超级|        ZH, ZH, ZH|    [NUM, VERB, ADJ]|\n",
      "|      希望 卖家 回复|        ZH, ZH, ZH|  [VERB, NOUN, VERB]|\n",
      "|        good 卖家 的|        EN, ZH, ZH|    [XXX, NOUN, XXX]|\n",
      "|哈哈哈 卖家 服务态度|        ZH, ZH, ZH|   [XXX, NOUN, NOUN]|\n",
      "| 垃圾 信息 卖家 卖家|    ZH, ZH, ZH, ZH|[NOUN, NOUN, NOUN...|\n",
      "|        优惠 卖家 还|        ZH, ZH, ZH|[NOUN_VERB, NOUN,...|\n",
      "|   拍照 卖家 客服 也|    ZH, ZH, ZH, ZH|[VERB, NOUN, NOUN...|\n",
      "|   感谢 卖家 的 细心|    ZH, ZH, ZH, ZH|[VERB, NOUN, XXX,...|\n",
      "|      口味 购买 两罐|        ZH, ZH, ZH|   [NOUN, VERB, NUM]|\n",
      "|        卖家 才 发现|        ZH, ZH, ZH|   [NOUN, ADV, VERB]|\n",
      "+--------------------+------------------+--------------------+\n",
      "only showing top 20 rows\n",
      "\n"
     ]
    }
   ],
   "source": [
    "standard_zh_pos_tag.toDF().show()"
   ]
  },
  {
   "cell_type": "code",
   "execution_count": 40,
   "id": "cc8a36c2-e8c2-4cbb-8309-5726381fd4d1",
   "metadata": {},
   "outputs": [],
   "source": [
    "standard_en_pos_tag = en_pos_tag.map(lambda x: (x[0], x[1], standardizer(x[2], en_tags))).persist(StorageLevel.MEMORY_ONLY)"
   ]
  },
  {
   "cell_type": "code",
   "execution_count": 41,
   "id": "be6555e4-8abc-4819-98cb-47e5fb4cecfd",
   "metadata": {},
   "outputs": [
    {
     "name": "stderr",
     "output_type": "stream",
     "text": [
      "                                                                                \r"
     ]
    },
    {
     "data": {
      "text/plain": [
       "283838"
      ]
     },
     "execution_count": 41,
     "metadata": {},
     "output_type": "execute_result"
    }
   ],
   "source": [
    "standard_en_pos_tag.count()"
   ]
  },
  {
   "cell_type": "code",
   "execution_count": 42,
   "id": "3c2495d8-2a9a-4355-86d7-ab9f6e4d8056",
   "metadata": {},
   "outputs": [
    {
     "name": "stdout",
     "output_type": "stream",
     "text": [
      "+--------------------+--------------------+--------------------+\n",
      "|                  _1|                  _2|                  _3|\n",
      "+--------------------+--------------------+--------------------+\n",
      "|quality delivery not|          EN, EN, EN|   [NOUN, NOUN, ADV]|\n",
      "|   quality next week|          EN, EN, EN|    [NOUN, IN, NOUN]|\n",
      "|ordered quality w...|      EN, EN, EN, EN|[VERB, NOUN, IN, ...|\n",
      "|good quality user...|      EN, EN, EN, EN|[ADJ, NOUN, NOUN,...|\n",
      "|hati dengan quali...|  MS, MS, EN, EN, EN|[NOUN, ADJ, NOUN,...|\n",
      "|      quality is out|          EN, EN, EN|  [NOUN, VERB, PART]|\n",
      "|        tuso quality|             OOV, EN|        [NOUN, NOUN]|\n",
      "| overall quality not|          EN, EN, EN|    [ADJ, NOUN, ADV]|\n",
      "|       fibre quality|              EN, EN|        [NOUN, NOUN]|\n",
      "|  quality amd faster|          EN, MS, EN|  [NOUN, VERB, NOUN]|\n",
      "|quality quality q...|  EN, EN, EN, EN, EN|[NOUN, NOUN, NOUN...|\n",
      "|pastu mang qualit...|OOV, MS, EN, OOV, MS|[NOUN, NOUN, NOUN...|\n",
      "|happy good qualit...| EN, EN, EN, OOV, EN|[ADJ, ADJ, NOUN, ...|\n",
      "|wear quality is soft|      EN, EN, EN, EN|[ADJ, NOUN, VERB,...|\n",
      "|products good qua...|     EN, EN, EN, OOV|[NOUN, ADJ, NOUN,...|\n",
      "|buttt quality gooodd|          EN, EN, EN|  [NOUN, NOUN, NOUN]|\n",
      "|     quality srs tak|         EN, OOV, MS|  [NOUN, NOUN, NOUN]|\n",
      "|ok nice quality o...|  MS, EN, EN, MS, EN|[ADJ, ADJ, NOUN, ...|\n",
      "| bit slow quality ok|     OOV, EN, EN, MS|[NOUN, ADJ, NOUN,...|\n",
      "|hope the quality ...| EN, EN, EN, OOV, EN|[NOUN, DET, NOUN,...|\n",
      "+--------------------+--------------------+--------------------+\n",
      "only showing top 20 rows\n",
      "\n"
     ]
    }
   ],
   "source": [
    "standard_en_pos_tag.toDF().show()"
   ]
  },
  {
   "cell_type": "markdown",
   "id": "49916769-0633-4b8f-9e8b-f6c55f83e61a",
   "metadata": {},
   "source": [
    "### Malay Pos Tagging"
   ]
  },
  {
   "cell_type": "code",
   "execution_count": 43,
   "id": "f69d1802-35b8-4640-a5cf-3821b27c44d3",
   "metadata": {},
   "outputs": [],
   "source": [
    "language_ms= language_ms.repartition(110)"
   ]
  },
  {
   "cell_type": "code",
   "execution_count": 44,
   "id": "12ee2f6e-a500-4509-9717-9685498d4ba0",
   "metadata": {},
   "outputs": [
    {
     "data": {
      "text/plain": [
       "202621"
      ]
     },
     "execution_count": 44,
     "metadata": {},
     "output_type": "execute_result"
    }
   ],
   "source": [
    "language_ms.count()"
   ]
  },
  {
   "cell_type": "code",
   "execution_count": 45,
   "id": "99c31df8-8760-484e-bbdd-8f7a6fb3a313",
   "metadata": {},
   "outputs": [],
   "source": [
    "sampling_ms = language_ms.limit(10000)"
   ]
  },
  {
   "cell_type": "code",
   "execution_count": 46,
   "id": "c342a02f-661e-4245-8853-94d4e5cd081a",
   "metadata": {},
   "outputs": [
    {
     "data": {
      "text/plain": [
       "10000"
      ]
     },
     "execution_count": 46,
     "metadata": {},
     "output_type": "execute_result"
    }
   ],
   "source": [
    "sampling_ms.count()"
   ]
  },
  {
   "cell_type": "code",
   "execution_count": 47,
   "id": "ab4a0de0-e99f-45dd-8959-c99c670f28af",
   "metadata": {},
   "outputs": [],
   "source": [
    "sampling_ms = sampling_ms.repartition(220)"
   ]
  },
  {
   "cell_type": "code",
   "execution_count": 48,
   "id": "4fc39623-eceb-42a8-87fd-b92b278f5a1d",
   "metadata": {},
   "outputs": [
    {
     "data": {
      "text/plain": [
       "10000"
      ]
     },
     "execution_count": 48,
     "metadata": {},
     "output_type": "execute_result"
    }
   ],
   "source": [
    "sampling_ms.count()"
   ]
  },
  {
   "cell_type": "code",
   "execution_count": 49,
   "id": "7bb387a2-c9cf-4835-93c5-392122b6904c",
   "metadata": {},
   "outputs": [],
   "source": [
    "ms_pos_tag = sampling_ms.rdd.map(lambda x: (x[0], x[1], ms_pos_tag(x[0]))).persist(StorageLevel.MEMORY_ONLY)"
   ]
  },
  {
   "cell_type": "code",
   "execution_count": 50,
   "id": "3efca37d-0c84-45aa-8492-aaedc044b648",
   "metadata": {
    "collapsed": true,
    "jupyter": {
     "outputs_hidden": true
    },
    "tags": []
   },
   "outputs": [
    {
     "name": "stderr",
     "output_type": "stream",
     "text": [
      "2022-10-11 13:03:25.137784: I tensorflow/core/platform/cpu_feature_guard.cc:193] This TensorFlow binary is optimized with oneAPI Deep Neural Network Library (oneDNN) to use the following CPU instructions in performance-critical operations:  AVX2 FMA\n",
      "To enable them in other operations, rebuild TensorFlow with the appropriate compiler flags.\n",
      "/home/pc/g5_env_tf/lib/python3.9/site-packages/malaya_boilerplate/frozen_graph.py:35: UserWarning: Cannot import beam_search_ops from Tensorflow Addons, ['malaya.jawi_rumi.deep_model', 'malaya.phoneme.deep_model', 'malaya.rumi_jawi.deep_model', 'malaya.stem.deep_model'] will not available to use, make sure Tensorflow Addons version >= 0.12.0\n",
      "  warnings.warn(\n",
      "/home/pc/g5_env_tf/lib/python3.9/site-packages/malaya_boilerplate/frozen_graph.py:38: UserWarning: check compatible Tensorflow version with Tensorflow Addons at https://github.com/tensorflow/addons/releases\n",
      "  warnings.warn(\n",
      "/home/pc/g5_env_tf/lib/python3.9/site-packages/malaya/tokenizer.py:202: FutureWarning: Possible nested set at position 3361\n",
      "  self.tok = re.compile(r'({})'.format('|'.join(pipeline)))\n",
      "/home/pc/g5_env_tf/lib/python3.9/site-packages/malaya/tokenizer.py:202: FutureWarning: Possible nested set at position 3879\n",
      "  self.tok = re.compile(r'({})'.format('|'.join(pipeline)))\n",
      "Load quantized model will cause accuracy drop.\n",
      "2022-10-11 13:03:32.381441: I tensorflow/core/platform/cpu_feature_guard.cc:193] This TensorFlow binary is optimized with oneAPI Deep Neural Network Library (oneDNN) to use the following CPU instructions in performance-critical operations:  AVX2 FMA\n",
      "To enable them in other operations, rebuild TensorFlow with the appropriate compiler flags.\n",
      "2022-10-11 13:03:33.452836: I tensorflow/compiler/mlir/mlir_graph_optimization_pass.cc:354] MLIR V1 optimization pass is not enabled\n",
      "WARNING:malaya_boilerplate.huggingface:Load quantized model will cause accuracy drop.\n",
      "WARNING:malaya_boilerplate.huggingface:Load quantized model will cause accuracy drop.\n",
      "WARNING:malaya_boilerplate.huggingface:Load quantized model will cause accuracy drop.\n",
      "WARNING:malaya_boilerplate.huggingface:Load quantized model will cause accuracy drop.\n",
      "WARNING:malaya_boilerplate.huggingface:Load quantized model will cause accuracy drop.\n",
      "WARNING:malaya_boilerplate.huggingface:Load quantized model will cause accuracy drop.\n",
      "WARNING:malaya_boilerplate.huggingface:Load quantized model will cause accuracy drop.\n",
      "WARNING:malaya_boilerplate.huggingface:Load quantized model will cause accuracy drop.\n",
      "WARNING:malaya_boilerplate.huggingface:Load quantized model will cause accuracy drop.\n",
      "WARNING:malaya_boilerplate.huggingface:Load quantized model will cause accuracy drop.\n",
      "WARNING:malaya_boilerplate.huggingface:Load quantized model will cause accuracy drop.\n",
      "WARNING:malaya_boilerplate.huggingface:Load quantized model will cause accuracy drop.\n",
      "WARNING:malaya_boilerplate.huggingface:Load quantized model will cause accuracy drop.\n",
      "WARNING:malaya_boilerplate.huggingface:Load quantized model will cause accuracy drop.\n",
      "WARNING:malaya_boilerplate.huggingface:Load quantized model will cause accuracy drop.\n",
      "WARNING:malaya_boilerplate.huggingface:Load quantized model will cause accuracy drop.\n",
      "WARNING:malaya_boilerplate.huggingface:Load quantized model will cause accuracy drop.\n",
      "WARNING:malaya_boilerplate.huggingface:Load quantized model will cause accuracy drop.\n",
      "WARNING:malaya_boilerplate.huggingface:Load quantized model will cause accuracy drop.\n",
      "WARNING:malaya_boilerplate.huggingface:Load quantized model will cause accuracy drop.\n",
      "WARNING:malaya_boilerplate.huggingface:Load quantized model will cause accuracy drop.\n",
      "WARNING:malaya_boilerplate.huggingface:Load quantized model will cause accuracy drop.\n",
      "WARNING:malaya_boilerplate.huggingface:Load quantized model will cause accuracy drop.\n",
      "WARNING:malaya_boilerplate.huggingface:Load quantized model will cause accuracy drop.\n",
      "WARNING:malaya_boilerplate.huggingface:Load quantized model will cause accuracy drop.\n",
      "WARNING:malaya_boilerplate.huggingface:Load quantized model will cause accuracy drop.\n",
      "WARNING:malaya_boilerplate.huggingface:Load quantized model will cause accuracy drop.\n",
      "WARNING:malaya_boilerplate.huggingface:Load quantized model will cause accuracy drop.\n",
      "WARNING:malaya_boilerplate.huggingface:Load quantized model will cause accuracy drop.\n",
      "WARNING:malaya_boilerplate.huggingface:Load quantized model will cause accuracy drop.\n",
      "WARNING:malaya_boilerplate.huggingface:Load quantized model will cause accuracy drop.\n",
      "WARNING:malaya_boilerplate.huggingface:Load quantized model will cause accuracy drop.\n",
      "WARNING:malaya_boilerplate.huggingface:Load quantized model will cause accuracy drop.\n",
      "WARNING:malaya_boilerplate.huggingface:Load quantized model will cause accuracy drop.\n",
      "WARNING:malaya_boilerplate.huggingface:Load quantized model will cause accuracy drop.\n",
      "WARNING:malaya_boilerplate.huggingface:Load quantized model will cause accuracy drop.\n",
      "WARNING:malaya_boilerplate.huggingface:Load quantized model will cause accuracy drop.\n",
      "WARNING:malaya_boilerplate.huggingface:Load quantized model will cause accuracy drop.\n",
      "WARNING:malaya_boilerplate.huggingface:Load quantized model will cause accuracy drop.\n",
      "WARNING:malaya_boilerplate.huggingface:Load quantized model will cause accuracy drop.\n",
      "WARNING:malaya_boilerplate.huggingface:Load quantized model will cause accuracy drop.\n",
      "WARNING:malaya_boilerplate.huggingface:Load quantized model will cause accuracy drop.\n",
      "WARNING:malaya_boilerplate.huggingface:Load quantized model will cause accuracy drop.\n",
      "WARNING:malaya_boilerplate.huggingface:Load quantized model will cause accuracy drop.\n"
     ]
    },
    {
     "name": "stdout",
     "output_type": "stream",
     "text": [
      "+--------------------+--------------------+--------------------+\n",
      "|                  _1|                  _2|                  _3|\n",
      "+--------------------+--------------------+--------------------+\n",
      "|           dan kemas|              MS, MS|       [CCONJ, NOUN]|\n",
      "|smpaibalut dgn ke...|OOV, EN, MS, MS, OOV|[VERB, ADP, NOUN,...|\n",
      "|     kemas wangi sgt|          MS, MS, EN|   [NOUN, NOUN, ADJ]|\n",
      "|orderbox cntikpac...|      EN, MS, MS, MS|[NOUN, NOUN, PROP...|\n",
      "|quality superb wa...|         EN, OOV, MS| [NOUN, NOUN, SCONJ]|\n",
      "|          lock kemas|              EN, MS|         [NOUN, ADJ]|\n",
      "|tepi kurang kemas...|  MS, MS, MS, MS, MS|[NOUN, ADV, PROPN...|\n",
      "|      and pack kemas|          EN, EN, MS| [CCONJ, NOUN, NOUN]|\n",
      "|dibungkus dgn kem...|      MS, EN, MS, MS|[VERB, ADP, NOUN,...|\n",
      "| quality saiz memang|         EN, OOV, MS|  [PROPN, NOUN, ADV]|\n",
      "|buku elok kemas b...| MS, MS, MS, OOV, EN|[NOUN, ADJ, ADJ, ...|\n",
      "|    kemas helok tqsm|         MS, OOV, MS|[NOUN, PROPN, PROPN]|\n",
      "|dn packing kemas ...| OOV, EN, MS, MS, EN|[CCONJ, NOUN, NOU...|\n",
      "|keselamatan baran...|      MS, MS, MS, MS|[NOUN, NOUN, PROP...|\n",
      "|cukup pembungkusa...|      MS, MS, MS, MS|[ADJ, NOUN, NOUN,...|\n",
      "|quality senang di...|          EN, MS, MS|  [PROPN, ADJ, VERB]|\n",
      "|daripada malaysia...| MS, MS, EN, MS, OOV|[ADP, NOUN, NOUN,...|\n",
      "|  quality yg berbeza|         EN, OOV, MS|  [PROPN, PRON, ADV]|\n",
      "|  gebu jahitan kemas|          MS, MS, MS|   [ADJ, NOUN, NOUN]|\n",
      "|        yg kemas xde|         OOV, MS, EN|  [PRON, NOUN, PART]|\n",
      "+--------------------+--------------------+--------------------+\n",
      "only showing top 20 rows\n",
      "\n"
     ]
    },
    {
     "name": "stderr",
     "output_type": "stream",
     "text": [
      "                                                                                \r"
     ]
    }
   ],
   "source": [
    "ms_pos_tag.toDF().show()"
   ]
  },
  {
   "cell_type": "code",
   "execution_count": 51,
   "id": "7d53537e-9f9e-4439-85d9-7bceb32c321a",
   "metadata": {
    "collapsed": true,
    "jupyter": {
     "outputs_hidden": true
    },
    "tags": []
   },
   "outputs": [
    {
     "name": "stderr",
     "output_type": "stream",
     "text": [
      "2022-10-11 13:09:22.812899: I tensorflow/core/platform/cpu_feature_guard.cc:193] This TensorFlow binary is optimized with oneAPI Deep Neural Network Library (oneDNN) to use the following CPU instructions in performance-critical operations:  AVX2 FMA\n",
      "To enable them in other operations, rebuild TensorFlow with the appropriate compiler flags.\n",
      "2022-10-11 13:09:22.826022: I tensorflow/core/platform/cpu_feature_guard.cc:193] This TensorFlow binary is optimized with oneAPI Deep Neural Network Library (oneDNN) to use the following CPU instructions in performance-critical operations:  AVX2 FMA\n",
      "To enable them in other operations, rebuild TensorFlow with the appropriate compiler flags.\n",
      "2022-10-11 13:09:22.828592: I tensorflow/core/platform/cpu_feature_guard.cc:193] This TensorFlow binary is optimized with oneAPI Deep Neural Network Library (oneDNN) to use the following CPU instructions in performance-critical operations:  AVX2 FMA\n",
      "To enable them in other operations, rebuild TensorFlow with the appropriate compiler flags.\n",
      "2022-10-11 13:09:22.839343: I tensorflow/core/platform/cpu_feature_guard.cc:193] This TensorFlow binary is optimized with oneAPI Deep Neural Network Library (oneDNN) to use the following CPU instructions in performance-critical operations:  AVX2 FMA\n",
      "To enable them in other operations, rebuild TensorFlow with the appropriate compiler flags.\n",
      "2022-10-11 13:09:22.840604: I tensorflow/core/platform/cpu_feature_guard.cc:193] This TensorFlow binary is optimized with oneAPI Deep Neural Network Library (oneDNN) to use the following CPU instructions in performance-critical operations:  AVX2 FMA\n",
      "To enable them in other operations, rebuild TensorFlow with the appropriate compiler flags.\n",
      "2022-10-11 13:09:22.850760: I tensorflow/core/platform/cpu_feature_guard.cc:193] This TensorFlow binary is optimized with oneAPI Deep Neural Network Library (oneDNN) to use the following CPU instructions in performance-critical operations:  AVX2 FMA\n",
      "To enable them in other operations, rebuild TensorFlow with the appropriate compiler flags.\n",
      "2022-10-11 13:09:22.850988: I tensorflow/core/platform/cpu_feature_guard.cc:193] This TensorFlow binary is optimized with oneAPI Deep Neural Network Library (oneDNN) to use the following CPU instructions in performance-critical operations:  AVX2 FMA\n",
      "To enable them in other operations, rebuild TensorFlow with the appropriate compiler flags.\n",
      "2022-10-11 13:09:22.851593: I tensorflow/core/platform/cpu_feature_guard.cc:193] This TensorFlow binary is optimized with oneAPI Deep Neural Network Library (oneDNN) to use the following CPU instructions in performance-critical operations:  AVX2 FMA\n",
      "To enable them in other operations, rebuild TensorFlow with the appropriate compiler flags.\n",
      "2022-10-11 13:09:22.884812: I tensorflow/core/platform/cpu_feature_guard.cc:193] This TensorFlow binary is optimized with oneAPI Deep Neural Network Library (oneDNN) to use the following CPU instructions in performance-critical operations:  AVX2 FMA\n",
      "To enable them in other operations, rebuild TensorFlow with the appropriate compiler flags.\n",
      "2022-10-11 13:09:22.896183: I tensorflow/core/platform/cpu_feature_guard.cc:193] This TensorFlow binary is optimized with oneAPI Deep Neural Network Library (oneDNN) to use the following CPU instructions in performance-critical operations:  AVX2 FMA\n",
      "To enable them in other operations, rebuild TensorFlow with the appropriate compiler flags.\n",
      "2022-10-11 13:09:22.897592: I tensorflow/core/platform/cpu_feature_guard.cc:193] This TensorFlow binary is optimized with oneAPI Deep Neural Network Library (oneDNN) to use the following CPU instructions in performance-critical operations:  AVX2 FMA\n",
      "To enable them in other operations, rebuild TensorFlow with the appropriate compiler flags.\n",
      "2022-10-11 13:09:22.905312: I tensorflow/core/platform/cpu_feature_guard.cc:193] This TensorFlow binary is optimized with oneAPI Deep Neural Network Library (oneDNN) to use the following CPU instructions in performance-critical operations:  AVX2 FMA\n",
      "To enable them in other operations, rebuild TensorFlow with the appropriate compiler flags.\n",
      "2022-10-11 13:09:22.909412: I tensorflow/core/platform/cpu_feature_guard.cc:193] This TensorFlow binary is optimized with oneAPI Deep Neural Network Library (oneDNN) to use the following CPU instructions in performance-critical operations:  AVX2 FMA\n",
      "To enable them in other operations, rebuild TensorFlow with the appropriate compiler flags.\n",
      "2022-10-11 13:09:22.918499: I tensorflow/core/platform/cpu_feature_guard.cc:193] This TensorFlow binary is optimized with oneAPI Deep Neural Network Library (oneDNN) to use the following CPU instructions in performance-critical operations:  AVX2 FMA\n",
      "To enable them in other operations, rebuild TensorFlow with the appropriate compiler flags.\n",
      "2022-10-11 13:09:22.922397: I tensorflow/core/platform/cpu_feature_guard.cc:193] This TensorFlow binary is optimized with oneAPI Deep Neural Network Library (oneDNN) to use the following CPU instructions in performance-critical operations:  AVX2 FMA\n",
      "To enable them in other operations, rebuild TensorFlow with the appropriate compiler flags.\n",
      "2022-10-11 13:09:22.925541: I tensorflow/core/platform/cpu_feature_guard.cc:193] This TensorFlow binary is optimized with oneAPI Deep Neural Network Library (oneDNN) to use the following CPU instructions in performance-critical operations:  AVX2 FMA\n",
      "To enable them in other operations, rebuild TensorFlow with the appropriate compiler flags.\n",
      "2022-10-11 13:09:22.927856: I tensorflow/core/platform/cpu_feature_guard.cc:193] This TensorFlow binary is optimized with oneAPI Deep Neural Network Library (oneDNN) to use the following CPU instructions in performance-critical operations:  AVX2 FMA\n",
      "To enable them in other operations, rebuild TensorFlow with the appropriate compiler flags.\n",
      "2022-10-11 13:09:22.933776: I tensorflow/core/platform/cpu_feature_guard.cc:193] This TensorFlow binary is optimized with oneAPI Deep Neural Network Library (oneDNN) to use the following CPU instructions in performance-critical operations:  AVX2 FMA\n",
      "To enable them in other operations, rebuild TensorFlow with the appropriate compiler flags.\n",
      "2022-10-11 13:09:22.934197: I tensorflow/core/platform/cpu_feature_guard.cc:193] This TensorFlow binary is optimized with oneAPI Deep Neural Network Library (oneDNN) to use the following CPU instructions in performance-critical operations:  AVX2 FMA\n",
      "To enable them in other operations, rebuild TensorFlow with the appropriate compiler flags.\n",
      "2022-10-11 13:09:22.939797: I tensorflow/core/platform/cpu_feature_guard.cc:193] This TensorFlow binary is optimized with oneAPI Deep Neural Network Library (oneDNN) to use the following CPU instructions in performance-critical operations:  AVX2 FMA\n",
      "To enable them in other operations, rebuild TensorFlow with the appropriate compiler flags.\n",
      "2022-10-11 13:09:22.942385: I tensorflow/core/platform/cpu_feature_guard.cc:193] This TensorFlow binary is optimized with oneAPI Deep Neural Network Library (oneDNN) to use the following CPU instructions in performance-critical operations:  AVX2 FMA\n",
      "To enable them in other operations, rebuild TensorFlow with the appropriate compiler flags.\n",
      "2022-10-11 13:09:22.947663: I tensorflow/core/platform/cpu_feature_guard.cc:193] This TensorFlow binary is optimized with oneAPI Deep Neural Network Library (oneDNN) to use the following CPU instructions in performance-critical operations:  AVX2 FMA\n",
      "To enable them in other operations, rebuild TensorFlow with the appropriate compiler flags.\n",
      "/home/pc/g5_env_tf/lib/python3.9/site-packages/malaya_boilerplate/frozen_graph.py:35: UserWarning: Cannot import beam_search_ops from Tensorflow Addons, ['malaya.jawi_rumi.deep_model', 'malaya.phoneme.deep_model', 'malaya.rumi_jawi.deep_model', 'malaya.stem.deep_model'] will not available to use, make sure Tensorflow Addons version >= 0.12.0\n",
      "  warnings.warn(\n",
      "/home/pc/g5_env_tf/lib/python3.9/site-packages/malaya_boilerplate/frozen_graph.py:38: UserWarning: check compatible Tensorflow version with Tensorflow Addons at https://github.com/tensorflow/addons/releases\n",
      "  warnings.warn(\n",
      "/home/pc/g5_env_tf/lib/python3.9/site-packages/malaya_boilerplate/frozen_graph.py:35: UserWarning: Cannot import beam_search_ops from Tensorflow Addons, ['malaya.jawi_rumi.deep_model', 'malaya.phoneme.deep_model', 'malaya.rumi_jawi.deep_model', 'malaya.stem.deep_model'] will not available to use, make sure Tensorflow Addons version >= 0.12.0\n",
      "  warnings.warn(\n",
      "/home/pc/g5_env_tf/lib/python3.9/site-packages/malaya_boilerplate/frozen_graph.py:38: UserWarning: check compatible Tensorflow version with Tensorflow Addons at https://github.com/tensorflow/addons/releases\n",
      "  warnings.warn(\n",
      "/home/pc/g5_env_tf/lib/python3.9/site-packages/malaya_boilerplate/frozen_graph.py:35: UserWarning: Cannot import beam_search_ops from Tensorflow Addons, ['malaya.jawi_rumi.deep_model', 'malaya.phoneme.deep_model', 'malaya.rumi_jawi.deep_model', 'malaya.stem.deep_model'] will not available to use, make sure Tensorflow Addons version >= 0.12.0\n",
      "  warnings.warn(\n",
      "/home/pc/g5_env_tf/lib/python3.9/site-packages/malaya_boilerplate/frozen_graph.py:38: UserWarning: check compatible Tensorflow version with Tensorflow Addons at https://github.com/tensorflow/addons/releases\n",
      "  warnings.warn(\n",
      "/home/pc/g5_env_tf/lib/python3.9/site-packages/malaya_boilerplate/frozen_graph.py:35: UserWarning: Cannot import beam_search_ops from Tensorflow Addons, ['malaya.jawi_rumi.deep_model', 'malaya.phoneme.deep_model', 'malaya.rumi_jawi.deep_model', 'malaya.stem.deep_model'] will not available to use, make sure Tensorflow Addons version >= 0.12.0\n",
      "  warnings.warn(\n",
      "/home/pc/g5_env_tf/lib/python3.9/site-packages/malaya_boilerplate/frozen_graph.py:38: UserWarning: check compatible Tensorflow version with Tensorflow Addons at https://github.com/tensorflow/addons/releases\n",
      "  warnings.warn(\n",
      "/home/pc/g5_env_tf/lib/python3.9/site-packages/malaya_boilerplate/frozen_graph.py:35: UserWarning: Cannot import beam_search_ops from Tensorflow Addons, ['malaya.jawi_rumi.deep_model', 'malaya.phoneme.deep_model', 'malaya.rumi_jawi.deep_model', 'malaya.stem.deep_model'] will not available to use, make sure Tensorflow Addons version >= 0.12.0\n",
      "  warnings.warn(\n",
      "/home/pc/g5_env_tf/lib/python3.9/site-packages/malaya_boilerplate/frozen_graph.py:38: UserWarning: check compatible Tensorflow version with Tensorflow Addons at https://github.com/tensorflow/addons/releases\n",
      "  warnings.warn(\n",
      "/home/pc/g5_env_tf/lib/python3.9/site-packages/malaya_boilerplate/frozen_graph.py:35: UserWarning: Cannot import beam_search_ops from Tensorflow Addons, ['malaya.jawi_rumi.deep_model', 'malaya.phoneme.deep_model', 'malaya.rumi_jawi.deep_model', 'malaya.stem.deep_model'] will not available to use, make sure Tensorflow Addons version >= 0.12.0\n",
      "  warnings.warn(\n",
      "/home/pc/g5_env_tf/lib/python3.9/site-packages/malaya_boilerplate/frozen_graph.py:38: UserWarning: check compatible Tensorflow version with Tensorflow Addons at https://github.com/tensorflow/addons/releases\n",
      "  warnings.warn(\n",
      "/home/pc/g5_env_tf/lib/python3.9/site-packages/malaya_boilerplate/frozen_graph.py:35: UserWarning: Cannot import beam_search_ops from Tensorflow Addons, ['malaya.jawi_rumi.deep_model', 'malaya.phoneme.deep_model', 'malaya.rumi_jawi.deep_model', 'malaya.stem.deep_model'] will not available to use, make sure Tensorflow Addons version >= 0.12.0\n",
      "  warnings.warn(\n",
      "/home/pc/g5_env_tf/lib/python3.9/site-packages/malaya_boilerplate/frozen_graph.py:38: UserWarning: check compatible Tensorflow version with Tensorflow Addons at https://github.com/tensorflow/addons/releases\n",
      "  warnings.warn(\n",
      "/home/pc/g5_env_tf/lib/python3.9/site-packages/malaya_boilerplate/frozen_graph.py:35: UserWarning: Cannot import beam_search_ops from Tensorflow Addons, ['malaya.jawi_rumi.deep_model', 'malaya.phoneme.deep_model', 'malaya.rumi_jawi.deep_model', 'malaya.stem.deep_model'] will not available to use, make sure Tensorflow Addons version >= 0.12.0\n",
      "  warnings.warn(\n",
      "/home/pc/g5_env_tf/lib/python3.9/site-packages/malaya_boilerplate/frozen_graph.py:38: UserWarning: check compatible Tensorflow version with Tensorflow Addons at https://github.com/tensorflow/addons/releases\n",
      "  warnings.warn(\n",
      "/home/pc/g5_env_tf/lib/python3.9/site-packages/malaya_boilerplate/frozen_graph.py:35: UserWarning: Cannot import beam_search_ops from Tensorflow Addons, ['malaya.jawi_rumi.deep_model', 'malaya.phoneme.deep_model', 'malaya.rumi_jawi.deep_model', 'malaya.stem.deep_model'] will not available to use, make sure Tensorflow Addons version >= 0.12.0\n",
      "  warnings.warn(\n",
      "/home/pc/g5_env_tf/lib/python3.9/site-packages/malaya_boilerplate/frozen_graph.py:38: UserWarning: check compatible Tensorflow version with Tensorflow Addons at https://github.com/tensorflow/addons/releases\n",
      "  warnings.warn(\n",
      "/home/pc/g5_env_tf/lib/python3.9/site-packages/malaya_boilerplate/frozen_graph.py:35: UserWarning: Cannot import beam_search_ops from Tensorflow Addons, ['malaya.jawi_rumi.deep_model', 'malaya.phoneme.deep_model', 'malaya.rumi_jawi.deep_model', 'malaya.stem.deep_model'] will not available to use, make sure Tensorflow Addons version >= 0.12.0\n",
      "  warnings.warn(\n",
      "/home/pc/g5_env_tf/lib/python3.9/site-packages/malaya_boilerplate/frozen_graph.py:38: UserWarning: check compatible Tensorflow version with Tensorflow Addons at https://github.com/tensorflow/addons/releases\n",
      "  warnings.warn(\n",
      "/home/pc/g5_env_tf/lib/python3.9/site-packages/malaya_boilerplate/frozen_graph.py:35: UserWarning: Cannot import beam_search_ops from Tensorflow Addons, ['malaya.jawi_rumi.deep_model', 'malaya.phoneme.deep_model', 'malaya.rumi_jawi.deep_model', 'malaya.stem.deep_model'] will not available to use, make sure Tensorflow Addons version >= 0.12.0\n",
      "  warnings.warn(\n",
      "/home/pc/g5_env_tf/lib/python3.9/site-packages/malaya_boilerplate/frozen_graph.py:38: UserWarning: check compatible Tensorflow version with Tensorflow Addons at https://github.com/tensorflow/addons/releases\n",
      "  warnings.warn(\n",
      "/home/pc/g5_env_tf/lib/python3.9/site-packages/malaya_boilerplate/frozen_graph.py:35: UserWarning: Cannot import beam_search_ops from Tensorflow Addons, ['malaya.jawi_rumi.deep_model', 'malaya.phoneme.deep_model', 'malaya.rumi_jawi.deep_model', 'malaya.stem.deep_model'] will not available to use, make sure Tensorflow Addons version >= 0.12.0\n",
      "  warnings.warn(\n",
      "/home/pc/g5_env_tf/lib/python3.9/site-packages/malaya_boilerplate/frozen_graph.py:38: UserWarning: check compatible Tensorflow version with Tensorflow Addons at https://github.com/tensorflow/addons/releases\n",
      "  warnings.warn(\n",
      "/home/pc/g5_env_tf/lib/python3.9/site-packages/malaya_boilerplate/frozen_graph.py:35: UserWarning: Cannot import beam_search_ops from Tensorflow Addons, ['malaya.jawi_rumi.deep_model', 'malaya.phoneme.deep_model', 'malaya.rumi_jawi.deep_model', 'malaya.stem.deep_model'] will not available to use, make sure Tensorflow Addons version >= 0.12.0\n",
      "  warnings.warn(\n",
      "/home/pc/g5_env_tf/lib/python3.9/site-packages/malaya_boilerplate/frozen_graph.py:38: UserWarning: check compatible Tensorflow version with Tensorflow Addons at https://github.com/tensorflow/addons/releases\n",
      "  warnings.warn(\n",
      "/home/pc/g5_env_tf/lib/python3.9/site-packages/malaya_boilerplate/frozen_graph.py:35: UserWarning: Cannot import beam_search_ops from Tensorflow Addons, ['malaya.jawi_rumi.deep_model', 'malaya.phoneme.deep_model', 'malaya.rumi_jawi.deep_model', 'malaya.stem.deep_model'] will not available to use, make sure Tensorflow Addons version >= 0.12.0\n",
      "  warnings.warn(\n",
      "/home/pc/g5_env_tf/lib/python3.9/site-packages/malaya_boilerplate/frozen_graph.py:38: UserWarning: check compatible Tensorflow version with Tensorflow Addons at https://github.com/tensorflow/addons/releases\n",
      "  warnings.warn(\n",
      "/home/pc/g5_env_tf/lib/python3.9/site-packages/malaya_boilerplate/frozen_graph.py:35: UserWarning: Cannot import beam_search_ops from Tensorflow Addons, ['malaya.jawi_rumi.deep_model', 'malaya.phoneme.deep_model', 'malaya.rumi_jawi.deep_model', 'malaya.stem.deep_model'] will not available to use, make sure Tensorflow Addons version >= 0.12.0\n",
      "  warnings.warn(\n",
      "/home/pc/g5_env_tf/lib/python3.9/site-packages/malaya_boilerplate/frozen_graph.py:38: UserWarning: check compatible Tensorflow version with Tensorflow Addons at https://github.com/tensorflow/addons/releases\n",
      "  warnings.warn(\n",
      "/home/pc/g5_env_tf/lib/python3.9/site-packages/malaya_boilerplate/frozen_graph.py:35: UserWarning: Cannot import beam_search_ops from Tensorflow Addons, ['malaya.jawi_rumi.deep_model', 'malaya.phoneme.deep_model', 'malaya.rumi_jawi.deep_model', 'malaya.stem.deep_model'] will not available to use, make sure Tensorflow Addons version >= 0.12.0\n",
      "  warnings.warn(\n",
      "/home/pc/g5_env_tf/lib/python3.9/site-packages/malaya_boilerplate/frozen_graph.py:38: UserWarning: check compatible Tensorflow version with Tensorflow Addons at https://github.com/tensorflow/addons/releases\n",
      "  warnings.warn(\n",
      "/home/pc/g5_env_tf/lib/python3.9/site-packages/malaya_boilerplate/frozen_graph.py:35: UserWarning: Cannot import beam_search_ops from Tensorflow Addons, ['malaya.jawi_rumi.deep_model', 'malaya.phoneme.deep_model', 'malaya.rumi_jawi.deep_model', 'malaya.stem.deep_model'] will not available to use, make sure Tensorflow Addons version >= 0.12.0\n",
      "  warnings.warn(\n",
      "/home/pc/g5_env_tf/lib/python3.9/site-packages/malaya_boilerplate/frozen_graph.py:38: UserWarning: check compatible Tensorflow version with Tensorflow Addons at https://github.com/tensorflow/addons/releases\n",
      "  warnings.warn(\n",
      "/home/pc/g5_env_tf/lib/python3.9/site-packages/malaya_boilerplate/frozen_graph.py:35: UserWarning: Cannot import beam_search_ops from Tensorflow Addons, ['malaya.jawi_rumi.deep_model', 'malaya.phoneme.deep_model', 'malaya.rumi_jawi.deep_model', 'malaya.stem.deep_model'] will not available to use, make sure Tensorflow Addons version >= 0.12.0\n",
      "  warnings.warn(\n",
      "/home/pc/g5_env_tf/lib/python3.9/site-packages/malaya_boilerplate/frozen_graph.py:38: UserWarning: check compatible Tensorflow version with Tensorflow Addons at https://github.com/tensorflow/addons/releases\n",
      "  warnings.warn(\n",
      "/home/pc/g5_env_tf/lib/python3.9/site-packages/malaya_boilerplate/frozen_graph.py:35: UserWarning: Cannot import beam_search_ops from Tensorflow Addons, ['malaya.jawi_rumi.deep_model', 'malaya.phoneme.deep_model', 'malaya.rumi_jawi.deep_model', 'malaya.stem.deep_model'] will not available to use, make sure Tensorflow Addons version >= 0.12.0\n",
      "  warnings.warn(\n",
      "/home/pc/g5_env_tf/lib/python3.9/site-packages/malaya_boilerplate/frozen_graph.py:38: UserWarning: check compatible Tensorflow version with Tensorflow Addons at https://github.com/tensorflow/addons/releases\n",
      "  warnings.warn(\n",
      "/home/pc/g5_env_tf/lib/python3.9/site-packages/malaya_boilerplate/frozen_graph.py:35: UserWarning: Cannot import beam_search_ops from Tensorflow Addons, ['malaya.jawi_rumi.deep_model', 'malaya.phoneme.deep_model', 'malaya.rumi_jawi.deep_model', 'malaya.stem.deep_model'] will not available to use, make sure Tensorflow Addons version >= 0.12.0\n",
      "  warnings.warn(\n",
      "/home/pc/g5_env_tf/lib/python3.9/site-packages/malaya_boilerplate/frozen_graph.py:38: UserWarning: check compatible Tensorflow version with Tensorflow Addons at https://github.com/tensorflow/addons/releases\n",
      "  warnings.warn(\n",
      "/home/pc/g5_env_tf/lib/python3.9/site-packages/malaya_boilerplate/frozen_graph.py:35: UserWarning: Cannot import beam_search_ops from Tensorflow Addons, ['malaya.jawi_rumi.deep_model', 'malaya.phoneme.deep_model', 'malaya.rumi_jawi.deep_model', 'malaya.stem.deep_model'] will not available to use, make sure Tensorflow Addons version >= 0.12.0\n",
      "  warnings.warn(\n",
      "/home/pc/g5_env_tf/lib/python3.9/site-packages/malaya_boilerplate/frozen_graph.py:38: UserWarning: check compatible Tensorflow version with Tensorflow Addons at https://github.com/tensorflow/addons/releases\n",
      "  warnings.warn(\n",
      "/home/pc/g5_env_tf/lib/python3.9/site-packages/malaya_boilerplate/frozen_graph.py:35: UserWarning: Cannot import beam_search_ops from Tensorflow Addons, ['malaya.jawi_rumi.deep_model', 'malaya.phoneme.deep_model', 'malaya.rumi_jawi.deep_model', 'malaya.stem.deep_model'] will not available to use, make sure Tensorflow Addons version >= 0.12.0\n",
      "  warnings.warn(\n",
      "/home/pc/g5_env_tf/lib/python3.9/site-packages/malaya_boilerplate/frozen_graph.py:38: UserWarning: check compatible Tensorflow version with Tensorflow Addons at https://github.com/tensorflow/addons/releases\n",
      "  warnings.warn(\n",
      "/home/pc/g5_env_tf/lib/python3.9/site-packages/malaya/tokenizer.py:202: FutureWarning: Possible nested set at position 3361\n",
      "  self.tok = re.compile(r'({})'.format('|'.join(pipeline)))\n",
      "/home/pc/g5_env_tf/lib/python3.9/site-packages/malaya/tokenizer.py:202: FutureWarning: Possible nested set at position 3879\n",
      "  self.tok = re.compile(r'({})'.format('|'.join(pipeline)))\n",
      "/home/pc/g5_env_tf/lib/python3.9/site-packages/malaya/tokenizer.py:202: FutureWarning: Possible nested set at position 3361\n",
      "  self.tok = re.compile(r'({})'.format('|'.join(pipeline)))\n",
      "/home/pc/g5_env_tf/lib/python3.9/site-packages/malaya/tokenizer.py:202: FutureWarning: Possible nested set at position 3879\n",
      "  self.tok = re.compile(r'({})'.format('|'.join(pipeline)))\n",
      "/home/pc/g5_env_tf/lib/python3.9/site-packages/malaya/tokenizer.py:202: FutureWarning: Possible nested set at position 3361\n",
      "  self.tok = re.compile(r'({})'.format('|'.join(pipeline)))\n",
      "/home/pc/g5_env_tf/lib/python3.9/site-packages/malaya/tokenizer.py:202: FutureWarning: Possible nested set at position 3879\n",
      "  self.tok = re.compile(r'({})'.format('|'.join(pipeline)))\n",
      "/home/pc/g5_env_tf/lib/python3.9/site-packages/malaya/tokenizer.py:202: FutureWarning: Possible nested set at position 3361\n",
      "  self.tok = re.compile(r'({})'.format('|'.join(pipeline)))\n",
      "/home/pc/g5_env_tf/lib/python3.9/site-packages/malaya/tokenizer.py:202: FutureWarning: Possible nested set at position 3879\n",
      "  self.tok = re.compile(r'({})'.format('|'.join(pipeline)))\n",
      "/home/pc/g5_env_tf/lib/python3.9/site-packages/malaya/tokenizer.py:202: FutureWarning: Possible nested set at position 3361\n",
      "  self.tok = re.compile(r'({})'.format('|'.join(pipeline)))\n",
      "/home/pc/g5_env_tf/lib/python3.9/site-packages/malaya/tokenizer.py:202: FutureWarning: Possible nested set at position 3879\n",
      "  self.tok = re.compile(r'({})'.format('|'.join(pipeline)))\n",
      "/home/pc/g5_env_tf/lib/python3.9/site-packages/malaya/tokenizer.py:202: FutureWarning: Possible nested set at position 3361\n",
      "  self.tok = re.compile(r'({})'.format('|'.join(pipeline)))\n",
      "/home/pc/g5_env_tf/lib/python3.9/site-packages/malaya/tokenizer.py:202: FutureWarning: Possible nested set at position 3879\n",
      "  self.tok = re.compile(r'({})'.format('|'.join(pipeline)))\n",
      "/home/pc/g5_env_tf/lib/python3.9/site-packages/malaya/tokenizer.py:202: FutureWarning: Possible nested set at position 3361\n",
      "  self.tok = re.compile(r'({})'.format('|'.join(pipeline)))\n",
      "/home/pc/g5_env_tf/lib/python3.9/site-packages/malaya/tokenizer.py:202: FutureWarning: Possible nested set at position 3879\n",
      "  self.tok = re.compile(r'({})'.format('|'.join(pipeline)))\n",
      "/home/pc/g5_env_tf/lib/python3.9/site-packages/malaya/tokenizer.py:202: FutureWarning: Possible nested set at position 3361\n",
      "  self.tok = re.compile(r'({})'.format('|'.join(pipeline)))\n",
      "/home/pc/g5_env_tf/lib/python3.9/site-packages/malaya/tokenizer.py:202: FutureWarning: Possible nested set at position 3879\n",
      "  self.tok = re.compile(r'({})'.format('|'.join(pipeline)))\n",
      "/home/pc/g5_env_tf/lib/python3.9/site-packages/malaya/tokenizer.py:202: FutureWarning: Possible nested set at position 3361\n",
      "  self.tok = re.compile(r'({})'.format('|'.join(pipeline)))\n",
      "/home/pc/g5_env_tf/lib/python3.9/site-packages/malaya/tokenizer.py:202: FutureWarning: Possible nested set at position 3879\n",
      "  self.tok = re.compile(r'({})'.format('|'.join(pipeline)))\n",
      "/home/pc/g5_env_tf/lib/python3.9/site-packages/malaya/tokenizer.py:202: FutureWarning: Possible nested set at position 3361\n",
      "  self.tok = re.compile(r'({})'.format('|'.join(pipeline)))\n",
      "/home/pc/g5_env_tf/lib/python3.9/site-packages/malaya/tokenizer.py:202: FutureWarning: Possible nested set at position 3879\n",
      "  self.tok = re.compile(r'({})'.format('|'.join(pipeline)))\n",
      "/home/pc/g5_env_tf/lib/python3.9/site-packages/malaya/tokenizer.py:202: FutureWarning: Possible nested set at position 3361\n",
      "  self.tok = re.compile(r'({})'.format('|'.join(pipeline)))\n",
      "/home/pc/g5_env_tf/lib/python3.9/site-packages/malaya/tokenizer.py:202: FutureWarning: Possible nested set at position 3879\n",
      "  self.tok = re.compile(r'({})'.format('|'.join(pipeline)))\n",
      "/home/pc/g5_env_tf/lib/python3.9/site-packages/malaya/tokenizer.py:202: FutureWarning: Possible nested set at position 3361\n",
      "  self.tok = re.compile(r'({})'.format('|'.join(pipeline)))\n",
      "/home/pc/g5_env_tf/lib/python3.9/site-packages/malaya/tokenizer.py:202: FutureWarning: Possible nested set at position 3879\n",
      "  self.tok = re.compile(r'({})'.format('|'.join(pipeline)))\n",
      "/home/pc/g5_env_tf/lib/python3.9/site-packages/malaya/tokenizer.py:202: FutureWarning: Possible nested set at position 3361\n",
      "  self.tok = re.compile(r'({})'.format('|'.join(pipeline)))\n",
      "/home/pc/g5_env_tf/lib/python3.9/site-packages/malaya/tokenizer.py:202: FutureWarning: Possible nested set at position 3879\n",
      "  self.tok = re.compile(r'({})'.format('|'.join(pipeline)))\n",
      "/home/pc/g5_env_tf/lib/python3.9/site-packages/malaya/tokenizer.py:202: FutureWarning: Possible nested set at position 3361\n",
      "  self.tok = re.compile(r'({})'.format('|'.join(pipeline)))\n",
      "/home/pc/g5_env_tf/lib/python3.9/site-packages/malaya/tokenizer.py:202: FutureWarning: Possible nested set at position 3879\n",
      "  self.tok = re.compile(r'({})'.format('|'.join(pipeline)))\n",
      "/home/pc/g5_env_tf/lib/python3.9/site-packages/malaya/tokenizer.py:202: FutureWarning: Possible nested set at position 3361\n",
      "  self.tok = re.compile(r'({})'.format('|'.join(pipeline)))\n",
      "/home/pc/g5_env_tf/lib/python3.9/site-packages/malaya/tokenizer.py:202: FutureWarning: Possible nested set at position 3879\n",
      "  self.tok = re.compile(r'({})'.format('|'.join(pipeline)))\n",
      "/home/pc/g5_env_tf/lib/python3.9/site-packages/malaya/tokenizer.py:202: FutureWarning: Possible nested set at position 3361\n",
      "  self.tok = re.compile(r'({})'.format('|'.join(pipeline)))\n",
      "/home/pc/g5_env_tf/lib/python3.9/site-packages/malaya/tokenizer.py:202: FutureWarning: Possible nested set at position 3879\n",
      "  self.tok = re.compile(r'({})'.format('|'.join(pipeline)))\n",
      "/home/pc/g5_env_tf/lib/python3.9/site-packages/malaya/tokenizer.py:202: FutureWarning: Possible nested set at position 3361\n",
      "  self.tok = re.compile(r'({})'.format('|'.join(pipeline)))\n",
      "/home/pc/g5_env_tf/lib/python3.9/site-packages/malaya/tokenizer.py:202: FutureWarning: Possible nested set at position 3879\n",
      "  self.tok = re.compile(r'({})'.format('|'.join(pipeline)))\n",
      "/home/pc/g5_env_tf/lib/python3.9/site-packages/malaya/tokenizer.py:202: FutureWarning: Possible nested set at position 3361\n",
      "  self.tok = re.compile(r'({})'.format('|'.join(pipeline)))\n",
      "/home/pc/g5_env_tf/lib/python3.9/site-packages/malaya/tokenizer.py:202: FutureWarning: Possible nested set at position 3879\n",
      "  self.tok = re.compile(r'({})'.format('|'.join(pipeline)))\n",
      "/home/pc/g5_env_tf/lib/python3.9/site-packages/malaya/tokenizer.py:202: FutureWarning: Possible nested set at position 3361\n",
      "  self.tok = re.compile(r'({})'.format('|'.join(pipeline)))\n",
      "/home/pc/g5_env_tf/lib/python3.9/site-packages/malaya/tokenizer.py:202: FutureWarning: Possible nested set at position 3879\n",
      "  self.tok = re.compile(r'({})'.format('|'.join(pipeline)))\n",
      "/home/pc/g5_env_tf/lib/python3.9/site-packages/malaya/tokenizer.py:202: FutureWarning: Possible nested set at position 3361\n",
      "  self.tok = re.compile(r'({})'.format('|'.join(pipeline)))\n",
      "/home/pc/g5_env_tf/lib/python3.9/site-packages/malaya/tokenizer.py:202: FutureWarning: Possible nested set at position 3361\n",
      "  self.tok = re.compile(r'({})'.format('|'.join(pipeline)))\n",
      "/home/pc/g5_env_tf/lib/python3.9/site-packages/malaya/tokenizer.py:202: FutureWarning: Possible nested set at position 3879\n",
      "  self.tok = re.compile(r'({})'.format('|'.join(pipeline)))\n",
      "/home/pc/g5_env_tf/lib/python3.9/site-packages/malaya/tokenizer.py:202: FutureWarning: Possible nested set at position 3879\n",
      "  self.tok = re.compile(r'({})'.format('|'.join(pipeline)))\n",
      "/home/pc/g5_env_tf/lib/python3.9/site-packages/malaya/tokenizer.py:202: FutureWarning: Possible nested set at position 3361\n",
      "  self.tok = re.compile(r'({})'.format('|'.join(pipeline)))\n",
      "/home/pc/g5_env_tf/lib/python3.9/site-packages/malaya/tokenizer.py:202: FutureWarning: Possible nested set at position 3879\n",
      "  self.tok = re.compile(r'({})'.format('|'.join(pipeline)))\n",
      "Load quantized model will cause accuracy drop.\n",
      "Load quantized model will cause accuracy drop.\n",
      "Load quantized model will cause accuracy drop.\n",
      "Load quantized model will cause accuracy drop.\n",
      "Load quantized model will cause accuracy drop.\n",
      "Load quantized model will cause accuracy drop.\n",
      "Load quantized model will cause accuracy drop.\n",
      "Load quantized model will cause accuracy drop.\n",
      "Load quantized model will cause accuracy drop.\n",
      "Load quantized model will cause accuracy drop.\n",
      "Load quantized model will cause accuracy drop.\n",
      "Load quantized model will cause accuracy drop.\n",
      "Load quantized model will cause accuracy drop.\n",
      "Load quantized model will cause accuracy drop.\n",
      "Load quantized model will cause accuracy drop.\n",
      "Load quantized model will cause accuracy drop.\n",
      "Load quantized model will cause accuracy drop.\n",
      "Load quantized model will cause accuracy drop.\n",
      "Load quantized model will cause accuracy drop.\n",
      "Load quantized model will cause accuracy drop.\n",
      "Load quantized model will cause accuracy drop.\n",
      "Load quantized model will cause accuracy drop.\n",
      "2022-10-11 13:09:31.348983: I tensorflow/core/platform/cpu_feature_guard.cc:193] This TensorFlow binary is optimized with oneAPI Deep Neural Network Library (oneDNN) to use the following CPU instructions in performance-critical operations:  AVX2 FMA\n",
      "To enable them in other operations, rebuild TensorFlow with the appropriate compiler flags.\n",
      "2022-10-11 13:09:31.382352: I tensorflow/core/platform/cpu_feature_guard.cc:193] This TensorFlow binary is optimized with oneAPI Deep Neural Network Library (oneDNN) to use the following CPU instructions in performance-critical operations:  AVX2 FMA\n",
      "To enable them in other operations, rebuild TensorFlow with the appropriate compiler flags.\n",
      "2022-10-11 13:09:31.403022: I tensorflow/core/platform/cpu_feature_guard.cc:193] This TensorFlow binary is optimized with oneAPI Deep Neural Network Library (oneDNN) to use the following CPU instructions in performance-critical operations:  AVX2 FMA\n",
      "To enable them in other operations, rebuild TensorFlow with the appropriate compiler flags.\n",
      "2022-10-11 13:09:31.458454: I tensorflow/core/platform/cpu_feature_guard.cc:193] This TensorFlow binary is optimized with oneAPI Deep Neural Network Library (oneDNN) to use the following CPU instructions in performance-critical operations:  AVX2 FMA\n",
      "To enable them in other operations, rebuild TensorFlow with the appropriate compiler flags.\n",
      "2022-10-11 13:09:31.461656: I tensorflow/core/platform/cpu_feature_guard.cc:193] This TensorFlow binary is optimized with oneAPI Deep Neural Network Library (oneDNN) to use the following CPU instructions in performance-critical operations:  AVX2 FMA\n",
      "To enable them in other operations, rebuild TensorFlow with the appropriate compiler flags.\n",
      "2022-10-11 13:09:31.464715: I tensorflow/core/platform/cpu_feature_guard.cc:193] This TensorFlow binary is optimized with oneAPI Deep Neural Network Library (oneDNN) to use the following CPU instructions in performance-critical operations:  AVX2 FMA\n",
      "To enable them in other operations, rebuild TensorFlow with the appropriate compiler flags.\n",
      "2022-10-11 13:09:31.481245: I tensorflow/core/platform/cpu_feature_guard.cc:193] This TensorFlow binary is optimized with oneAPI Deep Neural Network Library (oneDNN) to use the following CPU instructions in performance-critical operations:  AVX2 FMA\n",
      "To enable them in other operations, rebuild TensorFlow with the appropriate compiler flags.\n",
      "2022-10-11 13:09:31.495659: I tensorflow/core/platform/cpu_feature_guard.cc:193] This TensorFlow binary is optimized with oneAPI Deep Neural Network Library (oneDNN) to use the following CPU instructions in performance-critical operations:  AVX2 FMA\n",
      "To enable them in other operations, rebuild TensorFlow with the appropriate compiler flags.\n",
      "2022-10-11 13:09:31.508693: I tensorflow/core/platform/cpu_feature_guard.cc:193] This TensorFlow binary is optimized with oneAPI Deep Neural Network Library (oneDNN) to use the following CPU instructions in performance-critical operations:  AVX2 FMA\n",
      "To enable them in other operations, rebuild TensorFlow with the appropriate compiler flags.\n",
      "2022-10-11 13:09:31.515399: I tensorflow/core/platform/cpu_feature_guard.cc:193] This TensorFlow binary is optimized with oneAPI Deep Neural Network Library (oneDNN) to use the following CPU instructions in performance-critical operations:  AVX2 FMA\n",
      "To enable them in other operations, rebuild TensorFlow with the appropriate compiler flags.\n",
      "2022-10-11 13:09:31.522919: I tensorflow/core/platform/cpu_feature_guard.cc:193] This TensorFlow binary is optimized with oneAPI Deep Neural Network Library (oneDNN) to use the following CPU instructions in performance-critical operations:  AVX2 FMA\n",
      "To enable them in other operations, rebuild TensorFlow with the appropriate compiler flags.\n",
      "2022-10-11 13:09:31.528181: I tensorflow/core/platform/cpu_feature_guard.cc:193] This TensorFlow binary is optimized with oneAPI Deep Neural Network Library (oneDNN) to use the following CPU instructions in performance-critical operations:  AVX2 FMA\n",
      "To enable them in other operations, rebuild TensorFlow with the appropriate compiler flags.\n",
      "2022-10-11 13:09:31.540111: I tensorflow/core/platform/cpu_feature_guard.cc:193] This TensorFlow binary is optimized with oneAPI Deep Neural Network Library (oneDNN) to use the following CPU instructions in performance-critical operations:  AVX2 FMA\n",
      "To enable them in other operations, rebuild TensorFlow with the appropriate compiler flags.\n",
      "2022-10-11 13:09:31.541995: I tensorflow/core/platform/cpu_feature_guard.cc:193] This TensorFlow binary is optimized with oneAPI Deep Neural Network Library (oneDNN) to use the following CPU instructions in performance-critical operations:  AVX2 FMA\n",
      "To enable them in other operations, rebuild TensorFlow with the appropriate compiler flags.\n",
      "2022-10-11 13:09:31.543251: I tensorflow/core/platform/cpu_feature_guard.cc:193] This TensorFlow binary is optimized with oneAPI Deep Neural Network Library (oneDNN) to use the following CPU instructions in performance-critical operations:  AVX2 FMA\n",
      "To enable them in other operations, rebuild TensorFlow with the appropriate compiler flags.\n",
      "2022-10-11 13:09:31.552428: I tensorflow/core/platform/cpu_feature_guard.cc:193] This TensorFlow binary is optimized with oneAPI Deep Neural Network Library (oneDNN) to use the following CPU instructions in performance-critical operations:  AVX2 FMA\n",
      "To enable them in other operations, rebuild TensorFlow with the appropriate compiler flags.\n",
      "2022-10-11 13:09:31.561929: I tensorflow/core/platform/cpu_feature_guard.cc:193] This TensorFlow binary is optimized with oneAPI Deep Neural Network Library (oneDNN) to use the following CPU instructions in performance-critical operations:  AVX2 FMA\n",
      "To enable them in other operations, rebuild TensorFlow with the appropriate compiler flags.\n",
      "2022-10-11 13:09:31.571403: I tensorflow/core/platform/cpu_feature_guard.cc:193] This TensorFlow binary is optimized with oneAPI Deep Neural Network Library (oneDNN) to use the following CPU instructions in performance-critical operations:  AVX2 FMA\n",
      "To enable them in other operations, rebuild TensorFlow with the appropriate compiler flags.\n",
      "2022-10-11 13:09:31.589142: I tensorflow/core/platform/cpu_feature_guard.cc:193] This TensorFlow binary is optimized with oneAPI Deep Neural Network Library (oneDNN) to use the following CPU instructions in performance-critical operations:  AVX2 FMA\n",
      "To enable them in other operations, rebuild TensorFlow with the appropriate compiler flags.\n",
      "2022-10-11 13:09:31.626429: I tensorflow/core/platform/cpu_feature_guard.cc:193] This TensorFlow binary is optimized with oneAPI Deep Neural Network Library (oneDNN) to use the following CPU instructions in performance-critical operations:  AVX2 FMA\n",
      "To enable them in other operations, rebuild TensorFlow with the appropriate compiler flags.\n",
      "2022-10-11 13:09:31.631924: I tensorflow/core/platform/cpu_feature_guard.cc:193] This TensorFlow binary is optimized with oneAPI Deep Neural Network Library (oneDNN) to use the following CPU instructions in performance-critical operations:  AVX2 FMA\n",
      "To enable them in other operations, rebuild TensorFlow with the appropriate compiler flags.\n",
      "2022-10-11 13:09:31.643021: I tensorflow/core/platform/cpu_feature_guard.cc:193] This TensorFlow binary is optimized with oneAPI Deep Neural Network Library (oneDNN) to use the following CPU instructions in performance-critical operations:  AVX2 FMA\n",
      "To enable them in other operations, rebuild TensorFlow with the appropriate compiler flags.\n",
      "2022-10-11 13:09:32.564484: I tensorflow/compiler/mlir/mlir_graph_optimization_pass.cc:354] MLIR V1 optimization pass is not enabled\n",
      "2022-10-11 13:09:32.566002: I tensorflow/compiler/mlir/mlir_graph_optimization_pass.cc:354] MLIR V1 optimization pass is not enabled\n",
      "2022-10-11 13:09:32.622570: I tensorflow/compiler/mlir/mlir_graph_optimization_pass.cc:354] MLIR V1 optimization pass is not enabled\n",
      "2022-10-11 13:09:32.742727: I tensorflow/compiler/mlir/mlir_graph_optimization_pass.cc:354] MLIR V1 optimization pass is not enabled\n",
      "2022-10-11 13:09:32.746873: I tensorflow/compiler/mlir/mlir_graph_optimization_pass.cc:354] MLIR V1 optimization pass is not enabled\n",
      "2022-10-11 13:09:32.748986: I tensorflow/compiler/mlir/mlir_graph_optimization_pass.cc:354] MLIR V1 optimization pass is not enabled\n",
      "2022-10-11 13:09:32.750703: I tensorflow/compiler/mlir/mlir_graph_optimization_pass.cc:354] MLIR V1 optimization pass is not enabled\n",
      "2022-10-11 13:09:32.762098: I tensorflow/compiler/mlir/mlir_graph_optimization_pass.cc:354] MLIR V1 optimization pass is not enabled\n",
      "2022-10-11 13:09:32.801932: I tensorflow/compiler/mlir/mlir_graph_optimization_pass.cc:354] MLIR V1 optimization pass is not enabled\n",
      "2022-10-11 13:09:32.802566: I tensorflow/compiler/mlir/mlir_graph_optimization_pass.cc:354] MLIR V1 optimization pass is not enabled\n",
      "2022-10-11 13:09:32.813359: I tensorflow/compiler/mlir/mlir_graph_optimization_pass.cc:354] MLIR V1 optimization pass is not enabled\n",
      "2022-10-11 13:09:32.814575: I tensorflow/compiler/mlir/mlir_graph_optimization_pass.cc:354] MLIR V1 optimization pass is not enabled\n",
      "2022-10-11 13:09:32.826979: I tensorflow/compiler/mlir/mlir_graph_optimization_pass.cc:354] MLIR V1 optimization pass is not enabled\n",
      "2022-10-11 13:09:32.833899: I tensorflow/compiler/mlir/mlir_graph_optimization_pass.cc:354] MLIR V1 optimization pass is not enabled\n",
      "2022-10-11 13:09:32.834230: I tensorflow/compiler/mlir/mlir_graph_optimization_pass.cc:354] MLIR V1 optimization pass is not enabled\n",
      "2022-10-11 13:09:32.861912: I tensorflow/compiler/mlir/mlir_graph_optimization_pass.cc:354] MLIR V1 optimization pass is not enabled\n",
      "2022-10-11 13:09:32.862862: I tensorflow/compiler/mlir/mlir_graph_optimization_pass.cc:354] MLIR V1 optimization pass is not enabled\n",
      "2022-10-11 13:09:32.890826: I tensorflow/compiler/mlir/mlir_graph_optimization_pass.cc:354] MLIR V1 optimization pass is not enabled\n",
      "2022-10-11 13:09:32.903637: I tensorflow/compiler/mlir/mlir_graph_optimization_pass.cc:354] MLIR V1 optimization pass is not enabled\n",
      "2022-10-11 13:09:32.903873: I tensorflow/compiler/mlir/mlir_graph_optimization_pass.cc:354] MLIR V1 optimization pass is not enabled\n",
      "2022-10-11 13:09:32.904643: I tensorflow/compiler/mlir/mlir_graph_optimization_pass.cc:354] MLIR V1 optimization pass is not enabled\n",
      "2022-10-11 13:09:32.923457: I tensorflow/compiler/mlir/mlir_graph_optimization_pass.cc:354] MLIR V1 optimization pass is not enabled\n",
      "WARNING:malaya_boilerplate.huggingface:Load quantized model will cause accuracy drop.\n",
      "WARNING:malaya_boilerplate.huggingface:Load quantized model will cause accuracy drop.\n",
      "WARNING:malaya_boilerplate.huggingface:Load quantized model will cause accuracy drop.\n",
      "WARNING:malaya_boilerplate.huggingface:Load quantized model will cause accuracy drop.\n",
      "WARNING:malaya_boilerplate.huggingface:Load quantized model will cause accuracy drop.\n",
      "WARNING:malaya_boilerplate.huggingface:Load quantized model will cause accuracy drop.\n",
      "WARNING:malaya_boilerplate.huggingface:Load quantized model will cause accuracy drop.\n",
      "WARNING:malaya_boilerplate.huggingface:Load quantized model will cause accuracy drop.\n",
      "WARNING:malaya_boilerplate.huggingface:Load quantized model will cause accuracy drop.\n",
      "WARNING:malaya_boilerplate.huggingface:Load quantized model will cause accuracy drop.\n",
      "WARNING:malaya_boilerplate.huggingface:Load quantized model will cause accuracy drop.\n",
      "WARNING:malaya_boilerplate.huggingface:Load quantized model will cause accuracy drop.\n",
      "WARNING:malaya_boilerplate.huggingface:Load quantized model will cause accuracy drop.\n",
      "WARNING:malaya_boilerplate.huggingface:Load quantized model will cause accuracy drop.\n",
      "WARNING:malaya_boilerplate.huggingface:Load quantized model will cause accuracy drop.\n",
      "WARNING:malaya_boilerplate.huggingface:Load quantized model will cause accuracy drop.\n",
      "WARNING:malaya_boilerplate.huggingface:Load quantized model will cause accuracy drop.\n",
      "WARNING:malaya_boilerplate.huggingface:Load quantized model will cause accuracy drop.\n",
      "WARNING:malaya_boilerplate.huggingface:Load quantized model will cause accuracy drop.\n",
      "WARNING:malaya_boilerplate.huggingface:Load quantized model will cause accuracy drop.\n",
      "WARNING:malaya_boilerplate.huggingface:Load quantized model will cause accuracy drop.\n",
      "WARNING:malaya_boilerplate.huggingface:Load quantized model will cause accuracy drop.\n",
      "WARNING:malaya_boilerplate.huggingface:Load quantized model will cause accuracy drop.\n",
      "WARNING:malaya_boilerplate.huggingface:Load quantized model will cause accuracy drop.\n",
      "WARNING:malaya_boilerplate.huggingface:Load quantized model will cause accuracy drop.\n",
      "WARNING:malaya_boilerplate.huggingface:Load quantized model will cause accuracy drop.\n",
      "WARNING:malaya_boilerplate.huggingface:Load quantized model will cause accuracy drop.\n",
      "WARNING:malaya_boilerplate.huggingface:Load quantized model will cause accuracy drop.\n",
      "WARNING:malaya_boilerplate.huggingface:Load quantized model will cause accuracy drop.\n",
      "WARNING:malaya_boilerplate.huggingface:Load quantized model will cause accuracy drop.\n",
      "WARNING:malaya_boilerplate.huggingface:Load quantized model will cause accuracy drop.\n",
      "WARNING:malaya_boilerplate.huggingface:Load quantized model will cause accuracy drop.\n",
      "WARNING:malaya_boilerplate.huggingface:Load quantized model will cause accuracy drop.\n",
      "WARNING:malaya_boilerplate.huggingface:Load quantized model will cause accuracy drop.\n",
      "WARNING:malaya_boilerplate.huggingface:Load quantized model will cause accuracy drop.\n",
      "WARNING:malaya_boilerplate.huggingface:Load quantized model will cause accuracy drop.\n",
      "WARNING:malaya_boilerplate.huggingface:Load quantized model will cause accuracy drop.\n",
      "WARNING:malaya_boilerplate.huggingface:Load quantized model will cause accuracy drop.\n",
      "WARNING:malaya_boilerplate.huggingface:Load quantized model will cause accuracy drop.\n",
      "WARNING:malaya_boilerplate.huggingface:Load quantized model will cause accuracy drop.\n",
      "WARNING:malaya_boilerplate.huggingface:Load quantized model will cause accuracy drop.\n",
      "WARNING:malaya_boilerplate.huggingface:Load quantized model will cause accuracy drop.\n",
      "WARNING:malaya_boilerplate.huggingface:Load quantized model will cause accuracy drop.\n",
      "WARNING:malaya_boilerplate.huggingface:Load quantized model will cause accuracy drop.\n",
      "WARNING:malaya_boilerplate.huggingface:Load quantized model will cause accuracy drop.\n",
      "WARNING:malaya_boilerplate.huggingface:Load quantized model will cause accuracy drop.\n",
      "WARNING:malaya_boilerplate.huggingface:Load quantized model will cause accuracy drop.\n",
      "WARNING:malaya_boilerplate.huggingface:Load quantized model will cause accuracy drop.\n",
      "WARNING:malaya_boilerplate.huggingface:Load quantized model will cause accuracy drop.\n",
      "WARNING:malaya_boilerplate.huggingface:Load quantized model will cause accuracy drop.\n",
      "WARNING:malaya_boilerplate.huggingface:Load quantized model will cause accuracy drop.\n",
      "WARNING:malaya_boilerplate.huggingface:Load quantized model will cause accuracy drop.\n",
      "WARNING:malaya_boilerplate.huggingface:Load quantized model will cause accuracy drop.\n",
      "WARNING:malaya_boilerplate.huggingface:Load quantized model will cause accuracy drop.\n",
      "WARNING:malaya_boilerplate.huggingface:Load quantized model will cause accuracy drop.\n",
      "WARNING:malaya_boilerplate.huggingface:Load quantized model will cause accuracy drop.\n",
      "WARNING:malaya_boilerplate.huggingface:Load quantized model will cause accuracy drop.\n",
      "WARNING:malaya_boilerplate.huggingface:Load quantized model will cause accuracy drop.\n",
      "WARNING:malaya_boilerplate.huggingface:Load quantized model will cause accuracy drop.\n",
      "WARNING:malaya_boilerplate.huggingface:Load quantized model will cause accuracy drop.\n",
      "WARNING:malaya_boilerplate.huggingface:Load quantized model will cause accuracy drop.\n",
      "WARNING:malaya_boilerplate.huggingface:Load quantized model will cause accuracy drop.\n",
      "WARNING:malaya_boilerplate.huggingface:Load quantized model will cause accuracy drop.\n",
      "WARNING:malaya_boilerplate.huggingface:Load quantized model will cause accuracy drop.\n",
      "WARNING:malaya_boilerplate.huggingface:Load quantized model will cause accuracy drop.\n",
      "WARNING:malaya_boilerplate.huggingface:Load quantized model will cause accuracy drop.\n",
      "WARNING:malaya_boilerplate.huggingface:Load quantized model will cause accuracy drop.\n",
      "WARNING:malaya_boilerplate.huggingface:Load quantized model will cause accuracy drop.\n",
      "WARNING:malaya_boilerplate.huggingface:Load quantized model will cause accuracy drop.\n",
      "WARNING:malaya_boilerplate.huggingface:Load quantized model will cause accuracy drop.\n",
      "WARNING:malaya_boilerplate.huggingface:Load quantized model will cause accuracy drop.\n",
      "WARNING:malaya_boilerplate.huggingface:Load quantized model will cause accuracy drop.\n",
      "WARNING:malaya_boilerplate.huggingface:Load quantized model will cause accuracy drop.\n",
      "WARNING:malaya_boilerplate.huggingface:Load quantized model will cause accuracy drop.\n",
      "WARNING:malaya_boilerplate.huggingface:Load quantized model will cause accuracy drop.\n",
      "WARNING:malaya_boilerplate.huggingface:Load quantized model will cause accuracy drop.\n",
      "WARNING:malaya_boilerplate.huggingface:Load quantized model will cause accuracy drop.\n",
      "WARNING:malaya_boilerplate.huggingface:Load quantized model will cause accuracy drop.\n",
      "WARNING:malaya_boilerplate.huggingface:Load quantized model will cause accuracy drop.\n",
      "WARNING:malaya_boilerplate.huggingface:Load quantized model will cause accuracy drop.\n",
      "WARNING:malaya_boilerplate.huggingface:Load quantized model will cause accuracy drop.\n",
      "WARNING:malaya_boilerplate.huggingface:Load quantized model will cause accuracy drop.\n",
      "WARNING:malaya_boilerplate.huggingface:Load quantized model will cause accuracy drop.\n",
      "WARNING:malaya_boilerplate.huggingface:Load quantized model will cause accuracy drop.\n",
      "WARNING:malaya_boilerplate.huggingface:Load quantized model will cause accuracy drop.\n",
      "WARNING:malaya_boilerplate.huggingface:Load quantized model will cause accuracy drop.\n",
      "WARNING:malaya_boilerplate.huggingface:Load quantized model will cause accuracy drop.\n",
      "WARNING:malaya_boilerplate.huggingface:Load quantized model will cause accuracy drop.\n",
      "WARNING:malaya_boilerplate.huggingface:Load quantized model will cause accuracy drop.\n",
      "WARNING:malaya_boilerplate.huggingface:Load quantized model will cause accuracy drop.\n",
      "WARNING:malaya_boilerplate.huggingface:Load quantized model will cause accuracy drop.\n",
      "WARNING:malaya_boilerplate.huggingface:Load quantized model will cause accuracy drop.\n",
      "WARNING:malaya_boilerplate.huggingface:Load quantized model will cause accuracy drop.\n",
      "WARNING:malaya_boilerplate.huggingface:Load quantized model will cause accuracy drop.\n",
      "WARNING:malaya_boilerplate.huggingface:Load quantized model will cause accuracy drop.\n",
      "WARNING:malaya_boilerplate.huggingface:Load quantized model will cause accuracy drop.\n",
      "WARNING:malaya_boilerplate.huggingface:Load quantized model will cause accuracy drop.\n",
      "WARNING:malaya_boilerplate.huggingface:Load quantized model will cause accuracy drop.\n",
      "WARNING:malaya_boilerplate.huggingface:Load quantized model will cause accuracy drop.\n",
      "WARNING:malaya_boilerplate.huggingface:Load quantized model will cause accuracy drop.\n",
      "WARNING:malaya_boilerplate.huggingface:Load quantized model will cause accuracy drop.\n",
      "WARNING:malaya_boilerplate.huggingface:Load quantized model will cause accuracy drop.\n",
      "WARNING:malaya_boilerplate.huggingface:Load quantized model will cause accuracy drop.\n",
      "WARNING:malaya_boilerplate.huggingface:Load quantized model will cause accuracy drop.\n",
      "WARNING:malaya_boilerplate.huggingface:Load quantized model will cause accuracy drop.\n",
      "WARNING:malaya_boilerplate.huggingface:Load quantized model will cause accuracy drop.\n",
      "WARNING:malaya_boilerplate.huggingface:Load quantized model will cause accuracy drop.\n",
      "WARNING:malaya_boilerplate.huggingface:Load quantized model will cause accuracy drop.\n",
      "WARNING:malaya_boilerplate.huggingface:Load quantized model will cause accuracy drop.\n",
      "WARNING:malaya_boilerplate.huggingface:Load quantized model will cause accuracy drop.\n",
      "WARNING:malaya_boilerplate.huggingface:Load quantized model will cause accuracy drop.\n",
      "WARNING:malaya_boilerplate.huggingface:Load quantized model will cause accuracy drop.\n",
      "WARNING:malaya_boilerplate.huggingface:Load quantized model will cause accuracy drop.\n",
      "WARNING:malaya_boilerplate.huggingface:Load quantized model will cause accuracy drop.\n",
      "WARNING:malaya_boilerplate.huggingface:Load quantized model will cause accuracy drop.\n",
      "WARNING:malaya_boilerplate.huggingface:Load quantized model will cause accuracy drop.\n",
      "WARNING:malaya_boilerplate.huggingface:Load quantized model will cause accuracy drop.\n",
      "WARNING:malaya_boilerplate.huggingface:Load quantized model will cause accuracy drop.\n",
      "WARNING:malaya_boilerplate.huggingface:Load quantized model will cause accuracy drop.\n",
      "WARNING:malaya_boilerplate.huggingface:Load quantized model will cause accuracy drop.\n",
      "WARNING:malaya_boilerplate.huggingface:Load quantized model will cause accuracy drop.\n",
      "WARNING:malaya_boilerplate.huggingface:Load quantized model will cause accuracy drop.\n",
      "WARNING:malaya_boilerplate.huggingface:Load quantized model will cause accuracy drop.\n",
      "WARNING:malaya_boilerplate.huggingface:Load quantized model will cause accuracy drop.\n",
      "WARNING:malaya_boilerplate.huggingface:Load quantized model will cause accuracy drop.\n",
      "WARNING:malaya_boilerplate.huggingface:Load quantized model will cause accuracy drop.\n",
      "WARNING:malaya_boilerplate.huggingface:Load quantized model will cause accuracy drop.\n",
      "WARNING:malaya_boilerplate.huggingface:Load quantized model will cause accuracy drop.\n",
      "WARNING:malaya_boilerplate.huggingface:Load quantized model will cause accuracy drop.\n",
      "WARNING:malaya_boilerplate.huggingface:Load quantized model will cause accuracy drop.\n",
      "WARNING:malaya_boilerplate.huggingface:Load quantized model will cause accuracy drop.\n",
      "WARNING:malaya_boilerplate.huggingface:Load quantized model will cause accuracy drop.\n",
      "WARNING:malaya_boilerplate.huggingface:Load quantized model will cause accuracy drop.\n",
      "WARNING:malaya_boilerplate.huggingface:Load quantized model will cause accuracy drop.\n",
      "WARNING:malaya_boilerplate.huggingface:Load quantized model will cause accuracy drop.\n",
      "WARNING:malaya_boilerplate.huggingface:Load quantized model will cause accuracy drop.\n",
      "WARNING:malaya_boilerplate.huggingface:Load quantized model will cause accuracy drop.\n",
      "WARNING:malaya_boilerplate.huggingface:Load quantized model will cause accuracy drop.\n",
      "WARNING:malaya_boilerplate.huggingface:Load quantized model will cause accuracy drop.\n",
      "WARNING:malaya_boilerplate.huggingface:Load quantized model will cause accuracy drop.\n",
      "WARNING:malaya_boilerplate.huggingface:Load quantized model will cause accuracy drop.\n",
      "WARNING:malaya_boilerplate.huggingface:Load quantized model will cause accuracy drop.\n",
      "WARNING:malaya_boilerplate.huggingface:Load quantized model will cause accuracy drop.\n",
      "WARNING:malaya_boilerplate.huggingface:Load quantized model will cause accuracy drop.\n",
      "WARNING:malaya_boilerplate.huggingface:Load quantized model will cause accuracy drop.\n",
      "WARNING:malaya_boilerplate.huggingface:Load quantized model will cause accuracy drop.\n",
      "WARNING:malaya_boilerplate.huggingface:Load quantized model will cause accuracy drop.\n",
      "WARNING:malaya_boilerplate.huggingface:Load quantized model will cause accuracy drop.\n",
      "WARNING:malaya_boilerplate.huggingface:Load quantized model will cause accuracy drop.\n",
      "WARNING:malaya_boilerplate.huggingface:Load quantized model will cause accuracy drop.\n",
      "WARNING:malaya_boilerplate.huggingface:Load quantized model will cause accuracy drop.\n",
      "WARNING:malaya_boilerplate.huggingface:Load quantized model will cause accuracy drop.\n",
      "WARNING:malaya_boilerplate.huggingface:Load quantized model will cause accuracy drop.\n",
      "WARNING:malaya_boilerplate.huggingface:Load quantized model will cause accuracy drop.\n",
      "WARNING:malaya_boilerplate.huggingface:Load quantized model will cause accuracy drop.\n",
      "WARNING:malaya_boilerplate.huggingface:Load quantized model will cause accuracy drop.\n",
      "WARNING:malaya_boilerplate.huggingface:Load quantized model will cause accuracy drop.\n",
      "WARNING:malaya_boilerplate.huggingface:Load quantized model will cause accuracy drop.\n",
      "WARNING:malaya_boilerplate.huggingface:Load quantized model will cause accuracy drop.\n",
      "WARNING:malaya_boilerplate.huggingface:Load quantized model will cause accuracy drop.\n",
      "WARNING:malaya_boilerplate.huggingface:Load quantized model will cause accuracy drop.\n",
      "WARNING:malaya_boilerplate.huggingface:Load quantized model will cause accuracy drop.\n",
      "WARNING:malaya_boilerplate.huggingface:Load quantized model will cause accuracy drop.\n",
      "WARNING:malaya_boilerplate.huggingface:Load quantized model will cause accuracy drop.\n",
      "WARNING:malaya_boilerplate.huggingface:Load quantized model will cause accuracy drop.\n",
      "WARNING:malaya_boilerplate.huggingface:Load quantized model will cause accuracy drop.\n",
      "WARNING:malaya_boilerplate.huggingface:Load quantized model will cause accuracy drop.\n",
      "WARNING:malaya_boilerplate.huggingface:Load quantized model will cause accuracy drop.\n",
      "WARNING:malaya_boilerplate.huggingface:Load quantized model will cause accuracy drop.\n",
      "WARNING:malaya_boilerplate.huggingface:Load quantized model will cause accuracy drop.\n",
      "WARNING:malaya_boilerplate.huggingface:Load quantized model will cause accuracy drop.\n",
      "WARNING:malaya_boilerplate.huggingface:Load quantized model will cause accuracy drop.\n",
      "WARNING:malaya_boilerplate.huggingface:Load quantized model will cause accuracy drop.\n",
      "WARNING:malaya_boilerplate.huggingface:Load quantized model will cause accuracy drop.\n",
      "WARNING:malaya_boilerplate.huggingface:Load quantized model will cause accuracy drop.\n",
      "WARNING:malaya_boilerplate.huggingface:Load quantized model will cause accuracy drop.\n",
      "WARNING:malaya_boilerplate.huggingface:Load quantized model will cause accuracy drop.\n",
      "WARNING:malaya_boilerplate.huggingface:Load quantized model will cause accuracy drop.\n",
      "WARNING:malaya_boilerplate.huggingface:Load quantized model will cause accuracy drop.\n",
      "WARNING:malaya_boilerplate.huggingface:Load quantized model will cause accuracy drop.\n",
      "WARNING:malaya_boilerplate.huggingface:Load quantized model will cause accuracy drop.\n",
      "WARNING:malaya_boilerplate.huggingface:Load quantized model will cause accuracy drop.\n",
      "WARNING:malaya_boilerplate.huggingface:Load quantized model will cause accuracy drop.\n",
      "WARNING:malaya_boilerplate.huggingface:Load quantized model will cause accuracy drop.\n",
      "WARNING:malaya_boilerplate.huggingface:Load quantized model will cause accuracy drop.\n",
      "WARNING:malaya_boilerplate.huggingface:Load quantized model will cause accuracy drop.\n",
      "WARNING:malaya_boilerplate.huggingface:Load quantized model will cause accuracy drop.\n",
      "WARNING:malaya_boilerplate.huggingface:Load quantized model will cause accuracy drop.\n",
      "WARNING:malaya_boilerplate.huggingface:Load quantized model will cause accuracy drop.\n",
      "WARNING:malaya_boilerplate.huggingface:Load quantized model will cause accuracy drop.\n",
      "ERROR:root:KeyboardInterrupt while sending command.\n",
      "Traceback (most recent call last):\n",
      "  File \"/home/pc/g5_env_tf/lib/python3.9/site-packages/py4j/java_gateway.py\", line 1038, in send_command\n",
      "    response = connection.send_command(command)\n",
      "  File \"/home/pc/g5_env_tf/lib/python3.9/site-packages/py4j/clientserver.py\", line 511, in send_command\n",
      "    answer = smart_decode(self.stream.readline()[:-1])\n",
      "  File \"/opt/python39/lib/python3.9/socket.py\", line 704, in readinto\n",
      "    return self._sock.recv_into(b)\n",
      "KeyboardInterrupt\n",
      "WARNING:malaya_boilerplate.huggingface:Load quantized model will cause accuracy drop.\n",
      "WARNING:malaya_boilerplate.huggingface:Load quantized model will cause accuracy drop.\n",
      "WARNING:malaya_boilerplate.huggingface:Load quantized model will cause accuracy drop.\n",
      "WARNING:malaya_boilerplate.huggingface:Load quantized model will cause accuracy drop.\n",
      "WARNING:malaya_boilerplate.huggingface:Load quantized model will cause accuracy drop.\n",
      "WARNING:malaya_boilerplate.huggingface:Load quantized model will cause accuracy drop.\n",
      "WARNING:malaya_boilerplate.huggingface:Load quantized model will cause accuracy drop.\n",
      "WARNING:malaya_boilerplate.huggingface:Load quantized model will cause accuracy drop.\n"
     ]
    },
    {
     "ename": "KeyboardInterrupt",
     "evalue": "",
     "output_type": "error",
     "traceback": [
      "\u001b[0;31m---------------------------------------------------------------------------\u001b[0m",
      "\u001b[0;31mKeyboardInterrupt\u001b[0m                         Traceback (most recent call last)",
      "File \u001b[0;32m<timed eval>:1\u001b[0m\n",
      "File \u001b[0;32m~/g5_env_tf/lib/python3.9/site-packages/pyspark/rdd.py:1521\u001b[0m, in \u001b[0;36mRDD.count\u001b[0;34m(self)\u001b[0m\n\u001b[1;32m   1512\u001b[0m \u001b[38;5;28;01mdef\u001b[39;00m \u001b[38;5;21mcount\u001b[39m(\u001b[38;5;28mself\u001b[39m) \u001b[38;5;241m-\u001b[39m\u001b[38;5;241m>\u001b[39m \u001b[38;5;28mint\u001b[39m:\n\u001b[1;32m   1513\u001b[0m     \u001b[38;5;124;03m\"\"\"\u001b[39;00m\n\u001b[1;32m   1514\u001b[0m \u001b[38;5;124;03m    Return the number of elements in this RDD.\u001b[39;00m\n\u001b[1;32m   1515\u001b[0m \n\u001b[0;32m   (...)\u001b[0m\n\u001b[1;32m   1519\u001b[0m \u001b[38;5;124;03m    3\u001b[39;00m\n\u001b[1;32m   1520\u001b[0m \u001b[38;5;124;03m    \"\"\"\u001b[39;00m\n\u001b[0;32m-> 1521\u001b[0m     \u001b[38;5;28;01mreturn\u001b[39;00m \u001b[38;5;28;43mself\u001b[39;49m\u001b[38;5;241;43m.\u001b[39;49m\u001b[43mmapPartitions\u001b[49m\u001b[43m(\u001b[49m\u001b[38;5;28;43;01mlambda\u001b[39;49;00m\u001b[43m \u001b[49m\u001b[43mi\u001b[49m\u001b[43m:\u001b[49m\u001b[43m \u001b[49m\u001b[43m[\u001b[49m\u001b[38;5;28;43msum\u001b[39;49m\u001b[43m(\u001b[49m\u001b[38;5;241;43m1\u001b[39;49m\u001b[43m \u001b[49m\u001b[38;5;28;43;01mfor\u001b[39;49;00m\u001b[43m \u001b[49m\u001b[43m_\u001b[49m\u001b[43m \u001b[49m\u001b[38;5;129;43;01min\u001b[39;49;00m\u001b[43m \u001b[49m\u001b[43mi\u001b[49m\u001b[43m)\u001b[49m\u001b[43m]\u001b[49m\u001b[43m)\u001b[49m\u001b[38;5;241;43m.\u001b[39;49m\u001b[43msum\u001b[49m\u001b[43m(\u001b[49m\u001b[43m)\u001b[49m\n",
      "File \u001b[0;32m~/g5_env_tf/lib/python3.9/site-packages/pyspark/rdd.py:1508\u001b[0m, in \u001b[0;36mRDD.sum\u001b[0;34m(self)\u001b[0m\n\u001b[1;32m   1499\u001b[0m \u001b[38;5;28;01mdef\u001b[39;00m \u001b[38;5;21msum\u001b[39m(\u001b[38;5;28mself\u001b[39m: \u001b[38;5;124m\"\u001b[39m\u001b[38;5;124mRDD[NumberOrArray]\u001b[39m\u001b[38;5;124m\"\u001b[39m) \u001b[38;5;241m-\u001b[39m\u001b[38;5;241m>\u001b[39m \u001b[38;5;124m\"\u001b[39m\u001b[38;5;124mNumberOrArray\u001b[39m\u001b[38;5;124m\"\u001b[39m:\n\u001b[1;32m   1500\u001b[0m     \u001b[38;5;124;03m\"\"\"\u001b[39;00m\n\u001b[1;32m   1501\u001b[0m \u001b[38;5;124;03m    Add up the elements in this RDD.\u001b[39;00m\n\u001b[1;32m   1502\u001b[0m \n\u001b[0;32m   (...)\u001b[0m\n\u001b[1;32m   1506\u001b[0m \u001b[38;5;124;03m    6.0\u001b[39;00m\n\u001b[1;32m   1507\u001b[0m \u001b[38;5;124;03m    \"\"\"\u001b[39;00m\n\u001b[0;32m-> 1508\u001b[0m     \u001b[38;5;28;01mreturn\u001b[39;00m \u001b[38;5;28;43mself\u001b[39;49m\u001b[38;5;241;43m.\u001b[39;49m\u001b[43mmapPartitions\u001b[49m\u001b[43m(\u001b[49m\u001b[38;5;28;43;01mlambda\u001b[39;49;00m\u001b[43m \u001b[49m\u001b[43mx\u001b[49m\u001b[43m:\u001b[49m\u001b[43m \u001b[49m\u001b[43m[\u001b[49m\u001b[38;5;28;43msum\u001b[39;49m\u001b[43m(\u001b[49m\u001b[43mx\u001b[49m\u001b[43m)\u001b[49m\u001b[43m]\u001b[49m\u001b[43m)\u001b[49m\u001b[38;5;241;43m.\u001b[39;49m\u001b[43mfold\u001b[49m\u001b[43m(\u001b[49m\u001b[43m  \u001b[49m\u001b[38;5;66;43;03m# type: ignore[return-value]\u001b[39;49;00m\n\u001b[1;32m   1509\u001b[0m \u001b[43m        \u001b[49m\u001b[38;5;241;43m0\u001b[39;49m\u001b[43m,\u001b[49m\u001b[43m \u001b[49m\u001b[43moperator\u001b[49m\u001b[38;5;241;43m.\u001b[39;49m\u001b[43madd\u001b[49m\n\u001b[1;32m   1510\u001b[0m \u001b[43m    \u001b[49m\u001b[43m)\u001b[49m\n",
      "File \u001b[0;32m~/g5_env_tf/lib/python3.9/site-packages/pyspark/rdd.py:1336\u001b[0m, in \u001b[0;36mRDD.fold\u001b[0;34m(self, zeroValue, op)\u001b[0m\n\u001b[1;32m   1331\u001b[0m     \u001b[38;5;28;01myield\u001b[39;00m acc\n\u001b[1;32m   1333\u001b[0m \u001b[38;5;66;03m# collecting result of mapPartitions here ensures that the copy of\u001b[39;00m\n\u001b[1;32m   1334\u001b[0m \u001b[38;5;66;03m# zeroValue provided to each partition is unique from the one provided\u001b[39;00m\n\u001b[1;32m   1335\u001b[0m \u001b[38;5;66;03m# to the final reduce call\u001b[39;00m\n\u001b[0;32m-> 1336\u001b[0m vals \u001b[38;5;241m=\u001b[39m \u001b[38;5;28;43mself\u001b[39;49m\u001b[38;5;241;43m.\u001b[39;49m\u001b[43mmapPartitions\u001b[49m\u001b[43m(\u001b[49m\u001b[43mfunc\u001b[49m\u001b[43m)\u001b[49m\u001b[38;5;241;43m.\u001b[39;49m\u001b[43mcollect\u001b[49m\u001b[43m(\u001b[49m\u001b[43m)\u001b[49m\n\u001b[1;32m   1337\u001b[0m \u001b[38;5;28;01mreturn\u001b[39;00m reduce(op, vals, zeroValue)\n",
      "File \u001b[0;32m~/g5_env_tf/lib/python3.9/site-packages/pyspark/rdd.py:1197\u001b[0m, in \u001b[0;36mRDD.collect\u001b[0;34m(self)\u001b[0m\n\u001b[1;32m   1195\u001b[0m \u001b[38;5;28;01mwith\u001b[39;00m SCCallSiteSync(\u001b[38;5;28mself\u001b[39m\u001b[38;5;241m.\u001b[39mcontext):\n\u001b[1;32m   1196\u001b[0m     \u001b[38;5;28;01massert\u001b[39;00m \u001b[38;5;28mself\u001b[39m\u001b[38;5;241m.\u001b[39mctx\u001b[38;5;241m.\u001b[39m_jvm \u001b[38;5;129;01mis\u001b[39;00m \u001b[38;5;129;01mnot\u001b[39;00m \u001b[38;5;28;01mNone\u001b[39;00m\n\u001b[0;32m-> 1197\u001b[0m     sock_info \u001b[38;5;241m=\u001b[39m \u001b[38;5;28;43mself\u001b[39;49m\u001b[38;5;241;43m.\u001b[39;49m\u001b[43mctx\u001b[49m\u001b[38;5;241;43m.\u001b[39;49m\u001b[43m_jvm\u001b[49m\u001b[38;5;241;43m.\u001b[39;49m\u001b[43mPythonRDD\u001b[49m\u001b[38;5;241;43m.\u001b[39;49m\u001b[43mcollectAndServe\u001b[49m\u001b[43m(\u001b[49m\u001b[38;5;28;43mself\u001b[39;49m\u001b[38;5;241;43m.\u001b[39;49m\u001b[43m_jrdd\u001b[49m\u001b[38;5;241;43m.\u001b[39;49m\u001b[43mrdd\u001b[49m\u001b[43m(\u001b[49m\u001b[43m)\u001b[49m\u001b[43m)\u001b[49m\n\u001b[1;32m   1198\u001b[0m \u001b[38;5;28;01mreturn\u001b[39;00m \u001b[38;5;28mlist\u001b[39m(_load_from_socket(sock_info, \u001b[38;5;28mself\u001b[39m\u001b[38;5;241m.\u001b[39m_jrdd_deserializer))\n",
      "File \u001b[0;32m~/g5_env_tf/lib/python3.9/site-packages/py4j/java_gateway.py:1320\u001b[0m, in \u001b[0;36mJavaMember.__call__\u001b[0;34m(self, *args)\u001b[0m\n\u001b[1;32m   1313\u001b[0m args_command, temp_args \u001b[38;5;241m=\u001b[39m \u001b[38;5;28mself\u001b[39m\u001b[38;5;241m.\u001b[39m_build_args(\u001b[38;5;241m*\u001b[39margs)\n\u001b[1;32m   1315\u001b[0m command \u001b[38;5;241m=\u001b[39m proto\u001b[38;5;241m.\u001b[39mCALL_COMMAND_NAME \u001b[38;5;241m+\u001b[39m\\\n\u001b[1;32m   1316\u001b[0m     \u001b[38;5;28mself\u001b[39m\u001b[38;5;241m.\u001b[39mcommand_header \u001b[38;5;241m+\u001b[39m\\\n\u001b[1;32m   1317\u001b[0m     args_command \u001b[38;5;241m+\u001b[39m\\\n\u001b[1;32m   1318\u001b[0m     proto\u001b[38;5;241m.\u001b[39mEND_COMMAND_PART\n\u001b[0;32m-> 1320\u001b[0m answer \u001b[38;5;241m=\u001b[39m \u001b[38;5;28;43mself\u001b[39;49m\u001b[38;5;241;43m.\u001b[39;49m\u001b[43mgateway_client\u001b[49m\u001b[38;5;241;43m.\u001b[39;49m\u001b[43msend_command\u001b[49m\u001b[43m(\u001b[49m\u001b[43mcommand\u001b[49m\u001b[43m)\u001b[49m\n\u001b[1;32m   1321\u001b[0m return_value \u001b[38;5;241m=\u001b[39m get_return_value(\n\u001b[1;32m   1322\u001b[0m     answer, \u001b[38;5;28mself\u001b[39m\u001b[38;5;241m.\u001b[39mgateway_client, \u001b[38;5;28mself\u001b[39m\u001b[38;5;241m.\u001b[39mtarget_id, \u001b[38;5;28mself\u001b[39m\u001b[38;5;241m.\u001b[39mname)\n\u001b[1;32m   1324\u001b[0m \u001b[38;5;28;01mfor\u001b[39;00m temp_arg \u001b[38;5;129;01min\u001b[39;00m temp_args:\n",
      "File \u001b[0;32m~/g5_env_tf/lib/python3.9/site-packages/py4j/java_gateway.py:1038\u001b[0m, in \u001b[0;36mGatewayClient.send_command\u001b[0;34m(self, command, retry, binary)\u001b[0m\n\u001b[1;32m   1036\u001b[0m connection \u001b[38;5;241m=\u001b[39m \u001b[38;5;28mself\u001b[39m\u001b[38;5;241m.\u001b[39m_get_connection()\n\u001b[1;32m   1037\u001b[0m \u001b[38;5;28;01mtry\u001b[39;00m:\n\u001b[0;32m-> 1038\u001b[0m     response \u001b[38;5;241m=\u001b[39m \u001b[43mconnection\u001b[49m\u001b[38;5;241;43m.\u001b[39;49m\u001b[43msend_command\u001b[49m\u001b[43m(\u001b[49m\u001b[43mcommand\u001b[49m\u001b[43m)\u001b[49m\n\u001b[1;32m   1039\u001b[0m     \u001b[38;5;28;01mif\u001b[39;00m binary:\n\u001b[1;32m   1040\u001b[0m         \u001b[38;5;28;01mreturn\u001b[39;00m response, \u001b[38;5;28mself\u001b[39m\u001b[38;5;241m.\u001b[39m_create_connection_guard(connection)\n",
      "File \u001b[0;32m~/g5_env_tf/lib/python3.9/site-packages/py4j/clientserver.py:511\u001b[0m, in \u001b[0;36mClientServerConnection.send_command\u001b[0;34m(self, command)\u001b[0m\n\u001b[1;32m    509\u001b[0m \u001b[38;5;28;01mtry\u001b[39;00m:\n\u001b[1;32m    510\u001b[0m     \u001b[38;5;28;01mwhile\u001b[39;00m \u001b[38;5;28;01mTrue\u001b[39;00m:\n\u001b[0;32m--> 511\u001b[0m         answer \u001b[38;5;241m=\u001b[39m smart_decode(\u001b[38;5;28;43mself\u001b[39;49m\u001b[38;5;241;43m.\u001b[39;49m\u001b[43mstream\u001b[49m\u001b[38;5;241;43m.\u001b[39;49m\u001b[43mreadline\u001b[49m\u001b[43m(\u001b[49m\u001b[43m)\u001b[49m[:\u001b[38;5;241m-\u001b[39m\u001b[38;5;241m1\u001b[39m])\n\u001b[1;32m    512\u001b[0m         logger\u001b[38;5;241m.\u001b[39mdebug(\u001b[38;5;124m\"\u001b[39m\u001b[38;5;124mAnswer received: \u001b[39m\u001b[38;5;132;01m{0}\u001b[39;00m\u001b[38;5;124m\"\u001b[39m\u001b[38;5;241m.\u001b[39mformat(answer))\n\u001b[1;32m    513\u001b[0m         \u001b[38;5;66;03m# Happens when a the other end is dead. There might be an empty\u001b[39;00m\n\u001b[1;32m    514\u001b[0m         \u001b[38;5;66;03m# answer before the socket raises an error.\u001b[39;00m\n",
      "File \u001b[0;32m/opt/python39/lib/python3.9/socket.py:704\u001b[0m, in \u001b[0;36mSocketIO.readinto\u001b[0;34m(self, b)\u001b[0m\n\u001b[1;32m    702\u001b[0m \u001b[38;5;28;01mwhile\u001b[39;00m \u001b[38;5;28;01mTrue\u001b[39;00m:\n\u001b[1;32m    703\u001b[0m     \u001b[38;5;28;01mtry\u001b[39;00m:\n\u001b[0;32m--> 704\u001b[0m         \u001b[38;5;28;01mreturn\u001b[39;00m \u001b[38;5;28;43mself\u001b[39;49m\u001b[38;5;241;43m.\u001b[39;49m\u001b[43m_sock\u001b[49m\u001b[38;5;241;43m.\u001b[39;49m\u001b[43mrecv_into\u001b[49m\u001b[43m(\u001b[49m\u001b[43mb\u001b[49m\u001b[43m)\u001b[49m\n\u001b[1;32m    705\u001b[0m     \u001b[38;5;28;01mexcept\u001b[39;00m timeout:\n\u001b[1;32m    706\u001b[0m         \u001b[38;5;28mself\u001b[39m\u001b[38;5;241m.\u001b[39m_timeout_occurred \u001b[38;5;241m=\u001b[39m \u001b[38;5;28;01mTrue\u001b[39;00m\n",
      "\u001b[0;31mKeyboardInterrupt\u001b[0m: "
     ]
    }
   ],
   "source": [
    "%%time\n",
    "ms_pos_tag.count()"
   ]
  },
  {
   "cell_type": "code",
   "execution_count": 52,
   "id": "c9cc7afa-b910-4ce2-9259-dd19dbebbb31",
   "metadata": {
    "collapsed": true,
    "jupyter": {
     "outputs_hidden": true
    },
    "tags": []
   },
   "outputs": [
    {
     "name": "stderr",
     "output_type": "stream",
     "text": [
      "WARNING:malaya_boilerplate.huggingface:Load quantized model will cause accuracy drop.\n",
      "WARNING:malaya_boilerplate.huggingface:Load quantized model will cause accuracy drop.\n",
      "WARNING:malaya_boilerplate.huggingface:Load quantized model will cause accuracy drop.\n",
      "WARNING:malaya_boilerplate.huggingface:Load quantized model will cause accuracy drop.\n",
      "WARNING:malaya_boilerplate.huggingface:Load quantized model will cause accuracy drop.\n",
      "WARNING:malaya_boilerplate.huggingface:Load quantized model will cause accuracy drop.\n",
      "WARNING:malaya_boilerplate.huggingface:Load quantized model will cause accuracy drop.\n",
      "WARNING:malaya_boilerplate.huggingface:Load quantized model will cause accuracy drop.\n",
      "WARNING:malaya_boilerplate.huggingface:Load quantized model will cause accuracy drop.\n",
      "WARNING:malaya_boilerplate.huggingface:Load quantized model will cause accuracy drop.\n",
      "WARNING:malaya_boilerplate.huggingface:Load quantized model will cause accuracy drop.\n",
      "WARNING:malaya_boilerplate.huggingface:Load quantized model will cause accuracy drop.\n",
      "WARNING:malaya_boilerplate.huggingface:Load quantized model will cause accuracy drop.\n",
      "WARNING:malaya_boilerplate.huggingface:Load quantized model will cause accuracy drop.\n",
      "WARNING:malaya_boilerplate.huggingface:Load quantized model will cause accuracy drop.\n",
      "WARNING:malaya_boilerplate.huggingface:Load quantized model will cause accuracy drop.\n",
      "WARNING:malaya_boilerplate.huggingface:Load quantized model will cause accuracy drop.\n",
      "WARNING:malaya_boilerplate.huggingface:Load quantized model will cause accuracy drop.\n",
      "WARNING:malaya_boilerplate.huggingface:Load quantized model will cause accuracy drop.\n",
      "WARNING:malaya_boilerplate.huggingface:Load quantized model will cause accuracy drop.\n",
      "WARNING:malaya_boilerplate.huggingface:Load quantized model will cause accuracy drop.\n",
      "WARNING:malaya_boilerplate.huggingface:Load quantized model will cause accuracy drop.\n",
      "WARNING:malaya_boilerplate.huggingface:Load quantized model will cause accuracy drop.\n",
      "WARNING:malaya_boilerplate.huggingface:Load quantized model will cause accuracy drop.\n",
      "WARNING:malaya_boilerplate.huggingface:Load quantized model will cause accuracy drop.\n",
      "WARNING:malaya_boilerplate.huggingface:Load quantized model will cause accuracy drop.\n",
      "WARNING:malaya_boilerplate.huggingface:Load quantized model will cause accuracy drop.\n",
      "WARNING:malaya_boilerplate.huggingface:Load quantized model will cause accuracy drop.\n",
      "WARNING:malaya_boilerplate.huggingface:Load quantized model will cause accuracy drop.\n",
      "WARNING:malaya_boilerplate.huggingface:Load quantized model will cause accuracy drop.\n",
      "WARNING:malaya_boilerplate.huggingface:Load quantized model will cause accuracy drop.\n",
      "WARNING:malaya_boilerplate.huggingface:Load quantized model will cause accuracy drop.\n",
      "WARNING:malaya_boilerplate.huggingface:Load quantized model will cause accuracy drop.\n",
      "WARNING:malaya_boilerplate.huggingface:Load quantized model will cause accuracy drop.\n",
      "WARNING:malaya_boilerplate.huggingface:Load quantized model will cause accuracy drop.\n",
      "WARNING:malaya_boilerplate.huggingface:Load quantized model will cause accuracy drop.\n",
      "WARNING:malaya_boilerplate.huggingface:Load quantized model will cause accuracy drop.\n",
      "WARNING:malaya_boilerplate.huggingface:Load quantized model will cause accuracy drop.\n",
      "WARNING:malaya_boilerplate.huggingface:Load quantized model will cause accuracy drop.\n",
      "WARNING:malaya_boilerplate.huggingface:Load quantized model will cause accuracy drop.\n",
      "WARNING:malaya_boilerplate.huggingface:Load quantized model will cause accuracy drop.\n",
      "WARNING:malaya_boilerplate.huggingface:Load quantized model will cause accuracy drop.\n",
      "WARNING:malaya_boilerplate.huggingface:Load quantized model will cause accuracy drop.\n",
      "WARNING:malaya_boilerplate.huggingface:Load quantized model will cause accuracy drop.\n",
      "WARNING:malaya_boilerplate.huggingface:Load quantized model will cause accuracy drop.\n",
      "WARNING:malaya_boilerplate.huggingface:Load quantized model will cause accuracy drop.\n",
      "WARNING:malaya_boilerplate.huggingface:Load quantized model will cause accuracy drop.\n",
      "WARNING:malaya_boilerplate.huggingface:Load quantized model will cause accuracy drop.\n",
      "WARNING:malaya_boilerplate.huggingface:Load quantized model will cause accuracy drop.\n",
      "WARNING:malaya_boilerplate.huggingface:Load quantized model will cause accuracy drop.\n",
      "WARNING:malaya_boilerplate.huggingface:Load quantized model will cause accuracy drop.\n",
      "WARNING:malaya_boilerplate.huggingface:Load quantized model will cause accuracy drop.\n",
      "WARNING:malaya_boilerplate.huggingface:Load quantized model will cause accuracy drop.\n",
      "WARNING:malaya_boilerplate.huggingface:Load quantized model will cause accuracy drop.\n",
      "WARNING:malaya_boilerplate.huggingface:Load quantized model will cause accuracy drop.\n",
      "WARNING:malaya_boilerplate.huggingface:Load quantized model will cause accuracy drop.\n",
      "WARNING:malaya_boilerplate.huggingface:Load quantized model will cause accuracy drop.\n",
      "WARNING:malaya_boilerplate.huggingface:Load quantized model will cause accuracy drop.\n",
      "WARNING:malaya_boilerplate.huggingface:Load quantized model will cause accuracy drop.\n",
      "WARNING:malaya_boilerplate.huggingface:Load quantized model will cause accuracy drop.\n",
      "WARNING:malaya_boilerplate.huggingface:Load quantized model will cause accuracy drop.\n",
      "WARNING:malaya_boilerplate.huggingface:Load quantized model will cause accuracy drop.\n",
      "WARNING:malaya_boilerplate.huggingface:Load quantized model will cause accuracy drop.\n",
      "WARNING:malaya_boilerplate.huggingface:Load quantized model will cause accuracy drop.\n",
      "WARNING:malaya_boilerplate.huggingface:Load quantized model will cause accuracy drop.\n",
      "ERROR:root:KeyboardInterrupt while sending command.\n",
      "Traceback (most recent call last):\n",
      "  File \"/home/pc/g5_env_tf/lib/python3.9/site-packages/py4j/java_gateway.py\", line 1038, in send_command\n",
      "    response = connection.send_command(command)\n",
      "  File \"/home/pc/g5_env_tf/lib/python3.9/site-packages/py4j/clientserver.py\", line 511, in send_command\n",
      "    answer = smart_decode(self.stream.readline()[:-1])\n",
      "  File \"/opt/python39/lib/python3.9/socket.py\", line 704, in readinto\n",
      "    return self._sock.recv_into(b)\n",
      "KeyboardInterrupt\n",
      "WARNING:malaya_boilerplate.huggingface:Load quantized model will cause accuracy drop.\n"
     ]
    },
    {
     "ename": "KeyboardInterrupt",
     "evalue": "",
     "output_type": "error",
     "traceback": [
      "\u001b[0;31m---------------------------------------------------------------------------\u001b[0m",
      "\u001b[0;31mKeyboardInterrupt\u001b[0m                         Traceback (most recent call last)",
      "Cell \u001b[0;32mIn [52], line 2\u001b[0m\n\u001b[1;32m      1\u001b[0m column \u001b[38;5;241m=\u001b[39m [\u001b[38;5;124m'\u001b[39m\u001b[38;5;124msentence\u001b[39m\u001b[38;5;124m'\u001b[39m, \u001b[38;5;124m'\u001b[39m\u001b[38;5;124mlanguage\u001b[39m\u001b[38;5;124m'\u001b[39m, \u001b[38;5;124m'\u001b[39m\u001b[38;5;124mpos_tag\u001b[39m\u001b[38;5;124m'\u001b[39m]\n\u001b[0;32m----> 2\u001b[0m df_zh \u001b[38;5;241m=\u001b[39m standard_zh_pos_tag\u001b[38;5;241m.\u001b[39mtoDF(column)\n\u001b[1;32m      3\u001b[0m df_en \u001b[38;5;241m=\u001b[39m standard_en_pos_tag\u001b[38;5;241m.\u001b[39mtoDF(column)\n\u001b[1;32m      4\u001b[0m df_ms \u001b[38;5;241m=\u001b[39m ms_pos_tag\u001b[38;5;241m.\u001b[39mtoDF(column)\n",
      "File \u001b[0;32m~/g5_env_tf/lib/python3.9/site-packages/pyspark/sql/session.py:102\u001b[0m, in \u001b[0;36m_monkey_patch_RDD.<locals>.toDF\u001b[0;34m(self, schema, sampleRatio)\u001b[0m\n\u001b[1;32m     74\u001b[0m \u001b[38;5;129m@no_type_check\u001b[39m\n\u001b[1;32m     75\u001b[0m \u001b[38;5;28;01mdef\u001b[39;00m \u001b[38;5;21mtoDF\u001b[39m(\u001b[38;5;28mself\u001b[39m, schema\u001b[38;5;241m=\u001b[39m\u001b[38;5;28;01mNone\u001b[39;00m, sampleRatio\u001b[38;5;241m=\u001b[39m\u001b[38;5;28;01mNone\u001b[39;00m):\n\u001b[1;32m     76\u001b[0m     \u001b[38;5;124;03m\"\"\"\u001b[39;00m\n\u001b[1;32m     77\u001b[0m \u001b[38;5;124;03m    Converts current :class:`RDD` into a :class:`DataFrame`\u001b[39;00m\n\u001b[1;32m     78\u001b[0m \n\u001b[0;32m   (...)\u001b[0m\n\u001b[1;32m    100\u001b[0m \u001b[38;5;124;03m    [Row(name='Alice', age=1)]\u001b[39;00m\n\u001b[1;32m    101\u001b[0m \u001b[38;5;124;03m    \"\"\"\u001b[39;00m\n\u001b[0;32m--> 102\u001b[0m     \u001b[38;5;28;01mreturn\u001b[39;00m \u001b[43msparkSession\u001b[49m\u001b[38;5;241;43m.\u001b[39;49m\u001b[43mcreateDataFrame\u001b[49m\u001b[43m(\u001b[49m\u001b[38;5;28;43mself\u001b[39;49m\u001b[43m,\u001b[49m\u001b[43m \u001b[49m\u001b[43mschema\u001b[49m\u001b[43m,\u001b[49m\u001b[43m \u001b[49m\u001b[43msampleRatio\u001b[49m\u001b[43m)\u001b[49m\n",
      "File \u001b[0;32m~/g5_env_tf/lib/python3.9/site-packages/pyspark/sql/session.py:894\u001b[0m, in \u001b[0;36mSparkSession.createDataFrame\u001b[0;34m(self, data, schema, samplingRatio, verifySchema)\u001b[0m\n\u001b[1;32m    889\u001b[0m \u001b[38;5;28;01mif\u001b[39;00m has_pandas \u001b[38;5;129;01mand\u001b[39;00m \u001b[38;5;28misinstance\u001b[39m(data, pandas\u001b[38;5;241m.\u001b[39mDataFrame):\n\u001b[1;32m    890\u001b[0m     \u001b[38;5;66;03m# Create a DataFrame from pandas DataFrame.\u001b[39;00m\n\u001b[1;32m    891\u001b[0m     \u001b[38;5;28;01mreturn\u001b[39;00m \u001b[38;5;28msuper\u001b[39m(SparkSession, \u001b[38;5;28mself\u001b[39m)\u001b[38;5;241m.\u001b[39mcreateDataFrame(  \u001b[38;5;66;03m# type: ignore[call-overload]\u001b[39;00m\n\u001b[1;32m    892\u001b[0m         data, schema, samplingRatio, verifySchema\n\u001b[1;32m    893\u001b[0m     )\n\u001b[0;32m--> 894\u001b[0m \u001b[38;5;28;01mreturn\u001b[39;00m \u001b[38;5;28;43mself\u001b[39;49m\u001b[38;5;241;43m.\u001b[39;49m\u001b[43m_create_dataframe\u001b[49m\u001b[43m(\u001b[49m\n\u001b[1;32m    895\u001b[0m \u001b[43m    \u001b[49m\u001b[43mdata\u001b[49m\u001b[43m,\u001b[49m\u001b[43m \u001b[49m\u001b[43mschema\u001b[49m\u001b[43m,\u001b[49m\u001b[43m \u001b[49m\u001b[43msamplingRatio\u001b[49m\u001b[43m,\u001b[49m\u001b[43m \u001b[49m\u001b[43mverifySchema\u001b[49m\u001b[43m  \u001b[49m\u001b[38;5;66;43;03m# type: ignore[arg-type]\u001b[39;49;00m\n\u001b[1;32m    896\u001b[0m \u001b[43m\u001b[49m\u001b[43m)\u001b[49m\n",
      "File \u001b[0;32m~/g5_env_tf/lib/python3.9/site-packages/pyspark/sql/session.py:934\u001b[0m, in \u001b[0;36mSparkSession._create_dataframe\u001b[0;34m(self, data, schema, samplingRatio, verifySchema)\u001b[0m\n\u001b[1;32m    931\u001b[0m         \u001b[38;5;28;01mreturn\u001b[39;00m obj\n\u001b[1;32m    933\u001b[0m \u001b[38;5;28;01mif\u001b[39;00m \u001b[38;5;28misinstance\u001b[39m(data, RDD):\n\u001b[0;32m--> 934\u001b[0m     rdd, struct \u001b[38;5;241m=\u001b[39m \u001b[38;5;28;43mself\u001b[39;49m\u001b[38;5;241;43m.\u001b[39;49m\u001b[43m_createFromRDD\u001b[49m\u001b[43m(\u001b[49m\u001b[43mdata\u001b[49m\u001b[38;5;241;43m.\u001b[39;49m\u001b[43mmap\u001b[49m\u001b[43m(\u001b[49m\u001b[43mprepare\u001b[49m\u001b[43m)\u001b[49m\u001b[43m,\u001b[49m\u001b[43m \u001b[49m\u001b[43mschema\u001b[49m\u001b[43m,\u001b[49m\u001b[43m \u001b[49m\u001b[43msamplingRatio\u001b[49m\u001b[43m)\u001b[49m\n\u001b[1;32m    935\u001b[0m \u001b[38;5;28;01melse\u001b[39;00m:\n\u001b[1;32m    936\u001b[0m     rdd, struct \u001b[38;5;241m=\u001b[39m \u001b[38;5;28mself\u001b[39m\u001b[38;5;241m.\u001b[39m_createFromLocal(\u001b[38;5;28mmap\u001b[39m(prepare, data), schema)\n",
      "File \u001b[0;32m~/g5_env_tf/lib/python3.9/site-packages/pyspark/sql/session.py:600\u001b[0m, in \u001b[0;36mSparkSession._createFromRDD\u001b[0;34m(self, rdd, schema, samplingRatio)\u001b[0m\n\u001b[1;32m    596\u001b[0m \u001b[38;5;124;03m\"\"\"\u001b[39;00m\n\u001b[1;32m    597\u001b[0m \u001b[38;5;124;03mCreate an RDD for DataFrame from an existing RDD, returns the RDD and schema.\u001b[39;00m\n\u001b[1;32m    598\u001b[0m \u001b[38;5;124;03m\"\"\"\u001b[39;00m\n\u001b[1;32m    599\u001b[0m \u001b[38;5;28;01mif\u001b[39;00m schema \u001b[38;5;129;01mis\u001b[39;00m \u001b[38;5;28;01mNone\u001b[39;00m \u001b[38;5;129;01mor\u001b[39;00m \u001b[38;5;28misinstance\u001b[39m(schema, (\u001b[38;5;28mlist\u001b[39m, \u001b[38;5;28mtuple\u001b[39m)):\n\u001b[0;32m--> 600\u001b[0m     struct \u001b[38;5;241m=\u001b[39m \u001b[38;5;28;43mself\u001b[39;49m\u001b[38;5;241;43m.\u001b[39;49m\u001b[43m_inferSchema\u001b[49m\u001b[43m(\u001b[49m\u001b[43mrdd\u001b[49m\u001b[43m,\u001b[49m\u001b[43m \u001b[49m\u001b[43msamplingRatio\u001b[49m\u001b[43m,\u001b[49m\u001b[43m \u001b[49m\u001b[43mnames\u001b[49m\u001b[38;5;241;43m=\u001b[39;49m\u001b[43mschema\u001b[49m\u001b[43m)\u001b[49m\n\u001b[1;32m    601\u001b[0m     converter \u001b[38;5;241m=\u001b[39m _create_converter(struct)\n\u001b[1;32m    602\u001b[0m     tupled_rdd \u001b[38;5;241m=\u001b[39m rdd\u001b[38;5;241m.\u001b[39mmap(converter)\n",
      "File \u001b[0;32m~/g5_env_tf/lib/python3.9/site-packages/pyspark/sql/session.py:546\u001b[0m, in \u001b[0;36mSparkSession._inferSchema\u001b[0;34m(self, rdd, samplingRatio, names)\u001b[0m\n\u001b[1;32m    525\u001b[0m \u001b[38;5;28;01mdef\u001b[39;00m \u001b[38;5;21m_inferSchema\u001b[39m(\n\u001b[1;32m    526\u001b[0m     \u001b[38;5;28mself\u001b[39m,\n\u001b[1;32m    527\u001b[0m     rdd: RDD[Any],\n\u001b[1;32m    528\u001b[0m     samplingRatio: Optional[\u001b[38;5;28mfloat\u001b[39m] \u001b[38;5;241m=\u001b[39m \u001b[38;5;28;01mNone\u001b[39;00m,\n\u001b[1;32m    529\u001b[0m     names: Optional[List[\u001b[38;5;28mstr\u001b[39m]] \u001b[38;5;241m=\u001b[39m \u001b[38;5;28;01mNone\u001b[39;00m,\n\u001b[1;32m    530\u001b[0m ) \u001b[38;5;241m-\u001b[39m\u001b[38;5;241m>\u001b[39m StructType:\n\u001b[1;32m    531\u001b[0m     \u001b[38;5;124;03m\"\"\"\u001b[39;00m\n\u001b[1;32m    532\u001b[0m \u001b[38;5;124;03m    Infer schema from an RDD of Row, dict, or tuple.\u001b[39;00m\n\u001b[1;32m    533\u001b[0m \n\u001b[0;32m   (...)\u001b[0m\n\u001b[1;32m    544\u001b[0m \u001b[38;5;124;03m    :class:`pyspark.sql.types.StructType`\u001b[39;00m\n\u001b[1;32m    545\u001b[0m \u001b[38;5;124;03m    \"\"\"\u001b[39;00m\n\u001b[0;32m--> 546\u001b[0m     first \u001b[38;5;241m=\u001b[39m \u001b[43mrdd\u001b[49m\u001b[38;5;241;43m.\u001b[39;49m\u001b[43mfirst\u001b[49m\u001b[43m(\u001b[49m\u001b[43m)\u001b[49m\n\u001b[1;32m    547\u001b[0m     \u001b[38;5;28;01mif\u001b[39;00m \u001b[38;5;129;01mnot\u001b[39;00m first:\n\u001b[1;32m    548\u001b[0m         \u001b[38;5;28;01mraise\u001b[39;00m \u001b[38;5;167;01mValueError\u001b[39;00m(\u001b[38;5;124m\"\u001b[39m\u001b[38;5;124mThe first row in RDD is empty, \u001b[39m\u001b[38;5;124m\"\u001b[39m \u001b[38;5;124m\"\u001b[39m\u001b[38;5;124mcan not infer schema\u001b[39m\u001b[38;5;124m\"\u001b[39m)\n",
      "File \u001b[0;32m~/g5_env_tf/lib/python3.9/site-packages/pyspark/rdd.py:1903\u001b[0m, in \u001b[0;36mRDD.first\u001b[0;34m(self)\u001b[0m\n\u001b[1;32m   1890\u001b[0m \u001b[38;5;28;01mdef\u001b[39;00m \u001b[38;5;21mfirst\u001b[39m(\u001b[38;5;28mself\u001b[39m: \u001b[38;5;124m\"\u001b[39m\u001b[38;5;124mRDD[T]\u001b[39m\u001b[38;5;124m\"\u001b[39m) \u001b[38;5;241m-\u001b[39m\u001b[38;5;241m>\u001b[39m T:\n\u001b[1;32m   1891\u001b[0m     \u001b[38;5;124;03m\"\"\"\u001b[39;00m\n\u001b[1;32m   1892\u001b[0m \u001b[38;5;124;03m    Return the first element in this RDD.\u001b[39;00m\n\u001b[1;32m   1893\u001b[0m \n\u001b[0;32m   (...)\u001b[0m\n\u001b[1;32m   1901\u001b[0m \u001b[38;5;124;03m    ValueError: RDD is empty\u001b[39;00m\n\u001b[1;32m   1902\u001b[0m \u001b[38;5;124;03m    \"\"\"\u001b[39;00m\n\u001b[0;32m-> 1903\u001b[0m     rs \u001b[38;5;241m=\u001b[39m \u001b[38;5;28;43mself\u001b[39;49m\u001b[38;5;241;43m.\u001b[39;49m\u001b[43mtake\u001b[49m\u001b[43m(\u001b[49m\u001b[38;5;241;43m1\u001b[39;49m\u001b[43m)\u001b[49m\n\u001b[1;32m   1904\u001b[0m     \u001b[38;5;28;01mif\u001b[39;00m rs:\n\u001b[1;32m   1905\u001b[0m         \u001b[38;5;28;01mreturn\u001b[39;00m rs[\u001b[38;5;241m0\u001b[39m]\n",
      "File \u001b[0;32m~/g5_env_tf/lib/python3.9/site-packages/pyspark/rdd.py:1883\u001b[0m, in \u001b[0;36mRDD.take\u001b[0;34m(self, num)\u001b[0m\n\u001b[1;32m   1880\u001b[0m         taken \u001b[38;5;241m+\u001b[39m\u001b[38;5;241m=\u001b[39m \u001b[38;5;241m1\u001b[39m\n\u001b[1;32m   1882\u001b[0m p \u001b[38;5;241m=\u001b[39m \u001b[38;5;28mrange\u001b[39m(partsScanned, \u001b[38;5;28mmin\u001b[39m(partsScanned \u001b[38;5;241m+\u001b[39m numPartsToTry, totalParts))\n\u001b[0;32m-> 1883\u001b[0m res \u001b[38;5;241m=\u001b[39m \u001b[38;5;28;43mself\u001b[39;49m\u001b[38;5;241;43m.\u001b[39;49m\u001b[43mcontext\u001b[49m\u001b[38;5;241;43m.\u001b[39;49m\u001b[43mrunJob\u001b[49m\u001b[43m(\u001b[49m\u001b[38;5;28;43mself\u001b[39;49m\u001b[43m,\u001b[49m\u001b[43m \u001b[49m\u001b[43mtakeUpToNumLeft\u001b[49m\u001b[43m,\u001b[49m\u001b[43m \u001b[49m\u001b[43mp\u001b[49m\u001b[43m)\u001b[49m\n\u001b[1;32m   1885\u001b[0m items \u001b[38;5;241m+\u001b[39m\u001b[38;5;241m=\u001b[39m res\n\u001b[1;32m   1886\u001b[0m partsScanned \u001b[38;5;241m+\u001b[39m\u001b[38;5;241m=\u001b[39m numPartsToTry\n",
      "File \u001b[0;32m~/g5_env_tf/lib/python3.9/site-packages/pyspark/context.py:1486\u001b[0m, in \u001b[0;36mSparkContext.runJob\u001b[0;34m(self, rdd, partitionFunc, partitions, allowLocal)\u001b[0m\n\u001b[1;32m   1484\u001b[0m mappedRDD \u001b[38;5;241m=\u001b[39m rdd\u001b[38;5;241m.\u001b[39mmapPartitions(partitionFunc)\n\u001b[1;32m   1485\u001b[0m \u001b[38;5;28;01massert\u001b[39;00m \u001b[38;5;28mself\u001b[39m\u001b[38;5;241m.\u001b[39m_jvm \u001b[38;5;129;01mis\u001b[39;00m \u001b[38;5;129;01mnot\u001b[39;00m \u001b[38;5;28;01mNone\u001b[39;00m\n\u001b[0;32m-> 1486\u001b[0m sock_info \u001b[38;5;241m=\u001b[39m \u001b[38;5;28;43mself\u001b[39;49m\u001b[38;5;241;43m.\u001b[39;49m\u001b[43m_jvm\u001b[49m\u001b[38;5;241;43m.\u001b[39;49m\u001b[43mPythonRDD\u001b[49m\u001b[38;5;241;43m.\u001b[39;49m\u001b[43mrunJob\u001b[49m\u001b[43m(\u001b[49m\u001b[38;5;28;43mself\u001b[39;49m\u001b[38;5;241;43m.\u001b[39;49m\u001b[43m_jsc\u001b[49m\u001b[38;5;241;43m.\u001b[39;49m\u001b[43msc\u001b[49m\u001b[43m(\u001b[49m\u001b[43m)\u001b[49m\u001b[43m,\u001b[49m\u001b[43m \u001b[49m\u001b[43mmappedRDD\u001b[49m\u001b[38;5;241;43m.\u001b[39;49m\u001b[43m_jrdd\u001b[49m\u001b[43m,\u001b[49m\u001b[43m \u001b[49m\u001b[43mpartitions\u001b[49m\u001b[43m)\u001b[49m\n\u001b[1;32m   1487\u001b[0m \u001b[38;5;28;01mreturn\u001b[39;00m \u001b[38;5;28mlist\u001b[39m(_load_from_socket(sock_info, mappedRDD\u001b[38;5;241m.\u001b[39m_jrdd_deserializer))\n",
      "File \u001b[0;32m~/g5_env_tf/lib/python3.9/site-packages/py4j/java_gateway.py:1320\u001b[0m, in \u001b[0;36mJavaMember.__call__\u001b[0;34m(self, *args)\u001b[0m\n\u001b[1;32m   1313\u001b[0m args_command, temp_args \u001b[38;5;241m=\u001b[39m \u001b[38;5;28mself\u001b[39m\u001b[38;5;241m.\u001b[39m_build_args(\u001b[38;5;241m*\u001b[39margs)\n\u001b[1;32m   1315\u001b[0m command \u001b[38;5;241m=\u001b[39m proto\u001b[38;5;241m.\u001b[39mCALL_COMMAND_NAME \u001b[38;5;241m+\u001b[39m\\\n\u001b[1;32m   1316\u001b[0m     \u001b[38;5;28mself\u001b[39m\u001b[38;5;241m.\u001b[39mcommand_header \u001b[38;5;241m+\u001b[39m\\\n\u001b[1;32m   1317\u001b[0m     args_command \u001b[38;5;241m+\u001b[39m\\\n\u001b[1;32m   1318\u001b[0m     proto\u001b[38;5;241m.\u001b[39mEND_COMMAND_PART\n\u001b[0;32m-> 1320\u001b[0m answer \u001b[38;5;241m=\u001b[39m \u001b[38;5;28;43mself\u001b[39;49m\u001b[38;5;241;43m.\u001b[39;49m\u001b[43mgateway_client\u001b[49m\u001b[38;5;241;43m.\u001b[39;49m\u001b[43msend_command\u001b[49m\u001b[43m(\u001b[49m\u001b[43mcommand\u001b[49m\u001b[43m)\u001b[49m\n\u001b[1;32m   1321\u001b[0m return_value \u001b[38;5;241m=\u001b[39m get_return_value(\n\u001b[1;32m   1322\u001b[0m     answer, \u001b[38;5;28mself\u001b[39m\u001b[38;5;241m.\u001b[39mgateway_client, \u001b[38;5;28mself\u001b[39m\u001b[38;5;241m.\u001b[39mtarget_id, \u001b[38;5;28mself\u001b[39m\u001b[38;5;241m.\u001b[39mname)\n\u001b[1;32m   1324\u001b[0m \u001b[38;5;28;01mfor\u001b[39;00m temp_arg \u001b[38;5;129;01min\u001b[39;00m temp_args:\n",
      "File \u001b[0;32m~/g5_env_tf/lib/python3.9/site-packages/py4j/java_gateway.py:1038\u001b[0m, in \u001b[0;36mGatewayClient.send_command\u001b[0;34m(self, command, retry, binary)\u001b[0m\n\u001b[1;32m   1036\u001b[0m connection \u001b[38;5;241m=\u001b[39m \u001b[38;5;28mself\u001b[39m\u001b[38;5;241m.\u001b[39m_get_connection()\n\u001b[1;32m   1037\u001b[0m \u001b[38;5;28;01mtry\u001b[39;00m:\n\u001b[0;32m-> 1038\u001b[0m     response \u001b[38;5;241m=\u001b[39m \u001b[43mconnection\u001b[49m\u001b[38;5;241;43m.\u001b[39;49m\u001b[43msend_command\u001b[49m\u001b[43m(\u001b[49m\u001b[43mcommand\u001b[49m\u001b[43m)\u001b[49m\n\u001b[1;32m   1039\u001b[0m     \u001b[38;5;28;01mif\u001b[39;00m binary:\n\u001b[1;32m   1040\u001b[0m         \u001b[38;5;28;01mreturn\u001b[39;00m response, \u001b[38;5;28mself\u001b[39m\u001b[38;5;241m.\u001b[39m_create_connection_guard(connection)\n",
      "File \u001b[0;32m~/g5_env_tf/lib/python3.9/site-packages/py4j/clientserver.py:511\u001b[0m, in \u001b[0;36mClientServerConnection.send_command\u001b[0;34m(self, command)\u001b[0m\n\u001b[1;32m    509\u001b[0m \u001b[38;5;28;01mtry\u001b[39;00m:\n\u001b[1;32m    510\u001b[0m     \u001b[38;5;28;01mwhile\u001b[39;00m \u001b[38;5;28;01mTrue\u001b[39;00m:\n\u001b[0;32m--> 511\u001b[0m         answer \u001b[38;5;241m=\u001b[39m smart_decode(\u001b[38;5;28;43mself\u001b[39;49m\u001b[38;5;241;43m.\u001b[39;49m\u001b[43mstream\u001b[49m\u001b[38;5;241;43m.\u001b[39;49m\u001b[43mreadline\u001b[49m\u001b[43m(\u001b[49m\u001b[43m)\u001b[49m[:\u001b[38;5;241m-\u001b[39m\u001b[38;5;241m1\u001b[39m])\n\u001b[1;32m    512\u001b[0m         logger\u001b[38;5;241m.\u001b[39mdebug(\u001b[38;5;124m\"\u001b[39m\u001b[38;5;124mAnswer received: \u001b[39m\u001b[38;5;132;01m{0}\u001b[39;00m\u001b[38;5;124m\"\u001b[39m\u001b[38;5;241m.\u001b[39mformat(answer))\n\u001b[1;32m    513\u001b[0m         \u001b[38;5;66;03m# Happens when a the other end is dead. There might be an empty\u001b[39;00m\n\u001b[1;32m    514\u001b[0m         \u001b[38;5;66;03m# answer before the socket raises an error.\u001b[39;00m\n",
      "File \u001b[0;32m/opt/python39/lib/python3.9/socket.py:704\u001b[0m, in \u001b[0;36mSocketIO.readinto\u001b[0;34m(self, b)\u001b[0m\n\u001b[1;32m    702\u001b[0m \u001b[38;5;28;01mwhile\u001b[39;00m \u001b[38;5;28;01mTrue\u001b[39;00m:\n\u001b[1;32m    703\u001b[0m     \u001b[38;5;28;01mtry\u001b[39;00m:\n\u001b[0;32m--> 704\u001b[0m         \u001b[38;5;28;01mreturn\u001b[39;00m \u001b[38;5;28;43mself\u001b[39;49m\u001b[38;5;241;43m.\u001b[39;49m\u001b[43m_sock\u001b[49m\u001b[38;5;241;43m.\u001b[39;49m\u001b[43mrecv_into\u001b[49m\u001b[43m(\u001b[49m\u001b[43mb\u001b[49m\u001b[43m)\u001b[49m\n\u001b[1;32m    705\u001b[0m     \u001b[38;5;28;01mexcept\u001b[39;00m timeout:\n\u001b[1;32m    706\u001b[0m         \u001b[38;5;28mself\u001b[39m\u001b[38;5;241m.\u001b[39m_timeout_occurred \u001b[38;5;241m=\u001b[39m \u001b[38;5;28;01mTrue\u001b[39;00m\n",
      "\u001b[0;31mKeyboardInterrupt\u001b[0m: "
     ]
    }
   ],
   "source": [
    "column = ['sentence', 'language', 'pos_tag']\n",
    "df_zh = standard_zh_pos_tag.toDF(column)\n",
    "df_en = standard_en_pos_tag.toDF(column)\n",
    "df_ms = ms_pos_tag.toDF(column)\n",
    "df_none = none_pos_tag.toDF(column)"
   ]
  },
  {
   "cell_type": "code",
   "execution_count": null,
   "id": "c40f6d83-e6fe-4b54-9714-f5002e9c97a4",
   "metadata": {},
   "outputs": [],
   "source": [
    "df_final = df_zh.union(df_en).union(df_ms).union(df_none).persist(StorageLevel.MEMORY_ONLY)"
   ]
  },
  {
   "cell_type": "code",
   "execution_count": null,
   "id": "a98c95a3-3eb8-4e60-a64e-1f88c7c6cccc",
   "metadata": {},
   "outputs": [],
   "source": [
    "df_final.show()"
   ]
  },
  {
   "cell_type": "code",
   "execution_count": null,
   "id": "c6944807-010e-4345-b4c2-6f9cfd3e7d99",
   "metadata": {},
   "outputs": [],
   "source": [
    "from pyspark.sql.functions import col, concat_ws\n",
    "df_final = df_final.withColumn('pos_tag', concat_ws(', ', col('pos_tag')))"
   ]
  },
  {
   "cell_type": "code",
   "execution_count": null,
   "id": "90d103e1-ed09-4cd0-a696-b4b84937ea16",
   "metadata": {},
   "outputs": [],
   "source": [
    "df_final.show()"
   ]
  },
  {
   "cell_type": "code",
   "execution_count": null,
   "id": "41473182-5f06-4e63-aff0-cbde4fe94cbb",
   "metadata": {},
   "outputs": [],
   "source": [
    "import pyspark.sql.functions as f\n",
    "df_final = df_final.withColumn('n-gram', f.size(f.split(f.col('pos_tag'), ' ')))"
   ]
  },
  {
   "cell_type": "code",
   "execution_count": null,
   "id": "a123620e-de83-40bd-84c2-b8565fe00353",
   "metadata": {},
   "outputs": [],
   "source": [
    "df_final = df_final.filter(col('n-gram') < 6)"
   ]
  },
  {
   "cell_type": "code",
   "execution_count": null,
   "id": "fdd33c2b-ed15-4231-9c4d-5bd74e6d4dae",
   "metadata": {},
   "outputs": [],
   "source": [
    "df_final.show()"
   ]
  },
  {
   "cell_type": "raw",
   "id": "a4a1c153-a02a-4e83-a4df-eb83f9a8eeaf",
   "metadata": {},
   "source": [
    "df_final = df_final.coalesce(1)\n",
    "\n",
    "df_final.write.parquet('hdfs://g5.bigtop.it:8020/user/root/social_media_final')"
   ]
  },
  {
   "cell_type": "raw",
   "id": "9399a039-869a-4563-913e-fbd6c3cc4aa8",
   "metadata": {},
   "source": [
    "df_final.write.csv('social_media_final', header = True)"
   ]
  },
  {
   "cell_type": "code",
   "execution_count": null,
   "id": "b3555f58-8035-47c3-8396-c66be5bda453",
   "metadata": {},
   "outputs": [],
   "source": []
  }
 ],
 "metadata": {
  "kernelspec": {
   "display_name": "g5_env_tf",
   "language": "python",
   "name": "g5_env_tf"
  },
  "language_info": {
   "codemirror_mode": {
    "name": "ipython",
    "version": 3
   },
   "file_extension": ".py",
   "mimetype": "text/x-python",
   "name": "python",
   "nbconvert_exporter": "python",
   "pygments_lexer": "ipython3",
   "version": "3.9.13"
  }
 },
 "nbformat": 4,
 "nbformat_minor": 5
}
