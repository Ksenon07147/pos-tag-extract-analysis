{
 "cells": [
  {
   "cell_type": "markdown",
   "id": "2ccb3234-4436-445a-a1d6-3b52c37c8961",
   "metadata": {},
   "source": [
    "## Language Detection"
   ]
  },
  {
   "cell_type": "code",
   "execution_count": 1,
   "id": "47a414fb-53dc-40a5-9898-3ab4bacd77e2",
   "metadata": {},
   "outputs": [
    {
     "name": "stderr",
     "output_type": "stream",
     "text": [
      "Setting default log level to \"WARN\".\n",
      "To adjust logging level use sc.setLogLevel(newLevel). For SparkR, use setLogLevel(newLevel).\n"
     ]
    },
    {
     "name": "stdout",
     "output_type": "stream",
     "text": [
      "22/10/09 21:10:40 WARN NativeCodeLoader: Unable to load native-hadoop library for your platform... using builtin-java classes where applicable\n",
      "22/10/09 21:10:41 WARN Utils: Service 'SparkUI' could not bind on port 4040. Attempting port 4041.\n"
     ]
    },
    {
     "data": {
      "text/html": [
       "\n",
       "            <div>\n",
       "                <p><b>SparkSession - in-memory</b></p>\n",
       "                \n",
       "        <div>\n",
       "            <p><b>SparkContext</b></p>\n",
       "\n",
       "            <p><a href=\"http://g5.bigtop.it:4041\">Spark UI</a></p>\n",
       "\n",
       "            <dl>\n",
       "              <dt>Version</dt>\n",
       "                <dd><code>v3.3.0</code></dd>\n",
       "              <dt>Master</dt>\n",
       "                <dd><code>local[*]</code></dd>\n",
       "              <dt>AppName</dt>\n",
       "                <dd><code>Language Detection</code></dd>\n",
       "            </dl>\n",
       "        </div>\n",
       "        \n",
       "            </div>\n",
       "        "
      ],
      "text/plain": [
       "<pyspark.sql.session.SparkSession at 0x7f9e1df5dfd0>"
      ]
     },
     "execution_count": 1,
     "metadata": {},
     "output_type": "execute_result"
    }
   ],
   "source": [
    "from pyspark.sql import SparkSession\n",
    "from pyspark import StorageLevel\n",
    "import os\n",
    "\n",
    "os.environ[\"PYSPARK_PYTHON\"]=\"/home/pc/g5_env/bin/python39\"\n",
    "\n",
    "spark = SparkSession.builder.master(\"local[*]\")\\\n",
    "            .appName(\"Language Detection\")\\\n",
    "            .config('spark.executor.memory', '30g')\\\n",
    "            .config('spark.driver.maxResultSize', '30g')\\\n",
    "            .config('spark.driver.memory', '30g')\\\n",
    "            .getOrCreate()\n",
    "            # .config('spark.ui.showConsoleProgress', False)\\\n",
    "           \n",
    "\n",
    "sparkContext = spark.sparkContext\n",
    "\n",
    "spark"
   ]
  },
  {
   "cell_type": "code",
   "execution_count": 2,
   "id": "f9bfea24-e321-4ed5-8206-ec5659897d03",
   "metadata": {},
   "outputs": [],
   "source": [
    "file_path = \"hdfs://g5.bigtop.it:8020/user/root/filtered_social_media.parquet/part-00000-44f708f2-eb56-4495-8536-dd03b0326bbc-c000.snappy.parquet\""
   ]
  },
  {
   "cell_type": "code",
   "execution_count": 3,
   "id": "74bcef9a-ac4c-4a1f-941d-8c94f71ddacf",
   "metadata": {},
   "outputs": [
    {
     "name": "stderr",
     "output_type": "stream",
     "text": [
      "[Stage 3:=====================================================>   (16 + 1) / 17]\r"
     ]
    },
    {
     "name": "stdout",
     "output_type": "stream",
     "text": [
      "+--------------------+----------+----------+--------------------+--------------------+--------------------+--------------------+\n",
      "|      token_sentence|sent_count|word_count|              2grams|              3grams|              4grams|              5grams|\n",
      "+--------------------+----------+----------+--------------------+--------------------+--------------------+--------------------+\n",
      "|[kafi, ghatia, pr...|         1|         5|                  []|                  []|                  []|                  []|\n",
      "|[pelayanan, yg, r...|         1|         5|                  []|                  []|                  []|                  []|\n",
      "|[aron, got, to, h...|         1|        23|[top quality, qua...|[getting top qual...|[we getting top q...|[many we getting ...|\n",
      "|[great, clothes, ...|         1|         6|[great quality, q...|[clothes great qu...|[great clothes gr...|[great clothes gr...|\n",
      "|[good, product, q...|      1555|         7|[product quality,...|[good product qua...|[good product qua...|[good product qua...|\n",
      "|[the, former, qua...|         1|        14|[former quality, ...|[the former quali...|[the former quali...|[the former quali...|\n",
      "|[penghantaran, pa...|         2|        17|[jahitan kemas, k...|[ok jahitan kemas...|[baju ok jahitan ...|[pantas baju ok j...|\n",
      "|[barang, semua, d...|         1|        11|                  []|                  []|                  []|                  []|\n",
      "|[good, product, q...|         1|         5|[product qualityf...|[good product qua...|[good product qua...|[good product qua...|\n",
      "|[barang, sudah, t...|         1|         8|                  []|                  []|                  []|                  []|\n",
      "|[tak, sampai, jam...|         1|         8|                  []|                  []|                  []|                  []|\n",
      "|[the, quality, is...|         1|         9|[the quality, qua...|[the quality is, ...|[the quality is g...|[the quality is g...|\n",
      "|[fast, shipping, ...|         4|        14|                  []|                  []|                  []|                  []|\n",
      "|[terbaik, servis,...|         1|        27|                  []|                  []|                  []|                  []|\n",
      "|[barang, diterima...|         2|        11|                  []|                  []|                  []|                  []|\n",
      "|[terbaik, penghan...|         1|        17|                  []|                  []|                  []|                  []|\n",
      "|[terbaik, seller,...|         1|         5|     [packing kemas]|[mantap packing k...|[seller mantap pa...|[terbaik seller m...|\n",
      "|[ok, barang, suda...|         1|        10|                  []|                  []|                  []|                  []|\n",
      "|[sorry, gambar, d...|         1|        18|                  []|                  []|                  []|                  []|\n",
      "|[foldable, car, o...|         2|        10|[and quality, qua...|[useful and quali...|[very useful and ...|[organizer very u...|\n",
      "+--------------------+----------+----------+--------------------+--------------------+--------------------+--------------------+\n",
      "only showing top 20 rows\n",
      "\n"
     ]
    },
    {
     "name": "stderr",
     "output_type": "stream",
     "text": [
      "                                                                                \r"
     ]
    }
   ],
   "source": [
    "df1 = spark.read.option(\"header\",True).parquet(file_path)\n",
    "df1.show()"
   ]
  },
  {
   "cell_type": "code",
   "execution_count": 4,
   "id": "3271c117-2f0f-4d4b-983f-b105eef1f7dd",
   "metadata": {},
   "outputs": [
    {
     "data": {
      "text/plain": [
       "22"
      ]
     },
     "execution_count": 4,
     "metadata": {},
     "output_type": "execute_result"
    }
   ],
   "source": [
    "df1.rdd.getNumPartitions()"
   ]
  },
  {
   "cell_type": "code",
   "execution_count": 5,
   "id": "077989ac-e341-4349-b966-46e5101c8c66",
   "metadata": {},
   "outputs": [],
   "source": [
    "df1 = df1.repartition(110)"
   ]
  },
  {
   "cell_type": "code",
   "execution_count": 6,
   "id": "d853f928-7c43-40a1-902f-4a4d49fe5c90",
   "metadata": {},
   "outputs": [
    {
     "name": "stderr",
     "output_type": "stream",
     "text": [
      "[Stage 4:======================================================>  (21 + 1) / 22]\r"
     ]
    },
    {
     "data": {
      "text/plain": [
       "110"
      ]
     },
     "execution_count": 6,
     "metadata": {},
     "output_type": "execute_result"
    }
   ],
   "source": [
    "df1.rdd.getNumPartitions()"
   ]
  },
  {
   "cell_type": "code",
   "execution_count": 7,
   "id": "55e38612-d3a4-4358-ba13-4ee017b3eb7c",
   "metadata": {},
   "outputs": [
    {
     "name": "stderr",
     "output_type": "stream",
     "text": [
      "[Stage 5:======================================================>  (21 + 1) / 22]\r"
     ]
    },
    {
     "name": "stdout",
     "output_type": "stream",
     "text": [
      "+--------------------+----------+----------+--------------------+--------------------+--------------------+--------------------+\n",
      "|      token_sentence|sent_count|word_count|              2grams|              3grams|              4grams|              5grams|\n",
      "+--------------------+----------+----------+--------------------+--------------------+--------------------+--------------------+\n",
      "|[fast, delivery, ...|         2|         9|[high quality, qu...|[delivery high qu...|[fast delivery hi...|[fast delivery hi...|\n",
      "|[good, pruduct, q...|         1|        10|[pruduct quality,...|[good pruduct qua...|[good pruduct qua...|[good pruduct qua...|\n",
      "|[nice, penghantar...|         1|        26|                  []|                  []|                  []|                  []|\n",
      "|[barang, dah, sam...|         1|        10|                  []|                  []|                  []|                  []|\n",
      "|[barang, sampai, ...|         1|         7|                  []|                  []|                  []|                  []|\n",
      "|[barang, cukup, a...|         1|         7|                  []|                  []|                  []|                  []|\n",
      "|[penghantaran, ba...|         2|         4|                  []|                  []|                  []|                  []|\n",
      "|[super, fast, del...|         1|        11|                  []|                  []|                  []|                  []|\n",
      "|[fast, delivery, ...|         1|         9|      [good quality]|[airtight good qu...|[condition airtig...|[good condition a...|\n",
      "|[barang, dh, smpa...|         3|        14|                  []|                  []|                  []|                  []|\n",
      "|[bos, barang, tak...|         1|         5|                  []|                  []|                  []|                  []|\n",
      "|[rd, time, beli, ...|         2|        16|                  []|                  []|                  []|                  []|\n",
      "|[barang, sampai, ...|         1|         5|                  []|                  []|                  []|                  []|\n",
      "|[barang, function...|         2|         3|                  []|                  []|                  []|                  []|\n",
      "|[materialgood, qu...|         1|         7|[materialgood qua...|[materialgood qua...|[materialgood qua...|[materialgood qua...|\n",
      "|[good, product, t...|         1|        18|                  []|                  []|                  []|                  []|\n",
      "|[kualiti, barang,...|         1|         8|          [yg kemas]|[bungkusan yg kemas]|[cepat bungkusan ...|[penghantaran cep...|\n",
      "|[superb, quality,...|         1|         6|[superb quality, ...|[superb quality n...|[superb quality n...|[superb quality n...|\n",
      "|[barang, dh, smpa...|         1|        11|                  []|                  []|                  []|                  []|\n",
      "|[bungkusan, baran...|         3|        11|[barang kemas, ke...|[bungkusan barang...|[bungkusan barang...|[bungkusan barang...|\n",
      "+--------------------+----------+----------+--------------------+--------------------+--------------------+--------------------+\n",
      "only showing top 20 rows\n",
      "\n"
     ]
    },
    {
     "name": "stderr",
     "output_type": "stream",
     "text": [
      "                                                                                \r"
     ]
    }
   ],
   "source": [
    "df1.show()"
   ]
  },
  {
   "cell_type": "code",
   "execution_count": 8,
   "id": "00ba00a2-d5f6-4f1a-8132-2461224157f0",
   "metadata": {},
   "outputs": [],
   "source": [
    "from pyspark.sql.functions import col\n",
    "\n",
    "gram2 = df1.select(col(\"2grams\")).withColumnRenamed(\"2grams\",\"n-grams\")\n",
    "gram3 = df1.select(col(\"3grams\")).filter(df1.word_count > 2).withColumnRenamed(\"3grams\",\"n-grams\")\n",
    "gram4 = df1.select(col(\"4grams\")).filter(df1.word_count > 3).withColumnRenamed(\"4grams\",\"n-grams\")\n",
    "gram5 = df1.select(col(\"5grams\")).filter(df1.word_count > 4).withColumnRenamed(\"5grams\",\"n-grams\")"
   ]
  },
  {
   "cell_type": "code",
   "execution_count": 9,
   "id": "9fb2334b-d859-4cd7-8a80-63c9433def8e",
   "metadata": {},
   "outputs": [],
   "source": [
    "n_gram = gram5.union(gram4).union(gram3).union(gram2).persist(StorageLevel.MEMORY_ONLY)"
   ]
  },
  {
   "cell_type": "code",
   "execution_count": 10,
   "id": "124c5a7e-9fb4-4c7f-b89c-35c65052e122",
   "metadata": {},
   "outputs": [
    {
     "name": "stderr",
     "output_type": "stream",
     "text": [
      "[Stage 9:================>(21 + 1) / 22][Stage 10:===============>(21 + 1) / 22]\r"
     ]
    },
    {
     "name": "stdout",
     "output_type": "stream",
     "text": [
      "+-------------------------------------------------------------------------+\n",
      "|n-grams                                                                  |\n",
      "+-------------------------------------------------------------------------+\n",
      "|[good quality material bolela agak, quality material bolela agak berbulu]|\n",
      "+-------------------------------------------------------------------------+\n",
      "only showing top 1 row\n",
      "\n"
     ]
    },
    {
     "name": "stderr",
     "output_type": "stream",
     "text": [
      "                                                                                \r"
     ]
    }
   ],
   "source": [
    "n_gram.show(1, False)"
   ]
  },
  {
   "cell_type": "code",
   "execution_count": 11,
   "id": "8d2c743e-0f7e-4823-b41d-29df15f9e414",
   "metadata": {},
   "outputs": [],
   "source": [
    "from pyspark.sql.functions import explode\n",
    "ngrams = n_gram.select(explode(col('n-grams'))).withColumnRenamed(\"col\",\"ngrams\")"
   ]
  },
  {
   "cell_type": "code",
   "execution_count": 12,
   "id": "be62b5a3-adf1-465b-b4e6-2195ebaae8c9",
   "metadata": {},
   "outputs": [
    {
     "name": "stdout",
     "output_type": "stream",
     "text": [
      "+--------------------+\n",
      "|              ngrams|\n",
      "+--------------------+\n",
      "|good quality mate...|\n",
      "|quality material ...|\n",
      "|qualityworth the ...|\n",
      "|the money and hig...|\n",
      "|money and high qu...|\n",
      "|and high quality ...|\n",
      "|kerjabungkusan wa...|\n",
      "|quality tudung te...|\n",
      "|barang dah sampi ...|\n",
      "|dah sampi bungkus...|\n",
      "|sampi bungkusan o...|\n",
      "|bungkusan okkemas...|\n",
      "|okkemas xde ug ko...|\n",
      "|kalau nak nampak ...|\n",
      "|nak nampak lagi k...|\n",
      "|nampak lagi kemas...|\n",
      "|lagi kemas kena t...|\n",
      "|kemas kena tekan ...|\n",
      "|quality ok but se...|\n",
      "|very impress with...|\n",
      "+--------------------+\n",
      "only showing top 20 rows\n",
      "\n"
     ]
    }
   ],
   "source": [
    "ngrams.show()"
   ]
  },
  {
   "cell_type": "code",
   "execution_count": 13,
   "id": "338d8295-61db-4083-9bf4-d866cba2cbda",
   "metadata": {},
   "outputs": [],
   "source": [
    "def f(x): return x   \n",
    "def exchangePosition(x, y):\n",
    "    return y, x"
   ]
  },
  {
   "cell_type": "code",
   "execution_count": 14,
   "id": "b0d7f373-3692-4b1c-964a-eefc7096fc40",
   "metadata": {},
   "outputs": [],
   "source": [
    "ngrams2 = ngrams.rdd.map(lambda x: (1,x))\\\n",
    ".flatMapValues(f)\\\n",
    ".map(lambda x: exchangePosition(x[0], x[1]))\\\n",
    ".reduceByKey(lambda a,b: a+b)\\\n",
    ".persist(StorageLevel.MEMORY_ONLY)"
   ]
  },
  {
   "cell_type": "code",
   "execution_count": 15,
   "id": "058c6e3e-3360-40f2-8cb1-e2c21f337d1e",
   "metadata": {},
   "outputs": [
    {
     "name": "stderr",
     "output_type": "stream",
     "text": [
      "                                                                                \r"
     ]
    },
    {
     "data": {
      "text/plain": [
       "1431722"
      ]
     },
     "execution_count": 15,
     "metadata": {},
     "output_type": "execute_result"
    }
   ],
   "source": [
    "ngrams2.count()"
   ]
  },
  {
   "cell_type": "code",
   "execution_count": 16,
   "id": "37a3c266-6d9e-43a6-acde-ca5670419f7b",
   "metadata": {},
   "outputs": [],
   "source": [
    "column = ['ngram', 'gram_count']\n",
    "ngrams2 = ngrams2.toDF(column)"
   ]
  },
  {
   "cell_type": "code",
   "execution_count": 17,
   "id": "facd1d81-d376-4930-a29d-7172df802f40",
   "metadata": {},
   "outputs": [
    {
     "name": "stdout",
     "output_type": "stream",
     "text": [
      "+------------------------+----------+\n",
      "|                   ngram|gram_count|\n",
      "+------------------------+----------+\n",
      "|    barang quality be...|         1|\n",
      "|    quality this is w...|         1|\n",
      "|    selamat bungkusan...|         1|\n",
      "|    you courier servi...|         1|\n",
      "|    poor product qual...|         1|\n",
      "|    wraplong expiry d...|         2|\n",
      "|    pantas dan kemasb...|         1|\n",
      "|    has a good qualit...|        37|\n",
      "|    box quality okay ...|         1|\n",
      "|    per describe and ...|        11|\n",
      "|    penghantaran cepa...|         1|\n",
      "|    always been good ...|         1|\n",
      "|    for product quali...|         1|\n",
      "|    baik good product...|         2|\n",
      "|药水 卖家 已经 答应 下次|         1|\n",
      "|    dan dibungkus den...|         4|\n",
      "|    kuat pembungkusan...|         1|\n",
      "|    这 卖家 真的 是 可以|         1|\n",
      "|    quality ok je ras...|         1|\n",
      "|    really good quali...|         2|\n",
      "+------------------------+----------+\n",
      "only showing top 20 rows\n",
      "\n"
     ]
    }
   ],
   "source": [
    "ngrams2.show()"
   ]
  },
  {
   "cell_type": "code",
   "execution_count": 18,
   "id": "e8783dbe-ffee-49c1-b229-52f3d1ac2e9a",
   "metadata": {},
   "outputs": [],
   "source": [
    "ngram2 = ngrams2.drop('gram_count')"
   ]
  },
  {
   "cell_type": "code",
   "execution_count": 19,
   "id": "4bb6af73-c061-4d30-8f09-46fdeaf83ce7",
   "metadata": {},
   "outputs": [
    {
     "name": "stdout",
     "output_type": "stream",
     "text": [
      "+------------------------+\n",
      "|                   ngram|\n",
      "+------------------------+\n",
      "|    barang quality be...|\n",
      "|    quality this is w...|\n",
      "|    selamat bungkusan...|\n",
      "|    you courier servi...|\n",
      "|    poor product qual...|\n",
      "|    wraplong expiry d...|\n",
      "|    pantas dan kemasb...|\n",
      "|    has a good qualit...|\n",
      "|    box quality okay ...|\n",
      "|    per describe and ...|\n",
      "|    penghantaran cepa...|\n",
      "|    always been good ...|\n",
      "|    for product quali...|\n",
      "|    baik good product...|\n",
      "|药水 卖家 已经 答应 下次|\n",
      "|    dan dibungkus den...|\n",
      "|    kuat pembungkusan...|\n",
      "|    这 卖家 真的 是 可以|\n",
      "|    quality ok je ras...|\n",
      "|    really good quali...|\n",
      "+------------------------+\n",
      "only showing top 20 rows\n",
      "\n"
     ]
    }
   ],
   "source": [
    "ngram2.show()"
   ]
  },
  {
   "cell_type": "code",
   "execution_count": 20,
   "id": "a51e2567-37d2-4ba9-aa31-bf8c1c0f7145",
   "metadata": {},
   "outputs": [
    {
     "name": "stdout",
     "output_type": "stream",
     "text": [
      "root\n",
      " |-- ngram: string (nullable = true)\n",
      "\n"
     ]
    }
   ],
   "source": [
    "ngram2.printSchema()"
   ]
  },
  {
   "cell_type": "code",
   "execution_count": 21,
   "id": "eb22a2d5-c4f1-4eff-bc8c-db2d7dd13b54",
   "metadata": {},
   "outputs": [
    {
     "name": "stdout",
     "output_type": "stream",
     "text": [
      "+-------------------------------------------+----------+\n",
      "|ngram                                      |word_count|\n",
      "+-------------------------------------------+----------+\n",
      "|barang quality berbaloi dengan hargamungkin|5         |\n",
      "|quality this is worth to                   |5         |\n",
      "|selamat bungkusan kemas sangat berpuas     |5         |\n",
      "|you courier services and hope              |5         |\n",
      "|poor product quality this product          |5         |\n",
      "|wraplong expiry dategood product quality   |5         |\n",
      "|pantas dan kemasbarang mampu milik         |5         |\n",
      "|has a good quality and                     |5         |\n",
      "|box quality okay dah selalu                |5         |\n",
      "|per describe and quality is                |5         |\n",
      "+-------------------------------------------+----------+\n",
      "only showing top 10 rows\n",
      "\n"
     ]
    }
   ],
   "source": [
    "import pyspark.sql.functions as f\n",
    "ngram2 = ngram2.withColumn('word_count', f.size(f.split(f.col('ngram'), ' '))).persist(StorageLevel.MEMORY_ONLY)\n",
    "ngram2.show(10, False)"
   ]
  },
  {
   "cell_type": "code",
   "execution_count": 22,
   "id": "2255245e-8df7-4caf-991d-82635cc4c252",
   "metadata": {},
   "outputs": [
    {
     "name": "stderr",
     "output_type": "stream",
     "text": [
      "                                                                                \r"
     ]
    },
    {
     "data": {
      "text/plain": [
       "1431722"
      ]
     },
     "execution_count": 22,
     "metadata": {},
     "output_type": "execute_result"
    }
   ],
   "source": [
    "ngram2.count()"
   ]
  },
  {
   "cell_type": "code",
   "execution_count": 23,
   "id": "bc3c4787-08e5-4188-9919-1b49fd85b076",
   "metadata": {},
   "outputs": [],
   "source": [
    "keywords =  ['quality', ' service', '购买', '卖家', 'kemas']\n",
    "\n",
    "def keyword_position(text, n_gram):\n",
    "\n",
    "    keyword = []\n",
    "    index_of_keyword =[]\n",
    "    \n",
    "    tempList = list(text.split(\" \"))\n",
    "    \n",
    "    for x in keywords:\n",
    "        i = 0\n",
    "        for y in tempList:\n",
    "            if x == y:\n",
    "                keyword.append(x)\n",
    "                index_of_keyword.append(i)\n",
    "            i = i + 1\n",
    "    \n",
    "    if keyword == []:\n",
    "        return\n",
    "    \n",
    "    if n_gram == 3 or n_gram == 2:\n",
    "        return text\n",
    "    \n",
    "    if n_gram == 5:\n",
    "        if 2 in index_of_keyword:\n",
    "            return text\n",
    "    \n",
    "    if n_gram == 4:\n",
    "        if 1 in index_of_keyword or 2 in index_of_keyword:\n",
    "            return text\n",
    "\n",
    "    return"
   ]
  },
  {
   "cell_type": "code",
   "execution_count": 24,
   "id": "c1d28a0c-e4a4-41c1-877e-765520966c44",
   "metadata": {
    "tags": []
   },
   "outputs": [],
   "source": [
    "from pyspark.sql import Row\n",
    "\n",
    "row = Row(\"ngram\")\n",
    "ngram3 = ngram2.rdd.map(lambda x: (keyword_position(x[0], x[1]))).map(row).toDF().dropna(how='any').persist(StorageLevel.MEMORY_ONLY)"
   ]
  },
  {
   "cell_type": "code",
   "execution_count": 25,
   "id": "0655ec20-7b10-4124-bad0-69506fad6ce8",
   "metadata": {
    "tags": []
   },
   "outputs": [
    {
     "name": "stderr",
     "output_type": "stream",
     "text": [
      "                                                                                \r"
     ]
    },
    {
     "data": {
      "text/plain": [
       "534349"
      ]
     },
     "execution_count": 25,
     "metadata": {},
     "output_type": "execute_result"
    }
   ],
   "source": [
    "ngram3.count()"
   ]
  },
  {
   "cell_type": "code",
   "execution_count": 26,
   "id": "86a3aa1a-d1bd-496b-a11a-4ee1b270b2d2",
   "metadata": {},
   "outputs": [
    {
     "name": "stderr",
     "output_type": "stream",
     "text": [
      "                                                                                \r"
     ]
    },
    {
     "data": {
      "text/plain": [
       "534349"
      ]
     },
     "execution_count": 26,
     "metadata": {},
     "output_type": "execute_result"
    }
   ],
   "source": [
    "from pyspark.sql.types import StringType\n",
    "from lingua import Language, LanguageDetectorBuilder\n",
    "from pyspark.sql.functions import col \n",
    "\n",
    "def lang_detect_word(text):\n",
    "    languages = [Language.ENGLISH, Language.MALAY, Language.CHINESE]\n",
    "    detector = LanguageDetectorBuilder.from_languages(*languages)\\\n",
    "    .with_minimum_relative_distance(0.1)\\\n",
    "    .build()\n",
    "    \n",
    "    empList = []\n",
    "    \n",
    "    for x in text.split(' '):\n",
    "        language = detector.detect_language_of(x)\n",
    "        if language == None:\n",
    "            empList.append('OOV')\n",
    "        elif language.name == 'ENGLISH':\n",
    "            empList.append('EN')\n",
    "        elif language.name == 'MALAY':\n",
    "            empList.append('MS')\n",
    "        elif language.name == 'CHINESE':\n",
    "            empList.append('ZH')    \n",
    "\n",
    "    return empList\n",
    "\n",
    "rdd_lang_detect = ngram3.rdd.map(lambda x:  (x[0],lang_detect_word(x[0]))).persist(StorageLevel.MEMORY_ONLY)\n",
    "rdd_lang_detect.count()"
   ]
  },
  {
   "cell_type": "code",
   "execution_count": 27,
   "id": "96741180-e080-49e5-a36b-673cf78f402d",
   "metadata": {},
   "outputs": [
    {
     "name": "stdout",
     "output_type": "stream",
     "text": [
      "+--------------------------------------+----------------------+\n",
      "|_1                                    |_2                    |\n",
      "+--------------------------------------+----------------------+\n",
      "|selamat bungkusan kemas sangat berpuas|[MS, MS, MS, MS, MS]  |\n",
      "|poor product quality this product     |[EN, EN, EN, EN, EN]  |\n",
      "|for product quality star with         |[EN, EN, EN, OOV, EN] |\n",
      "|really good quality fast delivery     |[EN, EN, EN, EN, EN]  |\n",
      "|usual product quality is great        |[EN, EN, EN, EN, EN]  |\n",
      "|and nice quality will purchase        |[EN, EN, EN, EN, EN]  |\n",
      "|money and quality looks great         |[EN, EN, EN, EN, EN]  |\n",
      "|glossy good quality suitable for      |[EN, EN, EN, EN, EN]  |\n",
      "|selamat bungkusan kemas kualiti baik  |[MS, MS, MS, OOV, MS] |\n",
      "|好 是 卖家 还有 回复                  |[ZH, ZH, ZH, ZH, ZH]  |\n",
      "|yang cepat quality yang sangat        |[MS, MS, EN, MS, MS]  |\n",
      "|dapat high quality mcm ni             |[MS, EN, EN, OOV, OOV]|\n",
      "|money good quality product fast       |[EN, EN, EN, EN, EN]  |\n",
      "|a proud quality indian youtuber       |[MS, EN, EN, OOV, OOV]|\n",
      "|pembungkusan yg kemas siap dgn        |[MS, OOV, MS, MS, EN] |\n",
      "|laju pembungkusan kemas terima kasih  |[MS, MS, MS, MS, MS]  |\n",
      "|affordable sgt quality dgn harga      |[EN, EN, EN, EN, MS]  |\n",
      "|行 值得 购买 要 注意                  |[ZH, ZH, ZH, ZH, ZH]  |\n",
      "|the color quality good friendly       |[EN, EN, EN, EN, EN]  |\n",
      "|hati sgt quality tiptop senang        |[MS, EN, EN, EN, MS]  |\n",
      "+--------------------------------------+----------------------+\n",
      "only showing top 20 rows\n",
      "\n"
     ]
    }
   ],
   "source": [
    "rdd_lang_detect.toDF().show(truncate = False)"
   ]
  },
  {
   "cell_type": "code",
   "execution_count": 28,
   "id": "5932597d-baf3-4d8e-9c2b-7a811e2adea3",
   "metadata": {},
   "outputs": [],
   "source": [
    "def lang_detect_sentence(text):\n",
    "    languages = [Language.ENGLISH, Language.MALAY, Language.CHINESE]\n",
    "    detector = LanguageDetectorBuilder.from_languages(*languages)\\\n",
    "    .build()\n",
    "    \n",
    "    language = detector.detect_language_of(text)\n",
    "    if language == None:\n",
    "        return 'None'\n",
    "    elif language.name == 'ENGLISH':\n",
    "        \n",
    "        return 'EN'\n",
    "    elif language.name == 'MALAY':\n",
    "        return 'MS'\n",
    "    elif language.name == 'CHINESE':\n",
    "        return 'ZH'\n",
    "    return 'None'"
   ]
  },
  {
   "cell_type": "code",
   "execution_count": 29,
   "id": "dcf49348-e249-4740-bfaf-39107072d295",
   "metadata": {},
   "outputs": [],
   "source": [
    "lang_detect = rdd_lang_detect.map(lambda x: (x[0], x[1], lang_detect_sentence(x[0]))).persist(StorageLevel.MEMORY_ONLY)"
   ]
  },
  {
   "cell_type": "code",
   "execution_count": 30,
   "id": "d09675fe-d2b6-444d-a23d-492dc28c6eff",
   "metadata": {},
   "outputs": [
    {
     "name": "stderr",
     "output_type": "stream",
     "text": [
      "                                                                                \r"
     ]
    },
    {
     "data": {
      "text/plain": [
       "534349"
      ]
     },
     "execution_count": 30,
     "metadata": {},
     "output_type": "execute_result"
    }
   ],
   "source": [
    "lang_detect.count()"
   ]
  },
  {
   "cell_type": "code",
   "execution_count": 31,
   "id": "c8bc6e66-1ff9-4086-9c67-a0372903b423",
   "metadata": {},
   "outputs": [],
   "source": [
    "column = ['sentence', 'language_word', 'language_sentence']"
   ]
  },
  {
   "cell_type": "code",
   "execution_count": 32,
   "id": "56e07da8-ebbf-42ff-b963-f6435d31fde8",
   "metadata": {},
   "outputs": [],
   "source": [
    "df_lang_detect = lang_detect.toDF(column)"
   ]
  },
  {
   "cell_type": "code",
   "execution_count": 33,
   "id": "d25c3477-1bae-4c7d-82da-20c79d2467f9",
   "metadata": {},
   "outputs": [
    {
     "name": "stdout",
     "output_type": "stream",
     "text": [
      "+--------------------+--------------------+-----------------+\n",
      "|            sentence|       language_word|language_sentence|\n",
      "+--------------------+--------------------+-----------------+\n",
      "|selamat bungkusan...|[MS, MS, MS, MS, MS]|               MS|\n",
      "|poor product qual...|[EN, EN, EN, EN, EN]|               EN|\n",
      "|for product quali...|[EN, EN, EN, OOV,...|               EN|\n",
      "|really good quali...|[EN, EN, EN, EN, EN]|               EN|\n",
      "|usual product qua...|[EN, EN, EN, EN, EN]|               EN|\n",
      "|and nice quality ...|[EN, EN, EN, EN, EN]|               EN|\n",
      "|money and quality...|[EN, EN, EN, EN, EN]|               EN|\n",
      "|glossy good quali...|[EN, EN, EN, EN, EN]|               EN|\n",
      "|selamat bungkusan...|[MS, MS, MS, OOV,...|               MS|\n",
      "|好 是 卖家 还有 回复|[ZH, ZH, ZH, ZH, ZH]|               ZH|\n",
      "|yang cepat qualit...|[MS, MS, EN, MS, MS]|               MS|\n",
      "|dapat high qualit...|[MS, EN, EN, OOV,...|               EN|\n",
      "|money good qualit...|[EN, EN, EN, EN, EN]|               EN|\n",
      "|a proud quality i...|[MS, EN, EN, OOV,...|               EN|\n",
      "|pembungkusan yg k...|[MS, OOV, MS, MS,...|               MS|\n",
      "|laju pembungkusan...|[MS, MS, MS, MS, MS]|               MS|\n",
      "|affordable sgt qu...|[EN, EN, EN, EN, MS]|               EN|\n",
      "|行 值得 购买 要 注意|[ZH, ZH, ZH, ZH, ZH]|               ZH|\n",
      "|the color quality...|[EN, EN, EN, EN, EN]|               EN|\n",
      "|hati sgt quality ...|[MS, EN, EN, EN, MS]|               EN|\n",
      "+--------------------+--------------------+-----------------+\n",
      "only showing top 20 rows\n",
      "\n"
     ]
    }
   ],
   "source": [
    "df_lang_detect.show()"
   ]
  },
  {
   "cell_type": "code",
   "execution_count": 34,
   "id": "7b1e8ae0-d8bb-4db2-ae7d-356082c0e303",
   "metadata": {},
   "outputs": [],
   "source": [
    "from pyspark.sql.functions import col, concat_ws\n",
    "df_final = df_lang_detect.withColumn('language_word', concat_ws(', ', col('language_word')))"
   ]
  },
  {
   "cell_type": "code",
   "execution_count": 35,
   "id": "ecb773d7-ecd4-41b2-9d45-786118894293",
   "metadata": {},
   "outputs": [
    {
     "name": "stdout",
     "output_type": "stream",
     "text": [
      "+--------------------+--------------------+-----------------+\n",
      "|            sentence|       language_word|language_sentence|\n",
      "+--------------------+--------------------+-----------------+\n",
      "|selamat bungkusan...|  MS, MS, MS, MS, MS|               MS|\n",
      "|poor product qual...|  EN, EN, EN, EN, EN|               EN|\n",
      "|for product quali...| EN, EN, EN, OOV, EN|               EN|\n",
      "|really good quali...|  EN, EN, EN, EN, EN|               EN|\n",
      "|usual product qua...|  EN, EN, EN, EN, EN|               EN|\n",
      "|and nice quality ...|  EN, EN, EN, EN, EN|               EN|\n",
      "|money and quality...|  EN, EN, EN, EN, EN|               EN|\n",
      "|glossy good quali...|  EN, EN, EN, EN, EN|               EN|\n",
      "|selamat bungkusan...| MS, MS, MS, OOV, MS|               MS|\n",
      "|好 是 卖家 还有 回复|  ZH, ZH, ZH, ZH, ZH|               ZH|\n",
      "|yang cepat qualit...|  MS, MS, EN, MS, MS|               MS|\n",
      "|dapat high qualit...|MS, EN, EN, OOV, OOV|               EN|\n",
      "|money good qualit...|  EN, EN, EN, EN, EN|               EN|\n",
      "|a proud quality i...|MS, EN, EN, OOV, OOV|               EN|\n",
      "|pembungkusan yg k...| MS, OOV, MS, MS, EN|               MS|\n",
      "|laju pembungkusan...|  MS, MS, MS, MS, MS|               MS|\n",
      "|affordable sgt qu...|  EN, EN, EN, EN, MS|               EN|\n",
      "|行 值得 购买 要 注意|  ZH, ZH, ZH, ZH, ZH|               ZH|\n",
      "|the color quality...|  EN, EN, EN, EN, EN|               EN|\n",
      "|hati sgt quality ...|  MS, EN, EN, EN, MS|               EN|\n",
      "+--------------------+--------------------+-----------------+\n",
      "only showing top 20 rows\n",
      "\n"
     ]
    }
   ],
   "source": [
    "df_final.show()"
   ]
  },
  {
   "cell_type": "raw",
   "id": "b08812ff-ae7e-4eea-a1d8-0e3297e6536a",
   "metadata": {},
   "source": [
    "df_final = df_final.coalesce(1)\n",
    "\n",
    "df_final.write.parquet(\"hdfs://g5.bigtop.it:8020/user/root/language_social_media\")"
   ]
  }
 ],
 "metadata": {
  "kernelspec": {
   "display_name": "g5_env",
   "language": "python",
   "name": "g5_env"
  },
  "language_info": {
   "codemirror_mode": {
    "name": "ipython",
    "version": 3
   },
   "file_extension": ".py",
   "mimetype": "text/x-python",
   "name": "python",
   "nbconvert_exporter": "python",
   "pygments_lexer": "ipython3",
   "version": "3.9.13"
  }
 },
 "nbformat": 4,
 "nbformat_minor": 5
}
