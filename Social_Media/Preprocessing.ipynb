{
 "cells": [
  {
   "cell_type": "markdown",
   "id": "52cbc149-23ce-4d46-a27c-f45af5a6d9a8",
   "metadata": {},
   "source": [
    "# <font color='red'>Social Media Data Preproccessing</font> "
   ]
  },
  {
   "cell_type": "markdown",
   "id": "76a2bcf3-1806-4707-a21d-e71158b27ddb",
   "metadata": {
    "tags": []
   },
   "source": [
    "## <font color='red'>Start Spark Session</font> "
   ]
  },
  {
   "cell_type": "code",
   "execution_count": 1,
   "id": "675f2d5d-c1bc-4a6c-bb72-dd81faafa069",
   "metadata": {},
   "outputs": [
    {
     "name": "stderr",
     "output_type": "stream",
     "text": [
      "Setting default log level to \"WARN\".\n",
      "To adjust logging level use sc.setLogLevel(newLevel). For SparkR, use setLogLevel(newLevel).\n"
     ]
    },
    {
     "name": "stdout",
     "output_type": "stream",
     "text": [
      "22/10/06 23:52:15 WARN NativeCodeLoader: Unable to load native-hadoop library for your platform... using builtin-java classes where applicable\n"
     ]
    },
    {
     "data": {
      "text/html": [
       "\n",
       "            <div>\n",
       "                <p><b>SparkSession - in-memory</b></p>\n",
       "                \n",
       "        <div>\n",
       "            <p><b>SparkContext</b></p>\n",
       "\n",
       "            <p><a href=\"http://g5.bigtop.it:4040\">Spark UI</a></p>\n",
       "\n",
       "            <dl>\n",
       "              <dt>Version</dt>\n",
       "                <dd><code>v3.3.0</code></dd>\n",
       "              <dt>Master</dt>\n",
       "                <dd><code>local[22]</code></dd>\n",
       "              <dt>AppName</dt>\n",
       "                <dd><code>preproccesing</code></dd>\n",
       "            </dl>\n",
       "        </div>\n",
       "        \n",
       "            </div>\n",
       "        "
      ],
      "text/plain": [
       "<pyspark.sql.session.SparkSession at 0x7f42e15bbeb0>"
      ]
     },
     "execution_count": 1,
     "metadata": {},
     "output_type": "execute_result"
    }
   ],
   "source": [
    "from pyspark.sql import SparkSession\n",
    "from pyspark import StorageLevel\n",
    "import os\n",
    "\n",
    "os.environ[\"PYSPARK_PYTHON\"]=\"/home/pc/g5_env/bin/python39\"\n",
    "\n",
    "spark = SparkSession.builder.master(\"local[22]\")\\\n",
    "            .appName(\"preproccesing\")\\\n",
    "            .config('spark.executor.memory', '20g')\\\n",
    "            .config('spark.driver.maxResultSize', '10g')\\\n",
    "            .config('spark.driver.memory', '20g')\\\n",
    "            .config('spark.ui.showConsoleProgress', False)\\\n",
    "            .getOrCreate()\n",
    "\n",
    "sparkContext = spark.sparkContext\n",
    "\n",
    "spark"
   ]
  },
  {
   "cell_type": "code",
   "execution_count": 2,
   "id": "66c8c902-2e90-4360-b9c8-c7297478887a",
   "metadata": {},
   "outputs": [
    {
     "data": {
      "text/plain": [
       "'134217728b'"
      ]
     },
     "execution_count": 2,
     "metadata": {},
     "output_type": "execute_result"
    }
   ],
   "source": [
    "spark.conf.get('spark.sql.files.maxPartitionBytes')"
   ]
  },
  {
   "cell_type": "code",
   "execution_count": 3,
   "id": "ab6d7ecf-88d5-49e8-b497-2ed0ddfcd64f",
   "metadata": {},
   "outputs": [
    {
     "data": {
      "text/plain": [
       "'64000000'"
      ]
     },
     "execution_count": 3,
     "metadata": {},
     "output_type": "execute_result"
    }
   ],
   "source": [
    "spark.conf.set('spark.sql.files.maxPartitionBytes', 64000000)\n",
    "spark.conf.get('spark.sql.files.maxPartitionBytes')"
   ]
  },
  {
   "cell_type": "markdown",
   "id": "0257ef29-cc81-45c0-ac19-43d6bd1fe286",
   "metadata": {
    "tags": []
   },
   "source": [
    "## <font color='red'>Import Social Media Data</font> "
   ]
  },
  {
   "cell_type": "code",
   "execution_count": 4,
   "id": "cfea5218-d0b6-4579-8f4e-9682921435f1",
   "metadata": {},
   "outputs": [
    {
     "name": "stdout",
     "output_type": "stream",
     "text": [
      "+--------------------+\n",
      "|             Comment|\n",
      "+--------------------+\n",
      "|#sephorahaul #sep...|\n",
      "|Yahoo! ❤️😍 enjoy...|\n",
      "|            NAKK😍😍|\n",
      "|Congratulations g...|\n",
      "|@stacienotinokey ...|\n",
      "|What an inspiring...|\n",
      "|Always the best d...|\n",
      "|@dpb1982 I’ll mak...|\n",
      "|@brentlys_bbq tha...|\n",
      "|@dpb1982 I defini...|\n",
      "+--------------------+\n",
      "only showing top 10 rows\n",
      "\n"
     ]
    }
   ],
   "source": [
    "dataDF = spark.read.option(\"header\",True).csv(\"/home/pc/data/parsed_data/4data-comment_only.csv\")\n",
    "dataDF.show(10)"
   ]
  },
  {
   "cell_type": "code",
   "execution_count": 5,
   "id": "d222286c-540b-4e53-8cf2-1bd37f05cbd3",
   "metadata": {},
   "outputs": [
    {
     "data": {
      "text/plain": [
       "22"
      ]
     },
     "execution_count": 5,
     "metadata": {},
     "output_type": "execute_result"
    }
   ],
   "source": [
    "dataDF.rdd.getNumPartitions()"
   ]
  },
  {
   "cell_type": "code",
   "execution_count": 6,
   "id": "3c5c3dfe-47dc-45db-b6e1-1b80f733c2f4",
   "metadata": {},
   "outputs": [],
   "source": [
    "dataDF = dataDF.repartition(66)"
   ]
  },
  {
   "cell_type": "code",
   "execution_count": 7,
   "id": "2995fe6e-70f0-4d12-9884-34292f6c6a51",
   "metadata": {},
   "outputs": [
    {
     "data": {
      "text/plain": [
       "66"
      ]
     },
     "execution_count": 7,
     "metadata": {},
     "output_type": "execute_result"
    }
   ],
   "source": [
    "dataDF.rdd.getNumPartitions()"
   ]
  },
  {
   "cell_type": "markdown",
   "id": "a2c935ef-2978-41f4-afd5-cd69826993fc",
   "metadata": {
    "tags": []
   },
   "source": [
    "## <font color='red'>Dealing With Null Value</font>"
   ]
  },
  {
   "cell_type": "code",
   "execution_count": 8,
   "id": "dacf0266-a52b-4833-8dd8-f9b7b0e8b842",
   "metadata": {},
   "outputs": [
    {
     "name": "stdout",
     "output_type": "stream",
     "text": [
      "+-------+\n",
      "|Comment|\n",
      "+-------+\n",
      "|    699|\n",
      "+-------+\n",
      "\n"
     ]
    }
   ],
   "source": [
    "### Checking total number of null value\n",
    "from pyspark.sql.functions import col,isnan, when, count\n",
    "\n",
    "c = 'Comment'\n",
    "dataDF.select([count(when(isnan(c) | col(c).isNull(), c)).alias(c)]).show()"
   ]
  },
  {
   "cell_type": "code",
   "execution_count": 9,
   "id": "384e56b4-4e7f-46c6-9409-4d77c0fa6171",
   "metadata": {},
   "outputs": [],
   "source": [
    "### Remove null value\n",
    "\n",
    "dataDF = dataDF.dropna(how='any')"
   ]
  },
  {
   "cell_type": "markdown",
   "id": "b348cbc9-b504-47a8-9334-6d54fae767d3",
   "metadata": {},
   "source": [
    "### <font color='red'>Sentence Tokenize</font>"
   ]
  },
  {
   "cell_type": "code",
   "execution_count": 10,
   "id": "15eed64c-a6f3-49e2-9279-629a1cb03cf8",
   "metadata": {},
   "outputs": [],
   "source": [
    "from nltk.tokenize import sent_tokenize, word_tokenize\n",
    "def sentence_tokenize(text, index):\n",
    "    return index,sent_tokenize(text)\n",
    "\n",
    "def f(x): return x"
   ]
  },
  {
   "cell_type": "code",
   "execution_count": 11,
   "id": "588aaf22-f6d1-4381-8ff6-62e551858bf3",
   "metadata": {},
   "outputs": [],
   "source": [
    "# Adding indexes to all sentence\n",
    "# Swapping the column\n",
    "# Splitting the sentence\n",
    "RDD = dataDF.rdd.map(lambda x: x[0]).zipWithIndex()\\\n",
    ".map(lambda x: sentence_tokenize(x[0], x[1]))\\\n",
    ".flatMapValues(f)\\\n",
    ".persist(StorageLevel.MEMORY_ONLY)"
   ]
  },
  {
   "cell_type": "markdown",
   "id": "e36b6a93-6ffe-4f51-ab49-b9fa5e5250ff",
   "metadata": {
    "tags": []
   },
   "source": [
    "## <font color='red'>Text Cleaning</font>\n"
   ]
  },
  {
   "cell_type": "markdown",
   "id": "b1f52a81-2815-4fd8-9e58-ed1e4d4eba1d",
   "metadata": {},
   "source": [
    "#### Remove HTML tag"
   ]
  },
  {
   "cell_type": "code",
   "execution_count": 12,
   "id": "7efc677a-b41d-4a0d-b91b-1bc75c9bda49",
   "metadata": {},
   "outputs": [],
   "source": [
    "def remove_html_tags(text):\n",
    "    #Remove html tags from a string\n",
    "    import re\n",
    "    clean = re.compile('<.*?>')\n",
    "    return re.sub(clean, ' ', text)"
   ]
  },
  {
   "cell_type": "markdown",
   "id": "a49936e2-fba1-4b1e-90be-a57bd769c2d1",
   "metadata": {},
   "source": [
    "#### Remove contractions"
   ]
  },
  {
   "cell_type": "code",
   "execution_count": 13,
   "id": "461992cf-0c77-4d5b-ba26-c7d16e473684",
   "metadata": {},
   "outputs": [],
   "source": [
    "import contractions\n",
    "\n",
    "def contractions_word(text):\n",
    "    # using contractions.fix to expand the shortened words\n",
    "    try:\n",
    "        text = contractions.fix(text)\n",
    "    except:\n",
    "        return text\n",
    "    return text\n"
   ]
  },
  {
   "cell_type": "markdown",
   "id": "53d68ee4-8dc7-4e34-83b7-60c901859901",
   "metadata": {},
   "source": [
    "#### Remove Emoticons"
   ]
  },
  {
   "cell_type": "code",
   "execution_count": 14,
   "id": "9f53bb9f-1ee9-4cc0-ac74-a6b6e0106cea",
   "metadata": {},
   "outputs": [],
   "source": [
    "from emot.emo_unicode import EMOTICONS_EMO\n",
    "\n",
    "def remove_emoticons(text):\n",
    "    for emot in EMOTICONS_EMO:\n",
    "        text = text.replace(emot, '')\n",
    "    return text\n"
   ]
  },
  {
   "cell_type": "code",
   "execution_count": 15,
   "id": "8bde0a10-0296-4bce-9640-87efadf308f7",
   "metadata": {},
   "outputs": [],
   "source": [
    "RDD2 = RDD.map(lambda x : remove_html_tags(x[1]))\\\n",
    ".map(lambda x : contractions_word(x))\\\n",
    ".map(lambda x: remove_emoticons(x))\\\n",
    ".persist(StorageLevel.MEMORY_ONLY)\n",
    "\n"
   ]
  },
  {
   "cell_type": "code",
   "execution_count": 16,
   "id": "75d65513-84ed-4615-80a1-7a5cf55c8289",
   "metadata": {},
   "outputs": [],
   "source": [
    "RDD3 = RDD2.zipWithIndex()\\\n",
    ".map(lambda x: sentence_tokenize(x[0], x[1]))\\\n",
    ".flatMapValues(f)\\\n",
    ".persist(StorageLevel.MEMORY_ONLY)"
   ]
  },
  {
   "cell_type": "markdown",
   "id": "aba34ca3-b149-442c-ada3-41e9c631ed85",
   "metadata": {
    "tags": []
   },
   "source": [
    "#### 1) Remove Emoji, URL, Phone Number, Currency, Punctuations, Digit, E-mail\n",
    "#### 2) To Lower"
   ]
  },
  {
   "cell_type": "code",
   "execution_count": 17,
   "id": "89df72a7-61db-4a8c-9f2b-e1d625598e4a",
   "metadata": {},
   "outputs": [],
   "source": [
    "from cleantext import clean\n",
    "\n",
    "def clean_text(text): \n",
    "    return str(clean(text,\n",
    "            fix_unicode=True,               # fix various unicode errors\n",
    "            to_ascii=False,                  # transliterate to closest ASCII representation\n",
    "            lower=True,                     # lowercase text\n",
    "            no_line_breaks=True,           # fully strip line breaks as opposed to only normalizing them\n",
    "            no_urls=True,                  # replace all URLs with a special token\n",
    "            no_emails=True,                # replace all email addresses with a special token\n",
    "            no_phone_numbers=True,         # replace all phone numbers with a special token\n",
    "            no_numbers=True,               # replace all numbers with a special token\n",
    "            no_digits=True,                # replace all digits with a special token\n",
    "            no_currency_symbols=True,      # replace all currency symbols with a special token\n",
    "            no_punct=True,                 # remove punctuations\n",
    "            no_emoji=True,\n",
    "            replace_with_punct=\"\",          # instead of removing punctuations you may replace them\n",
    "            replace_with_url=\"\",\n",
    "            replace_with_email=\"\",\n",
    "            replace_with_phone_number=\"\",\n",
    "            replace_with_number=\"\",\n",
    "            replace_with_digit=\"\",\n",
    "            replace_with_currency_symbol=\"\",\n",
    "            lang=\"en\"                       # set to 'de' for German special handling\n",
    "            ))\n"
   ]
  },
  {
   "cell_type": "markdown",
   "id": "84e4ec18-1c2e-4518-96c7-4a55113e4713",
   "metadata": {},
   "source": [
    "#### Remove Symbols"
   ]
  },
  {
   "cell_type": "code",
   "execution_count": 18,
   "id": "28d29efd-9dfa-438d-a3e4-c3ddd410d8b4",
   "metadata": {},
   "outputs": [],
   "source": [
    "def remove_symbols(text):\n",
    "    symbols = ['+', '^', '|', '~', '>', '<', '=', '`']\n",
    "    for x in symbols:\n",
    "        text = text.replace(x, ' ')\n",
    "    return text"
   ]
  },
  {
   "cell_type": "code",
   "execution_count": 19,
   "id": "7342788c-8395-48b0-adf3-ea11f293eeb2",
   "metadata": {},
   "outputs": [],
   "source": [
    "RDD4 = RDD3.map(lambda x : (clean_text(x)))\\\n",
    ".filter(lambda x : x != '')\\\n",
    ".map(lambda x : (remove_symbols(x)))\\\n",
    ".filter(lambda x : x != '')\\\n",
    ".persist(StorageLevel.MEMORY_ONLY)"
   ]
  },
  {
   "cell_type": "raw",
   "id": "4edc6eab-2e20-4353-bdcf-40e5ae9238ca",
   "metadata": {},
   "source": [
    "column = ['sentence']\n",
    "df_clean = RDD4.map(lambda x: (x,)).toDF(column)"
   ]
  },
  {
   "cell_type": "raw",
   "id": "3d686c47-eb00-48f9-8082-942745c37ebb",
   "metadata": {},
   "source": [
    "df_clean.show(truncate = False)"
   ]
  },
  {
   "cell_type": "raw",
   "id": "0697816a-72a6-4ebc-b3fe-6baad37d93bd",
   "metadata": {},
   "source": [
    "df_clean = df_clean.coalesce(1)\n",
    "\n",
    "df_clean.write.parquet(\"hdfs://g5.bigtop.it:8020/user/root/preprocess_social_media.parquet\")"
   ]
  },
  {
   "cell_type": "markdown",
   "id": "5b84f714-9d99-4194-91fd-99e28d78f94e",
   "metadata": {
    "tags": []
   },
   "source": [
    "## <font color='red'>Word Tokenize</font>"
   ]
  },
  {
   "cell_type": "code",
   "execution_count": 20,
   "id": "fab1ae76-7497-4728-8395-dfd925c9d408",
   "metadata": {},
   "outputs": [],
   "source": [
    "import jieba\n",
    "import logging\n",
    "\n",
    "def my_jieba(text):\n",
    "    jieba.setLogLevel(logging.WARNING)\n",
    "    return jieba.lcut(text, cut_all=False)\n",
    "\n",
    "def remove_space(text):\n",
    "    empList = []\n",
    "\n",
    "    for x in text: \n",
    "        if x != '':\n",
    "            if x != ' ':\n",
    "                empList.append(x)\n",
    "    return empList\n",
    "\n",
    "def exchangePosition(text, index):\n",
    "    return index, (text)\n"
   ]
  },
  {
   "cell_type": "code",
   "execution_count": 21,
   "id": "3e04163a-9961-4446-b7b2-402280e57b4e",
   "metadata": {},
   "outputs": [],
   "source": [
    "RDD5 = RDD4.map(lambda x: my_jieba(x))\\\n",
    ".map(lambda x: remove_space(x)).persist(StorageLevel.MEMORY_ONLY)"
   ]
  },
  {
   "cell_type": "code",
   "execution_count": 22,
   "id": "541d91bf-ca08-4902-afde-7fdb35d61a54",
   "metadata": {},
   "outputs": [],
   "source": [
    "#Possible Ngram final output\n",
    "data = RDD5.map(lambda x: (x,1))\\\n",
    ".map(lambda x: exchangePosition(x[0], x[1]))\\\n",
    ".flatMapValues(f)\\\n",
    ".map(lambda x: exchangePosition(x[0], x[1]))\\\n",
    ".reduceByKey(lambda a,b: a+b)"
   ]
  },
  {
   "cell_type": "code",
   "execution_count": 23,
   "id": "327ab000-a20c-41b3-b9e4-5c145a5df76c",
   "metadata": {},
   "outputs": [],
   "source": [
    "from pyspark.sql.types import StructType,StructField, StringType, IntegerType\n",
    "\n",
    "schema = StructType([ \\\n",
    "    StructField('word',StringType(),True), \\\n",
    "    StructField('word_count',IntegerType(),True), \\\n",
    "  ])\n",
    "\n",
    "\n",
    "df = spark.createDataFrame(data = data, schema=schema)"
   ]
  },
  {
   "cell_type": "code",
   "execution_count": 24,
   "id": "40ccbea1-a726-4ed1-ab64-cc16a9ac0538",
   "metadata": {},
   "outputs": [
    {
     "name": "stdout",
     "output_type": "stream",
     "text": [
      "+-----------+----------+\n",
      "|       word|word_count|\n",
      "+-----------+----------+\n",
      "|       even|     63300|\n",
      "|    protest|       381|\n",
      "|       baap|        21|\n",
      "|    looking|     14077|\n",
      "|       used|     24162|\n",
      "|        yes|     10949|\n",
      "|      jimin|      2923|\n",
      "|      there|     45774|\n",
      "|  literally|      2240|\n",
      "|        bro|      7233|\n",
      "|    bangeet|        21|\n",
      "|     akulag|         1|\n",
      "|       stop|      5552|\n",
      "|       fool|       192|\n",
      "|    kalinya|       419|\n",
      "|       dari|    143055|\n",
      "|   sickness|        77|\n",
      "|  adilsleef|         1|\n",
      "|tinggkatkan|         1|\n",
      "|    willing|      1773|\n",
      "+-----------+----------+\n",
      "only showing top 20 rows\n",
      "\n"
     ]
    }
   ],
   "source": [
    "df.show()"
   ]
  },
  {
   "cell_type": "code",
   "execution_count": 25,
   "id": "277bdbaf-9c4c-4167-9423-daa82eaaca0a",
   "metadata": {},
   "outputs": [],
   "source": [
    "import advertools as adv\n",
    "from nltk.corpus import stopwords as stop_words\n",
    "\n",
    "zh_STOPWORDS, indo_STOPWORDS, eng_STOPWORDS = adv.stopwords['chinese'], adv.stopwords['indonesian'], stop_words.words('english')"
   ]
  },
  {
   "cell_type": "code",
   "execution_count": 26,
   "id": "1f23c3ec-7649-4ffb-9cce-f7f93c6573bf",
   "metadata": {
    "tags": []
   },
   "outputs": [
    {
     "name": "stdout",
     "output_type": "stream",
     "text": [
      "+--------+----------+\n",
      "|    word|word_count|\n",
      "+--------+----------+\n",
      "|    good|   3640420|\n",
      "|  seller|   2594390|\n",
      "|  barang|   1233846|\n",
      "|delivery|   1192163|\n",
      "|    fast|   1166771|\n",
      "|      tq|   1004259|\n",
      "| terbaik|    955579|\n",
      "|   thank|    917710|\n",
      "|    beli|    800359|\n",
      "|      ok|    793587|\n",
      "+--------+----------+\n",
      "only showing top 10 rows\n",
      "\n"
     ]
    }
   ],
   "source": [
    "df.orderBy(\"word_count\", ascending=False)\\\n",
    ".filter(~col(\"word\").isin(eng_STOPWORDS))\\\n",
    ".filter(~col(\"word\").isin(zh_STOPWORDS))\\\n",
    ".filter(~col(\"word\").isin(indo_STOPWORDS))\\\n",
    ".show(10)"
   ]
  },
  {
   "cell_type": "markdown",
   "id": "bbc8ec55-c934-4d91-b28c-4b7d86bb2c01",
   "metadata": {
    "tags": []
   },
   "source": [
    "## <font color='red'>Data Extraction</font> "
   ]
  },
  {
   "cell_type": "code",
   "execution_count": 27,
   "id": "9169fda3-133d-4554-b220-762652815326",
   "metadata": {},
   "outputs": [],
   "source": [
    "def text_extract(text):\n",
    "    keywords =  ['quality', ' service', '购买', '卖家', 'kemas']\n",
    "\n",
    "    for x in keywords:\n",
    "        if x in text:\n",
    "            return text\n",
    "        \n",
    "    return ''\n",
    "\n",
    "\n",
    "keyword_filter = RDD5.map(lambda x: text_extract(x)).filter(lambda x: x != '').persist(StorageLevel.MEMORY_ONLY)"
   ]
  },
  {
   "cell_type": "code",
   "execution_count": 28,
   "id": "e479724d-97be-42c1-a340-44b937ecd69b",
   "metadata": {},
   "outputs": [
    {
     "data": {
      "text/plain": [
       "846664"
      ]
     },
     "execution_count": 28,
     "metadata": {},
     "output_type": "execute_result"
    }
   ],
   "source": [
    "keyword_filter.count()"
   ]
  },
  {
   "cell_type": "code",
   "execution_count": 29,
   "id": "0b9068af-edbe-4cd2-9d47-51a067a8d147",
   "metadata": {},
   "outputs": [],
   "source": [
    "data1 = keyword_filter.map(lambda x : (tuple(x), 1))\\\n",
    ".reduceByKey(lambda a,b: a+b).persist(StorageLevel.MEMORY_ONLY)"
   ]
  },
  {
   "cell_type": "code",
   "execution_count": 30,
   "id": "4c0927d0-32d0-43da-a7d3-18aa3c81e7cc",
   "metadata": {},
   "outputs": [
    {
     "name": "stdout",
     "output_type": "stream",
     "text": [
      "+--------------------+----------+\n",
      "|      token_sentence|sent_count|\n",
      "+--------------------+----------+\n",
      "|[aron, got, to, h...|         1|\n",
      "|[great, clothes, ...|         1|\n",
      "|[good, product, q...|      1555|\n",
      "|[the, former, qua...|         1|\n",
      "|[the, quality, is...|         4|\n",
      "|[penghantaran, pa...|         2|\n",
      "|  [skru, tak, kemas]|         2|\n",
      "|[the, quality, is...|         1|\n",
      "|[terbaik, seller,...|         1|\n",
      "|[foldable, car, o...|         2|\n",
      "|[quality, is, great]|        55|\n",
      "|[good, product, q...|         5|\n",
      "|[bagus, bagus, pe...|         1|\n",
      "|[penghantaran, yg...|         2|\n",
      "|[the, goods, land...|         2|\n",
      "|[powerbank, murah...|         1|\n",
      "|[the, quality, is...|        81|\n",
      "|[the, quality, mi...|         1|\n",
      "|[thankyou, seller...|         4|\n",
      "|[the, quality, is...|       153|\n",
      "+--------------------+----------+\n",
      "only showing top 20 rows\n",
      "\n"
     ]
    }
   ],
   "source": [
    "from pyspark.sql.types import StructType,StructField, StringType, IntegerType, ArrayType\n",
    "schema = StructType([ \\\n",
    "    StructField('token_sentence',ArrayType(StringType()),True), \\\n",
    "    StructField('sent_count',IntegerType(),True), \\\n",
    "  ])\n",
    "\n",
    "\n",
    "df1 = spark.createDataFrame(data = data1, schema=schema)\n",
    "df1.show()"
   ]
  },
  {
   "cell_type": "code",
   "execution_count": 31,
   "id": "12b2f63f-4fa7-4028-a6e2-0d0d2cdeeb6a",
   "metadata": {
    "tags": []
   },
   "outputs": [],
   "source": [
    "import pyspark.sql.functions as f\n",
    "df1 = df1.withColumn('word_count', f.size(f.col('token_sentence')))"
   ]
  },
  {
   "cell_type": "code",
   "execution_count": 32,
   "id": "accde197-dc6d-49ff-b732-deb4fe1fad8f",
   "metadata": {},
   "outputs": [
    {
     "name": "stdout",
     "output_type": "stream",
     "text": [
      "+--------------------+----------+----------+\n",
      "|      token_sentence|sent_count|word_count|\n",
      "+--------------------+----------+----------+\n",
      "|[aron, got, to, h...|         1|        23|\n",
      "|[great, clothes, ...|         1|         6|\n",
      "|[good, product, q...|      1555|         7|\n",
      "|[the, former, qua...|         1|        14|\n",
      "|[the, quality, is...|         4|         4|\n",
      "|[penghantaran, pa...|         2|        17|\n",
      "|  [skru, tak, kemas]|         2|         3|\n",
      "|[the, quality, is...|         1|         9|\n",
      "|[terbaik, seller,...|         1|         5|\n",
      "|[foldable, car, o...|         2|        10|\n",
      "|[quality, is, great]|        55|         3|\n",
      "|[good, product, q...|         5|        10|\n",
      "|[bagus, bagus, pe...|         1|         9|\n",
      "|[penghantaran, yg...|         2|         7|\n",
      "|[the, goods, land...|         2|        30|\n",
      "|[powerbank, murah...|         1|        13|\n",
      "|[the, quality, is...|        81|         4|\n",
      "|[the, quality, mi...|         1|        13|\n",
      "|[thankyou, seller...|         4|        25|\n",
      "|[the, quality, is...|       153|         4|\n",
      "+--------------------+----------+----------+\n",
      "only showing top 20 rows\n",
      "\n"
     ]
    }
   ],
   "source": [
    "df1.show()"
   ]
  },
  {
   "cell_type": "code",
   "execution_count": 33,
   "id": "952db3ac-b4b9-4ef0-9471-5da19f889cc6",
   "metadata": {},
   "outputs": [
    {
     "name": "stdout",
     "output_type": "stream",
     "text": [
      "+--------------+----------+----------+\n",
      "|token_sentence|sent_count|word_count|\n",
      "+--------------+----------+----------+\n",
      "|     [quality]|     21082|         1|\n",
      "|       [kemas]|      1250|         1|\n",
      "|        [购买]|         3|         1|\n",
      "|        [卖家]|        91|         1|\n",
      "+--------------+----------+----------+\n",
      "\n"
     ]
    }
   ],
   "source": [
    "df1.filter(df1.word_count == 1).show()"
   ]
  },
  {
   "cell_type": "code",
   "execution_count": 34,
   "id": "256c4440-9bbb-4ead-8122-3170341b4948",
   "metadata": {},
   "outputs": [],
   "source": [
    "df2 = df1.filter(df1.word_count > 1)"
   ]
  },
  {
   "cell_type": "code",
   "execution_count": 35,
   "id": "44ec639a-bb38-4e6d-a483-a0478be61af7",
   "metadata": {},
   "outputs": [
    {
     "data": {
      "text/plain": [
       "301905"
      ]
     },
     "execution_count": 35,
     "metadata": {},
     "output_type": "execute_result"
    }
   ],
   "source": [
    "df2.count()"
   ]
  },
  {
   "cell_type": "markdown",
   "id": "d20f786c-949b-4c77-8c36-6967ea8145f4",
   "metadata": {},
   "source": [
    "### NGRAM"
   ]
  },
  {
   "cell_type": "code",
   "execution_count": 36,
   "id": "26a64641-cce6-439a-88af-71b1d007b568",
   "metadata": {
    "tags": []
   },
   "outputs": [
    {
     "name": "stdout",
     "output_type": "stream",
     "text": [
      "+--------------------+----------+----------+--------------------+--------------------+--------------------+--------------------+\n",
      "|      token_sentence|sent_count|word_count|              2grams|              3grams|              4grams|              5grams|\n",
      "+--------------------+----------+----------+--------------------+--------------------+--------------------+--------------------+\n",
      "|[aron, got, to, h...|         1|        23|[aron got, got to...|[aron got to, got...|[aron got to hand...|[aron got to hand...|\n",
      "|[great, clothes, ...|         1|         6|[great clothes, c...|[great clothes gr...|[great clothes gr...|[great clothes gr...|\n",
      "|[good, product, q...|      1555|         7|[good product, pr...|[good product qua...|[good product qua...|[good product qua...|\n",
      "|[the, former, qua...|         1|        14|[the former, form...|[the former quali...|[the former quali...|[the former quali...|\n",
      "|[the, quality, is...|         4|         4|[the quality, qua...|[the quality is, ...|[the quality is s...|                  []|\n",
      "|[penghantaran, pa...|         2|        17|[penghantaran pan...|[penghantaran pan...|[penghantaran pan...|[penghantaran pan...|\n",
      "|  [skru, tak, kemas]|         2|         3|[skru tak, tak ke...|    [skru tak kemas]|                  []|                  []|\n",
      "|[the, quality, is...|         1|         9|[the quality, qua...|[the quality is, ...|[the quality is g...|[the quality is g...|\n",
      "|[terbaik, seller,...|         1|         5|[terbaik seller, ...|[terbaik seller m...|[terbaik seller m...|[terbaik seller m...|\n",
      "|[foldable, car, o...|         2|        10|[foldable car, ca...|[foldable car org...|[foldable car org...|[foldable car org...|\n",
      "|[quality, is, great]|        55|         3|[quality is, is g...|  [quality is great]|                  []|                  []|\n",
      "|[good, product, q...|         5|        10|[good product, pr...|[good product qua...|[good product qua...|[good product qua...|\n",
      "|[bagus, bagus, pe...|         1|         9|[bagus bagus, bag...|[bagus bagus pemb...|[bagus bagus pemb...|[bagus bagus pemb...|\n",
      "|[penghantaran, yg...|         2|         7|[penghantaran yg,...|[penghantaran yg ...|[penghantaran yg ...|[penghantaran yg ...|\n",
      "|[the, goods, land...|         2|        30|[the goods, goods...|[the goods landed...|[the goods landed...|[the goods landed...|\n",
      "|[powerbank, murah...|         1|        13|[powerbank murah,...|[powerbank murah ...|[powerbank murah ...|[powerbank murah ...|\n",
      "|[the, quality, is...|        81|         4|[the quality, qua...|[the quality is, ...|[the quality is g...|                  []|\n",
      "|[the, quality, mi...|         1|        13|[the quality, qua...|[the quality migh...|[the quality migh...|[the quality migh...|\n",
      "|[thankyou, seller...|         4|        25|[thankyou seller,...|[thankyou seller ...|[thankyou seller ...|[thankyou seller ...|\n",
      "|[the, quality, is...|       153|         4|[the quality, qua...|[the quality is, ...| [the quality is ok]|                  []|\n",
      "+--------------------+----------+----------+--------------------+--------------------+--------------------+--------------------+\n",
      "only showing top 20 rows\n",
      "\n"
     ]
    }
   ],
   "source": [
    "from pyspark.ml.feature import NGram\n",
    "ngramDataFrame = df2\n",
    "\n",
    "for x in range(2,6):\n",
    "    ngram = NGram(n=x, inputCol='token_sentence', outputCol= str(x) +'grams')\n",
    "    ngramDataFrame = ngram.transform(ngramDataFrame) \n",
    "ngramDataFrame.show()"
   ]
  },
  {
   "cell_type": "code",
   "execution_count": 37,
   "id": "009e2589-6bc6-4357-9758-65555cbe81eb",
   "metadata": {},
   "outputs": [
    {
     "data": {
      "text/plain": [
       "26631"
      ]
     },
     "execution_count": 37,
     "metadata": {},
     "output_type": "execute_result"
    }
   ],
   "source": [
    "ngramDataFrame.filter(ngramDataFrame.word_count < 5).count()"
   ]
  },
  {
   "cell_type": "code",
   "execution_count": 38,
   "id": "5fccb387-5cbd-4a18-82bf-274162547932",
   "metadata": {
    "tags": []
   },
   "outputs": [
    {
     "name": "stdout",
     "output_type": "stream",
     "text": [
      "+--------------------+----------+----------+--------------------+--------------------+--------------------+------+\n",
      "|      token_sentence|sent_count|word_count|              2grams|              3grams|              4grams|5grams|\n",
      "+--------------------+----------+----------+--------------------+--------------------+--------------------+------+\n",
      "|[the, quality, is...|         4|         4|[the quality, qua...|[the quality is, ...|[the quality is s...|    []|\n",
      "|[the, quality, is...|        81|         4|[the quality, qua...|[the quality is, ...|[the quality is g...|    []|\n",
      "|[the, quality, is...|       153|         4|[the quality, qua...|[the quality is, ...| [the quality is ok]|    []|\n",
      "|[very, very, good...|        39|         4|[very very, very ...|[very very good, ...|[very very good q...|    []|\n",
      "|[good, quality, s...|         2|         4|[good quality, qu...|[good quality sgt...|[good quality sgt...|    []|\n",
      "|[awning, nampak, ...|         1|         4|[awning nampak, n...|[awning nampak ke...|[awning nampak ke...|    []|\n",
      "|[shirts, was, goo...|         2|         4|[shirts was, was ...|[shirts was good,...|[shirts was good ...|    []|\n",
      "|[dan, cepatbungku...|         2|         4|[dan cepatbungkus...|[dan cepatbungkus...|[dan cepatbungkus...|    []|\n",
      "|[harga, murah, qu...|         5|         4|[harga murah, mur...|[harga murah qual...|[harga murah qual...|    []|\n",
      "|[quality, item, w...|         1|         4|[quality item, it...|[quality item was...|[quality item was...|    []|\n",
      "|[product, quality...|        24|         4|[product quality,...|[product quality ...|[product quality ...|    []|\n",
      "|[penghantaran, ce...|         4|         4|[penghantaran cep...|[penghantaran cep...|[penghantaran cep...|    []|\n",
      "|[beautiful, and, ...|         2|         4|[beautiful and, a...|[beautiful and hi...|[beautiful and hi...|    []|\n",
      "|[kain, kualiti, e...|         2|         4|[kain kualiti, ku...|[kain kualiti elo...|[kain kualiti elo...|    []|\n",
      "|[packing, sangat,...|         3|         4|[packing sangat, ...|[packing sangat k...|[packing sangat k...|    []|\n",
      "|[material, qualit...|         1|         4|[material quality...|[material quality...|[material quality...|    []|\n",
      "|[bagus, betul, be...|         1|         4|[bagus betul, bet...|[bagus betul berb...|[bagus betul berb...|    []|\n",
      "|[but, quality, ve...|         2|         4|[but quality, qua...|[but quality very...|[but quality very...|    []|\n",
      "|[quality, is, ver...|         1|         4|[quality is, is v...|[quality is very,...|[quality is very ...|    []|\n",
      "|[packaging, kemas...|         3|         4|[packaging kemas,...|[packaging kemas ...|[packaging kemas ...|    []|\n",
      "+--------------------+----------+----------+--------------------+--------------------+--------------------+------+\n",
      "only showing top 20 rows\n",
      "\n"
     ]
    }
   ],
   "source": [
    "ngramDataFrame.filter(ngramDataFrame.word_count == 4).show()"
   ]
  },
  {
   "cell_type": "code",
   "execution_count": 39,
   "id": "7c09cafa-13cd-4475-93da-16416825e8ab",
   "metadata": {
    "tags": []
   },
   "outputs": [
    {
     "name": "stdout",
     "output_type": "stream",
     "text": [
      "+--------------------+----------+----------+--------------------+--------------------+------+------+\n",
      "|      token_sentence|sent_count|word_count|              2grams|              3grams|4grams|5grams|\n",
      "+--------------------+----------+----------+--------------------+--------------------+------+------+\n",
      "|  [skru, tak, kemas]|         2|         3|[skru tak, tak ke...|    [skru tak kemas]|    []|    []|\n",
      "|[quality, is, great]|        55|         3|[quality is, is g...|  [quality is great]|    []|    []|\n",
      "|[quality, as, exp...|       131|         3|[quality as, as e...|[quality as expec...|    []|    []|\n",
      "|[pen, good, quality]|         2|         3|[pen good, good q...|  [pen good quality]|    []|    []|\n",
      "|[jahitan, kemas, je]|        11|         3|[jahitan kemas, k...|  [jahitan kemas je]|    []|    []|\n",
      "|[tq, sellergood, ...|         2|         3|[tq sellergood, s...|[tq sellergood qu...|    []|    []|\n",
      "|[goid, produat, q...|         1|         3|[goid produat, pr...|[goid produat qua...|    []|    []|\n",
      "|[packaging, kemas...|         6|         3|[packaging kemas,...|[packaging kemas ...|    []|    []|\n",
      "|[materialgood, qu...|         1|         3|[materialgood qua...|[materialgood qua...|    []|    []|\n",
      "|[pembalutan, yg, ...|         7|         3|[pembalutan yg, y...|[pembalutan yg ke...|    []|    []|\n",
      "|[hhfdcvvhnjhbvvcc...|         1|         3|[hhfdcvvhnjhbvvcc...|[hhfdcvvhnjhbvvcc...|    []|    []|\n",
      "|[wrapping, pon, k...|         8|         3|[wrapping pon, po...|[wrapping pon kemas]|    []|    []|\n",
      "|[quality, yg, bagus]|        12|         3|[quality yg, yg b...|  [quality yg bagus]|    []|    []|\n",
      "|[nice, quality, b...|         1|         3|[nice quality, qu...|[nice quality built]|    []|    []|\n",
      "|[wrapping, pun, k...|        23|         3|[wrapping pun, pu...|[wrapping pun kemas]|    []|    []|\n",
      "|[nice, quality, s...|         3|         3|[nice quality, qu...|[nice quality sel...|    []|    []|\n",
      "|[tuala, quality, ...|         1|         3|[tuala quality, q...|[tuala quality ba...|    []|    []|\n",
      "|[low, quality, pr...|        10|         3|[low quality, qua...|[low quality prod...|    []|    []|\n",
      "| [jahitan, x, kemas]|        22|         3|[jahitan x, x kemas]|   [jahitan x kemas]|    []|    []|\n",
      "|[quality, more, b...|         4|         3|[quality more, mo...|[quality more bet...|    []|    []|\n",
      "+--------------------+----------+----------+--------------------+--------------------+------+------+\n",
      "only showing top 20 rows\n",
      "\n"
     ]
    }
   ],
   "source": [
    "ngramDataFrame.filter(ngramDataFrame.word_count == 3).show()"
   ]
  },
  {
   "cell_type": "code",
   "execution_count": 40,
   "id": "6332e68d-aff1-478a-b13b-cbf90a5c6384",
   "metadata": {
    "tags": []
   },
   "outputs": [
    {
     "name": "stdout",
     "output_type": "stream",
     "text": [
      "+--------------------+----------+----------+--------------------+------+------+------+\n",
      "|      token_sentence|sent_count|word_count|              2grams|3grams|4grams|5grams|\n",
      "+--------------------+----------+----------+--------------------+------+------+------+\n",
      "|[pemnbungkusan, k...|         1|         2|[pemnbungkusan ke...|    []|    []|    []|\n",
      "|       [quality, 行]|         1|         2|        [quality 行]|    []|    []|    []|\n",
      "|   [quality, medium]|         7|         2|    [quality medium]|    []|    []|    []|\n",
      "|    [quality, boomm]|         1|         2|     [quality boomm]|    []|    []|    []|\n",
      "|[qualitylow, qual...|        11|         2|[qualitylow quality]|    []|    []|    []|\n",
      "|     [fine, quality]|         5|         2|      [fine quality]|    []|    []|    []|\n",
      "|   [quality, boekkk]|         1|         2|    [quality boekkk]|    []|    []|    []|\n",
      "|  [quality, unknown]|         3|         2|   [quality unknown]|    []|    []|    []|\n",
      "|[kemas, lajuterbaik]|         1|         2| [kemas lajuterbaik]|    []|    []|    []|\n",
      "|[qualitywhat, qua...|         2|         2|[qualitywhat qual...|    []|    []|    []|\n",
      "|    [looks, quality]|         9|         2|     [looks quality]|    []|    []|    []|\n",
      "|[materialpembuata...|         1|         2|[materialpembuata...|    []|    []|    []|\n",
      "|[qualitykualiti, ...|         2|         2|[qualitykualiti k...|    []|    []|    []|\n",
      "|[qualityremium, q...|         8|         2|[qualityremium qu...|    []|    []|    []|\n",
      "|  [quality, feature]|         1|         2|   [quality feature]|    []|    []|    []|\n",
      "|[designkutang, ke...|         1|         2|[designkutang kemas]|    []|    []|    []|\n",
      "|     [rate, quality]|         2|         2|      [rate quality]|    []|    []|    []|\n",
      "|[cantikbarang, ke...|         5|         2|[cantikbarang kemas]|    []|    []|    []|\n",
      "|[qualitypremiere,...|         1|         2|[qualitypremiere ...|    []|    []|    []|\n",
      "|[quality, definit...|         1|         2|[quality definitely]|    []|    []|    []|\n",
      "+--------------------+----------+----------+--------------------+------+------+------+\n",
      "only showing top 20 rows\n",
      "\n"
     ]
    }
   ],
   "source": [
    "ngramDataFrame.filter(ngramDataFrame.word_count == 2).show()"
   ]
  },
  {
   "cell_type": "code",
   "execution_count": 41,
   "id": "d6352168-b887-4850-938d-1d0d6fc4faae",
   "metadata": {},
   "outputs": [],
   "source": [
    "def find_keyword(text):\n",
    "    keywords =  ['quality', ' service', '购买', '卖家', 'kemas']\n",
    "    \n",
    "    empList = []\n",
    "    for x in text:\n",
    "        for y in keywords:\n",
    "            if y in x:\n",
    "                empList.append(x)\n",
    "    return empList\n"
   ]
  },
  {
   "cell_type": "code",
   "execution_count": 42,
   "id": "16af977e-836b-4c0c-bb6a-24e971de6b7d",
   "metadata": {},
   "outputs": [],
   "source": [
    "column =  ['token_sentence','sent_count','word_count','2grams','3grams','4grams','5grams']\n",
    "gram5= ngramDataFrame.filter(ngramDataFrame.word_count > 4)\\\n",
    ".rdd.map(lambda x: (x[0], x[1], x[2],find_keyword(x[3])\\\n",
    ",find_keyword(x[4]), find_keyword(x[5]), find_keyword(x[6]))).persist(StorageLevel.MEMORY_ONLY)"
   ]
  },
  {
   "cell_type": "code",
   "execution_count": 43,
   "id": "4c03df5c-6895-41a3-8db0-7185308d9922",
   "metadata": {},
   "outputs": [
    {
     "name": "stdout",
     "output_type": "stream",
     "text": [
      "22/10/07 00:01:33 WARN BlockManager: Task 738 already completed, not releasing lock for rdd_104_0\n",
      "+--------------------+----------+----------+--------------------+--------------------+--------------------+--------------------+\n",
      "|      token_sentence|sent_count|word_count|              2grams|              3grams|              4grams|              5grams|\n",
      "+--------------------+----------+----------+--------------------+--------------------+--------------------+--------------------+\n",
      "|[aron, got, to, h...|         1|        23|[top quality, qua...|[getting top qual...|[we getting top q...|[many we getting ...|\n",
      "|[great, clothes, ...|         1|         6|[great quality, q...|[clothes great qu...|[great clothes gr...|[great clothes gr...|\n",
      "|[good, product, q...|      1555|         7|[product quality,...|[good product qua...|[good product qua...|[good product qua...|\n",
      "|[the, former, qua...|         1|        14|[former quality, ...|[the former quali...|[the former quali...|[the former quali...|\n",
      "|[penghantaran, pa...|         2|        17|[jahitan kemas, k...|[ok jahitan kemas...|[baju ok jahitan ...|[pantas baju ok j...|\n",
      "|[the, quality, is...|         1|         9|[the quality, qua...|[the quality is, ...|[the quality is g...|[the quality is g...|\n",
      "|[terbaik, seller,...|         1|         5|     [packing kemas]|[mantap packing k...|[seller mantap pa...|[terbaik seller m...|\n",
      "|[foldable, car, o...|         2|        10|[and quality, qua...|[useful and quali...|[very useful and ...|[organizer very u...|\n",
      "|[good, product, q...|         5|        10|[product quality,...|[good product qua...|[good product qua...|[good product qua...|\n",
      "|[bagus, bagus, pe...|         1|         9|[yg kemas, kemas ...|[pembungkusan yg ...|[bagus pembungkus...|[bagus bagus pemb...|\n",
      "|[penghantaran, yg...|         2|         7|      [ngan quality]|[berbaloi ngan qu...|[harga berbaloi n...|[pantas harga ber...|\n",
      "|[the, goods, land...|         2|        30|[the quality, qua...|[questions the qu...|[all questions th...|[to all questions...|\n",
      "|[powerbank, murah...|         1|        13|[murah quality, q...|[powerbank murah ...|[powerbank murah ...|[powerbank murah ...|\n",
      "|[the, quality, mi...|         1|        13|[the quality, qua...|[the quality migh...|[the quality migh...|[the quality migh...|\n",
      "|[thankyou, seller...|         4|        25|[tu kemas, kemas ...|[mcm tu kemas, tu...|[jugakbesi mcm tu...|[cantik jugakbesi...|\n",
      "|[good, product, q...|         3|        14|[product quality,...|[good product qua...|[good product qua...|[good product qua...|\n",
      "|[good, product, q...|         1|        11|[product quality,...|[good product qua...|[good product qua...|[good product qua...|\n",
      "|[love, it, so, mu...|         1|         7|      [good quality]| [very good quality]|[much very good q...|[so much very goo...|\n",
      "|[good, product, o...|         8|         7|[of quality, qual...|[product of quali...|[good product of ...|[good product of ...|\n",
      "|[very, good, and,...|         3|         9|  [products quality]|[good products qu...|[unexpected good ...|[time unexpected ...|\n",
      "+--------------------+----------+----------+--------------------+--------------------+--------------------+--------------------+\n",
      "only showing top 20 rows\n",
      "\n"
     ]
    }
   ],
   "source": [
    "df_5gram = gram5.toDF(column).show()"
   ]
  },
  {
   "cell_type": "code",
   "execution_count": 44,
   "id": "213ff98e-2834-49e3-b870-7be0e40319e5",
   "metadata": {},
   "outputs": [],
   "source": [
    "gram4= ngramDataFrame.filter(ngramDataFrame.word_count == 4)\\\n",
    ".rdd.map(lambda x: (x[0], x[1], x[2],find_keyword(x[3])\\\n",
    ",find_keyword(x[4]), find_keyword(x[5]), x[6])).persist(StorageLevel.MEMORY_ONLY)"
   ]
  },
  {
   "cell_type": "code",
   "execution_count": 45,
   "id": "b6158878-86dc-44bc-b88c-9e89a35baeb3",
   "metadata": {},
   "outputs": [],
   "source": [
    "gram3= ngramDataFrame.filter(ngramDataFrame.word_count == 3)\\\n",
    ".rdd.map(lambda x: (x[0], x[1], x[2],find_keyword(x[3])\\\n",
    ",find_keyword(x[4]), x[5], x[6])).persist(StorageLevel.MEMORY_ONLY)"
   ]
  },
  {
   "cell_type": "code",
   "execution_count": 46,
   "id": "38b92ead-39d5-42a9-9bb2-048ab0b06c01",
   "metadata": {},
   "outputs": [],
   "source": [
    "gram2= ngramDataFrame.filter(ngramDataFrame.word_count == 2)\\\n",
    ".rdd.map(lambda x: (x[0], x[1], x[2],find_keyword(x[3])\\\n",
    ",find_keyword(x[4]), x[5], x[6])).persist(StorageLevel.MEMORY_ONLY)"
   ]
  },
  {
   "cell_type": "code",
   "execution_count": 47,
   "id": "b154cc30-1221-46c8-a63d-4fb79fb6d14c",
   "metadata": {},
   "outputs": [
    {
     "name": "stdout",
     "output_type": "stream",
     "text": [
      "22/10/07 00:01:33 WARN BlockManager: Task 740 already completed, not releasing lock for rdd_104_0\n"
     ]
    }
   ],
   "source": [
    "Final_gram = gram5.union(gram4).union(gram3).union(gram2).toDF(column).persist(StorageLevel.MEMORY_ONLY)"
   ]
  },
  {
   "cell_type": "code",
   "execution_count": 48,
   "id": "4feacd98-e4cb-496f-b1e0-4e769e3de989",
   "metadata": {},
   "outputs": [
    {
     "name": "stdout",
     "output_type": "stream",
     "text": [
      "+--------------------+----------+----------+--------------------+--------------------+--------------------+--------------------+\n",
      "|      token_sentence|sent_count|word_count|              2grams|              3grams|              4grams|              5grams|\n",
      "+--------------------+----------+----------+--------------------+--------------------+--------------------+--------------------+\n",
      "|[aron, got, to, h...|         1|        23|[top quality, qua...|[getting top qual...|[we getting top q...|[many we getting ...|\n",
      "|[great, clothes, ...|         1|         6|[great quality, q...|[clothes great qu...|[great clothes gr...|[great clothes gr...|\n",
      "|[good, product, q...|      1555|         7|[product quality,...|[good product qua...|[good product qua...|[good product qua...|\n",
      "|[the, former, qua...|         1|        14|[former quality, ...|[the former quali...|[the former quali...|[the former quali...|\n",
      "|[penghantaran, pa...|         2|        17|[jahitan kemas, k...|[ok jahitan kemas...|[baju ok jahitan ...|[pantas baju ok j...|\n",
      "|[the, quality, is...|         1|         9|[the quality, qua...|[the quality is, ...|[the quality is g...|[the quality is g...|\n",
      "|[terbaik, seller,...|         1|         5|     [packing kemas]|[mantap packing k...|[seller mantap pa...|[terbaik seller m...|\n",
      "|[foldable, car, o...|         2|        10|[and quality, qua...|[useful and quali...|[very useful and ...|[organizer very u...|\n",
      "|[good, product, q...|         5|        10|[product quality,...|[good product qua...|[good product qua...|[good product qua...|\n",
      "|[bagus, bagus, pe...|         1|         9|[yg kemas, kemas ...|[pembungkusan yg ...|[bagus pembungkus...|[bagus bagus pemb...|\n",
      "|[penghantaran, yg...|         2|         7|      [ngan quality]|[berbaloi ngan qu...|[harga berbaloi n...|[pantas harga ber...|\n",
      "|[the, goods, land...|         2|        30|[the quality, qua...|[questions the qu...|[all questions th...|[to all questions...|\n",
      "|[powerbank, murah...|         1|        13|[murah quality, q...|[powerbank murah ...|[powerbank murah ...|[powerbank murah ...|\n",
      "|[the, quality, mi...|         1|        13|[the quality, qua...|[the quality migh...|[the quality migh...|[the quality migh...|\n",
      "|[thankyou, seller...|         4|        25|[tu kemas, kemas ...|[mcm tu kemas, tu...|[jugakbesi mcm tu...|[cantik jugakbesi...|\n",
      "|[good, product, q...|         3|        14|[product quality,...|[good product qua...|[good product qua...|[good product qua...|\n",
      "|[good, product, q...|         1|        11|[product quality,...|[good product qua...|[good product qua...|[good product qua...|\n",
      "|[love, it, so, mu...|         1|         7|      [good quality]| [very good quality]|[much very good q...|[so much very goo...|\n",
      "|[good, product, o...|         8|         7|[of quality, qual...|[product of quali...|[good product of ...|[good product of ...|\n",
      "|[very, good, and,...|         3|         9|  [products quality]|[good products qu...|[unexpected good ...|[time unexpected ...|\n",
      "+--------------------+----------+----------+--------------------+--------------------+--------------------+--------------------+\n",
      "only showing top 20 rows\n",
      "\n"
     ]
    }
   ],
   "source": [
    "Final_gram.show()"
   ]
  },
  {
   "cell_type": "code",
   "execution_count": 49,
   "id": "d1be7d79-96c8-4be5-a78a-03f16bd85a77",
   "metadata": {},
   "outputs": [
    {
     "data": {
      "text/plain": [
       "301905"
      ]
     },
     "execution_count": 49,
     "metadata": {},
     "output_type": "execute_result"
    }
   ],
   "source": [
    "Final_gram.count()"
   ]
  },
  {
   "cell_type": "code",
   "execution_count": 51,
   "id": "a66cb35b-4060-4048-b184-e9ffe5784148",
   "metadata": {},
   "outputs": [
    {
     "name": "stdout",
     "output_type": "stream",
     "text": [
      "+--------------------+----------+----------+--------------------+--------------------+--------------------+--------------------+\n",
      "|      token_sentence|sent_count|word_count|              2grams|              3grams|              4grams|              5grams|\n",
      "+--------------------+----------+----------+--------------------+--------------------+--------------------+--------------------+\n",
      "|[aron, got, to, h...|         1|        23|[top quality, qua...|[getting top qual...|[we getting top q...|[many we getting ...|\n",
      "|[great, clothes, ...|         1|         6|[great quality, q...|[clothes great qu...|[great clothes gr...|[great clothes gr...|\n",
      "|[good, product, q...|      1555|         7|[product quality,...|[good product qua...|[good product qua...|[good product qua...|\n",
      "|[the, former, qua...|         1|        14|[former quality, ...|[the former quali...|[the former quali...|[the former quali...|\n",
      "|[penghantaran, pa...|         2|        17|[jahitan kemas, k...|[ok jahitan kemas...|[baju ok jahitan ...|[pantas baju ok j...|\n",
      "|[the, quality, is...|         1|         9|[the quality, qua...|[the quality is, ...|[the quality is g...|[the quality is g...|\n",
      "|[terbaik, seller,...|         1|         5|     [packing kemas]|[mantap packing k...|[seller mantap pa...|[terbaik seller m...|\n",
      "|[foldable, car, o...|         2|        10|[and quality, qua...|[useful and quali...|[very useful and ...|[organizer very u...|\n",
      "|[good, product, q...|         5|        10|[product quality,...|[good product qua...|[good product qua...|[good product qua...|\n",
      "|[bagus, bagus, pe...|         1|         9|[yg kemas, kemas ...|[pembungkusan yg ...|[bagus pembungkus...|[bagus bagus pemb...|\n",
      "|[penghantaran, yg...|         2|         7|      [ngan quality]|[berbaloi ngan qu...|[harga berbaloi n...|[pantas harga ber...|\n",
      "|[the, goods, land...|         2|        30|[the quality, qua...|[questions the qu...|[all questions th...|[to all questions...|\n",
      "|[powerbank, murah...|         1|        13|[murah quality, q...|[powerbank murah ...|[powerbank murah ...|[powerbank murah ...|\n",
      "|[the, quality, mi...|         1|        13|[the quality, qua...|[the quality migh...|[the quality migh...|[the quality migh...|\n",
      "|[thankyou, seller...|         4|        25|[tu kemas, kemas ...|[mcm tu kemas, tu...|[jugakbesi mcm tu...|[cantik jugakbesi...|\n",
      "|[good, product, q...|         3|        14|[product quality,...|[good product qua...|[good product qua...|[good product qua...|\n",
      "|[good, product, q...|         1|        11|[product quality,...|[good product qua...|[good product qua...|[good product qua...|\n",
      "|[love, it, so, mu...|         1|         7|      [good quality]| [very good quality]|[much very good q...|[so much very goo...|\n",
      "|[good, product, o...|         8|         7|[of quality, qual...|[product of quali...|[good product of ...|[good product of ...|\n",
      "|[very, good, and,...|         3|         9|  [products quality]|[good products qu...|[unexpected good ...|[time unexpected ...|\n",
      "+--------------------+----------+----------+--------------------+--------------------+--------------------+--------------------+\n",
      "only showing top 20 rows\n",
      "\n"
     ]
    }
   ],
   "source": [
    "Final_gram.filter(Final_gram.word_count > 4).show()"
   ]
  },
  {
   "cell_type": "raw",
   "id": "62238273-eaee-4429-b540-e298fc6cf3d4",
   "metadata": {},
   "source": [
    "Final_gram = Final_gram.coalesce(1)\n",
    "\n",
    "Final_gram.write.parquet(\"hdfs://g5.bigtop.it:8020/user/root/filtered_social_media.parquet\")"
   ]
  },
  {
   "cell_type": "markdown",
   "id": "70cc64ae-c969-4f22-91fc-e5c5d76541ae",
   "metadata": {},
   "source": [
    "### Change Format"
   ]
  },
  {
   "cell_type": "raw",
   "id": "2280ab3b-6034-4de7-a27c-6f8d86e5feac",
   "metadata": {},
   "source": [
    "from pyspark.sql.functions import col, concat_ws\n",
    "df_final = df2.withColumn('token_sentence', concat_ws(', ', col('token_sentence')))\n"
   ]
  },
  {
   "cell_type": "raw",
   "id": "a5b71d4a-8b7b-45f4-bcf6-fe823b774e9e",
   "metadata": {
    "tags": []
   },
   "source": [
    "df_final.show()"
   ]
  },
  {
   "cell_type": "raw",
   "id": "cac25516-5e13-49a5-89f9-a2e8460e3419",
   "metadata": {},
   "source": [
    "df_final.orderBy(\"sent_count\",\"word_count\", ascending=False).show()"
   ]
  },
  {
   "cell_type": "raw",
   "id": "31f32be1-eef5-4b2a-860d-c78b57570fce",
   "metadata": {},
   "source": [
    "df_final.count()"
   ]
  },
  {
   "cell_type": "markdown",
   "id": "6fd2df75-bc0c-4ee9-954a-2c822f7a1224",
   "metadata": {
    "tags": []
   },
   "source": [
    "### To CSV"
   ]
  },
  {
   "cell_type": "raw",
   "id": "eeae3b97-1901-4cf0-8dc3-58fd7ae3b7bc",
   "metadata": {},
   "source": [
    "df_final = df_final.coalesce(1)\n",
    "\n",
    "df_final.write.format('com.databricks.spark.csv').save('filter',header = 'true')"
   ]
  }
 ],
 "metadata": {
  "kernelspec": {
   "display_name": "g5_env",
   "language": "python",
   "name": "g5_env"
  },
  "language_info": {
   "codemirror_mode": {
    "name": "ipython",
    "version": 3
   },
   "file_extension": ".py",
   "mimetype": "text/x-python",
   "name": "python",
   "nbconvert_exporter": "python",
   "pygments_lexer": "ipython3",
   "version": "3.9.13"
  }
 },
 "nbformat": 4,
 "nbformat_minor": 5
}
