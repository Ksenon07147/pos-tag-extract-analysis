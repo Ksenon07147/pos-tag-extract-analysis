{
 "cells": [
  {
   "cell_type": "markdown",
   "id": "4e3cc93a-4a89-4905-bbdd-d679fb55bdd0",
   "metadata": {
    "tags": []
   },
   "source": [
    "## Data Storing and Retrieving by using HappyBase (Apache HBase API in Python)\n",
    "In this notebook, the process of how we save the final result after we finish the POS-Tagging step\n",
    "\n",
    "It basically using looping for insert the data row-by-row to HBase. And so when retrieve from HBase"
   ]
  },
  {
   "cell_type": "code",
   "execution_count": 1,
   "id": "bc26c140-1cff-4aab-8281-9aa9f8447250",
   "metadata": {},
   "outputs": [],
   "source": [
    "from pyspark.sql import SparkSession\n",
    "import os"
   ]
  },
  {
   "cell_type": "code",
   "execution_count": 2,
   "id": "176972d6-884b-4f61-bc16-5ea559dd0c70",
   "metadata": {},
   "outputs": [
    {
     "name": "stderr",
     "output_type": "stream",
     "text": [
      "Setting default log level to \"WARN\".\n",
      "To adjust logging level use sc.setLogLevel(newLevel). For SparkR, use setLogLevel(newLevel).\n"
     ]
    },
    {
     "name": "stdout",
     "output_type": "stream",
     "text": [
      "22/10/11 14:27:09 WARN NativeCodeLoader: Unable to load native-hadoop library for your platform... using builtin-java classes where applicable\n",
      "22/10/11 14:27:09 WARN Utils: Service 'SparkUI' could not bind on port 4040. Attempting port 4041.\n"
     ]
    },
    {
     "data": {
      "text/html": [
       "\n",
       "            <div>\n",
       "                <p><b>SparkSession - in-memory</b></p>\n",
       "                \n",
       "        <div>\n",
       "            <p><b>SparkContext</b></p>\n",
       "\n",
       "            <p><a href=\"http://g5.bigtop.it:4041\">Spark UI</a></p>\n",
       "\n",
       "            <dl>\n",
       "              <dt>Version</dt>\n",
       "                <dd><code>v3.3.0</code></dd>\n",
       "              <dt>Master</dt>\n",
       "                <dd><code>local[5]</code></dd>\n",
       "              <dt>AppName</dt>\n",
       "                <dd><code>ReadWrite HBase</code></dd>\n",
       "            </dl>\n",
       "        </div>\n",
       "        \n",
       "            </div>\n",
       "        "
      ],
      "text/plain": [
       "<pyspark.sql.session.SparkSession at 0x7f8577fc5eb0>"
      ]
     },
     "execution_count": 2,
     "metadata": {},
     "output_type": "execute_result"
    }
   ],
   "source": [
    "os.environ[\"PYSPARK_PYTHON\"]=\"/home/pc/g5_env/bin/python39\"\n",
    "\n",
    "spark = SparkSession.builder.master(\"local[5]\")\\\n",
    "            .appName(\"ReadWrite HBase\")\\\n",
    "            .config('spark.executor.memory', '10g')\\\n",
    "            .config('spark.driver.maxResultSize', '5g')\\\n",
    "            .config('spark.driver.memory', '10g')\\\n",
    "            .getOrCreate()\n",
    "spark"
   ]
  },
  {
   "cell_type": "markdown",
   "id": "3a7dc2dd-03fb-4c28-82a1-4b0c7d8f2ca0",
   "metadata": {},
   "source": [
    "## Save POS_TAG result to HBASE TABLE"
   ]
  },
  {
   "cell_type": "markdown",
   "id": "39544b38-99f9-4ae4-8af9-0549c3fb9436",
   "metadata": {},
   "source": [
    "In this example, the Malay Wikipedia POS Tag will be used.<br>\n",
    "Please according to POS Tag `[ postag_wiki_en , postag_wiki_ms , postag_wiki_zh , postag_social ]` <br>\n",
    "To choose the table"
   ]
  },
  {
   "cell_type": "code",
   "execution_count": 3,
   "id": "31502dc6-9d93-4d46-8896-c3fc8feaa385",
   "metadata": {},
   "outputs": [],
   "source": [
    "# libraries\n",
    "import happybase\n",
    "#connection to hbase\n",
    "CDH6_HBASE_THRIFT_VER='0.92'\n",
    "connection = happybase.Connection('g5.bigtop.it')"
   ]
  },
  {
   "cell_type": "code",
   "execution_count": 3,
   "id": "79eded30-d3f4-4348-b4bf-f8394d48105f",
   "metadata": {},
   "outputs": [],
   "source": [
    "## en_wiki_final, ms_wiki_final, en_wiki_final, social_media_final\n",
    "df = spark.read.option('header',True).parquet(\"hdfs://g5.bigtop.it:8020/user/root/social_media_final\")"
   ]
  },
  {
   "cell_type": "code",
   "execution_count": 4,
   "id": "95a5bf0e-7ada-4ec2-aa68-d43e2fafbede",
   "metadata": {},
   "outputs": [
    {
     "name": "stdout",
     "output_type": "stream",
     "text": [
      "+-------------------+------------------+--------------------+------+-----+\n",
      "|           sentence|          language|             pos_tag|n-gram|index|\n",
      "+-------------------+------------------+--------------------+------+-----+\n",
      "|     购买 大爱 产品|        ZH, ZH, ZH|VERB, ADJ, VERB, ...|     4|    0|\n",
      "| 询问 了 卖家 他 跟|ZH, ZH, ZH, ZH, ZH|VERB, UL, NOUN, P...|     5|    1|\n",
      "|     到货 谢谢 卖家|        ZH, ZH, ZH|    VERB, NOUN, NOUN|     3|    2|\n",
      "|       所以 听 卖家|        ZH, ZH, ZH|    CONJ, VERB, NOUN|     3|    3|\n",
      "|第一次 购买 可是 是|    ZH, ZH, ZH, ZH|NUM, VERB, CONJ, ...|     4|    4|\n",
      "| 跟 这 卖家 下单 了|ZH, ZH, ZH, ZH, ZH|IN, PRON, NOUN, N...|     5|    5|\n",
      "|   第三次 购买 看到|        ZH, ZH, ZH|     NUM, VERB, VERB|     3|    6|\n",
      "|    再 回 购买 好评|    ZH, ZH, ZH, ZH|ADV, VERB, VERB, ...|     4|    7|\n",
      "|     一起 购买 孩子|        ZH, ZH, ZH|     NUM, VERB, NOUN|     3|    8|\n",
      "|     卖家 服务 极差|        ZH, ZH, ZH|NOUN, NOUN_VERB, ...|     3|    9|\n",
      "+-------------------+------------------+--------------------+------+-----+\n",
      "only showing top 10 rows\n",
      "\n"
     ]
    }
   ],
   "source": [
    "from pyspark.sql.functions import monotonically_increasing_id\n",
    "df1 = df.withColumn(\n",
    "    \"index\", monotonically_increasing_id())\n",
    "df1.show(10)"
   ]
  },
  {
   "cell_type": "code",
   "execution_count": 6,
   "id": "2296cbcd-2d70-4100-aaf4-60ca5c719321",
   "metadata": {},
   "outputs": [
    {
     "data": {
      "text/plain": [
       "10000"
      ]
     },
     "execution_count": 6,
     "metadata": {},
     "output_type": "execute_result"
    }
   ],
   "source": [
    "df1.count()"
   ]
  },
  {
   "cell_type": "code",
   "execution_count": 7,
   "id": "4af971dc-726f-4018-b6ab-cb092bd49fff",
   "metadata": {},
   "outputs": [],
   "source": [
    "# table name declare\n",
    "table_name = 'postag_wiki_ms'"
   ]
  },
  {
   "cell_type": "code",
   "execution_count": 9,
   "id": "b3ae4287-3407-4e54-96e6-9986aa9a38d9",
   "metadata": {},
   "outputs": [],
   "source": [
    "### Create HBase Table\n",
    "connection.open()\n",
    "    \n",
    "# schema of table\n",
    "families = {\n",
    "    'result': dict(),  # use defaults\n",
    "}\n",
    "# create table\n",
    "connection.create_table(table_name, families)\n",
    "    \n",
    "connection.close()\n",
    "\n",
    "#### IF ERROR SHOWS MEANS TABLE HAS BEEN EXIST IN HBASE, PLEASE USE CODE IN NEXt CELL TO DELETE IT"
   ]
  },
  {
   "cell_type": "raw",
   "id": "8d49d08f-df13-4857-ac2a-f3ed07514b18",
   "metadata": {},
   "source": [
    "### Delete HBase Table\n",
    "connection.open()\n",
    "connection.delete_table(table_name,disable=True)\n",
    "connection.close()"
   ]
  },
  {
   "cell_type": "code",
   "execution_count": 10,
   "id": "e3581c81-d0c4-405f-9d3e-f815e9abaf8c",
   "metadata": {},
   "outputs": [],
   "source": [
    "table = connection.table(table_name)"
   ]
  },
  {
   "cell_type": "code",
   "execution_count": 11,
   "id": "6d5a8cc2-f935-44f0-a045-cb8cc643947d",
   "metadata": {},
   "outputs": [],
   "source": [
    "connection.open()\n",
    "for row in df1.rdd.collect():\n",
    "    x = list(row)\n",
    "    table.put(str(x[3]),\n",
    "                {'result:sentence': x[0],\n",
    "                 'result:pos_tag': x[1],\n",
    "                 'result:ngram': str(x[2]),\n",
    "                })\n",
    "connection.close()"
   ]
  },
  {
   "cell_type": "raw",
   "id": "1913166f-3eaf-4423-b3ca-f5a35a304780",
   "metadata": {},
   "source": [
    "## When Saving the Social Media POS TAG\n",
    "connection.open()\n",
    "for row in df1.rdd.collect():\n",
    "    x = list(row)\n",
    "    table.put(str(x[4]),\n",
    "                {'result:sentence': x[0],\n",
    "                 'result:language': x[1],\n",
    "                 'result:pos_tag': x[2],\n",
    "                 'result:ngram': str(x[3]),\n",
    "                })\n",
    "connection.close()"
   ]
  },
  {
   "cell_type": "markdown",
   "id": "59561157-8d76-4c75-a682-c044fa803034",
   "metadata": {},
   "source": [
    "## Retrieve POS_TAG result from HBASE TABLE"
   ]
  },
  {
   "cell_type": "markdown",
   "id": "3e2b126a-ec9a-4378-87e7-f15eaac61134",
   "metadata": {},
   "source": [
    "Continue the section above, the Malay Wikipedia POS Tag will be retrieve from HBase.<br>\n",
    "Please according to POS Tag `[ postag_wiki_en , postag_wiki_ms , postag_wiki_zh , postag_social ]` <br>\n",
    "To choose the table"
   ]
  },
  {
   "cell_type": "code",
   "execution_count": 12,
   "id": "0834fbd1-bc7d-4abb-90c2-5b5a2ebb3b48",
   "metadata": {},
   "outputs": [],
   "source": [
    "# libraries\n",
    "import happybase\n",
    "#connection to hbase\n",
    "CDH6_HBASE_THRIFT_VER='0.92'\n",
    "connection = happybase.Connection('g5.bigtop.it')"
   ]
  },
  {
   "cell_type": "code",
   "execution_count": 13,
   "id": "9c117361-16c8-45d8-8fc3-793036e7412a",
   "metadata": {},
   "outputs": [],
   "source": [
    "connection.open()\n",
    "table_name = 'postag_wiki_ms'\n",
    "table = connection.table(table_name)\n",
    "list_hbase = []\n",
    "i = 0\n",
    "for key, row in table.scan():\n",
    "#    if i > 20:\n",
    "#        break\n",
    "    sentence = (row[b'result:sentence']).decode(\"utf-8\")\n",
    "    pos_tag = (row[b'result:pos_tag']).decode(\"utf-8\")\n",
    "    ngram = (row[b'result:ngram']).decode(\"utf-8\")\n",
    "    list_hbase.append([sentence,pos_tag,ngram])\n",
    "    i +=1\n",
    "connection.close()"
   ]
  },
  {
   "cell_type": "raw",
   "id": "bd8560d4-70cb-4418-84e7-b81267b2123a",
   "metadata": {},
   "source": [
    "## When retrieve social media pos tag\n",
    "connection.open()\n",
    "table_name = 'postag_social'\n",
    "table = connection.table(table_name)\n",
    "list_hbase = []\n",
    "i = 0\n",
    "for key, row in table.scan():\n",
    "#    if i > 20:\n",
    "#        break\n",
    "    sentence = (row[b'result:sentence']).decode(\"utf-8\")\n",
    "    language = (row[b'result:language']).decode(\"utf-8\")\n",
    "    pos_tag = (row[b'result:pos_tag']).decode(\"utf-8\")\n",
    "    ngram = (row[b'result:ngram']).decode(\"utf-8\")\n",
    "    list_hbase.append([sentence,language,pos_tag,ngram])\n",
    "    i +=1\n",
    "connection.close()"
   ]
  },
  {
   "cell_type": "code",
   "execution_count": 14,
   "id": "80c9a7d6-3815-4324-bd60-baa7c092bc54",
   "metadata": {},
   "outputs": [
    {
     "name": "stdout",
     "output_type": "stream",
     "text": [
      "root\n",
      " |-- sentence: string (nullable = true)\n",
      " |-- pos-tag: string (nullable = true)\n",
      " |-- ngram: string (nullable = true)\n",
      "\n",
      "+----------------------------------------------+--------------------------------+-----+\n",
      "|sentence                                      |pos-tag                         |ngram|\n",
      "+----------------------------------------------+--------------------------------+-----+\n",
      "|yang terletak di jlmetro                      |PRON, VERB, ADP, NOUN           |4    |\n",
      "|seven terletak                                |PROPN, X                        |2    |\n",
      "|iaitu di kawasan sukau bukit                  |CCONJ, ADP, NOUN, NOUN, NOUN    |5    |\n",
      "|bosniaherzegovina kawasan pergunungan merentas|PROPN, NOUN, NOUN, VERB         |4    |\n",
      "|kini malaysia juara                           |SCONJ, PROPN, PROPN             |3    |\n",
      "|maria montez terletak pada kedudukan          |NOUN, PROPN, VERB, ADP, NOUN    |5    |\n",
      "|terbang mariquita terletak pada               |NOUN, PROPN, VERB, ADP          |4    |\n",
      "|pertama kalinya terletak di                   |NUM, NOUN, VERB, ADP            |4    |\n",
      "|serta kawasan dengan                          |CCONJ, NOUN, ADP                |3    |\n",
      "|gadis malaysia laila                          |NOUN, PROPN, PUNCT              |3    |\n",
      "|perkasa malaysia putra                        |NOUN, PROPN, PROPN              |3    |\n",
      "|lazim di malaysia dan singapura               |ADJ, ADP, NOUN, CCONJ, NOUN     |5    |\n",
      "|malaysia dijajah oleh                         |PROPN, PROPN, ADP               |3    |\n",
      "|mungkin meliputi kawasan barat                |ADV, NOUN, NOUN, PROPN          |4    |\n",
      "|malaysia yang terletak di kepulauan           |PROPN, PRON, VERB, ADP, NOUN    |5    |\n",
      "|kupang pembahagian kabupaten kupang           |NOUN, NOUN, PROPN, PROPN        |4    |\n",
      "|di kawasan pasir                              |ADP, NOUN, NOUN                 |3    |\n",
      "|pendaftar pertubuhan malaysia ros selepas     |NOUN, PROPN, PROPN, PROPN, CCONJ|5    |\n",
      "|numismatik maybank terletak                   |NOUN, PROPN, VERB               |3    |\n",
      "|sharif juga terletak di dalam                 |PROPN, ADV, NOUN, ADP, NOUN     |5    |\n",
      "+----------------------------------------------+--------------------------------+-----+\n",
      "only showing top 20 rows\n",
      "\n"
     ]
    },
    {
     "name": "stderr",
     "output_type": "stream",
     "text": [
      "                                                                                \r"
     ]
    }
   ],
   "source": [
    "columns = [\"sentence\",\"pos-tag\",\"ngram\"]\n",
    "df = spark.createDataFrame(data=list_hbase, schema = columns)\n",
    "df.printSchema()\n",
    "df.show(truncate=False)"
   ]
  },
  {
   "cell_type": "raw",
   "id": "09ca555b-06e6-4f0a-84aa-1c7faa6aa455",
   "metadata": {},
   "source": [
    "columns = [\"sentence\",\"language\",\"pos-tag\",\"ngram\"]\n",
    "df = spark.createDataFrame(data=list_hbase, schema = columns)\n",
    "df.printSchema()\n",
    "df.show(truncate=False)"
   ]
  },
  {
   "cell_type": "code",
   "execution_count": 15,
   "id": "ca8bc8d0-6d19-45e8-b547-f6cbad566c0a",
   "metadata": {},
   "outputs": [
    {
     "data": {
      "text/plain": [
       "10000"
      ]
     },
     "execution_count": 15,
     "metadata": {},
     "output_type": "execute_result"
    }
   ],
   "source": [
    "df.count()"
   ]
  },
  {
   "cell_type": "code",
   "execution_count": null,
   "id": "2998cc31-23d0-4536-8ebc-5851495ffa16",
   "metadata": {},
   "outputs": [],
   "source": []
  }
 ],
 "metadata": {
  "kernelspec": {
   "display_name": "g5_env",
   "language": "python",
   "name": "g5_env"
  },
  "language_info": {
   "codemirror_mode": {
    "name": "ipython",
    "version": 3
   },
   "file_extension": ".py",
   "mimetype": "text/x-python",
   "name": "python",
   "nbconvert_exporter": "python",
   "pygments_lexer": "ipython3",
   "version": "3.9.13"
  }
 },
 "nbformat": 4,
 "nbformat_minor": 5
}
