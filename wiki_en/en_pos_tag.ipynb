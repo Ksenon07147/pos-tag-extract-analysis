{
 "cells": [
  {
   "cell_type": "code",
   "execution_count": 1,
   "id": "be20d144-b19d-470e-849e-1b40c46fd184",
   "metadata": {},
   "outputs": [
    {
     "name": "stderr",
     "output_type": "stream",
     "text": [
      "Setting default log level to \"WARN\".\n",
      "To adjust logging level use sc.setLogLevel(newLevel). For SparkR, use setLogLevel(newLevel).\n"
     ]
    },
    {
     "name": "stdout",
     "output_type": "stream",
     "text": [
      "22/10/07 23:36:45 WARN NativeCodeLoader: Unable to load native-hadoop library for your platform... using builtin-java classes where applicable\n",
      "22/10/07 23:36:45 WARN Utils: Service 'SparkUI' could not bind on port 4040. Attempting port 4041.\n",
      "22/10/07 23:36:45 WARN Utils: Service 'SparkUI' could not bind on port 4041. Attempting port 4042.\n",
      "22/10/07 23:36:45 WARN Utils: Service 'SparkUI' could not bind on port 4042. Attempting port 4043.\n",
      "22/10/07 23:36:45 WARN Utils: Service 'SparkUI' could not bind on port 4043. Attempting port 4044.\n",
      "22/10/07 23:36:45 WARN Utils: Service 'SparkUI' could not bind on port 4044. Attempting port 4045.\n"
     ]
    },
    {
     "data": {
      "text/html": [
       "\n",
       "            <div>\n",
       "                <p><b>SparkSession - in-memory</b></p>\n",
       "                \n",
       "        <div>\n",
       "            <p><b>SparkContext</b></p>\n",
       "\n",
       "            <p><a href=\"http://g5.bigtop.it:4045\">Spark UI</a></p>\n",
       "\n",
       "            <dl>\n",
       "              <dt>Version</dt>\n",
       "                <dd><code>v3.3.0</code></dd>\n",
       "              <dt>Master</dt>\n",
       "                <dd><code>local[5]</code></dd>\n",
       "              <dt>AppName</dt>\n",
       "                <dd><code>en_pos_tag</code></dd>\n",
       "            </dl>\n",
       "        </div>\n",
       "        \n",
       "            </div>\n",
       "        "
      ],
      "text/plain": [
       "<pyspark.sql.session.SparkSession at 0x7f5ca86ecfd0>"
      ]
     },
     "execution_count": 1,
     "metadata": {},
     "output_type": "execute_result"
    }
   ],
   "source": [
    "from pyspark.sql import SparkSession\n",
    "from pyspark import StorageLevel\n",
    "import os\n",
    "\n",
    "os.environ[\"PYSPARK_PYTHON\"]=\"/home/pc/g5_env/bin/python39\"\n",
    "\n",
    "spark = SparkSession.builder.master(\"local[5]\")\\\n",
    "            .appName(\"en_pos_tag\")\\\n",
    "            .config('spark.executor.memory', '20g')\\\n",
    "            .config('spark.driver.maxResultSize', '10g')\\\n",
    "            .config('spark.driver.memory', '20g')\\\n",
    "            .config('spark.ui.showConsoleProgress', False)\\\n",
    "            .getOrCreate()\n",
    "\n",
    "sparkContext = spark.sparkContext\n",
    "\n",
    "spark"
   ]
  },
  {
   "cell_type": "code",
   "execution_count": 2,
   "id": "7b74bebe-005b-43b6-93e9-4e17f1188dfb",
   "metadata": {},
   "outputs": [],
   "source": [
    "file_path = 'hdfs://g5.bigtop.it:8020/user/root/filtered_en_wiki.parquet/part-00000-b7931c44-7a8c-4f89-8265-6d16a044997a-c000.snappy.parquet'"
   ]
  },
  {
   "cell_type": "code",
   "execution_count": 3,
   "id": "da50d7c3-9460-4853-9da6-c606023e748e",
   "metadata": {},
   "outputs": [
    {
     "name": "stdout",
     "output_type": "stream",
     "text": [
      "+--------------------+----------+----------+--------------------+--------------------+--------------------+--------------------+\n",
      "|      token_sentence|sent_count|word_count|              2grams|              3grams|              4grams|              5grams|\n",
      "+--------------------+----------+----------+--------------------+--------------------+--------------------+--------------------+\n",
      "|[there, are, prop...|       144|        13|[the national, na...|[on the national,...|[listed on the na...|[districts listed...|\n",
      "|[his, candidature...|         1|        15|[indian national,...|[the indian natio...|[by the indian na...|[supported by the...|\n",
      "|[abingdon, is, th...|         1|         7|        [aaa school]|[smallest aaa sch...|[2nd smallest aaa...|[the 2nd smallest...|\n",
      "|[in, he, returned...|         1|        20|[stanford univers...|[the stanford uni...|[to the stanford ...|[returned to the ...|\n",
      "|[while, most, cul...|         1|        23|[a secondary, sec...|[considered a sec...|[are considered a...|[cultivator are c...|\n",
      "|[degree, from, th...|         1|         6|[indiana universi...|[the indiana univ...|[from the indiana...|[degree from the ...|\n",
      "|[high, schools, s...|         1|        68|[high schools, sc...|[high schools ser...|[high schools ser...|[high schools ser...|\n",
      "|[he, also, attemp...|         1|        14|[by private, priv...|[owed by private,...|[taxes owed by pr...|[recover taxes ow...|\n",
      "|[the, school, ini...|         1|        31|[the school, scho...|[the school initi...|[the school initi...|[the school initi...|\n",
      "|[he, initially, e...|         1|        31|[a private, priva...|[as a private, a ...|[army as a privat...|[british army as ...|\n",
      "|[in, national, el...|         1|         9|[in national, nat...|[in national elec...|[in national elec...|[in national elec...|\n",
      "|[thesis, universi...|         3|         5|[thesis universit...|[thesis universit...|[thesis universit...|[thesis universit...|\n",
      "|[he, also, set, t...|         1|        15|[the school, scho...|[set the school, ...|[also set the sch...|[he also set the ...|\n",
      "|[in, her, english...|         1|        47|[the national, na...|[won the national...|[kerala won the n...|[of kerala won th...|\n",
      "|[he, attended, ne...|         1|        29|[york university,...|[new york univers...|[attended new yor...|[he attended new ...|\n",
      "|[tobias, went, to...|         1|        28|[to school, schoo...|[went to school, ...|[tobias went to s...|[tobias went to s...|\n",
      "|[standing, as, th...|         1|        48|[the national, na...|[as the national,...|[standing as the ...|[standing as the ...|\n",
      "|[wales, quoted, i...|         1|        14|[of national, nat...|[dictionary of na...|[oxford dictionar...|[in oxford dictio...|\n",
      "|[buddleja, podara...|         1|        31|[cornell universi...|[at cornell unive...|[while at cornell...|[podaras while at...|\n",
      "|[the, inability, ...|         1|        23|[croatian nationa...|[the croatian nat...|[of the croatian ...|[establishment of...|\n",
      "+--------------------+----------+----------+--------------------+--------------------+--------------------+--------------------+\n",
      "only showing top 20 rows\n",
      "\n"
     ]
    }
   ],
   "source": [
    "df1 = spark.read.option(\"header\",True).parquet(file_path)\n",
    "df1.show()"
   ]
  },
  {
   "cell_type": "code",
   "execution_count": 4,
   "id": "7382d1dd-3b1b-4371-8044-664ec0a4dd22",
   "metadata": {},
   "outputs": [],
   "source": [
    "from pyspark.sql.functions import col\n",
    "\n",
    "gram2 = df1.select(col(\"2grams\")).withColumnRenamed(\"2grams\",\"n-grams\")\n",
    "gram3 = df1.select(col(\"3grams\")).filter(df1.word_count > 2).withColumnRenamed(\"3grams\",\"n-grams\")\n",
    "gram4 = df1.select(col(\"4grams\")).filter(df1.word_count > 3).withColumnRenamed(\"4grams\",\"n-grams\")\n",
    "gram5 = df1.select(col(\"5grams\")).filter(df1.word_count > 4).withColumnRenamed(\"5grams\",\"n-grams\")"
   ]
  },
  {
   "cell_type": "code",
   "execution_count": 5,
   "id": "e7b78385-c470-4c6b-89e3-06e4008e713b",
   "metadata": {},
   "outputs": [],
   "source": [
    "n_gram = gram5.union(gram4).union(gram3).union(gram2).persist(StorageLevel.MEMORY_ONLY)"
   ]
  },
  {
   "cell_type": "code",
   "execution_count": 6,
   "id": "b245ab2c-3300-4149-bd5b-cd039dc189dd",
   "metadata": {},
   "outputs": [
    {
     "name": "stdout",
     "output_type": "stream",
     "text": [
      "+--------------------+\n",
      "|             n-grams|\n",
      "+--------------------+\n",
      "|[districts listed...|\n",
      "|[supported by the...|\n",
      "|[the 2nd smallest...|\n",
      "|[returned to the ...|\n",
      "|[cultivator are c...|\n",
      "|[degree from the ...|\n",
      "|[high schools ser...|\n",
      "|[recover taxes ow...|\n",
      "|[the school initi...|\n",
      "|[british army as ...|\n",
      "|[in national elec...|\n",
      "|[thesis universit...|\n",
      "|[he also set the ...|\n",
      "|[of kerala won th...|\n",
      "|[he attended new ...|\n",
      "|[tobias went to s...|\n",
      "|[standing as the ...|\n",
      "|[in oxford dictio...|\n",
      "|[podaras while at...|\n",
      "|[establishment of...|\n",
      "+--------------------+\n",
      "only showing top 20 rows\n",
      "\n"
     ]
    }
   ],
   "source": [
    "n_gram.show()"
   ]
  },
  {
   "cell_type": "code",
   "execution_count": 7,
   "id": "d53546f9-81bb-4df0-9741-151af685be77",
   "metadata": {},
   "outputs": [],
   "source": [
    "from pyspark.sql.functions import explode\n",
    "ngrams = n_gram.select(explode(col('n-grams'))).withColumnRenamed(\"col\",\"ngrams\")"
   ]
  },
  {
   "cell_type": "code",
   "execution_count": 8,
   "id": "1bb3b181-8fdf-40b0-bdcd-925d9d5f6ab0",
   "metadata": {},
   "outputs": [
    {
     "name": "stdout",
     "output_type": "stream",
     "text": [
      "+--------------------+\n",
      "|              ngrams|\n",
      "+--------------------+\n",
      "|districts listed ...|\n",
      "|listed on the nat...|\n",
      "|on the national r...|\n",
      "|the national regi...|\n",
      "|national register...|\n",
      "|supported by the ...|\n",
      "|by the indian nat...|\n",
      "|the indian nation...|\n",
      "|indian national c...|\n",
      "|national congress...|\n",
      "|the 2nd smallest ...|\n",
      "|returned to the s...|\n",
      "|to the stanford u...|\n",
      "|the stanford univ...|\n",
      "|the stanford univ...|\n",
      "|stanford universi...|\n",
      "|stanford universi...|\n",
      "|university gradua...|\n",
      "|university gradua...|\n",
      "|graduate school o...|\n",
      "+--------------------+\n",
      "only showing top 20 rows\n",
      "\n"
     ]
    }
   ],
   "source": [
    "ngrams.show()"
   ]
  },
  {
   "cell_type": "code",
   "execution_count": 9,
   "id": "a5ecc548-f54a-454d-8d43-85a9d59b16d9",
   "metadata": {},
   "outputs": [],
   "source": [
    "def f(x): return x   \n",
    "def exchangePosition(x, y):\n",
    "    return y, x"
   ]
  },
  {
   "cell_type": "code",
   "execution_count": 10,
   "id": "e10356d7-1b21-424e-9b82-00833e92bd04",
   "metadata": {},
   "outputs": [],
   "source": [
    "ngrams2 = ngrams.rdd.map(lambda x: (1,x))\\\n",
    ".flatMapValues(f)\\\n",
    ".map(lambda x: exchangePosition(x[0], x[1]))\\\n",
    ".reduceByKey(lambda a,b: a+b)\\\n",
    ".persist(StorageLevel.MEMORY_ONLY)"
   ]
  },
  {
   "cell_type": "code",
   "execution_count": 32,
   "id": "8c68fe74-06e3-4343-b160-024beefd878d",
   "metadata": {},
   "outputs": [
    {
     "data": {
      "text/plain": [
       "5888569"
      ]
     },
     "execution_count": 32,
     "metadata": {},
     "output_type": "execute_result"
    }
   ],
   "source": [
    "ngrams2.count()"
   ]
  },
  {
   "cell_type": "code",
   "execution_count": 12,
   "id": "897dcebf-aa52-40d2-9b16-f357000a8ad2",
   "metadata": {},
   "outputs": [
    {
     "name": "stdout",
     "output_type": "stream",
     "text": [
      "22/10/07 23:37:11 WARN BlockManager: Task 56 already completed, not releasing lock for rdd_42_0\n"
     ]
    }
   ],
   "source": [
    "column = ['ngram', 'gram_count']\n",
    "ngrams2 = ngrams2.toDF(column)"
   ]
  },
  {
   "cell_type": "code",
   "execution_count": 13,
   "id": "eaf8c081-8b1a-43a5-823b-afc7e8e643e4",
   "metadata": {},
   "outputs": [
    {
     "name": "stdout",
     "output_type": "stream",
     "text": [
      "22/10/07 23:37:11 WARN BlockManager: Task 57 already completed, not releasing lock for rdd_42_0\n",
      "+--------------------+----------+\n",
      "|               ngram|gram_count|\n",
      "+--------------------+----------+\n",
      "|secondary tillage...|         1|\n",
      "|high schools serv...|         1|\n",
      "|city students fre...|         1|\n",
      "|other high school...|         1|\n",
      "|kerala won the na...|         1|\n",
      "|dictionary of nat...|         1|\n",
      "|dictionary of nat...|         3|\n",
      "|educated at westm...|        42|\n",
      "|the university of...|         1|\n",
      "|houstons faculty ...|         1|\n",
      "|national railways...|        14|\n",
      "|the national regi...|      6404|\n",
      "|negro national le...|         2|\n",
      "|team members were...|         1|\n",
      "|the tertiary sect...|        85|\n",
      "|a secondary role ...|         1|\n",
      "|a national inspir...|         1|\n",
      "|national inspirat...|         1|\n",
      "|environment herit...|         1|\n",
      "|southern methodis...|         1|\n",
      "+--------------------+----------+\n",
      "only showing top 20 rows\n",
      "\n"
     ]
    }
   ],
   "source": [
    "ngrams2.show()"
   ]
  },
  {
   "cell_type": "code",
   "execution_count": 14,
   "id": "d963bdc8-14b1-469a-9138-0094440dcfe4",
   "metadata": {},
   "outputs": [],
   "source": [
    "ngram2 = ngrams2.drop('gram_count')"
   ]
  },
  {
   "cell_type": "code",
   "execution_count": 15,
   "id": "f87563d3-9b95-438a-8e44-a45f373e9654",
   "metadata": {},
   "outputs": [
    {
     "name": "stdout",
     "output_type": "stream",
     "text": [
      "22/10/07 23:37:11 WARN BlockManager: Task 58 already completed, not releasing lock for rdd_42_0\n",
      "+--------------------+\n",
      "|               ngram|\n",
      "+--------------------+\n",
      "|secondary tillage...|\n",
      "|high schools serv...|\n",
      "|city students fre...|\n",
      "|other high school...|\n",
      "|kerala won the na...|\n",
      "|dictionary of nat...|\n",
      "|dictionary of nat...|\n",
      "|educated at westm...|\n",
      "|the university of...|\n",
      "|houstons faculty ...|\n",
      "|national railways...|\n",
      "|the national regi...|\n",
      "|negro national le...|\n",
      "|team members were...|\n",
      "|the tertiary sect...|\n",
      "|a secondary role ...|\n",
      "|a national inspir...|\n",
      "|national inspirat...|\n",
      "|environment herit...|\n",
      "|southern methodis...|\n",
      "+--------------------+\n",
      "only showing top 20 rows\n",
      "\n"
     ]
    }
   ],
   "source": [
    "ngram2.show()"
   ]
  },
  {
   "cell_type": "code",
   "execution_count": 16,
   "id": "60e5999c-455c-469f-8995-18bb10a49c0a",
   "metadata": {},
   "outputs": [
    {
     "data": {
      "text/plain": [
       "5888569"
      ]
     },
     "execution_count": 16,
     "metadata": {},
     "output_type": "execute_result"
    }
   ],
   "source": [
    "import pyspark.sql.functions as f\n",
    "ngram2 = ngram2.withColumn('word_count', f.size(f.split(f.col('ngram'), ' '))).persist(StorageLevel.MEMORY_ONLY)\n",
    "ngram2.count()"
   ]
  },
  {
   "cell_type": "code",
   "execution_count": 17,
   "id": "c7703e6f-5afa-43a2-8562-e8914e4e0f6f",
   "metadata": {},
   "outputs": [
    {
     "name": "stdout",
     "output_type": "stream",
     "text": [
      "+----------------------------------------------+----------+\n",
      "|ngram                                         |word_count|\n",
      "+----------------------------------------------+----------+\n",
      "|secondary tillage implement active cultivators|5         |\n",
      "|high schools serving frederick city           |5         |\n",
      "|city students frederick high school           |5         |\n",
      "|other high schools in frederick               |5         |\n",
      "|kerala won the national award                 |5         |\n",
      "|dictionary of national biography lilian       |5         |\n",
      "|dictionary of national biography john         |5         |\n",
      "|educated at westminster school and            |5         |\n",
      "|the university of houstons faculty            |5         |\n",
      "|houstons faculty includes national medal      |5         |\n",
      "+----------------------------------------------+----------+\n",
      "only showing top 10 rows\n",
      "\n"
     ]
    }
   ],
   "source": [
    "ngram2.show(10, False)"
   ]
  },
  {
   "cell_type": "code",
   "execution_count": 18,
   "id": "8b65b739-7709-4f57-85ac-1c984061cefd",
   "metadata": {},
   "outputs": [],
   "source": [
    "keywords =  ['secondary', 'school', 'tertiary', 'university', 'national',  'private']\n",
    "\n",
    "def keyword_position(text, n_gram):\n",
    "\n",
    "    keyword = []\n",
    "    index_of_keyword =[]\n",
    "    \n",
    "    tempList = list(text.split(\" \"))\n",
    "    \n",
    "    for x in keywords:\n",
    "        i = 0\n",
    "        for y in tempList:\n",
    "            if x == y:\n",
    "                keyword.append(x)\n",
    "                index_of_keyword.append(i)\n",
    "            i = i + 1\n",
    "    \n",
    "    if keyword == []:\n",
    "        return\n",
    "    \n",
    "    if n_gram == 3 or n_gram == 2:\n",
    "        return text\n",
    "    \n",
    "    if n_gram == 5:\n",
    "        if 2 in index_of_keyword:\n",
    "            return text\n",
    "    \n",
    "    if n_gram == 4:\n",
    "        if 1 in index_of_keyword or 2 in index_of_keyword:\n",
    "            return text\n",
    "\n",
    "    return"
   ]
  },
  {
   "cell_type": "code",
   "execution_count": 19,
   "id": "d7d906dd-041b-4ce2-9376-594a4cc10d8a",
   "metadata": {},
   "outputs": [],
   "source": [
    "from pyspark.sql import Row\n",
    "\n",
    "row = Row(\"ngram\")\n",
    "ngram3 = ngram2.rdd.map(lambda x: (keyword_position(x[0], x[1]))).map(row).toDF().dropna(how='any').persist(StorageLevel.MEMORY_ONLY)"
   ]
  },
  {
   "cell_type": "code",
   "execution_count": 20,
   "id": "8a2377ba-b17f-4685-9a70-04d3d6ebbb7d",
   "metadata": {},
   "outputs": [],
   "source": [
    "from nltk import pos_tag, word_tokenize\n",
    "\n",
    "def en_pos_tag(text):\n",
    "    results = pos_tag(word_tokenize(text), lang='eng') \n",
    "    empList = []\n",
    "    for x,y in results:\n",
    "        empList.append(y)\n",
    "\n",
    "    return empList"
   ]
  },
  {
   "cell_type": "code",
   "execution_count": 21,
   "id": "8156202a-d94b-4101-bb9c-5a5f9ad5169c",
   "metadata": {},
   "outputs": [
    {
     "data": {
      "text/plain": [
       "20"
      ]
     },
     "execution_count": 21,
     "metadata": {},
     "output_type": "execute_result"
    }
   ],
   "source": [
    "ngram3.rdd.getNumPartitions()"
   ]
  },
  {
   "cell_type": "code",
   "execution_count": 22,
   "id": "990eedda-22d2-4eb1-ba4a-d191665a6499",
   "metadata": {},
   "outputs": [],
   "source": [
    "ngram3 = ngram3.repartition(48)"
   ]
  },
  {
   "cell_type": "code",
   "execution_count": 23,
   "id": "29b968ea-b3b0-490e-a3ba-c2b4dba5b316",
   "metadata": {},
   "outputs": [
    {
     "data": {
      "text/plain": [
       "2253091"
      ]
     },
     "execution_count": 23,
     "metadata": {},
     "output_type": "execute_result"
    }
   ],
   "source": [
    "ngram3.count()"
   ]
  },
  {
   "cell_type": "code",
   "execution_count": 24,
   "id": "cd5fe543-6aa5-4c0d-83d8-6f6cc534df21",
   "metadata": {},
   "outputs": [],
   "source": [
    "pos_tag = ngram3.rdd.map(lambda x: (x[0], en_pos_tag(x[0]))).persist(StorageLevel.MEMORY_ONLY)"
   ]
  },
  {
   "cell_type": "code",
   "execution_count": 25,
   "id": "41ffc09d-7b54-4039-a7d4-16762e59b5a4",
   "metadata": {},
   "outputs": [
    {
     "data": {
      "text/plain": [
       "2253091"
      ]
     },
     "execution_count": 25,
     "metadata": {},
     "output_type": "execute_result"
    }
   ],
   "source": [
    "pos_tag.count()"
   ]
  },
  {
   "cell_type": "code",
   "execution_count": 26,
   "id": "72d940f4-2764-4448-9bd9-8d2702c1ac35",
   "metadata": {},
   "outputs": [
    {
     "name": "stdout",
     "output_type": "stream",
     "text": [
      "22/10/07 23:39:38 WARN BlockManager: Task 220 already completed, not releasing lock for rdd_110_0\n"
     ]
    }
   ],
   "source": [
    "columns = ['sentence', 'pos_tag']\n",
    "\n",
    "df_pos_tag = pos_tag.toDF(columns)"
   ]
  },
  {
   "cell_type": "code",
   "execution_count": 27,
   "id": "32afc95b-8c01-4d37-948a-689ad9cd7c70",
   "metadata": {},
   "outputs": [
    {
     "name": "stdout",
     "output_type": "stream",
     "text": [
      "+--------------------+--------------------+\n",
      "|            sentence|             pos_tag|\n",
      "+--------------------+--------------------+\n",
      "|condemned the uni...|   [VBD, DT, NN, IN]|\n",
      "|high school in be...|    [JJ, NN, IN, NN]|\n",
      "|mens national cyc...|       [NNS, JJ, NN]|\n",
      "|key national port...|        [JJ, JJ, NN]|\n",
      "|of the private al...|[IN, DT, JJ, NN, NN]|\n",
      "|roads the univers...|[NNS, DT, NN, IN,...|\n",
      "|     play the school|        [VB, DT, NN]|\n",
      "|in pacific nation...|[IN, JJ, JJ, VBD,...|\n",
      "|dalarna universit...|        [NN, NN, IN]|\n",
      "|act us national a...|   [VB, PRP, JJ, NN]|\n",
      "|and public school...|[CC, JJ, NN, PRP,...|\n",
      "|primary school gr...|        [JJ, NN, NN]|\n",
      "|joined school choirs|       [JJ, NN, NNS]|\n",
      "|reports universit...| [NNS, NN, NNS, VBP]|\n",
      "|sai international...|[JJ, JJ, NN, IN, DT]|\n",
      "|festival american...|   [JJ, JJ, JJ, NNS]|\n",
      "|school district r...|        [NN, NN, JJ]|\n",
      "|the herkomer scho...|    [DT, JJ, NN, IN]|\n",
      "|school for collec...|        [NN, IN, NN]|\n",
      "|     of bjp national|        [IN, JJ, JJ]|\n",
      "+--------------------+--------------------+\n",
      "only showing top 20 rows\n",
      "\n"
     ]
    }
   ],
   "source": [
    "df_pos_tag.show()"
   ]
  },
  {
   "cell_type": "code",
   "execution_count": 28,
   "id": "fdf42bc9-651d-4699-a5da-ae135c322865",
   "metadata": {},
   "outputs": [],
   "source": [
    "import pyspark.sql.functions as f\n",
    "df_final = df_pos_tag.withColumn('n-gram', f.size(f.split(f.col('sentence'), ' ')))"
   ]
  },
  {
   "cell_type": "code",
   "execution_count": 29,
   "id": "8530c281-b475-4fbc-9c74-d99cc0b75c3d",
   "metadata": {},
   "outputs": [
    {
     "name": "stdout",
     "output_type": "stream",
     "text": [
      "+--------------------+--------------------+------+\n",
      "|            sentence|             pos_tag|n-gram|\n",
      "+--------------------+--------------------+------+\n",
      "|condemned the uni...|   [VBD, DT, NN, IN]|     4|\n",
      "|high school in be...|    [JJ, NN, IN, NN]|     4|\n",
      "|mens national cyc...|       [NNS, JJ, NN]|     3|\n",
      "|key national port...|        [JJ, JJ, NN]|     3|\n",
      "|of the private al...|[IN, DT, JJ, NN, NN]|     5|\n",
      "|roads the univers...|[NNS, DT, NN, IN,...|     5|\n",
      "|     play the school|        [VB, DT, NN]|     3|\n",
      "|in pacific nation...|[IN, JJ, JJ, VBD,...|     5|\n",
      "|dalarna universit...|        [NN, NN, IN]|     3|\n",
      "|act us national a...|   [VB, PRP, JJ, NN]|     4|\n",
      "|and public school...|[CC, JJ, NN, PRP,...|     5|\n",
      "|primary school gr...|        [JJ, NN, NN]|     3|\n",
      "|joined school choirs|       [JJ, NN, NNS]|     3|\n",
      "|reports universit...| [NNS, NN, NNS, VBP]|     4|\n",
      "|sai international...|[JJ, JJ, NN, IN, DT]|     5|\n",
      "|festival american...|   [JJ, JJ, JJ, NNS]|     4|\n",
      "|school district r...|        [NN, NN, JJ]|     3|\n",
      "|the herkomer scho...|    [DT, JJ, NN, IN]|     4|\n",
      "|school for collec...|        [NN, IN, NN]|     3|\n",
      "|     of bjp national|        [IN, JJ, JJ]|     3|\n",
      "+--------------------+--------------------+------+\n",
      "only showing top 20 rows\n",
      "\n"
     ]
    }
   ],
   "source": [
    "df_final.show()"
   ]
  },
  {
   "cell_type": "code",
   "execution_count": 30,
   "id": "d8cfeb35-72aa-4d00-96f0-49ddf37a2e3a",
   "metadata": {},
   "outputs": [],
   "source": [
    "from pyspark.sql.functions import col, concat_ws\n",
    "df_final = df_final.withColumn('pos_tag', concat_ws(', ', col('pos_tag')))"
   ]
  },
  {
   "cell_type": "code",
   "execution_count": 31,
   "id": "e23af938-d807-4ab8-8074-1c03d9aa8610",
   "metadata": {},
   "outputs": [
    {
     "name": "stdout",
     "output_type": "stream",
     "text": [
      "+--------------------+--------------------+------+\n",
      "|            sentence|             pos_tag|n-gram|\n",
      "+--------------------+--------------------+------+\n",
      "|condemned the uni...|     VBD, DT, NN, IN|     4|\n",
      "|high school in be...|      JJ, NN, IN, NN|     4|\n",
      "|mens national cyc...|         NNS, JJ, NN|     3|\n",
      "|key national port...|          JJ, JJ, NN|     3|\n",
      "|of the private al...|  IN, DT, JJ, NN, NN|     5|\n",
      "|roads the univers...| NNS, DT, NN, IN, NN|     5|\n",
      "|     play the school|          VB, DT, NN|     3|\n",
      "|in pacific nation...| IN, JJ, JJ, VBD, DT|     5|\n",
      "|dalarna universit...|          NN, NN, IN|     3|\n",
      "|act us national a...|     VB, PRP, JJ, NN|     4|\n",
      "|and public school...|CC, JJ, NN, PRP, VBD|     5|\n",
      "|primary school gr...|          JJ, NN, NN|     3|\n",
      "|joined school choirs|         JJ, NN, NNS|     3|\n",
      "|reports universit...|   NNS, NN, NNS, VBP|     4|\n",
      "|sai international...|  JJ, JJ, NN, IN, DT|     5|\n",
      "|festival american...|     JJ, JJ, JJ, NNS|     4|\n",
      "|school district r...|          NN, NN, JJ|     3|\n",
      "|the herkomer scho...|      DT, JJ, NN, IN|     4|\n",
      "|school for collec...|          NN, IN, NN|     3|\n",
      "|     of bjp national|          IN, JJ, JJ|     3|\n",
      "+--------------------+--------------------+------+\n",
      "only showing top 20 rows\n",
      "\n"
     ]
    }
   ],
   "source": [
    "df_final.show()"
   ]
  },
  {
   "cell_type": "raw",
   "id": "fce3427f-7084-4d9b-971b-0edb78f1c009",
   "metadata": {},
   "source": [
    "df_final = df_final.coalesce(1)\n",
    "\n",
    "df_final.write.csv('en_wiki_final',header = 'true')"
   ]
  },
  {
   "cell_type": "raw",
   "id": "f67deb51-2964-44a8-aee4-ef2445d55d41",
   "metadata": {},
   "source": [
    "df_final.write.parquet('hdfs://g5.bigtop.it:8020/user/root/en_wiki_final')"
   ]
  },
  {
   "cell_type": "raw",
   "id": "59737b02-447e-4b40-aca4-c224c6892424",
   "metadata": {},
   "source": [
    "import pandas as pd\n",
    "df = pd.read_csv(\"/home/pc/zerone/assignment/wiki/en_wiki_final/part-00000-6d13cf29-99e5-4ed6-9c8a-242a642a8e08-c000.csv\",header=0)\n",
    "df"
   ]
  },
  {
   "cell_type": "code",
   "execution_count": null,
   "id": "12a97809-5a9a-412d-9e5c-3b550776367e",
   "metadata": {},
   "outputs": [],
   "source": []
  }
 ],
 "metadata": {
  "kernelspec": {
   "display_name": "g5_env",
   "language": "python",
   "name": "g5_env"
  },
  "language_info": {
   "codemirror_mode": {
    "name": "ipython",
    "version": 3
   },
   "file_extension": ".py",
   "mimetype": "text/x-python",
   "name": "python",
   "nbconvert_exporter": "python",
   "pygments_lexer": "ipython3",
   "version": "3.9.13"
  }
 },
 "nbformat": 4,
 "nbformat_minor": 5
}
