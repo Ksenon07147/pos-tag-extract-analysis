{
 "cells": [
  {
   "cell_type": "code",
   "execution_count": 1,
   "id": "723ffb90-335b-4141-be8c-c57093416be0",
   "metadata": {},
   "outputs": [
    {
     "name": "stderr",
     "output_type": "stream",
     "text": [
      "Setting default log level to \"WARN\".\n",
      "To adjust logging level use sc.setLogLevel(newLevel). For SparkR, use setLogLevel(newLevel).\n"
     ]
    },
    {
     "name": "stdout",
     "output_type": "stream",
     "text": [
      "22/10/05 20:35:03 WARN NativeCodeLoader: Unable to load native-hadoop library for your platform... using builtin-java classes where applicable\n"
     ]
    },
    {
     "data": {
      "text/html": [
       "\n",
       "            <div>\n",
       "                <p><b>SparkSession - in-memory</b></p>\n",
       "                \n",
       "        <div>\n",
       "            <p><b>SparkContext</b></p>\n",
       "\n",
       "            <p><a href=\"http://g5.bigtop.it:4040\">Spark UI</a></p>\n",
       "\n",
       "            <dl>\n",
       "              <dt>Version</dt>\n",
       "                <dd><code>v3.3.0</code></dd>\n",
       "              <dt>Master</dt>\n",
       "                <dd><code>local[16]</code></dd>\n",
       "              <dt>AppName</dt>\n",
       "                <dd><code>ms_wiki_extract</code></dd>\n",
       "            </dl>\n",
       "        </div>\n",
       "        \n",
       "            </div>\n",
       "        "
      ],
      "text/plain": [
       "<pyspark.sql.session.SparkSession at 0x7f2bac897550>"
      ]
     },
     "execution_count": 1,
     "metadata": {},
     "output_type": "execute_result"
    }
   ],
   "source": [
    "from pyspark.sql import SparkSession\n",
    "from pyspark import StorageLevel\n",
    "import os\n",
    "\n",
    "os.environ[\"PYSPARK_PYTHON\"]=\"/home/pc/g5_env/bin/python39\"\n",
    "\n",
    "spark = SparkSession.builder.master(\"local[16]\")\\\n",
    "            .appName(\"ms_wiki_extract\")\\\n",
    "            .config('spark.executor.memory', '20g')\\\n",
    "            .config('spark.driver.maxResultSize', '10g')\\\n",
    "            .config('spark.driver.memory', '20g')\\\n",
    "            .config('spark.ui.showConsoleProgress', False)\\\n",
    "            .getOrCreate()\n",
    "\n",
    "sparkContext = spark.sparkContext\n",
    "\n",
    "spark"
   ]
  },
  {
   "cell_type": "code",
   "execution_count": 2,
   "id": "5b30c915-8fc1-48b2-8ae1-3460ed8d55d3",
   "metadata": {},
   "outputs": [],
   "source": [
    "file_path = 'hdfs://g5.bigtop.it:8020/user/root/wikidata_en_preprocessed.parquet'"
   ]
  },
  {
   "cell_type": "code",
   "execution_count": 3,
   "id": "1491a2f4-7329-4515-9c1f-91966ec9a135",
   "metadata": {},
   "outputs": [
    {
     "name": "stdout",
     "output_type": "stream",
     "text": [
      "+--------------------------------------------------------------------------------------------------------------------------------------------------------------------------------------------------------------------------------------------------------------------------------------------------------------------------------------------------------------------------------------------------------------------------------------------------------------------------------------------------------------------------------+\n",
      "|_1                                                                                                                                                                                                                                                                                                                                                                                                                                                                                                                              |\n",
      "+--------------------------------------------------------------------------------------------------------------------------------------------------------------------------------------------------------------------------------------------------------------------------------------------------------------------------------------------------------------------------------------------------------------------------------------------------------------------------------------------------------------------------------+\n",
      "|hebron valley grange no                                                                                                                                                                                                                                                                                                                                                                                                                                                                                                         |\n",
      "|also known as west hebron methodist church is a historic grange building located in the hamlet of west hebron in the town of hebron in washington county new york                                                                                                                                                                                                                                                                                                                                                               |\n",
      "|it was originally built about as a methodist meeting house on a site located miles from its current location                                                                                                                                                                                                                                                                                                                                                                                                                    |\n",
      "|it was moved a second time prior to                                                                                                                                                                                                                                                                                                                                                                                                                                                                                             |\n",
      "|in the building was purchased by a local grange organization and used until december                                                                                                                                                                                                                                                                                                                                                                                                                                            |\n",
      "|the original building is a threebythreebay story heavy timberframe building                                                                                                                                                                                                                                                                                                                                                                                                                                                     |\n",
      "|an addition was completed about                                                                                                                                                                                                                                                                                                                                                                                                                                                                                                 |\n",
      "|see also it was listed on the national register of historic places in                                                                                                                                                                                                                                                                                                                                                                                                                                                           |\n",
      "|pseuderanthemum tuberculatum is a species of plant in the family acanthaceae native to polynesia                                                                                                                                                                                                                                                                                                                                                                                                                                |\n",
      "|gbif entry photographs of pseuderanthemum tuberculatum grueneberg h culture of pseuderanthemum tuberculatum humboldtuniv berlin taspogartenbaumagazin v p                                                                                                                                                                                                                                                                                                                                                                       |\n",
      "|issn tuberculatum                                                                                                                                                                                                                                                                                                                                                                                                                                                                                                               |\n",
      "|thumb streatham ice and leisure centre streatham ice and leisure centre is an ice rink and leisure centre in streatham london                                                                                                                                                                                                                                                                                                                                                                                                   |\n",
      "|it is the only olympicsized skating rink in the cityhttpswwwbetterorgukleisure centrelondonlambethstreathamiceandleisurecentre and is the home ice of the streatham redhawks ice hockey team                                                                                                                                                                                                                                                                                                                                    |\n",
      "|it replaced the older streatham ice arena                                                                                                                                                                                                                                                                                                                                                                                                                                                                                       |\n",
      "|ice streatham ice arena was originally opened on the site on the february by the mayor of wandsworth lt col a bellamy and the member of parliament for streatham sir william lane mitchell                                                                                                                                                                                                                                                                                                                                      |\n",
      "|during the second world war the arena was closed to the public and was used as a food storage centre                                                                                                                                                                                                                                                                                                                                                                                                                            |\n",
      "|in the arena was purchased by the mecca entertainments company who spent almost on various improvements including a restaurant and cocktail bar and renamed the rink as silver blades it being one of several in a chain of silver blades ice rinks that the company operated in the uk                                                                                                                                                                                                                                         |\n",
      "|a further million was spent refurbishing the rink in following problems with the aging icemaking machinery                                                                                                                                                                                                                                                                                                                                                                                                                      |\n",
      "|however by the end of the twentieth century the building was proving very expensive to maintain and it had begun to fall into disrepair                                                                                                                                                                                                                                                                                                                                                                                         |\n",
      "|during its last years the arena was in substandard condition from a safety point of view and would have required extensive refurbishment including to the curved ceiling to remain operativehttpswwwyourlocalguardiancouknewsstreathamsays goodbyetoyearoldicerink in tesco bought the site in preparation for a proposed multimillion pound streatham hub development which was to include not only a new olympic sized ice rink but also a public leisure centre with a metre long swimming pool homes and a large tesco store|\n",
      "+--------------------------------------------------------------------------------------------------------------------------------------------------------------------------------------------------------------------------------------------------------------------------------------------------------------------------------------------------------------------------------------------------------------------------------------------------------------------------------------------------------------------------------+\n",
      "only showing top 20 rows\n",
      "\n"
     ]
    }
   ],
   "source": [
    "df1 = spark.read.option(\"header\",True).parquet(file_path)\n",
    "df1.show(truncate=False)"
   ]
  },
  {
   "cell_type": "code",
   "execution_count": 4,
   "id": "8e7445c9-14ac-46ab-95e9-3d72b71adeb7",
   "metadata": {},
   "outputs": [
    {
     "data": {
      "text/plain": [
       "16"
      ]
     },
     "execution_count": 4,
     "metadata": {},
     "output_type": "execute_result"
    }
   ],
   "source": [
    "df1.rdd.getNumPartitions()"
   ]
  },
  {
   "cell_type": "code",
   "execution_count": 5,
   "id": "d2ac81e6-ecd8-46dc-9d60-3f8fdef995a2",
   "metadata": {},
   "outputs": [],
   "source": [
    "df1 = df1.repartition(64)"
   ]
  },
  {
   "cell_type": "code",
   "execution_count": 6,
   "id": "9367e7f5-2c50-4860-a351-b8af11a8ac08",
   "metadata": {},
   "outputs": [
    {
     "name": "stdout",
     "output_type": "stream",
     "text": [
      "+--------------------+\n",
      "|                  _1|\n",
      "+--------------------+\n",
      "|mannerheim explai...|\n",
      "|renaud jean le tr...|\n",
      "|pete doherty was ...|\n",
      "|during the electi...|\n",
      "|clothing products...|\n",
      "|of cipa played at...|\n",
      "|it later emerged ...|\n",
      "|they were hms ove...|\n",
      "|the latter drove ...|\n",
      "|            ipromide|\n",
      "|thumb a view of s...|\n",
      "|as part of phase ...|\n",
      "|the contest was c...|\n",
      "|he then lectured ...|\n",
      "|the female defend...|\n",
      "|elliot junior uyi...|\n",
      "|novices wear the ...|\n",
      "|in three videos o...|\n",
      "|renovation of the...|\n",
      "|the preaching eff...|\n",
      "+--------------------+\n",
      "only showing top 20 rows\n",
      "\n"
     ]
    }
   ],
   "source": [
    "df1.show()"
   ]
  },
  {
   "cell_type": "code",
   "execution_count": 7,
   "id": "862451b2-7739-4caa-9d22-e41c8bd7502d",
   "metadata": {},
   "outputs": [
    {
     "name": "stdout",
     "output_type": "stream",
     "text": [
      "+---+\n",
      "| _1|\n",
      "+---+\n",
      "|  0|\n",
      "+---+\n",
      "\n"
     ]
    }
   ],
   "source": [
    "from pyspark.sql.functions import col,isnan, when, count\n",
    "\n",
    "c = '_1'\n",
    "df1.select([count(when(col(c).isNull(), c)).alias(c)]).show()"
   ]
  },
  {
   "cell_type": "code",
   "execution_count": 8,
   "id": "467a96ef-d514-4254-ac39-6401492ea503",
   "metadata": {},
   "outputs": [],
   "source": [
    "from nltk.tokenize import word_tokenize\n",
    "import re\n",
    "def word_token(text):\n",
    "    string =text['_1']\n",
    "    # print(type(text))\n",
    "    return word_tokenize(string)\n",
    "\n",
    "def f(x): return x\n",
    "\n",
    "def exchangePosition(text, index):\n",
    "    return index, (text)\n"
   ]
  },
  {
   "cell_type": "code",
   "execution_count": 9,
   "id": "33d8fce4-a43b-4dbc-885f-defb58192842",
   "metadata": {},
   "outputs": [],
   "source": [
    "RDD = df1.rdd.map(lambda x: word_token(x))\\\n",
    ".persist(StorageLevel.MEMORY_ONLY)"
   ]
  },
  {
   "cell_type": "code",
   "execution_count": 10,
   "id": "23ed41a9-961e-4f1a-bd44-2de757739638",
   "metadata": {},
   "outputs": [],
   "source": [
    "RDD2=RDD.map(lambda x:(x,1)).map(lambda x: exchangePosition(x[0], x[1]))\\\n",
    ".flatMapValues(f)\\\n",
    ".map(lambda x: exchangePosition(x[0], x[1]))\\\n",
    ".reduceByKey(lambda a,b: a+b)\\\n",
    ".persist(StorageLevel.MEMORY_ONLY)"
   ]
  },
  {
   "cell_type": "code",
   "execution_count": 11,
   "id": "b5e7d798-85cd-42ee-aa81-0ea846b3bd3c",
   "metadata": {},
   "outputs": [
    {
     "data": {
      "text/plain": [
       "3704067"
      ]
     },
     "execution_count": 11,
     "metadata": {},
     "output_type": "execute_result"
    }
   ],
   "source": [
    "RDD2.count()"
   ]
  },
  {
   "cell_type": "code",
   "execution_count": 12,
   "id": "49dc4d44-1f78-4070-ba64-0b8b1ff8cccf",
   "metadata": {},
   "outputs": [
    {
     "name": "stdout",
     "output_type": "stream",
     "text": [
      "22/10/05 20:38:05 WARN BlockManager: Task 248 already completed, not releasing lock for rdd_44_0\n"
     ]
    }
   ],
   "source": [
    "Column = ['word', 'word_count']\n",
    "df2 = RDD2.toDF(Column)"
   ]
  },
  {
   "cell_type": "code",
   "execution_count": 13,
   "id": "906d06ba-0731-4294-a4aa-44a90adabfa3",
   "metadata": {},
   "outputs": [
    {
     "name": "stdout",
     "output_type": "stream",
     "text": [
      "+------------+----------+\n",
      "|        word|word_count|\n",
      "+------------+----------+\n",
      "|         out|    216565|\n",
      "|        bani|       496|\n",
      "|    ipromide|         1|\n",
      "|sufficiently|      2013|\n",
      "|      family|    172612|\n",
      "|   continued|     56495|\n",
      "|   standards|     14272|\n",
      "|   something|     16978|\n",
      "|  kilometers|      5226|\n",
      "|        wwwf|        79|\n",
      "|         wwf|      1730|\n",
      "|         och|      1236|\n",
      "|      belief|      6713|\n",
      "|      common|     54279|\n",
      "|       where|    236524|\n",
      "|particularly|     26032|\n",
      "|  production|     70878|\n",
      "|          sc|      7248|\n",
      "|     promote|     12284|\n",
      "|      result|     50587|\n",
      "+------------+----------+\n",
      "only showing top 20 rows\n",
      "\n"
     ]
    }
   ],
   "source": [
    "df2.show()"
   ]
  },
  {
   "cell_type": "code",
   "execution_count": 14,
   "id": "81880003-5ee2-4c91-972e-43930dbe4843",
   "metadata": {},
   "outputs": [],
   "source": [
    "import advertools as adv\n",
    "eng_STOPWORDS=adv.stopwords['english']"
   ]
  },
  {
   "cell_type": "code",
   "execution_count": 15,
   "id": "bf78829b-fc10-486a-9b7e-6d61e2c892f8",
   "metadata": {
    "tags": []
   },
   "outputs": [
    {
     "name": "stdout",
     "output_type": "stream",
     "text": [
      "+----------+----------+\n",
      "|      word|word_count|\n",
      "+----------+----------+\n",
      "|       new|    595956|\n",
      "|    school|    317618|\n",
      "|      time|    305875|\n",
      "|university|    293830|\n",
      "|  national|    281605|\n",
      "|     style|    277952|\n",
      "|        de|    273528|\n",
      "|     world|    266668|\n",
      "|     years|    265312|\n",
      "|     state|    258455|\n",
      "+----------+----------+\n",
      "only showing top 10 rows\n",
      "\n"
     ]
    }
   ],
   "source": [
    "df2.orderBy(\"word_count\", ascending=False)\\\n",
    ".filter(~col(\"word\").isin(eng_STOPWORDS))\\\n",
    ".show(10)"
   ]
  },
  {
   "cell_type": "code",
   "execution_count": 16,
   "id": "a966271b-3337-48eb-be1a-4e0709fe0e55",
   "metadata": {},
   "outputs": [],
   "source": [
    "def text_extract(text):\n",
    "    keywords =  ['secondary', 'school', 'tertiary', 'university', 'national',  'private']\n",
    "    for x in keywords:\n",
    "        if x in text:\n",
    "            return text\n",
    "        \n",
    "    return ''\n",
    "\n",
    "\n",
    "keyword_filter = RDD.map(lambda x: text_extract(x)).filter(lambda x: x != '').persist(StorageLevel.MEMORY_ONLY)"
   ]
  },
  {
   "cell_type": "code",
   "execution_count": 17,
   "id": "1bad0e8f-12cb-4e24-ba8d-98a9e03869ef",
   "metadata": {},
   "outputs": [
    {
     "data": {
      "text/plain": [
       "724074"
      ]
     },
     "execution_count": 17,
     "metadata": {},
     "output_type": "execute_result"
    }
   ],
   "source": [
    "keyword_filter.count()"
   ]
  },
  {
   "cell_type": "code",
   "execution_count": 18,
   "id": "18cd871b-dba5-43a7-add8-01731defc10d",
   "metadata": {},
   "outputs": [],
   "source": [
    "data1 = keyword_filter.map(lambda x : (tuple(x), 1))\\\n",
    ".reduceByKey(lambda a,b: a+b).persist(StorageLevel.MEMORY_ONLY)"
   ]
  },
  {
   "cell_type": "code",
   "execution_count": 19,
   "id": "5af7a758-9ead-41ad-806c-2eff9b7f03dc",
   "metadata": {},
   "outputs": [
    {
     "name": "stdout",
     "output_type": "stream",
     "text": [
      "+--------------------+----------+\n",
      "|      token_sentence|sent_count|\n",
      "+--------------------+----------+\n",
      "|[there, are, prop...|       144|\n",
      "|[his, candidature...|         1|\n",
      "|[abingdon, is, th...|         1|\n",
      "|[in, he, returned...|         1|\n",
      "|[while, most, cul...|         1|\n",
      "|[degree, from, th...|         1|\n",
      "|[high, schools, s...|         1|\n",
      "|[he, also, attemp...|         1|\n",
      "|[the, school, ini...|         1|\n",
      "|[he, initially, e...|         1|\n",
      "|[in, national, el...|         1|\n",
      "|[thesis, universi...|         3|\n",
      "|[he, also, set, t...|         1|\n",
      "|[in, her, english...|         1|\n",
      "|[he, attended, ne...|         1|\n",
      "|[tobias, went, to...|         1|\n",
      "|[standing, as, th...|         1|\n",
      "|[wales, quoted, i...|         1|\n",
      "|[buddleja, podara...|         1|\n",
      "|[the, inability, ...|         1|\n",
      "+--------------------+----------+\n",
      "only showing top 20 rows\n",
      "\n"
     ]
    }
   ],
   "source": [
    "from pyspark.sql.types import StructType,StructField, StringType, IntegerType, ArrayType\n",
    "schema = StructType([ \\\n",
    "    StructField('token_sentence',ArrayType(StringType()),True), \\\n",
    "    StructField('sent_count',IntegerType(),True), \\\n",
    "  ])\n",
    "\n",
    "\n",
    "df1 = spark.createDataFrame(data = data1, schema=schema)\n",
    "df1.show()"
   ]
  },
  {
   "cell_type": "code",
   "execution_count": 20,
   "id": "57b35a8d-9da7-4d80-8cb0-6c731ed02ba0",
   "metadata": {},
   "outputs": [],
   "source": [
    "import pyspark.sql.functions as f\n",
    "df1 = df1.withColumn('word_count', f.size(f.col('token_sentence')))"
   ]
  },
  {
   "cell_type": "code",
   "execution_count": 21,
   "id": "c09ac6db-2a65-4d6a-944f-170f8266ba4b",
   "metadata": {},
   "outputs": [
    {
     "name": "stdout",
     "output_type": "stream",
     "text": [
      "+--------------------+----------+----------+\n",
      "|      token_sentence|sent_count|word_count|\n",
      "+--------------------+----------+----------+\n",
      "|[there, are, prop...|       144|        13|\n",
      "|[his, candidature...|         1|        15|\n",
      "|[abingdon, is, th...|         1|         7|\n",
      "|[in, he, returned...|         1|        20|\n",
      "|[while, most, cul...|         1|        23|\n",
      "|[degree, from, th...|         1|         6|\n",
      "|[high, schools, s...|         1|        68|\n",
      "|[he, also, attemp...|         1|        14|\n",
      "|[the, school, ini...|         1|        31|\n",
      "|[he, initially, e...|         1|        31|\n",
      "|[in, national, el...|         1|         9|\n",
      "|[thesis, universi...|         3|         5|\n",
      "|[he, also, set, t...|         1|        15|\n",
      "|[in, her, english...|         1|        47|\n",
      "|[he, attended, ne...|         1|        29|\n",
      "|[tobias, went, to...|         1|        28|\n",
      "|[standing, as, th...|         1|        48|\n",
      "|[wales, quoted, i...|         1|        14|\n",
      "|[buddleja, podara...|         1|        31|\n",
      "|[the, inability, ...|         1|        23|\n",
      "+--------------------+----------+----------+\n",
      "only showing top 20 rows\n",
      "\n"
     ]
    }
   ],
   "source": [
    "df1.show()"
   ]
  },
  {
   "cell_type": "code",
   "execution_count": 22,
   "id": "6e3452e4-5aa6-4c1a-a2a3-1f310346cbe3",
   "metadata": {},
   "outputs": [
    {
     "name": "stdout",
     "output_type": "stream",
     "text": [
      "+--------------+----------+----------+\n",
      "|token_sentence|sent_count|word_count|\n",
      "+--------------+----------+----------+\n",
      "|    [national]|         3|         1|\n",
      "|      [school]|        11|         1|\n",
      "|  [university]|         8|         1|\n",
      "|     [private]|         2|         1|\n",
      "|   [secondary]|         2|         1|\n",
      "+--------------+----------+----------+\n",
      "\n"
     ]
    }
   ],
   "source": [
    "df1.filter(df1.word_count == 1).show()"
   ]
  },
  {
   "cell_type": "code",
   "execution_count": 23,
   "id": "a9687194-75c2-40c3-95d5-40aeb8c3c7c2",
   "metadata": {},
   "outputs": [],
   "source": [
    "df2 = df1.filter(df1.word_count > 1)"
   ]
  },
  {
   "cell_type": "code",
   "execution_count": 24,
   "id": "529146aa-a830-442c-bbac-489374788c8c",
   "metadata": {},
   "outputs": [
    {
     "name": "stdout",
     "output_type": "stream",
     "text": [
      "+--------------------+----------+----------+\n",
      "|      token_sentence|sent_count|word_count|\n",
      "+--------------------+----------+----------+\n",
      "|[there, are, prop...|       144|        13|\n",
      "|[his, candidature...|         1|        15|\n",
      "|[abingdon, is, th...|         1|         7|\n",
      "|[in, he, returned...|         1|        20|\n",
      "|[while, most, cul...|         1|        23|\n",
      "|[degree, from, th...|         1|         6|\n",
      "|[high, schools, s...|         1|        68|\n",
      "|[he, also, attemp...|         1|        14|\n",
      "|[the, school, ini...|         1|        31|\n",
      "|[he, initially, e...|         1|        31|\n",
      "|[in, national, el...|         1|         9|\n",
      "|[thesis, universi...|         3|         5|\n",
      "|[he, also, set, t...|         1|        15|\n",
      "|[in, her, english...|         1|        47|\n",
      "|[he, attended, ne...|         1|        29|\n",
      "|[tobias, went, to...|         1|        28|\n",
      "|[standing, as, th...|         1|        48|\n",
      "|[wales, quoted, i...|         1|        14|\n",
      "|[buddleja, podara...|         1|        31|\n",
      "|[the, inability, ...|         1|        23|\n",
      "+--------------------+----------+----------+\n",
      "only showing top 20 rows\n",
      "\n"
     ]
    }
   ],
   "source": [
    "df2.show()"
   ]
  },
  {
   "cell_type": "code",
   "execution_count": 25,
   "id": "ac657020-418c-485f-8ce6-761b3a05503c",
   "metadata": {},
   "outputs": [
    {
     "data": {
      "text/plain": [
       "689245"
      ]
     },
     "execution_count": 25,
     "metadata": {},
     "output_type": "execute_result"
    }
   ],
   "source": [
    "df2.count()"
   ]
  },
  {
   "cell_type": "markdown",
   "id": "a3fd5320-68f4-49dd-9218-d40b090673ed",
   "metadata": {},
   "source": [
    "### Ngram"
   ]
  },
  {
   "cell_type": "code",
   "execution_count": 26,
   "id": "38f73a57-6b84-4c8d-8464-6d62757a5cea",
   "metadata": {},
   "outputs": [
    {
     "name": "stdout",
     "output_type": "stream",
     "text": [
      "+--------------------+----------+----------+--------------------+--------------------+--------------------+--------------------+\n",
      "|      token_sentence|sent_count|word_count|              2grams|              3grams|              4grams|              5grams|\n",
      "+--------------------+----------+----------+--------------------+--------------------+--------------------+--------------------+\n",
      "|[there, are, prop...|       144|        13|[there are, are p...|[there are proper...|[there are proper...|[there are proper...|\n",
      "|[his, candidature...|         1|        15|[his candidature,...|[his candidature ...|[his candidature ...|[his candidature ...|\n",
      "|[abingdon, is, th...|         1|         7|[abingdon is, is ...|[abingdon is the,...|[abingdon is the ...|[abingdon is the ...|\n",
      "|[in, he, returned...|         1|        20|[in he, he return...|[in he returned, ...|[in he returned t...|[in he returned t...|\n",
      "|[while, most, cul...|         1|        23|[while most, most...|[while most culti...|[while most culti...|[while most culti...|\n",
      "|[degree, from, th...|         1|         6|[degree from, fro...|[degree from the,...|[degree from the ...|[degree from the ...|\n",
      "|[high, schools, s...|         1|        68|[high schools, sc...|[high schools ser...|[high schools ser...|[high schools ser...|\n",
      "|[he, also, attemp...|         1|        14|[he also, also at...|[he also attempte...|[he also attempte...|[he also attempte...|\n",
      "|[the, school, ini...|         1|        31|[the school, scho...|[the school initi...|[the school initi...|[the school initi...|\n",
      "|[he, initially, e...|         1|        31|[he initially, in...|[he initially enl...|[he initially enl...|[he initially enl...|\n",
      "|[in, national, el...|         1|         9|[in national, nat...|[in national elec...|[in national elec...|[in national elec...|\n",
      "|[thesis, universi...|         3|         5|[thesis universit...|[thesis universit...|[thesis universit...|[thesis universit...|\n",
      "|[he, also, set, t...|         1|        15|[he also, also se...|[he also set, als...|[he also set the,...|[he also set the ...|\n",
      "|[in, her, english...|         1|        47|[in her, her engl...|[in her english, ...|[in her english l...|[in her english l...|\n",
      "|[he, attended, ne...|         1|        29|[he attended, att...|[he attended new,...|[he attended new ...|[he attended new ...|\n",
      "|[tobias, went, to...|         1|        28|[tobias went, wen...|[tobias went to, ...|[tobias went to s...|[tobias went to s...|\n",
      "|[standing, as, th...|         1|        48|[standing as, as ...|[standing as the,...|[standing as the ...|[standing as the ...|\n",
      "|[wales, quoted, i...|         1|        14|[wales quoted, qu...|[wales quoted in,...|[wales quoted in ...|[wales quoted in ...|\n",
      "|[buddleja, podara...|         1|        31|[buddleja podaras...|[buddleja podaras...|[buddleja podaras...|[buddleja podaras...|\n",
      "|[the, inability, ...|         1|        23|[the inability, i...|[the inability of...|[the inability of...|[the inability of...|\n",
      "+--------------------+----------+----------+--------------------+--------------------+--------------------+--------------------+\n",
      "only showing top 20 rows\n",
      "\n"
     ]
    }
   ],
   "source": [
    "from pyspark.ml.feature import NGram\n",
    "ngramDataFrame = df2\n",
    "\n",
    "for x in range(2,6):\n",
    "    ngram = NGram(n=x, inputCol='token_sentence', outputCol= str(x) +'grams')\n",
    "    ngramDataFrame = ngram.transform(ngramDataFrame) \n",
    "ngramDataFrame.show()"
   ]
  },
  {
   "cell_type": "code",
   "execution_count": 27,
   "id": "662fe687-ac38-45b9-8c94-3ca69f3d897d",
   "metadata": {},
   "outputs": [
    {
     "data": {
      "text/plain": [
       "4175"
      ]
     },
     "execution_count": 27,
     "metadata": {},
     "output_type": "execute_result"
    }
   ],
   "source": [
    "ngramDataFrame.filter(ngramDataFrame.word_count < 5).count()"
   ]
  },
  {
   "cell_type": "code",
   "execution_count": 28,
   "id": "6dad4361-90be-4e77-9c07-2a4349c32341",
   "metadata": {},
   "outputs": [
    {
     "name": "stdout",
     "output_type": "stream",
     "text": [
      "+--------------------+----------+----------+--------------------+--------------------+--------------------+------+\n",
      "|      token_sentence|sent_count|word_count|              2grams|              3grams|              4grams|5grams|\n",
      "+--------------------+----------+----------+--------------------+--------------------+--------------------+------+\n",
      "|[university, of, ...|        54|         4|[university of, o...|[university of to...|[university of to...|    []|\n",
      "|[melbourne, unive...|         2|         4|[melbourne univer...|[melbourne univer...|[melbourne univer...|    []|\n",
      "|[university, of, ...|        47|         4|[university of, o...|[university of il...|[university of il...|    []|\n",
      "|[university, of, ...|         2|         4|[university of, o...|[university of al...|[university of al...|    []|\n",
      "|[university, of, ...|         1|         4|[university of, o...|[university of ta...|[university of ta...|    []|\n",
      "|[university, of, ...|        22|         4|[university of, o...|[university of ok...|[university of ok...|    []|\n",
      "|[laurensmarathon,...|         2|         4|[laurensmarathon ...|[laurensmarathon ...|[laurensmarathon ...|    []|\n",
      "|[national, team, ...|         4|         4|[national team, t...|[national team in...|[national team in...|    []|\n",
      "|[26th, university...|         1|         4|[26th university,...|[26th university ...|[26th university ...|    []|\n",
      "|[national, champi...|         1|         4|[national champio...|[national champio...|[national champio...|    []|\n",
      "|[carl, melinat, s...|         1|         4|[carl melinat, me...|[carl melinat syr...|[carl melinat syr...|    []|\n",
      "|[st, thomas, high...|         1|         4|[st thomas, thoma...|[st thomas high, ...|[st thomas high s...|    []|\n",
      "|[december, nation...|         1|         4|[december nationa...|[december nationa...|[december nationa...|    []|\n",
      "|[san, jose, state...|         4|         4|[san jose, jose s...|[san jose state, ...|[san jose state u...|    []|\n",
      "|[waikato, univers...|         1|         4|[waikato universi...|[waikato universi...|[waikato universi...|    []|\n",
      "|[university, for,...|         1|         4|[university for, ...|[university for a...|[university for a...|    []|\n",
      "|[harvard, univers...|         2|         4|[harvard universi...|[harvard universi...|[harvard universi...|    []|\n",
      "|[washington, stat...|         1|         4|[washington state...|[washington state...|[washington state...|    []|\n",
      "|[womens, national...|         1|         4|[womens national,...|[womens national ...|[womens national ...|    []|\n",
      "|[michigan, state,...|         1|         4|[michigan state, ...|[michigan state u...|[michigan state u...|    []|\n",
      "+--------------------+----------+----------+--------------------+--------------------+--------------------+------+\n",
      "only showing top 20 rows\n",
      "\n"
     ]
    }
   ],
   "source": [
    "ngramDataFrame.filter(ngramDataFrame.word_count == 4).show()"
   ]
  },
  {
   "cell_type": "code",
   "execution_count": 29,
   "id": "97369864-5b52-4578-832b-bd015c1a5ef3",
   "metadata": {},
   "outputs": [
    {
     "name": "stdout",
     "output_type": "stream",
     "text": [
      "+--------------------+----------+----------+--------------------+--------------------+------+------+\n",
      "|      token_sentence|sent_count|word_count|              2grams|              3grams|4grams|5grams|\n",
      "+--------------------+----------+----------+--------------------+--------------------+------+------+\n",
      "|[national, mariti...|         7|         3|[national maritim...|[national maritim...|    []|    []|\n",
      "|[paris, national,...|         1|         3|[paris national, ...|[paris national l...|    []|    []|\n",
      "|[ipek, university...|         1|         3|[ipek university,...|[ipek university ...|    []|    []|\n",
      "|[cornell, univers...|        56|         3|[cornell universi...|[cornell universi...|    []|    []|\n",
      "|[anderson, high, ...|         1|         3|[anderson high, h...|[anderson high sc...|    []|    []|\n",
      "|[whitney, high, s...|         2|         3|[whitney high, hi...|[whitney high sch...|    []|    []|\n",
      "|[syracuse, univer...|         1|         3|[syracuse univers...|[syracuse univers...|    []|    []|\n",
      "|[dickinson, state...|         2|         3|[dickinson state,...|[dickinson state ...|    []|    []|\n",
      "|[university, of, ...|         2|         3|[university of, o...|[university of wy...|    []|    []|\n",
      "|[school, readines...|         1|         3|[school readiness...|[school readiness...|    []|    []|\n",
      "|[gila, national, ...|         1|         3|[gila national, n...|[gila national fo...|    []|    []|\n",
      "|[national, journa...|         1|         3|[national journal...|[national journal...|    []|    []|\n",
      "|[norcom, high, sc...|         1|         3|[norcom high, hig...|[norcom high school]|    []|    []|\n",
      "|[virginia, common...|         2|         3|[virginia commonw...|[virginia commonw...|    []|    []|\n",
      "|[national, post, ...|         6|         3|[national post, p...|[national post se...|    []|    []|\n",
      "|[national, mirror...|         1|         3|[national mirror,...|[national mirror ...|    []|    []|\n",
      "|[polish, national...|         4|         3|[polish national,...|[polish national ...|    []|    []|\n",
      "|[radboud, univers...|         1|         3|[radboud universi...|[radboud universi...|    []|    []|\n",
      "|[hinojosa, ecpkkg...|         1|         3|[hinojosa ecpkkg,...|[hinojosa ecpkkg ...|    []|    []|\n",
      "|[irish, national,...|         1|         3|[irish national, ...|[irish national c...|    []|    []|\n",
      "+--------------------+----------+----------+--------------------+--------------------+------+------+\n",
      "only showing top 20 rows\n",
      "\n"
     ]
    }
   ],
   "source": [
    "ngramDataFrame.filter(ngramDataFrame.word_count == 3).show()"
   ]
  },
  {
   "cell_type": "code",
   "execution_count": 30,
   "id": "3fdacf48-eb50-429e-93be-41ed2b90556d",
   "metadata": {},
   "outputs": [
    {
     "name": "stdout",
     "output_type": "stream",
     "text": [
      "+--------------------+----------+----------+--------------------+------+------+------+\n",
      "|      token_sentence|sent_count|word_count|              2grams|3grams|4grams|5grams|\n",
      "+--------------------+----------+----------+--------------------+------+------+------+\n",
      "|[national, arbore...|         1|         2|[national arboretum]|    []|    []|    []|\n",
      "|[marquette, unive...|         5|         2|[marquette univer...|    []|    []|    []|\n",
      "|[denison, univers...|         1|         2|[denison university]|    []|    []|    []|\n",
      "| [rebro, university]|         1|         2|  [rebro university]|    []|    []|    []|\n",
      "|[secondary, educa...|         1|         2|[secondary educat...|    []|    []|    []|\n",
      "|[secondary, malig...|         1|         2|[secondary malign...|    []|    []|    []|\n",
      "|[national, encycl...|         1|         2|[national encyclo...|    []|    []|    []|\n",
      "|[utrecht, univers...|         3|         2|[utrecht university]|    []|    []|    []|\n",
      "|    [normal, school]|         2|         2|     [normal school]|    []|    []|    []|\n",
      "|  [ludgrove, school]|         1|         2|   [ludgrove school]|    []|    []|    []|\n",
      "|[newcastle, unive...|         2|         2|[newcastle univer...|    []|    []|    []|\n",
      "|  [graduate, school]|         3|         2|   [graduate school]|    []|    []|    []|\n",
      "|[harvard, univers...|        24|         2|[harvard university]|    []|    []|    []|\n",
      "|[chulalongkorn, u...|         2|         2|[chulalongkorn un...|    []|    []|    []|\n",
      "|[ritsumeikan, uni...|         1|         2|[ritsumeikan univ...|    []|    []|    []|\n",
      "|       [private, bs]|         1|         2|        [private bs]|    []|    []|    []|\n",
      "|[ferris, university]|         1|         2| [ferris university]|    []|    []|    []|\n",
      "|  [national, museum]|         8|         2|   [national museum]|    []|    []|    []|\n",
      "|[national, monument]|         2|         2| [national monument]|    []|    []|    []|\n",
      "|   [village, school]|         1|         2|    [village school]|    []|    []|    []|\n",
      "+--------------------+----------+----------+--------------------+------+------+------+\n",
      "only showing top 20 rows\n",
      "\n"
     ]
    }
   ],
   "source": [
    "ngramDataFrame.filter(ngramDataFrame.word_count == 2).show()"
   ]
  },
  {
   "cell_type": "code",
   "execution_count": 31,
   "id": "4217fbf5-6680-4230-a3d2-cc37929f4057",
   "metadata": {},
   "outputs": [],
   "source": [
    "ngramDataFrame.filter(ngramDataFrame.word_count == 2)\n",
    "\n",
    "def find_keyword(text):\n",
    "    keywords =  ['secondary', 'school', 'tertiary', 'university', 'national',  'private']\n",
    "    \n",
    "    empList = []\n",
    "    for x in text:\n",
    "        for y in keywords:\n",
    "            if y in x:\n",
    "                empList.append(x)\n",
    "    return empList\n"
   ]
  },
  {
   "cell_type": "code",
   "execution_count": 32,
   "id": "f99193ff-17fe-402c-8914-fb84ffc49bdc",
   "metadata": {},
   "outputs": [],
   "source": [
    "column =  ['token_sentence','sent_count','word_count','2grams','3grams','4grams','5grams']\n",
    "gram5= ngramDataFrame.filter(ngramDataFrame.word_count > 4)\\\n",
    ".rdd.map(lambda x: (x[0], x[1], x[2],find_keyword(x[3])\\\n",
    ",find_keyword(x[4]), find_keyword(x[5]), find_keyword(x[6]))).persist(StorageLevel.MEMORY_ONLY)"
   ]
  },
  {
   "cell_type": "code",
   "execution_count": 33,
   "id": "96ad35d9-762a-486e-8c59-4ced0b3814bd",
   "metadata": {},
   "outputs": [
    {
     "name": "stdout",
     "output_type": "stream",
     "text": [
      "22/10/05 20:53:02 WARN BlockManager: Task 647 already completed, not releasing lock for rdd_97_0\n",
      "22/10/05 20:53:02 WARN BlockManager: Task 648 already completed, not releasing lock for rdd_97_0\n",
      "+--------------------+----------+----------+--------------------+--------------------+--------------------+--------------------+\n",
      "|      token_sentence|sent_count|word_count|              2grams|              3grams|              4grams|              5grams|\n",
      "+--------------------+----------+----------+--------------------+--------------------+--------------------+--------------------+\n",
      "|[there, are, prop...|       144|        13|[the national, na...|[on the national,...|[listed on the na...|[districts listed...|\n",
      "|[his, candidature...|         1|        15|[indian national,...|[the indian natio...|[by the indian na...|[supported by the...|\n",
      "|[abingdon, is, th...|         1|         7|        [aaa school]|[smallest aaa sch...|[2nd smallest aaa...|[the 2nd smallest...|\n",
      "|[in, he, returned...|         1|        20|[stanford univers...|[the stanford uni...|[to the stanford ...|[returned to the ...|\n",
      "|[while, most, cul...|         1|        23|[a secondary, sec...|[considered a sec...|[are considered a...|[cultivator are c...|\n",
      "|[degree, from, th...|         1|         6|[indiana universi...|[the indiana univ...|[from the indiana...|[degree from the ...|\n",
      "|[high, schools, s...|         1|        68|[high schools, sc...|[high schools ser...|[high schools ser...|[high schools ser...|\n",
      "|[he, also, attemp...|         1|        14|[by private, priv...|[owed by private,...|[taxes owed by pr...|[recover taxes ow...|\n",
      "|[the, school, ini...|         1|        31|[the school, scho...|[the school initi...|[the school initi...|[the school initi...|\n",
      "|[he, initially, e...|         1|        31|[a private, priva...|[as a private, a ...|[army as a privat...|[british army as ...|\n",
      "|[in, national, el...|         1|         9|[in national, nat...|[in national elec...|[in national elec...|[in national elec...|\n",
      "|[thesis, universi...|         3|         5|[thesis universit...|[thesis universit...|[thesis universit...|[thesis universit...|\n",
      "|[he, also, set, t...|         1|        15|[the school, scho...|[set the school, ...|[also set the sch...|[he also set the ...|\n",
      "|[in, her, english...|         1|        47|[the national, na...|[won the national...|[kerala won the n...|[of kerala won th...|\n",
      "|[he, attended, ne...|         1|        29|[york university,...|[new york univers...|[attended new yor...|[he attended new ...|\n",
      "|[tobias, went, to...|         1|        28|[to school, schoo...|[went to school, ...|[tobias went to s...|[tobias went to s...|\n",
      "|[standing, as, th...|         1|        48|[the national, na...|[as the national,...|[standing as the ...|[standing as the ...|\n",
      "|[wales, quoted, i...|         1|        14|[of national, nat...|[dictionary of na...|[oxford dictionar...|[in oxford dictio...|\n",
      "|[buddleja, podara...|         1|        31|[cornell universi...|[at cornell unive...|[while at cornell...|[podaras while at...|\n",
      "|[the, inability, ...|         1|        23|[croatian nationa...|[the croatian nat...|[of the croatian ...|[establishment of...|\n",
      "+--------------------+----------+----------+--------------------+--------------------+--------------------+--------------------+\n",
      "only showing top 20 rows\n",
      "\n"
     ]
    }
   ],
   "source": [
    "df_5gram = gram5.toDF(column).show()"
   ]
  },
  {
   "cell_type": "code",
   "execution_count": 34,
   "id": "e90e2c92-7eac-4058-b0b3-14a926a89a46",
   "metadata": {},
   "outputs": [],
   "source": [
    "gram4= ngramDataFrame.filter(ngramDataFrame.word_count == 4)\\\n",
    ".rdd.map(lambda x: (x[0], x[1], x[2],find_keyword(x[3])\\\n",
    ",find_keyword(x[4]), find_keyword(x[5]), x[6])).persist(StorageLevel.MEMORY_ONLY)"
   ]
  },
  {
   "cell_type": "code",
   "execution_count": 35,
   "id": "08cd3073-7489-466b-a939-ff03cb717c02",
   "metadata": {},
   "outputs": [],
   "source": [
    "gram3= ngramDataFrame.filter(ngramDataFrame.word_count == 3)\\\n",
    ".rdd.map(lambda x: (x[0], x[1], x[2],find_keyword(x[3])\\\n",
    ",find_keyword(x[4]), x[5], x[6])).persist(StorageLevel.MEMORY_ONLY)"
   ]
  },
  {
   "cell_type": "code",
   "execution_count": 36,
   "id": "03f9e0f3-7d5a-4492-98f6-cb035897d956",
   "metadata": {},
   "outputs": [],
   "source": [
    "gram2= ngramDataFrame.filter(ngramDataFrame.word_count == 2)\\\n",
    ".rdd.map(lambda x: (x[0], x[1], x[2],find_keyword(x[3])\\\n",
    ",find_keyword(x[4]), x[5], x[6])).persist(StorageLevel.MEMORY_ONLY)"
   ]
  },
  {
   "cell_type": "code",
   "execution_count": 37,
   "id": "1518b0a4-27c5-4c3d-af6f-99a4fcff46d2",
   "metadata": {},
   "outputs": [
    {
     "name": "stdout",
     "output_type": "stream",
     "text": [
      "22/10/05 20:53:03 WARN BlockManager: Task 649 already completed, not releasing lock for rdd_97_0\n"
     ]
    }
   ],
   "source": [
    "Final_gram = gram5.union(gram4).union(gram3).union(gram2).toDF(column).persist(StorageLevel.MEMORY_ONLY)"
   ]
  },
  {
   "cell_type": "code",
   "execution_count": 38,
   "id": "f893c2ca-5b87-4937-a194-f3f055cca3ec",
   "metadata": {},
   "outputs": [
    {
     "name": "stdout",
     "output_type": "stream",
     "text": [
      "+--------------------+----------+----------+--------------------+--------------------+--------------------+--------------------+\n",
      "|      token_sentence|sent_count|word_count|              2grams|              3grams|              4grams|              5grams|\n",
      "+--------------------+----------+----------+--------------------+--------------------+--------------------+--------------------+\n",
      "|[there, are, prop...|       144|        13|[the national, na...|[on the national,...|[listed on the na...|[districts listed...|\n",
      "|[his, candidature...|         1|        15|[indian national,...|[the indian natio...|[by the indian na...|[supported by the...|\n",
      "|[abingdon, is, th...|         1|         7|        [aaa school]|[smallest aaa sch...|[2nd smallest aaa...|[the 2nd smallest...|\n",
      "|[in, he, returned...|         1|        20|[stanford univers...|[the stanford uni...|[to the stanford ...|[returned to the ...|\n",
      "|[while, most, cul...|         1|        23|[a secondary, sec...|[considered a sec...|[are considered a...|[cultivator are c...|\n",
      "|[degree, from, th...|         1|         6|[indiana universi...|[the indiana univ...|[from the indiana...|[degree from the ...|\n",
      "|[high, schools, s...|         1|        68|[high schools, sc...|[high schools ser...|[high schools ser...|[high schools ser...|\n",
      "|[he, also, attemp...|         1|        14|[by private, priv...|[owed by private,...|[taxes owed by pr...|[recover taxes ow...|\n",
      "|[the, school, ini...|         1|        31|[the school, scho...|[the school initi...|[the school initi...|[the school initi...|\n",
      "|[he, initially, e...|         1|        31|[a private, priva...|[as a private, a ...|[army as a privat...|[british army as ...|\n",
      "|[in, national, el...|         1|         9|[in national, nat...|[in national elec...|[in national elec...|[in national elec...|\n",
      "|[thesis, universi...|         3|         5|[thesis universit...|[thesis universit...|[thesis universit...|[thesis universit...|\n",
      "|[he, also, set, t...|         1|        15|[the school, scho...|[set the school, ...|[also set the sch...|[he also set the ...|\n",
      "|[in, her, english...|         1|        47|[the national, na...|[won the national...|[kerala won the n...|[of kerala won th...|\n",
      "|[he, attended, ne...|         1|        29|[york university,...|[new york univers...|[attended new yor...|[he attended new ...|\n",
      "|[tobias, went, to...|         1|        28|[to school, schoo...|[went to school, ...|[tobias went to s...|[tobias went to s...|\n",
      "|[standing, as, th...|         1|        48|[the national, na...|[as the national,...|[standing as the ...|[standing as the ...|\n",
      "|[wales, quoted, i...|         1|        14|[of national, nat...|[dictionary of na...|[oxford dictionar...|[in oxford dictio...|\n",
      "|[buddleja, podara...|         1|        31|[cornell universi...|[at cornell unive...|[while at cornell...|[podaras while at...|\n",
      "|[the, inability, ...|         1|        23|[croatian nationa...|[the croatian nat...|[of the croatian ...|[establishment of...|\n",
      "+--------------------+----------+----------+--------------------+--------------------+--------------------+--------------------+\n",
      "only showing top 20 rows\n",
      "\n"
     ]
    }
   ],
   "source": [
    "Final_gram.show()"
   ]
  },
  {
   "cell_type": "code",
   "execution_count": 39,
   "id": "8fc6472b-ef06-4d36-8e50-f436f812610a",
   "metadata": {},
   "outputs": [
    {
     "data": {
      "text/plain": [
       "689245"
      ]
     },
     "execution_count": 39,
     "metadata": {},
     "output_type": "execute_result"
    }
   ],
   "source": [
    "Final_gram.count()"
   ]
  },
  {
   "cell_type": "code",
   "execution_count": 40,
   "id": "84c22b8f-0fbc-4699-8267-ec088852b86b",
   "metadata": {},
   "outputs": [
    {
     "name": "stdout",
     "output_type": "stream",
     "text": [
      "+--------------------+----------+----------+--------------------+--------------------+--------------------+------+\n",
      "|      token_sentence|sent_count|word_count|              2grams|              3grams|              4grams|5grams|\n",
      "+--------------------+----------+----------+--------------------+--------------------+--------------------+------+\n",
      "|[university, of, ...|        54|         4|     [university of]|[university of to...|[university of to...|    []|\n",
      "|[melbourne, unive...|         2|         4|[melbourne univer...|[melbourne univer...|[melbourne univer...|    []|\n",
      "|[university, of, ...|        47|         4|     [university of]|[university of il...|[university of il...|    []|\n",
      "|[university, of, ...|         2|         4|     [university of]|[university of al...|[university of al...|    []|\n",
      "|[university, of, ...|         1|         4|     [university of]|[university of ta...|[university of ta...|    []|\n",
      "|[university, of, ...|        22|         4|     [university of]|[university of ok...|[university of ok...|    []|\n",
      "|[laurensmarathon,...|         2|         4|[community school...|[laurensmarathon ...|[laurensmarathon ...|    []|\n",
      "|[national, team, ...|         4|         4|     [national team]|  [national team in]|[national team in...|    []|\n",
      "|[26th, university...|         1|         4|[26th university,...|[26th university ...|[26th university ...|    []|\n",
      "|[national, champi...|         1|         4|[national champio...|[national champio...|[national champio...|    []|\n",
      "|[carl, melinat, s...|         1|         4|[syracuse univers...|[melinat syracuse...|[carl melinat syr...|    []|\n",
      "|[st, thomas, high...|         1|         4|       [high school]|[thomas high school]|[st thomas high s...|    []|\n",
      "|[december, nation...|         1|         4|[december nationa...|[december nationa...|[december nationa...|    []|\n",
      "|[san, jose, state...|         4|         4|  [state university]|[jose state unive...|[san jose state u...|    []|\n",
      "|[waikato, univers...|         1|         4|[waikato universi...|[waikato universi...|[waikato universi...|    []|\n",
      "|[university, for,...|         1|         4|    [university for]|[university for all]|[university for a...|    []|\n",
      "|[harvard, univers...|         2|         4|[harvard universi...|[harvard universi...|[harvard universi...|    []|\n",
      "|[washington, stat...|         1|         4|[state university...|[washington state...|[washington state...|    []|\n",
      "|[womens, national...|         1|         4|[womens national,...|[womens national ...|[womens national ...|    []|\n",
      "|[michigan, state,...|         1|         4|[state university...|[michigan state u...|[michigan state u...|    []|\n",
      "+--------------------+----------+----------+--------------------+--------------------+--------------------+------+\n",
      "only showing top 20 rows\n",
      "\n"
     ]
    }
   ],
   "source": [
    "Final_gram.filter(Final_gram.word_count == 4).show()"
   ]
  },
  {
   "cell_type": "code",
   "execution_count": 41,
   "id": "54e70da1-b21a-4c6c-962d-442a4bc295d2",
   "metadata": {},
   "outputs": [],
   "source": [
    "Final_gram = Final_gram.coalesce(1)"
   ]
  },
  {
   "cell_type": "code",
   "execution_count": 42,
   "id": "57f6a7b8-4564-49be-b3d1-1c646feb5967",
   "metadata": {},
   "outputs": [],
   "source": [
    "Final_gram.write.parquet(\"hdfs://g5.bigtop.it:8020/user/root/filtered_en_wiki.parquet\")"
   ]
  },
  {
   "cell_type": "code",
   "execution_count": null,
   "id": "1c6389f5-2ac6-447a-8d56-c4696138a0f8",
   "metadata": {},
   "outputs": [],
   "source": []
  }
 ],
 "metadata": {
  "kernelspec": {
   "display_name": "g5_env",
   "language": "python",
   "name": "g5_env"
  },
  "language_info": {
   "codemirror_mode": {
    "name": "ipython",
    "version": 3
   },
   "file_extension": ".py",
   "mimetype": "text/x-python",
   "name": "python",
   "nbconvert_exporter": "python",
   "pygments_lexer": "ipython3",
   "version": "3.9.13"
  }
 },
 "nbformat": 4,
 "nbformat_minor": 5
}
