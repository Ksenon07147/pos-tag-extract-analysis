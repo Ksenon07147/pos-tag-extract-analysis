{
 "cells": [
  {
   "cell_type": "code",
   "execution_count": 1,
   "id": "723ffb90-335b-4141-be8c-c57093416be0",
   "metadata": {},
   "outputs": [
    {
     "name": "stderr",
     "output_type": "stream",
     "text": [
      "Setting default log level to \"WARN\".\n",
      "To adjust logging level use sc.setLogLevel(newLevel). For SparkR, use setLogLevel(newLevel).\n"
     ]
    },
    {
     "name": "stdout",
     "output_type": "stream",
     "text": [
      "22/10/05 19:00:56 WARN NativeCodeLoader: Unable to load native-hadoop library for your platform... using builtin-java classes where applicable\n"
     ]
    },
    {
     "data": {
      "text/html": [
       "\n",
       "            <div>\n",
       "                <p><b>SparkSession - in-memory</b></p>\n",
       "                \n",
       "        <div>\n",
       "            <p><b>SparkContext</b></p>\n",
       "\n",
       "            <p><a href=\"http://g5.bigtop.it:4040\">Spark UI</a></p>\n",
       "\n",
       "            <dl>\n",
       "              <dt>Version</dt>\n",
       "                <dd><code>v3.3.0</code></dd>\n",
       "              <dt>Master</dt>\n",
       "                <dd><code>local[16]</code></dd>\n",
       "              <dt>AppName</dt>\n",
       "                <dd><code>ms_wiki_extract</code></dd>\n",
       "            </dl>\n",
       "        </div>\n",
       "        \n",
       "            </div>\n",
       "        "
      ],
      "text/plain": [
       "<pyspark.sql.session.SparkSession at 0x7f1cdbfc6af0>"
      ]
     },
     "execution_count": 1,
     "metadata": {},
     "output_type": "execute_result"
    }
   ],
   "source": [
    "from pyspark.sql import SparkSession\n",
    "from pyspark import StorageLevel\n",
    "import os\n",
    "\n",
    "os.environ[\"PYSPARK_PYTHON\"]=\"/home/pc/g5_env/bin/python39\"\n",
    "\n",
    "spark = SparkSession.builder.master(\"local[16]\")\\\n",
    "            .appName(\"ms_wiki_extract\")\\\n",
    "            .config('spark.executor.memory', '20g')\\\n",
    "            .config('spark.driver.maxResultSize', '10g')\\\n",
    "            .config('spark.driver.memory', '20g')\\\n",
    "            .config('spark.ui.showConsoleProgress', False)\\\n",
    "            .getOrCreate()\n",
    "\n",
    "sparkContext = spark.sparkContext\n",
    "\n",
    "spark"
   ]
  },
  {
   "cell_type": "code",
   "execution_count": 2,
   "id": "5b30c915-8fc1-48b2-8ae1-3460ed8d55d3",
   "metadata": {},
   "outputs": [],
   "source": [
    "file_path = 'hdfs://g5.bigtop.it:8020/user/root/wikidata_ms_preprocessed.parquet/part-00000-a8275472-ea44-4f76-b4d6-78236b446b1d-c000.snappy.parquet'"
   ]
  },
  {
   "cell_type": "code",
   "execution_count": 3,
   "id": "1491a2f4-7329-4515-9c1f-91966ec9a135",
   "metadata": {},
   "outputs": [
    {
     "name": "stdout",
     "output_type": "stream",
     "text": [
      "+--------------------+\n",
      "|                  _1|\n",
      "+--------------------+\n",
      "|sipaku area merup...|\n",
      "|lbixan merupakan ...|\n",
      "|pembahagian penta...|\n",
      "|syawal merupakan ...|\n",
      "|1430h satu gempa ...|\n",
      "|buk merupakan seb...|\n",
      "|lapangan terbang ...|\n",
      "|lapangan terbang ...|\n",
      "|the owls nest wel...|\n",
      "|           el bolson|\n",
      "|kzlcaky kk merupa...|\n",
      "|     daerah di turki|\n",
      "|islam in panama m...|\n",
      "|menurut laporan p...|\n",
      "|kaum islam pertam...|\n",
      "|orang mandinka ad...|\n",
      "|sekumpulan daripa...|\n",
      "|mereka memilih se...|\n",
      "|mereka membentuk ...|\n",
      "|bayano diperolehi...|\n",
      "+--------------------+\n",
      "only showing top 20 rows\n",
      "\n"
     ]
    }
   ],
   "source": [
    "df1 = spark.read.option(\"header\",True).parquet(file_path)\n",
    "df1.show()"
   ]
  },
  {
   "cell_type": "code",
   "execution_count": 4,
   "id": "8e7445c9-14ac-46ab-95e9-3d72b71adeb7",
   "metadata": {},
   "outputs": [
    {
     "data": {
      "text/plain": [
       "16"
      ]
     },
     "execution_count": 4,
     "metadata": {},
     "output_type": "execute_result"
    }
   ],
   "source": [
    "df1.rdd.getNumPartitions()"
   ]
  },
  {
   "cell_type": "code",
   "execution_count": 5,
   "id": "d2ac81e6-ecd8-46dc-9d60-3f8fdef995a2",
   "metadata": {},
   "outputs": [],
   "source": [
    "df1 = df1.repartition(64)"
   ]
  },
  {
   "cell_type": "code",
   "execution_count": 6,
   "id": "9367e7f5-2c50-4860-a351-b8af11a8ac08",
   "metadata": {},
   "outputs": [
    {
     "name": "stdout",
     "output_type": "stream",
     "text": [
      "+--------------------+\n",
      "|                  _1|\n",
      "+--------------------+\n",
      "|seluruh rakyat ak...|\n",
      "|pada julai bahagi...|\n",
      "|radar pertahanan ...|\n",
      "|beliau dibesarkan...|\n",
      "|seiyu masaki tera...|\n",
      "|filem ini dibinta...|\n",
      "|pada awalnya hany...|\n",
      "|kejayaan terbesar...|\n",
      "|makanan ini kemud...|\n",
      "|georges dumzil me...|\n",
      "|pengeluaran getah...|\n",
      "|lapangan terbang ...|\n",
      "|dan aku berharap ...|\n",
      "|narcy ialah komun...|\n",
      "|thumb left logo p...|\n",
      "|sebaik sahaja ana...|\n",
      "|beliau meminjamka...|\n",
      "|t r reid the chip...|\n",
      "| i do not know nu...|\n",
      "|disember pasukan ...|\n",
      "+--------------------+\n",
      "only showing top 20 rows\n",
      "\n"
     ]
    }
   ],
   "source": [
    "df1.show()"
   ]
  },
  {
   "cell_type": "code",
   "execution_count": 7,
   "id": "862451b2-7739-4caa-9d22-e41c8bd7502d",
   "metadata": {},
   "outputs": [
    {
     "name": "stdout",
     "output_type": "stream",
     "text": [
      "+---+\n",
      "| _1|\n",
      "+---+\n",
      "|  0|\n",
      "+---+\n",
      "\n"
     ]
    }
   ],
   "source": [
    "from pyspark.sql.functions import col,isnan, when, count\n",
    "\n",
    "c = '_1'\n",
    "df1.select([count(when(col(c).isNull(), c)).alias(c)]).show()"
   ]
  },
  {
   "cell_type": "code",
   "execution_count": 8,
   "id": "467a96ef-d514-4254-ac39-6401492ea503",
   "metadata": {},
   "outputs": [],
   "source": [
    "from nltk.tokenize import word_tokenize\n",
    "import re\n",
    "def word_token(text):\n",
    "    string =text['_1']\n",
    "    # print(type(text))\n",
    "    return word_tokenize(string)\n",
    "\n",
    "def f(x): return x\n",
    "\n",
    "def exchangePosition(text, index):\n",
    "    return index, (text)\n"
   ]
  },
  {
   "cell_type": "code",
   "execution_count": 9,
   "id": "33d8fce4-a43b-4dbc-885f-defb58192842",
   "metadata": {},
   "outputs": [],
   "source": [
    "RDD = df1.rdd.map(lambda x: word_token(x))\\\n",
    ".persist(StorageLevel.MEMORY_ONLY)"
   ]
  },
  {
   "cell_type": "code",
   "execution_count": 10,
   "id": "23ed41a9-961e-4f1a-bd44-2de757739638",
   "metadata": {},
   "outputs": [],
   "source": [
    "RDD2=RDD.map(lambda x:(x,1)).map(lambda x: exchangePosition(x[0], x[1]))\\\n",
    ".flatMapValues(f)\\\n",
    ".map(lambda x: exchangePosition(x[0], x[1]))\\\n",
    ".reduceByKey(lambda a,b: a+b)\\\n",
    ".persist(StorageLevel.MEMORY_ONLY)"
   ]
  },
  {
   "cell_type": "code",
   "execution_count": 11,
   "id": "b5e7d798-85cd-42ee-aa81-0ea846b3bd3c",
   "metadata": {},
   "outputs": [
    {
     "data": {
      "text/plain": [
       "1006863"
      ]
     },
     "execution_count": 11,
     "metadata": {},
     "output_type": "execute_result"
    }
   ],
   "source": [
    "RDD2.count()"
   ]
  },
  {
   "cell_type": "code",
   "execution_count": 12,
   "id": "49dc4d44-1f78-4070-ba64-0b8b1ff8cccf",
   "metadata": {},
   "outputs": [],
   "source": [
    "Column = ['word', 'word_count']\n",
    "df2 = RDD2.toDF(Column)"
   ]
  },
  {
   "cell_type": "code",
   "execution_count": 13,
   "id": "906d06ba-0731-4294-a4aa-44a90adabfa3",
   "metadata": {},
   "outputs": [
    {
     "name": "stdout",
     "output_type": "stream",
     "text": [
      "+-------------+----------+\n",
      "|         word|word_count|\n",
      "+-------------+----------+\n",
      "|       daerah|    109528|\n",
      "|       masaki|       110|\n",
      "|     kemudian|     34021|\n",
      "|        parti|     21520|\n",
      "|       eeeeee|        22|\n",
      "|mengakibatkan|      2908|\n",
      "|        bulan|     29769|\n",
      "|    berpindah|      5703|\n",
      "|     syarikat|     66195|\n",
      "|       jerman|     31750|\n",
      "|diisytiharkan|      1480|\n",
      "|        kombo|        60|\n",
      "|       dacian|        10|\n",
      "|      menteri|     26778|\n",
      "| menghentikan|      1635|\n",
      "|        bahru|      2014|\n",
      "|     diadakan|     11980|\n",
      "|      prinsip|      2096|\n",
      "| pengeluarang|         1|\n",
      "|      fizikal|      3290|\n",
      "+-------------+----------+\n",
      "only showing top 20 rows\n",
      "\n"
     ]
    }
   ],
   "source": [
    "df2.show()"
   ]
  },
  {
   "cell_type": "code",
   "execution_count": 14,
   "id": "81880003-5ee2-4c91-972e-43930dbe4843",
   "metadata": {},
   "outputs": [],
   "source": [
    "import advertools as adv\n",
    "indo_STOPWORDS=adv.stopwords['indonesian']"
   ]
  },
  {
   "cell_type": "code",
   "execution_count": 15,
   "id": "bf78829b-fc10-486a-9b7e-6d61e2c892f8",
   "metadata": {
    "tags": []
   },
   "outputs": [
    {
     "name": "stdout",
     "output_type": "stream",
     "text": [
      "+--------+----------+\n",
      "|    word|word_count|\n",
      "+--------+----------+\n",
      "|     the|    211841|\n",
      "|terletak|    201670|\n",
      "|  beliau|    140548|\n",
      "|      of|    138484|\n",
      "| kawasan|    130848|\n",
      "|malaysia|    110286|\n",
      "|  daerah|    109528|\n",
      "|   orang|    103072|\n",
      "| kampung|     98386|\n",
      "|   komun|     94137|\n",
      "+--------+----------+\n",
      "only showing top 10 rows\n",
      "\n"
     ]
    }
   ],
   "source": [
    "df2.orderBy(\"word_count\", ascending=False)\\\n",
    ".filter(~col(\"word\").isin(indo_STOPWORDS))\\\n",
    ".show(10)"
   ]
  },
  {
   "cell_type": "code",
   "execution_count": 16,
   "id": "a966271b-3337-48eb-be1a-4e0709fe0e55",
   "metadata": {},
   "outputs": [],
   "source": [
    "def text_extract(text):\n",
    "    keywords =  ['terletak', 'kawasan', 'malaysia',' tentera', 'daerah',  'kabupaten']\n",
    "    for x in keywords:\n",
    "        if x in text:\n",
    "            return text\n",
    "        \n",
    "    return ''\n",
    "\n",
    "\n",
    "keyword_filter = RDD.map(lambda x: text_extract(x)).filter(lambda x: x != '').persist(StorageLevel.MEMORY_ONLY)"
   ]
  },
  {
   "cell_type": "code",
   "execution_count": 17,
   "id": "1bad0e8f-12cb-4e24-ba8d-98a9e03869ef",
   "metadata": {},
   "outputs": [
    {
     "data": {
      "text/plain": [
       "390700"
      ]
     },
     "execution_count": 17,
     "metadata": {},
     "output_type": "execute_result"
    }
   ],
   "source": [
    "keyword_filter.count()"
   ]
  },
  {
   "cell_type": "code",
   "execution_count": 18,
   "id": "18cd871b-dba5-43a7-add8-01731defc10d",
   "metadata": {},
   "outputs": [],
   "source": [
    "data1 = keyword_filter.map(lambda x : (tuple(x), 1))\\\n",
    ".reduceByKey(lambda a,b: a+b).persist(StorageLevel.MEMORY_ONLY)"
   ]
  },
  {
   "cell_type": "code",
   "execution_count": 19,
   "id": "5af7a758-9ead-41ad-806c-2eff9b7f03dc",
   "metadata": {},
   "outputs": [
    {
     "name": "stdout",
     "output_type": "stream",
     "text": [
      "+--------------------+----------+\n",
      "|      token_sentence|sent_count|\n",
      "+--------------------+----------+\n",
      "|[medan, selera, p...|         1|\n",
      "|[terutung, payung...|         1|\n",
      "|[empangan, bakun,...|         1|\n",
      "|[lapangan, terban...|         1|\n",
      "|[daerah, preov, w...|        91|\n",
      "|[shahree2005sumbe...|         1|\n",
      "|[anarjan, bostana...|         1|\n",
      "|[gkeli, bozyk, me...|         1|\n",
      "|[kronburg, merupa...|         1|\n",
      "|[nama, ini, telah...|         1|\n",
      "|[pudeng, merupaka...|         1|\n",
      "|[umretha, merupak...|         1|\n",
      "|[langhamn, merupa...|         1|\n",
      "|[buku, resipi, ke...|         1|\n",
      "|[daerah, topoany,...|        54|\n",
      "|[kiri, bodegraven...|         1|\n",
      "|[bakauheni, merup...|         1|\n",
      "|[sekolah, menenga...|         1|\n",
      "|[ovack, lleburgaz...|         1|\n",
      "|[tuhemberua, meru...|         1|\n",
      "+--------------------+----------+\n",
      "only showing top 20 rows\n",
      "\n"
     ]
    }
   ],
   "source": [
    "from pyspark.sql.types import StructType,StructField, StringType, IntegerType, ArrayType\n",
    "schema = StructType([ \\\n",
    "    StructField('token_sentence',ArrayType(StringType()),True), \\\n",
    "    StructField('sent_count',IntegerType(),True), \\\n",
    "  ])\n",
    "\n",
    "\n",
    "df1 = spark.createDataFrame(data = data1, schema=schema)\n",
    "df1.show()"
   ]
  },
  {
   "cell_type": "code",
   "execution_count": 20,
   "id": "57b35a8d-9da7-4d80-8cb0-6c731ed02ba0",
   "metadata": {},
   "outputs": [],
   "source": [
    "import pyspark.sql.functions as f\n",
    "df1 = df1.withColumn('word_count', f.size(f.col('token_sentence')))"
   ]
  },
  {
   "cell_type": "code",
   "execution_count": 21,
   "id": "c09ac6db-2a65-4d6a-944f-170f8266ba4b",
   "metadata": {},
   "outputs": [
    {
     "name": "stdout",
     "output_type": "stream",
     "text": [
      "+--------------------+----------+----------+\n",
      "|      token_sentence|sent_count|word_count|\n",
      "+--------------------+----------+----------+\n",
      "|[medan, selera, p...|         1|         8|\n",
      "|[terutung, payung...|         1|        17|\n",
      "|[empangan, bakun,...|         1|         7|\n",
      "|[lapangan, terban...|         1|        31|\n",
      "|[daerah, preov, w...|        91|        11|\n",
      "|[shahree2005sumbe...|         1|        27|\n",
      "|[anarjan, bostana...|         1|         9|\n",
      "|[gkeli, bozyk, me...|         1|         9|\n",
      "|[kronburg, merupa...|         1|        10|\n",
      "|[nama, ini, telah...|         1|        14|\n",
      "|[pudeng, merupaka...|         1|        14|\n",
      "|[umretha, merupak...|         1|         8|\n",
      "|[langhamn, merupa...|         1|        10|\n",
      "|[buku, resipi, ke...|         1|        18|\n",
      "|[daerah, topoany,...|        54|        11|\n",
      "|[kiri, bodegraven...|         1|        12|\n",
      "|[bakauheni, merup...|         1|        10|\n",
      "|[sekolah, menenga...|         1|        25|\n",
      "|[ovack, lleburgaz...|         1|         9|\n",
      "|[tuhemberua, meru...|         1|        13|\n",
      "+--------------------+----------+----------+\n",
      "only showing top 20 rows\n",
      "\n"
     ]
    }
   ],
   "source": [
    "df1.show()"
   ]
  },
  {
   "cell_type": "code",
   "execution_count": 22,
   "id": "6e3452e4-5aa6-4c1a-a2a3-1f310346cbe3",
   "metadata": {},
   "outputs": [
    {
     "name": "stdout",
     "output_type": "stream",
     "text": [
      "+--------------+----------+----------+\n",
      "|token_sentence|sent_count|word_count|\n",
      "+--------------+----------+----------+\n",
      "|     [kawasan]|         1|         1|\n",
      "|      [daerah]|         6|         1|\n",
      "|    [malaysia]|        35|         1|\n",
      "+--------------+----------+----------+\n",
      "\n"
     ]
    }
   ],
   "source": [
    "df1.filter(df1.word_count == 1).show()"
   ]
  },
  {
   "cell_type": "code",
   "execution_count": 23,
   "id": "a9687194-75c2-40c3-95d5-40aeb8c3c7c2",
   "metadata": {},
   "outputs": [],
   "source": [
    "df2 = df1.filter(df1.word_count > 1)"
   ]
  },
  {
   "cell_type": "code",
   "execution_count": 24,
   "id": "529146aa-a830-442c-bbac-489374788c8c",
   "metadata": {},
   "outputs": [
    {
     "name": "stdout",
     "output_type": "stream",
     "text": [
      "+--------------------+----------+----------+\n",
      "|      token_sentence|sent_count|word_count|\n",
      "+--------------------+----------+----------+\n",
      "|[medan, selera, p...|         1|         8|\n",
      "|[terutung, payung...|         1|        17|\n",
      "|[empangan, bakun,...|         1|         7|\n",
      "|[lapangan, terban...|         1|        31|\n",
      "|[daerah, preov, w...|        91|        11|\n",
      "|[shahree2005sumbe...|         1|        27|\n",
      "|[anarjan, bostana...|         1|         9|\n",
      "|[gkeli, bozyk, me...|         1|         9|\n",
      "|[kronburg, merupa...|         1|        10|\n",
      "|[nama, ini, telah...|         1|        14|\n",
      "|[pudeng, merupaka...|         1|        14|\n",
      "|[umretha, merupak...|         1|         8|\n",
      "|[langhamn, merupa...|         1|        10|\n",
      "|[buku, resipi, ke...|         1|        18|\n",
      "|[daerah, topoany,...|        54|        11|\n",
      "|[kiri, bodegraven...|         1|        12|\n",
      "|[bakauheni, merup...|         1|        10|\n",
      "|[sekolah, menenga...|         1|        25|\n",
      "|[ovack, lleburgaz...|         1|         9|\n",
      "|[tuhemberua, meru...|         1|        13|\n",
      "+--------------------+----------+----------+\n",
      "only showing top 20 rows\n",
      "\n"
     ]
    }
   ],
   "source": [
    "df2.show()"
   ]
  },
  {
   "cell_type": "code",
   "execution_count": 25,
   "id": "ac657020-418c-485f-8ce6-761b3a05503c",
   "metadata": {},
   "outputs": [
    {
     "data": {
      "text/plain": [
       "328852"
      ]
     },
     "execution_count": 25,
     "metadata": {},
     "output_type": "execute_result"
    }
   ],
   "source": [
    "df2.count()"
   ]
  },
  {
   "cell_type": "markdown",
   "id": "a3fd5320-68f4-49dd-9218-d40b090673ed",
   "metadata": {},
   "source": [
    "### Ngram"
   ]
  },
  {
   "cell_type": "code",
   "execution_count": 26,
   "id": "38f73a57-6b84-4c8d-8464-6d62757a5cea",
   "metadata": {},
   "outputs": [
    {
     "name": "stdout",
     "output_type": "stream",
     "text": [
      "+--------------------+----------+----------+--------------------+--------------------+--------------------+--------------------+\n",
      "|      token_sentence|sent_count|word_count|              2grams|              3grams|              4grams|              5grams|\n",
      "+--------------------+----------+----------+--------------------+--------------------+--------------------+--------------------+\n",
      "|[medan, selera, p...|         1|         8|[medan selera, se...|[medan selera pul...|[medan selera pul...|[medan selera pul...|\n",
      "+--------------------+----------+----------+--------------------+--------------------+--------------------+--------------------+\n",
      "only showing top 1 row\n",
      "\n"
     ]
    }
   ],
   "source": [
    "from pyspark.ml.feature import NGram\n",
    "ngramDataFrame = df2\n",
    "\n",
    "for x in range(2,6):\n",
    "    ngram = NGram(n=x, inputCol='token_sentence', outputCol= str(x) +'grams')\n",
    "    ngramDataFrame = ngram.transform(ngramDataFrame) \n",
    "ngramDataFrame.show(1)"
   ]
  },
  {
   "cell_type": "code",
   "execution_count": 27,
   "id": "662fe687-ac38-45b9-8c94-3ca69f3d897d",
   "metadata": {},
   "outputs": [
    {
     "data": {
      "text/plain": [
       "863"
      ]
     },
     "execution_count": 27,
     "metadata": {},
     "output_type": "execute_result"
    }
   ],
   "source": [
    "ngramDataFrame.filter(ngramDataFrame.word_count < 5).count()"
   ]
  },
  {
   "cell_type": "code",
   "execution_count": 28,
   "id": "6dad4361-90be-4e77-9c07-2a4349c32341",
   "metadata": {},
   "outputs": [
    {
     "name": "stdout",
     "output_type": "stream",
     "text": [
      "+--------------------+----------+----------+--------------------+--------------------+--------------------+------+\n",
      "|      token_sentence|sent_count|word_count|              2grams|              3grams|              4grams|5grams|\n",
      "+--------------------+----------+----------+--------------------+--------------------+--------------------+------+\n",
      "|[pejabat, daerah,...|        13|         4|[pejabat daerah, ...|[pejabat daerah b...|[pejabat daerah b...|    []|\n",
      "|[terengganu, daru...|         3|         4|[terengganu darul...|[terengganu darul...|[terengganu darul...|    []|\n",
      "|[bahtera, perkahw...|         1|         4|[bahtera perkahwi...|[bahtera perkahwi...|[bahtera perkahwi...|    []|\n",
      "|[album, artis, ma...|         1|         4|[album artis, art...|[album artis mala...|[album artis mala...|    []|\n",
      "|[institut, terjem...|         2|         4|[institut terjema...|[institut terjema...|[institut terjema...|    []|\n",
      "|[suruhanjaya, pil...|         2|         4|[suruhanjaya pili...|[suruhanjaya pili...|[suruhanjaya pili...|    []|\n",
      "|[terletak, di, ba...|         3|         4|[terletak di, di ...|[terletak di baha...|[terletak di baha...|    []|\n",
      "|[roseyatimah, di,...|         1|         4|[roseyatimah di, ...|[roseyatimah di s...|[roseyatimah di s...|    []|\n",
      "|[kep, universiti,...|         2|         4|[kep universiti, ...|[kep universiti k...|[kep universiti k...|    []|\n",
      "|[kedutaan, peranc...|         1|         4|[kedutaan peranci...|[kedutaan peranci...|[kedutaan peranci...|    []|\n",
      "|[shag, rocks, ter...|         1|         4|[shag rocks, rock...|[shag rocks terle...|[shag rocks terle...|    []|\n",
      "|[rom, menaklukkan...|         1|         4|[rom menaklukkan,...|[rom menaklukkan ...|[rom menaklukkan ...|    []|\n",
      "|[pasangan, perdan...|         1|         4|[pasangan perdana...|[pasangan perdana...|[pasangan perdana...|    []|\n",
      "|[understanding, m...|         2|         4|[understanding mu...|[understanding mu...|[understanding mu...|    []|\n",
      "|[daerah, di, saba...|         1|         4|[daerah di, di sa...|[daerah di sabah,...|[daerah di sabah ...|    []|\n",
      "|[tunas, kasih, mi...|         1|         4|[tunas kasih, kas...|[tunas kasih ming...|[tunas kasih ming...|    []|\n",
      "|[dpd, kabupaten, ...|         1|         4|[dpd kabupaten, k...|[dpd kabupaten da...|[dpd kabupaten da...|    []|\n",
      "|[malaysia, di, su...|         1|         4|[malaysia di, di ...|[malaysia di suka...|[malaysia di suka...|    []|\n",
      "|[kerusi, daerah, ...|         1|         4|[kerusi daerah, d...|[kerusi daerah ad...|[kerusi daerah ad...|    []|\n",
      "|[inktober, malays...|         1|         4|[inktober malaysi...|[inktober malaysi...|[inktober malaysi...|    []|\n",
      "+--------------------+----------+----------+--------------------+--------------------+--------------------+------+\n",
      "only showing top 20 rows\n",
      "\n"
     ]
    }
   ],
   "source": [
    "ngramDataFrame.filter(ngramDataFrame.word_count == 4).show()"
   ]
  },
  {
   "cell_type": "code",
   "execution_count": 29,
   "id": "97369864-5b52-4578-832b-bd015c1a5ef3",
   "metadata": {},
   "outputs": [
    {
     "name": "stdout",
     "output_type": "stream",
     "text": [
      "+--------------------+----------+----------+--------------------+--------------------+------+------+\n",
      "|      token_sentence|sent_count|word_count|              2grams|              3grams|4grams|5grams|\n",
      "+--------------------+----------+----------+--------------------+--------------------+------+------+\n",
      "|[tokohtokoh, perb...|         6|         3|[tokohtokoh perbu...|[tokohtokoh perbu...|    []|    []|\n",
      "|[thumb, yakult, m...|         1|         3|[thumb yakult, ya...|[thumb yakult mal...|    []|    []|\n",
      "|[lkim, gov, malay...|         1|         3|[lkim gov, gov ma...| [lkim gov malaysia]|    []|    []|\n",
      "|[jabatan, standar...|         1|         3|[jabatan standard...|[jabatan standard...|    []|    []|\n",
      "|[kuala, lumpur, m...|         3|         3|[kuala lumpur, lu...|[kuala lumpur mal...|    []|    []|\n",
      "|[heinemann, malay...|         1|         3|[heinemann malays...|[heinemann malays...|    []|    []|\n",
      "|  [ia, terletak, di]|         4|         3|[ia terletak, ter...|    [ia terletak di]|    []|    []|\n",
      "|[mingguan, malays...|         1|         3|[mingguan malaysi...|[mingguan malaysi...|    []|    []|\n",
      "|[untuk, rakyat, m...|         1|         3|[untuk rakyat, ra...|[untuk rakyat mal...|    []|    []|\n",
      "|[kawasan, kysh, m...|         1|         3|[kawasan kysh, ky...|[kawasan kysh miz...|    []|    []|\n",
      "|[pengajian, malay...|         1|         3|[pengajian malays...|[pengajian malays...|    []|    []|\n",
      "|[pejabat, daerah,...|         1|         3|[pejabat daerah, ...|[pejabat daerah s...|    []|    []|\n",
      "|[malaysia, dalam,...|         1|         3|[malaysia dalam, ...|[malaysia dalam p...|    []|    []|\n",
      "|[tarikh, penubuha...|         1|         3|[tarikh penubuhan...|[tarikh penubuhan...|    []|    []|\n",
      "|[selamat, pagi, m...|         1|         3|[selamat pagi, pa...|[selamat pagi mal...|    []|    []|\n",
      "|[northport, malay...|         2|         3|[northport malays...|[northport malays...|    []|    []|\n",
      "|[suruhanjaya, pil...|         4|         3|[suruhanjaya pili...|[suruhanjaya pili...|    []|    []|\n",
      "|[album, artis, ma...|         1|         3|[album artis, art...|[album artis mala...|    []|    []|\n",
      "|[malaysia, simply...|         1|         3|[malaysia simplys...|[malaysia simplys...|    []|    []|\n",
      "|[di, sinema, mala...|         2|         3|[di sinema, sinem...|[di sinema malaysia]|    []|    []|\n",
      "+--------------------+----------+----------+--------------------+--------------------+------+------+\n",
      "only showing top 20 rows\n",
      "\n"
     ]
    }
   ],
   "source": [
    "ngramDataFrame.filter(ngramDataFrame.word_count == 3).show()"
   ]
  },
  {
   "cell_type": "code",
   "execution_count": 30,
   "id": "3fdacf48-eb50-429e-93be-41ed2b90556d",
   "metadata": {},
   "outputs": [
    {
     "name": "stdout",
     "output_type": "stream",
     "text": [
      "+--------------------+----------+----------+--------------------+------+------+------+\n",
      "|      token_sentence|sent_count|word_count|              2grams|3grams|4grams|5grams|\n",
      "+--------------------+----------+----------+--------------------+------+------+------+\n",
      "|  [malaysia, wanita]|         1|         2|   [malaysia wanita]|    []|    []|    []|\n",
      "| [longman, malaysia]|         3|         2|  [longman malaysia]|    []|    []|    []|\n",
      "| [malaysia, belanda]|         1|         2|  [malaysia belanda]|    []|    []|    []|\n",
      "|  [tukang, malaysia]|         1|         2|   [tukang malaysia]|    []|    []|    []|\n",
      "|       [malaysia, b]|         2|         2|        [malaysia b]|    []|    []|    []|\n",
      "|      [di, malaysia]|         4|         2|       [di malaysia]|    []|    []|    []|\n",
      "|[undangundang, ma...|         2|         2|[undangundang mal...|    []|    []|    []|\n",
      "| [ukraine, malaysia]|         1|         2|  [ukraine malaysia]|    []|    []|    []|\n",
      "|[kebudayaan, mala...|         1|         2|[kebudayaan malay...|    []|    []|    []|\n",
      "|[heinemann, malay...|         1|         2|[heinemann malaysia]|    []|    []|    []|\n",
      "|  [kabupaten, dairi]|         1|         2|   [kabupaten dairi]|    []|    []|    []|\n",
      "|      [kawasan, dun]|         1|         2|       [kawasan dun]|    []|    []|    []|\n",
      "|  [malaysia, menang]|         1|         2|   [malaysia menang]|    []|    []|    []|\n",
      "|  [cinema, malaysia]|         1|         2|   [cinema malaysia]|    []|    []|    []|\n",
      "|  [malaysia, malawi]|         1|         2|   [malaysia malawi]|    []|    []|    []|\n",
      "| [pelajaran, daerah]|         1|         2|  [pelajaran daerah]|    []|    []|    []|\n",
      "|  [ongman, malaysia]|         2|         2|   [ongman malaysia]|    []|    []|    []|\n",
      "|[parlimen, malaysia]|         2|         2| [parlimen malaysia]|    []|    []|    []|\n",
      "|   [malaysia, today]|        26|         2|    [malaysia today]|    []|    []|    []|\n",
      "|    [peru, malaysia]|         1|         2|     [peru malaysia]|    []|    []|    []|\n",
      "+--------------------+----------+----------+--------------------+------+------+------+\n",
      "only showing top 20 rows\n",
      "\n"
     ]
    }
   ],
   "source": [
    "ngramDataFrame.filter(ngramDataFrame.word_count == 2).show()"
   ]
  },
  {
   "cell_type": "code",
   "execution_count": 31,
   "id": "4217fbf5-6680-4230-a3d2-cc37929f4057",
   "metadata": {},
   "outputs": [],
   "source": [
    "ngramDataFrame.filter(ngramDataFrame.word_count == 2)\n",
    "\n",
    "def find_keyword(text):\n",
    "    keywords =  ['terletak', 'kawasan', 'malaysia',' tentera', 'daerah',  'kabupaten']\n",
    "    \n",
    "    empList = []\n",
    "    for x in text:\n",
    "        for y in keywords:\n",
    "            if y in x:\n",
    "                empList.append(x)\n",
    "    return empList\n"
   ]
  },
  {
   "cell_type": "code",
   "execution_count": 32,
   "id": "f99193ff-17fe-402c-8914-fb84ffc49bdc",
   "metadata": {},
   "outputs": [],
   "source": [
    "column =  ['token_sentence','sent_count','word_count','2grams','3grams','4grams','5grams']\n",
    "gram5= ngramDataFrame.filter(ngramDataFrame.word_count > 4)\\\n",
    ".rdd.map(lambda x: (x[0], x[1], x[2],find_keyword(x[3])\\\n",
    ",find_keyword(x[4]), find_keyword(x[5]), find_keyword(x[6]))).persist(StorageLevel.MEMORY_ONLY)"
   ]
  },
  {
   "cell_type": "code",
   "execution_count": 33,
   "id": "96ad35d9-762a-486e-8c59-4ced0b3814bd",
   "metadata": {},
   "outputs": [
    {
     "name": "stdout",
     "output_type": "stream",
     "text": [
      "22/10/05 19:01:44 WARN BlockManager: Task 671 already completed, not releasing lock for rdd_97_0\n",
      "22/10/05 19:01:44 WARN BlockManager: Task 672 already completed, not releasing lock for rdd_97_0\n",
      "+--------------------+----------+----------+--------------------+--------------------+--------------------+--------------------+\n",
      "|      token_sentence|sent_count|word_count|              2grams|              3grams|              4grams|              5grams|\n",
      "+--------------------+----------+----------+--------------------+--------------------+--------------------+--------------------+\n",
      "|[medan, selera, p...|         1|         8|[pula terletak, t...|[selera pula terl...|[medan selera pul...|[medan selera pul...|\n",
      "|[terutung, payung...|         1|        17|[yang terletak, t...|[gampong yang ter...|[sebuah gampong y...|[merupakan sebuah...|\n",
      "|[empangan, bakun,...|         1|         7|[juga terletak, t...|[bakun juga terle...|[empangan bakun j...|[empangan bakun j...|\n",
      "|[lapangan, terban...|         1|        31|[maputo terletak,...|[terbang maputo t...|[lapangan terbang...|[lapangan terbang...|\n",
      "|[daerah, preov, w...|        91|        11|      [daerah preov]|[daerah preov wil...|[daerah preov wil...|[daerah preov wil...|\n",
      "|[shahree2005sumbe...|         1|        27|[kelantan malaysi...|[bharu kelantan m...|[kota bharu kelan...|[chepa kota bharu...|\n",
      "|[anarjan, bostana...|         1|         9|[sebuah kawasan, ...|[merupakan sebuah...|[bostanabad merup...|[anarjan bostanab...|\n",
      "|[gkeli, bozyk, me...|         1|         9|[sebuah kawasan, ...|[merupakan sebuah...|[bozyk merupakan ...|[gkeli bozyk meru...|\n",
      "|[kronburg, merupa...|         1|        10|[sebuah daerah, d...|[merupakan sebuah...|[kronburg merupak...|[kronburg merupak...|\n",
      "|[nama, ini, telah...|         1|        14|[melalui malaysia...|[kemerdekaan mela...|[mencapai kemerde...|[sabah mencapai k...|\n",
      "|[pudeng, merupaka...|         1|        14|[yang terletak, t...|[desa yang terlet...|[sebuah desa yang...|[merupakan sebuah...|\n",
      "|[umretha, merupak...|         1|         8|[yang terletak, t...|[kampung yang ter...|[sebuah kampung y...|[merupakan sebuah...|\n",
      "|[langhamn, merupa...|         1|        10|[yang terletak, t...|[kampung yang ter...|[sebuah kampung y...|[merupakan sebuah...|\n",
      "|[buku, resipi, ke...|         1|        18|[harga malaysia, ...|[dengan harga mal...|[april dengan har...|[pada april denga...|\n",
      "|[daerah, topoany,...|        54|        11|    [daerah topoany]|[daerah topoany w...|[daerah topoany w...|[daerah topoany w...|\n",
      "|[kiri, bodegraven...|         1|        12|[yang terletak, t...|[belanda yang ter...|[gemeente belanda...|[sebuah gemeente ...|\n",
      "|[bakauheni, merup...|         1|        10|[di kabupaten, ka...|[kecamatan di kab...|[sebuah kecamatan...|[merupakan sebuah...|\n",
      "|[sekolah, menenga...|         1|        25|[yang terletak, t...|[menengah yang te...|[sekolah menengah...|[sebuah sekolah m...|\n",
      "|[ovack, lleburgaz...|         1|         9|[sebuah kawasan, ...|[merupakan sebuah...|[lleburgaz merupa...|[ovack lleburgaz ...|\n",
      "|[tuhemberua, meru...|         1|        13|[yang terletak, t...|[kecamatan yang t...|[sebuah kecamatan...|[merupakan sebuah...|\n",
      "+--------------------+----------+----------+--------------------+--------------------+--------------------+--------------------+\n",
      "only showing top 20 rows\n",
      "\n"
     ]
    }
   ],
   "source": [
    "df_5gram = gram5.toDF(column).show()"
   ]
  },
  {
   "cell_type": "code",
   "execution_count": 34,
   "id": "e90e2c92-7eac-4058-b0b3-14a926a89a46",
   "metadata": {},
   "outputs": [],
   "source": [
    "gram4= ngramDataFrame.filter(ngramDataFrame.word_count == 4)\\\n",
    ".rdd.map(lambda x: (x[0], x[1], x[2],find_keyword(x[3])\\\n",
    ",find_keyword(x[4]), find_keyword(x[5]), x[6])).persist(StorageLevel.MEMORY_ONLY)"
   ]
  },
  {
   "cell_type": "code",
   "execution_count": 35,
   "id": "08cd3073-7489-466b-a939-ff03cb717c02",
   "metadata": {},
   "outputs": [],
   "source": [
    "gram3= ngramDataFrame.filter(ngramDataFrame.word_count == 3)\\\n",
    ".rdd.map(lambda x: (x[0], x[1], x[2],find_keyword(x[3])\\\n",
    ",find_keyword(x[4]), x[5], x[6])).persist(StorageLevel.MEMORY_ONLY)"
   ]
  },
  {
   "cell_type": "code",
   "execution_count": 36,
   "id": "03f9e0f3-7d5a-4492-98f6-cb035897d956",
   "metadata": {},
   "outputs": [],
   "source": [
    "gram2= ngramDataFrame.filter(ngramDataFrame.word_count == 2)\\\n",
    ".rdd.map(lambda x: (x[0], x[1], x[2],find_keyword(x[3])\\\n",
    ",find_keyword(x[4]), x[5], x[6])).persist(StorageLevel.MEMORY_ONLY)"
   ]
  },
  {
   "cell_type": "code",
   "execution_count": 37,
   "id": "1518b0a4-27c5-4c3d-af6f-99a4fcff46d2",
   "metadata": {},
   "outputs": [
    {
     "name": "stdout",
     "output_type": "stream",
     "text": [
      "22/10/05 19:01:44 WARN BlockManager: Task 673 already completed, not releasing lock for rdd_97_0\n"
     ]
    }
   ],
   "source": [
    "Final_gram = gram5.union(gram4).union(gram3).union(gram2).toDF(column).persist(StorageLevel.MEMORY_ONLY)"
   ]
  },
  {
   "cell_type": "code",
   "execution_count": 38,
   "id": "f893c2ca-5b87-4937-a194-f3f055cca3ec",
   "metadata": {},
   "outputs": [
    {
     "name": "stdout",
     "output_type": "stream",
     "text": [
      "+--------------------+----------+----------+--------------------+--------------------+--------------------+--------------------+\n",
      "|      token_sentence|sent_count|word_count|              2grams|              3grams|              4grams|              5grams|\n",
      "+--------------------+----------+----------+--------------------+--------------------+--------------------+--------------------+\n",
      "|[medan, selera, p...|         1|         8|[pula terletak, t...|[selera pula terl...|[medan selera pul...|[medan selera pul...|\n",
      "|[terutung, payung...|         1|        17|[yang terletak, t...|[gampong yang ter...|[sebuah gampong y...|[merupakan sebuah...|\n",
      "|[empangan, bakun,...|         1|         7|[juga terletak, t...|[bakun juga terle...|[empangan bakun j...|[empangan bakun j...|\n",
      "|[lapangan, terban...|         1|        31|[maputo terletak,...|[terbang maputo t...|[lapangan terbang...|[lapangan terbang...|\n",
      "|[daerah, preov, w...|        91|        11|      [daerah preov]|[daerah preov wil...|[daerah preov wil...|[daerah preov wil...|\n",
      "|[shahree2005sumbe...|         1|        27|[kelantan malaysi...|[bharu kelantan m...|[kota bharu kelan...|[chepa kota bharu...|\n",
      "|[anarjan, bostana...|         1|         9|[sebuah kawasan, ...|[merupakan sebuah...|[bostanabad merup...|[anarjan bostanab...|\n",
      "|[gkeli, bozyk, me...|         1|         9|[sebuah kawasan, ...|[merupakan sebuah...|[bozyk merupakan ...|[gkeli bozyk meru...|\n",
      "|[kronburg, merupa...|         1|        10|[sebuah daerah, d...|[merupakan sebuah...|[kronburg merupak...|[kronburg merupak...|\n",
      "|[nama, ini, telah...|         1|        14|[melalui malaysia...|[kemerdekaan mela...|[mencapai kemerde...|[sabah mencapai k...|\n",
      "|[pudeng, merupaka...|         1|        14|[yang terletak, t...|[desa yang terlet...|[sebuah desa yang...|[merupakan sebuah...|\n",
      "|[umretha, merupak...|         1|         8|[yang terletak, t...|[kampung yang ter...|[sebuah kampung y...|[merupakan sebuah...|\n",
      "|[langhamn, merupa...|         1|        10|[yang terletak, t...|[kampung yang ter...|[sebuah kampung y...|[merupakan sebuah...|\n",
      "|[buku, resipi, ke...|         1|        18|[harga malaysia, ...|[dengan harga mal...|[april dengan har...|[pada april denga...|\n",
      "|[daerah, topoany,...|        54|        11|    [daerah topoany]|[daerah topoany w...|[daerah topoany w...|[daerah topoany w...|\n",
      "|[kiri, bodegraven...|         1|        12|[yang terletak, t...|[belanda yang ter...|[gemeente belanda...|[sebuah gemeente ...|\n",
      "|[bakauheni, merup...|         1|        10|[di kabupaten, ka...|[kecamatan di kab...|[sebuah kecamatan...|[merupakan sebuah...|\n",
      "|[sekolah, menenga...|         1|        25|[yang terletak, t...|[menengah yang te...|[sekolah menengah...|[sebuah sekolah m...|\n",
      "|[ovack, lleburgaz...|         1|         9|[sebuah kawasan, ...|[merupakan sebuah...|[lleburgaz merupa...|[ovack lleburgaz ...|\n",
      "|[tuhemberua, meru...|         1|        13|[yang terletak, t...|[kecamatan yang t...|[sebuah kecamatan...|[merupakan sebuah...|\n",
      "+--------------------+----------+----------+--------------------+--------------------+--------------------+--------------------+\n",
      "only showing top 20 rows\n",
      "\n"
     ]
    }
   ],
   "source": [
    "Final_gram.show()"
   ]
  },
  {
   "cell_type": "code",
   "execution_count": 39,
   "id": "8fc6472b-ef06-4d36-8e50-f436f812610a",
   "metadata": {},
   "outputs": [
    {
     "data": {
      "text/plain": [
       "328852"
      ]
     },
     "execution_count": 39,
     "metadata": {},
     "output_type": "execute_result"
    }
   ],
   "source": [
    "Final_gram.count()"
   ]
  },
  {
   "cell_type": "code",
   "execution_count": 40,
   "id": "84c22b8f-0fbc-4699-8267-ec088852b86b",
   "metadata": {},
   "outputs": [
    {
     "name": "stdout",
     "output_type": "stream",
     "text": [
      "+--------------------+----------+----------+--------------------+--------------------+--------------------+------+\n",
      "|      token_sentence|sent_count|word_count|              2grams|              3grams|              4grams|5grams|\n",
      "+--------------------+----------+----------+--------------------+--------------------+--------------------+------+\n",
      "|[pejabat, daerah,...|        13|         4|[pejabat daerah, ...|[pejabat daerah b...|[pejabat daerah b...|    []|\n",
      "|[terengganu, daru...|         3|         4|     [iman malaysia]|[darul iman malay...|[terengganu darul...|    []|\n",
      "|[bahtera, perkahw...|         1|         4| [mingguan malaysia]|[perkahwinan ming...|[bahtera perkahwi...|    []|\n",
      "|[album, artis, ma...|         1|         4|[artis malaysia, ...|[album artis mala...|[album artis mala...|    []|\n",
      "|[institut, terjem...|         2|         4|   [negara malaysia]|[terjemahan negar...|[institut terjema...|    []|\n",
      "|[suruhanjaya, pil...|         2|         4|     [raya malaysia]|[pilihan raya mal...|[suruhanjaya pili...|    []|\n",
      "|[terletak, di, ba...|         3|         4|       [terletak di]|[terletak di baha...|[terletak di baha...|    []|\n",
      "|[roseyatimah, di,...|         1|         4|   [sinema malaysia]|[di sinema malaysia]|[roseyatimah di s...|    []|\n",
      "|[kep, universiti,...|         2|         4|[kebangsaan malay...|[universiti keban...|[kep universiti k...|    []|\n",
      "|[kedutaan, peranc...|         1|         4|       [di malaysia]|[perancis di mala...|[kedutaan peranci...|    []|\n",
      "|[shag, rocks, ter...|         1|         4|[rocks terletak, ...|[shag rocks terle...|[shag rocks terle...|    []|\n",
      "|[rom, menaklukkan...|         1|         4|[menaklukkan kawa...|[rom menaklukkan ...|[rom menaklukkan ...|    []|\n",
      "|[pasangan, perdan...|         1|         4|  [menteri malaysia]|[perdana menteri ...|[pasangan perdana...|    []|\n",
      "|[understanding, m...|         2|         4|[multicultural ma...|[understanding mu...|[understanding mu...|    []|\n",
      "|[daerah, di, saba...|         1|         4|         [daerah di]|   [daerah di sabah]|[daerah di sabah ...|    []|\n",
      "|[tunas, kasih, mi...|         1|         4| [mingguan malaysia]|[kasih mingguan m...|[tunas kasih ming...|    []|\n",
      "|[dpd, kabupaten, ...|         1|         4|[dpd kabupaten, k...|[dpd kabupaten da...|[dpd kabupaten da...|    []|\n",
      "|[malaysia, di, su...|         1|         4|       [malaysia di]| [malaysia di sukan]|[malaysia di suka...|    []|\n",
      "|[kerusi, daerah, ...|         1|         4|[kerusi daerah, d...|[kerusi daerah ad...|[kerusi daerah ad...|    []|\n",
      "|[inktober, malays...|         1|         4|[inktober malaysi...|[inktober malaysi...|[inktober malaysi...|    []|\n",
      "+--------------------+----------+----------+--------------------+--------------------+--------------------+------+\n",
      "only showing top 20 rows\n",
      "\n"
     ]
    }
   ],
   "source": [
    "Final_gram.filter(Final_gram.word_count == 4).show()"
   ]
  },
  {
   "cell_type": "code",
   "execution_count": 41,
   "id": "54e70da1-b21a-4c6c-962d-442a4bc295d2",
   "metadata": {},
   "outputs": [],
   "source": [
    "Final_gram = Final_gram.coalesce(1)\n",
    "\n",
    "Final_gram.write.parquet(\"hdfs://g5.bigtop.it:8020/user/root/filtered_ms_wiki.parquet\")"
   ]
  }
 ],
 "metadata": {
  "kernelspec": {
   "display_name": "g5_env",
   "language": "python",
   "name": "g5_env"
  },
  "language_info": {
   "codemirror_mode": {
    "name": "ipython",
    "version": 3
   },
   "file_extension": ".py",
   "mimetype": "text/x-python",
   "name": "python",
   "nbconvert_exporter": "python",
   "pygments_lexer": "ipython3",
   "version": "3.9.13"
  }
 },
 "nbformat": 4,
 "nbformat_minor": 5
}
